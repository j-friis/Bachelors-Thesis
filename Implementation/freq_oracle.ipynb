{
 "cells": [
  {
   "cell_type": "code",
   "execution_count": 1,
   "metadata": {},
   "outputs": [],
   "source": [
    "import numpy as np\n",
    "import pandas as pd\n",
    "from scipy.stats import laplace\n",
    "import scipy.stats\n",
    "import psycopg2\n",
    "from sklearn.metrics import mean_squared_error\n",
    "import matplotlib.pyplot as plt\n",
    "import seaborn as sns\n",
    "from datetime import datetime\n",
    "from datetime import timedelta  \n",
    "import threading"
   ]
  },
  {
   "cell_type": "code",
   "execution_count": 2,
   "metadata": {},
   "outputs": [
    {
     "name": "stdout",
     "output_type": "stream",
     "text": [
      "Executed query and closed connection.\n",
      "Executed query and closed connection.\n"
     ]
    }
   ],
   "source": [
    "param_dic = {\n",
    "    \"host\"      : \"localhost\",\n",
    "    \"database\"  : \"bachelorBesoeg2014\",\n",
    "    \"user\"      : \"postgres\",\n",
    "    \"password\"  : \"password\",\n",
    "    \"port\"      : \"5432\"\n",
    "}\n",
    "\n",
    "def execRangeQuery(params_dic,dates):\n",
    "    query = \"\"\"\n",
    "    SELECT\n",
    "    sum(count_)\n",
    "    FROM _775147\n",
    "    WHERE\n",
    "    time_ >= '{date0}'\n",
    "    AND time_ <=  '{date1}'\n",
    "    ;\n",
    "    \"\"\".format(date0 = dates[0], date1 = dates[1])\n",
    "    try:\n",
    "        connection = psycopg2.connect(**params_dic)\n",
    "        cursor = connection.cursor()\n",
    "        cursor.execute(query)\n",
    "        record = cursor.fetchall()\n",
    "        return record\n",
    "    except (Exception, psycopg2.Error) as error :\n",
    "        connection = False\n",
    "        print (\"Error while connecting to PostgreSQL\", error)\n",
    "    finally:\n",
    "        if(connection):\n",
    "            cursor.close()\n",
    "            connection.close()\n",
    "            print(\"Executed query and closed connection.\")\n",
    "\n",
    "def execQuery(params_dic,query):\n",
    "    try:\n",
    "        connection = psycopg2.connect(**params_dic)\n",
    "        cursor = connection.cursor()\n",
    "        cursor.execute(query)\n",
    "        record = cursor.fetchall()\n",
    "        return record\n",
    "    except (Exception, psycopg2.Error) as error :\n",
    "        connection = False\n",
    "        print (\"Error while connecting to PostgreSQL\", error)\n",
    "    finally:\n",
    "        if(connection):\n",
    "            cursor.close()\n",
    "            connection.close()\n",
    "            print(\"Executed query and closed connection.\")\n",
    "#\"\"\"select count(*) as number_of_dates, count(DISTINCT  count_) as distinct_count from _775147;\"\"\"\n",
    "query = \"\"\"select time_ from _775147;\"\"\"\n",
    "result = execQuery(param_dic, query)\n",
    "dates = [(date[0]) for date in result]\n",
    "\n",
    "query = \"\"\"select count_ from _775147;\"\"\"\n",
    "result = execQuery(param_dic, query)\n",
    "\"\"\"\n",
    "print(result)\n",
    "print(type(result))\n",
    "print(type(result[0]))\n",
    "print((str(result[0][0])))\n",
    "\"\"\"\n",
    "counts = [(count[0]) for count in result]"
   ]
  },
  {
   "cell_type": "code",
   "execution_count": null,
   "metadata": {},
   "outputs": [],
   "source": []
  },
  {
   "cell_type": "code",
   "execution_count": 3,
   "metadata": {},
   "outputs": [],
   "source": [
    "def add_missing_dates(old_dates):\n",
    "    start_date = dates[0]\n",
    "    end_date = dates[-1]\n",
    "    all_dates = pd.date_range(start = start_date, end = end_date).to_pydatetime().tolist()\n",
    "    return [(date.date()) for date in all_dates]\n",
    "    \n",
    "def add_missing_counts(old_counts, old_dates, new_dates):\n",
    "        \"\"\"Adds 0 to the list of counts where there was missing dates\n",
    "        Parameters:\n",
    "        old_counts (list of int): List counts for each day with \n",
    "        old_dates (list of datetime.date): List of dates that is not countious\n",
    "        Returns:\n",
    "        List of countious starting with the first value of \n",
    "        \"\"\"\n",
    "        zip_iterator = zip(old_dates, old_counts)\n",
    "        missing_dict =  dict(zip_iterator)\n",
    "        all_counts = np.zeros(len(new_dates))\n",
    "        for i, date in enumerate(new_dates):\n",
    "            val = missing_dict.get(date, 0)\n",
    "            all_counts[i] = val\n",
    "            \n",
    "        return all_counts"
   ]
  },
  {
   "cell_type": "code",
   "execution_count": 4,
   "metadata": {},
   "outputs": [],
   "source": [
    "all_dates = add_missing_dates(dates)\n",
    "all_counts =  add_missing_counts(counts, dates, all_dates)"
   ]
  },
  {
   "cell_type": "code",
   "execution_count": null,
   "metadata": {},
   "outputs": [],
   "source": []
  },
  {
   "cell_type": "code",
   "execution_count": 5,
   "metadata": {},
   "outputs": [],
   "source": [
    "np.random.uniform(-1,0,1000)\n",
    "def randomized_response(x, p=0.1):\n",
    "    if np.random.uniform(0,1) < p:\n",
    "        return x\n",
    "    else:\n",
    "        return np.random.randint(2)"
   ]
  },
  {
   "cell_type": "code",
   "execution_count": 22,
   "metadata": {},
   "outputs": [
    {
     "data": {
      "text/plain": [
       "0"
      ]
     },
     "execution_count": 22,
     "metadata": {},
     "output_type": "execute_result"
    }
   ],
   "source": [
    "randomized_response(1)"
   ]
  },
  {
   "cell_type": "code",
   "execution_count": 7,
   "metadata": {},
   "outputs": [],
   "source": [
    "a = np.array([[0,1,2,3,4],[5,6,7,8,9],[0,1,2,3,4],[5,6,7,8,9],[0,1,2,3,4],[5,6,7,8,9]])"
   ]
  },
  {
   "cell_type": "code",
   "execution_count": 8,
   "metadata": {},
   "outputs": [
    {
     "data": {
      "text/plain": [
       "array([0, 5, 0, 5, 0, 5])"
      ]
     },
     "execution_count": 8,
     "metadata": {},
     "output_type": "execute_result"
    }
   ],
   "source": [
    "a[:,0]"
   ]
  },
  {
   "cell_type": "code",
   "execution_count": 9,
   "metadata": {},
   "outputs": [
    {
     "name": "stdout",
     "output_type": "stream",
     "text": [
      "0.35434369377420455\n"
     ]
    }
   ],
   "source": [
    "epsilon = 0.6\n",
    "print(1/(1+np.exp(epsilon)))"
   ]
  },
  {
   "cell_type": "code",
   "execution_count": 23,
   "metadata": {},
   "outputs": [],
   "source": [
    "class OUE:\n",
    "    def __init__(self, epsilon):\n",
    "        # We need the stream to be a power of 2\n",
    "        self.epsilon = epsilon\n",
    "        \n",
    "    \n",
    "    def process(self, e_i):\n",
    "        o_i = e_i.copy()\n",
    "        for idx, j in enumerate(e_i):\n",
    "            if i == 1:\n",
    "                o_i[idx] = np.random.randint(2)\n",
    "            else:\n",
    "                if np.random.uniform(0,1) < 1/(1+np.exp(epsilon)):\n",
    "                    o_i[idx] = 1\n",
    "                else:\n",
    "                    o_i[idx] = 0\n",
    "                    \n",
    "    def aggreation(self, day, lst):\n",
    "        return ( ( lst[:,day] +len(lst)/(1+np.exp(epsilon))) * (1/2 -1/(1+np.exp(epsilon))))\n",
    "        \n",
    "                "
   ]
  },
  {
   "cell_type": "code",
   "execution_count": 24,
   "metadata": {},
   "outputs": [
    {
     "name": "stdout",
     "output_type": "stream",
     "text": [
      "-2005 days, 0:00:00\n"
     ]
    }
   ],
   "source": [
    "len(all_dates)\n",
    "print(all_dates[0]-all_dates[-1])"
   ]
  },
  {
   "cell_type": "code",
   "execution_count": null,
   "metadata": {},
   "outputs": [],
   "source": []
  },
  {
   "cell_type": "code",
   "execution_count": 25,
   "metadata": {},
   "outputs": [],
   "source": [
    "oue_count_lock = threading.Lock()\n",
    "oue_count_lock.acquire()\n",
    "oue_count_lock.release()"
   ]
  },
  {
   "cell_type": "code",
   "execution_count": 26,
   "metadata": {},
   "outputs": [],
   "source": [
    "#len(oue_count)"
   ]
  },
  {
   "cell_type": "code",
   "execution_count": 27,
   "metadata": {},
   "outputs": [],
   "source": [
    "def OUE_func_2(e_i, epsilon):\n",
    "    #print('Call')\n",
    "    #print(e_i)\n",
    "    if e_i == 1:\n",
    "        #print('if')\n",
    "        return np.random.randint(2)\n",
    "    else:\n",
    "        #print('else')\n",
    "        if np.random.uniform(0,1) < 1/(1+np.exp(epsilon)):\n",
    "            return 1\n",
    "        else:\n",
    "            return 0"
   ]
  },
  {
   "cell_type": "code",
   "execution_count": 28,
   "metadata": {},
   "outputs": [],
   "source": [
    "def OUE_answear(data, i, epsilon):\n",
    "    return (data[i]/len(data) + len(data)/(1+np.exp(epsilon))) / (1/2 -1/(1+np.exp(epsilon)))"
   ]
  },
  {
   "cell_type": "code",
   "execution_count": 29,
   "metadata": {},
   "outputs": [],
   "source": [
    "D = len(all_dates) \n",
    "oue_count = np.zeros(D)"
   ]
  },
  {
   "cell_type": "code",
   "execution_count": 31,
   "metadata": {},
   "outputs": [
    {
     "ename": "KeyboardInterrupt",
     "evalue": "",
     "output_type": "error",
     "traceback": [
      "\u001b[1;31m---------------------------------------------------------------------------\u001b[0m",
      "\u001b[1;31mKeyboardInterrupt\u001b[0m                         Traceback (most recent call last)",
      "\u001b[1;32m<ipython-input-31-b373dfa2ec1e>\u001b[0m in \u001b[0;36m<module>\u001b[1;34m\u001b[0m\n\u001b[0;32m      8\u001b[0m         \u001b[0msparse\u001b[0m \u001b[1;33m=\u001b[0m \u001b[0mnp\u001b[0m\u001b[1;33m.\u001b[0m\u001b[0mzeros\u001b[0m\u001b[1;33m(\u001b[0m\u001b[0mD\u001b[0m\u001b[1;33m)\u001b[0m\u001b[1;33m\u001b[0m\u001b[1;33m\u001b[0m\u001b[0m\n\u001b[0;32m      9\u001b[0m         \u001b[0msparse\u001b[0m\u001b[1;33m[\u001b[0m\u001b[0midx\u001b[0m\u001b[1;33m]\u001b[0m \u001b[1;33m=\u001b[0m \u001b[1;36m1\u001b[0m\u001b[1;33m\u001b[0m\u001b[1;33m\u001b[0m\u001b[0m\n\u001b[1;32m---> 10\u001b[1;33m         \u001b[0mdense\u001b[0m \u001b[1;33m=\u001b[0m \u001b[0mvfunc\u001b[0m\u001b[1;33m(\u001b[0m\u001b[0msparse\u001b[0m\u001b[1;33m,\u001b[0m\u001b[0mepsilon\u001b[0m\u001b[1;33m)\u001b[0m\u001b[1;33m\u001b[0m\u001b[1;33m\u001b[0m\u001b[0m\n\u001b[0m\u001b[0;32m     11\u001b[0m         \u001b[0moue_count\u001b[0m \u001b[1;33m=\u001b[0m \u001b[0moue_count\u001b[0m \u001b[1;33m+\u001b[0m \u001b[0mdense\u001b[0m\u001b[1;33m\u001b[0m\u001b[1;33m\u001b[0m\u001b[0m\n",
      "\u001b[1;32mE:\\anaconda\\envs\\bachelor\\lib\\site-packages\\numpy\\lib\\function_base.py\u001b[0m in \u001b[0;36m__call__\u001b[1;34m(self, *args, **kwargs)\u001b[0m\n\u001b[0;32m   2106\u001b[0m             \u001b[0mvargs\u001b[0m\u001b[1;33m.\u001b[0m\u001b[0mextend\u001b[0m\u001b[1;33m(\u001b[0m\u001b[1;33m[\u001b[0m\u001b[0mkwargs\u001b[0m\u001b[1;33m[\u001b[0m\u001b[0m_n\u001b[0m\u001b[1;33m]\u001b[0m \u001b[1;32mfor\u001b[0m \u001b[0m_n\u001b[0m \u001b[1;32min\u001b[0m \u001b[0mnames\u001b[0m\u001b[1;33m]\u001b[0m\u001b[1;33m)\u001b[0m\u001b[1;33m\u001b[0m\u001b[1;33m\u001b[0m\u001b[0m\n\u001b[0;32m   2107\u001b[0m \u001b[1;33m\u001b[0m\u001b[0m\n\u001b[1;32m-> 2108\u001b[1;33m         \u001b[1;32mreturn\u001b[0m \u001b[0mself\u001b[0m\u001b[1;33m.\u001b[0m\u001b[0m_vectorize_call\u001b[0m\u001b[1;33m(\u001b[0m\u001b[0mfunc\u001b[0m\u001b[1;33m=\u001b[0m\u001b[0mfunc\u001b[0m\u001b[1;33m,\u001b[0m \u001b[0margs\u001b[0m\u001b[1;33m=\u001b[0m\u001b[0mvargs\u001b[0m\u001b[1;33m)\u001b[0m\u001b[1;33m\u001b[0m\u001b[1;33m\u001b[0m\u001b[0m\n\u001b[0m\u001b[0;32m   2109\u001b[0m \u001b[1;33m\u001b[0m\u001b[0m\n\u001b[0;32m   2110\u001b[0m     \u001b[1;32mdef\u001b[0m \u001b[0m_get_ufunc_and_otypes\u001b[0m\u001b[1;33m(\u001b[0m\u001b[0mself\u001b[0m\u001b[1;33m,\u001b[0m \u001b[0mfunc\u001b[0m\u001b[1;33m,\u001b[0m \u001b[0margs\u001b[0m\u001b[1;33m)\u001b[0m\u001b[1;33m:\u001b[0m\u001b[1;33m\u001b[0m\u001b[1;33m\u001b[0m\u001b[0m\n",
      "\u001b[1;32mE:\\anaconda\\envs\\bachelor\\lib\\site-packages\\numpy\\lib\\function_base.py\u001b[0m in \u001b[0;36m_vectorize_call\u001b[1;34m(self, func, args)\u001b[0m\n\u001b[0;32m   2190\u001b[0m                       for a in args]\n\u001b[0;32m   2191\u001b[0m \u001b[1;33m\u001b[0m\u001b[0m\n\u001b[1;32m-> 2192\u001b[1;33m             \u001b[0moutputs\u001b[0m \u001b[1;33m=\u001b[0m \u001b[0mufunc\u001b[0m\u001b[1;33m(\u001b[0m\u001b[1;33m*\u001b[0m\u001b[0minputs\u001b[0m\u001b[1;33m)\u001b[0m\u001b[1;33m\u001b[0m\u001b[1;33m\u001b[0m\u001b[0m\n\u001b[0m\u001b[0;32m   2193\u001b[0m \u001b[1;33m\u001b[0m\u001b[0m\n\u001b[0;32m   2194\u001b[0m             \u001b[1;32mif\u001b[0m \u001b[0mufunc\u001b[0m\u001b[1;33m.\u001b[0m\u001b[0mnout\u001b[0m \u001b[1;33m==\u001b[0m \u001b[1;36m1\u001b[0m\u001b[1;33m:\u001b[0m\u001b[1;33m\u001b[0m\u001b[1;33m\u001b[0m\u001b[0m\n",
      "\u001b[1;32m<ipython-input-27-2022ad43e898>\u001b[0m in \u001b[0;36mOUE_func_2\u001b[1;34m(e_i, epsilon)\u001b[0m\n\u001b[0;32m      7\u001b[0m     \u001b[1;32melse\u001b[0m\u001b[1;33m:\u001b[0m\u001b[1;33m\u001b[0m\u001b[1;33m\u001b[0m\u001b[0m\n\u001b[0;32m      8\u001b[0m         \u001b[1;31m#print('else')\u001b[0m\u001b[1;33m\u001b[0m\u001b[1;33m\u001b[0m\u001b[1;33m\u001b[0m\u001b[0m\n\u001b[1;32m----> 9\u001b[1;33m         \u001b[1;32mif\u001b[0m \u001b[0mnp\u001b[0m\u001b[1;33m.\u001b[0m\u001b[0mrandom\u001b[0m\u001b[1;33m.\u001b[0m\u001b[0muniform\u001b[0m\u001b[1;33m(\u001b[0m\u001b[1;36m0\u001b[0m\u001b[1;33m,\u001b[0m\u001b[1;36m1\u001b[0m\u001b[1;33m)\u001b[0m \u001b[1;33m<\u001b[0m \u001b[1;36m1\u001b[0m\u001b[1;33m/\u001b[0m\u001b[1;33m(\u001b[0m\u001b[1;36m1\u001b[0m\u001b[1;33m+\u001b[0m\u001b[0mnp\u001b[0m\u001b[1;33m.\u001b[0m\u001b[0mexp\u001b[0m\u001b[1;33m(\u001b[0m\u001b[0mepsilon\u001b[0m\u001b[1;33m)\u001b[0m\u001b[1;33m)\u001b[0m\u001b[1;33m:\u001b[0m\u001b[1;33m\u001b[0m\u001b[1;33m\u001b[0m\u001b[0m\n\u001b[0m\u001b[0;32m     10\u001b[0m             \u001b[1;32mreturn\u001b[0m \u001b[1;36m1\u001b[0m\u001b[1;33m\u001b[0m\u001b[1;33m\u001b[0m\u001b[0m\n\u001b[0;32m     11\u001b[0m         \u001b[1;32melse\u001b[0m\u001b[1;33m:\u001b[0m\u001b[1;33m\u001b[0m\u001b[1;33m\u001b[0m\u001b[0m\n",
      "\u001b[1;31mKeyboardInterrupt\u001b[0m: "
     ]
    }
   ],
   "source": [
    "\n",
    "vfunc = np.vectorize(OUE_func_2, otypes = [int])\n",
    "epsilon = 1\n",
    "vfunc([0,1,1,1,1], epsilon)\n",
    "for idx, count in enumerate(all_counts):\n",
    "    #print(idx)\n",
    "    #print(count)\n",
    "    for i in range(0,int(count)):\n",
    "        sparse = np.zeros(D)\n",
    "        sparse[idx] = 1\n",
    "        dense = vfunc(sparse,epsilon)\n",
    "        oue_count = oue_count + dense"
   ]
  },
  {
   "cell_type": "code",
   "execution_count": 32,
   "metadata": {},
   "outputs": [
    {
     "name": "stdout",
     "output_type": "stream",
     "text": [
      "0\n",
      "239.0\n",
      "221\n"
     ]
    }
   ],
   "source": [
    "print(idx)\n",
    "print(count)\n",
    "print(i)"
   ]
  },
  {
   "cell_type": "code",
   "execution_count": 35,
   "metadata": {},
   "outputs": [
    {
     "name": "stdout",
     "output_type": "stream",
     "text": [
      "[107.  56.  55. ...  51.  56.  56.]\n"
     ]
    }
   ],
   "source": [
    "print(oue_count)"
   ]
  },
  {
   "cell_type": "code",
   "execution_count": 36,
   "metadata": {},
   "outputs": [],
   "source": [
    "#np.savetxt('oue_count.csv', oue_count, delimiter=',')"
   ]
  },
  {
   "cell_type": "code",
   "execution_count": 37,
   "metadata": {},
   "outputs": [
    {
     "name": "stdout",
     "output_type": "stream",
     "text": [
      "149.37856036171803\n"
     ]
    }
   ],
   "source": [
    "print(( oue_count[0] +len(oue_count)/(1+np.exp(epsilon))) * (1/2 -1/(1+np.exp(epsilon))))"
   ]
  },
  {
   "cell_type": "code",
   "execution_count": 38,
   "metadata": {},
   "outputs": [
    {
     "data": {
      "text/plain": [
       "array([0, 0, 0, 0, 0])"
      ]
     },
     "execution_count": 38,
     "metadata": {},
     "output_type": "execute_result"
    }
   ],
   "source": [
    "vfunc = np.vectorize(OUE_func_2, otypes = [int])\n",
    "vfunc([0,1,1,1,1], 0.2)"
   ]
  },
  {
   "cell_type": "code",
   "execution_count": null,
   "metadata": {},
   "outputs": [],
   "source": []
  },
  {
   "cell_type": "code",
   "execution_count": 39,
   "metadata": {},
   "outputs": [
    {
     "data": {
      "text/plain": [
       "3.718281828459045"
      ]
     },
     "execution_count": 39,
     "metadata": {},
     "output_type": "execute_result"
    }
   ],
   "source": [
    "epsilon = 1\n",
    "np.exp(epsilon)+1"
   ]
  },
  {
   "cell_type": "code",
   "execution_count": 40,
   "metadata": {},
   "outputs": [],
   "source": [
    "def OUE_func(e_i, epsilon):\n",
    "    o_i = e_i.copy()\n",
    "    for idx, j in enumerate(e_i):\n",
    "        if j == 1:\n",
    "            o_i[idx] = np.random.randint(2)\n",
    "        else:\n",
    "            if np.random.uniform(0,1) < 1/(1+np.exp(epsilon)):\n",
    "                o_i[idx] = 1\n",
    "            else:\n",
    "                o_i[idx] = 0\n",
    "    return o_i"
   ]
  },
  {
   "cell_type": "code",
   "execution_count": 41,
   "metadata": {},
   "outputs": [],
   "source": [
    "class flat_OUE:\n",
    "    def __init__(self, epsilon, dates, counts):\n",
    "        \n",
    "        self.dates = dates\n",
    "        self.real_counts = counts\n",
    "        self.epsilon = epsilon\n",
    "        self.counts = self.process(dates, counts)\n",
    "        self.D = len(dates)\n",
    "        \n",
    "        values = np.arange(0,len(self.dates))\n",
    "        zip_iterator = zip(self.dates, values)\n",
    "        self.idx_dict =  dict(zip_iterator)\n",
    "    \n",
    "    def process(self, dates, counts):        \n",
    "        vfunc = np.vectorize(OUE_func_2, otypes = [int])\n",
    "        for idx, count in enumerate(all_counts):\n",
    "            for i in range(0,int(count)):\n",
    "                sparse = np.zeros(D)\n",
    "                sparse[idx] = 1\n",
    "                dense = vfunc(sparse,self.epsilon)\n",
    "                oue_count = oue_count + dense\n",
    "        return oue_count\n",
    "    \n",
    "    def answer(self, dates):\n",
    "        \n",
    "        if (len(dates) < 2):\n",
    "                date_obj_0 = datetime.strptime(dates[0],'%Y-%m-%d').date()\n",
    "                #print(date_obj_0)\n",
    "                #print(type(date_obj_0))\n",
    "                idx = self.idx_dict[date_obj_0]\n",
    "                return self.noise_counts[idx]\n",
    "            \n",
    "        else:\n",
    "            date_obj_0 = datetime.strptime(dates[0],'%Y-%m-%d').date()\n",
    "            date_obj_1 = datetime.strptime(dates[1],'%Y-%m-%d').date()\n",
    "            idx_0 = self.idx_dict[date_obj_0]\n",
    "            idx_1 = self.idx_dict[date_obj_1]\n",
    "\n",
    "                #idx_0 is not 0\n",
    "            if idx_0:\n",
    "                return self.noise_counts[idx_1] - self.noise_counts[idx_0-1]            \n",
    "            else:\n",
    "                return self.noise_counts[idx_1]"
   ]
  },
  {
   "cell_type": "code",
   "execution_count": null,
   "metadata": {},
   "outputs": [],
   "source": []
  },
  {
   "cell_type": "code",
   "execution_count": 42,
   "metadata": {},
   "outputs": [],
   "source": [
    "def OLH_func(x, epsilon, g):\n",
    "    if np.random.uniform(0,1) < np.exp(epsilon)/(np.exp(epsilon)+g-1):\n",
    "        #print('if')\n",
    "        return x\n",
    "    else:\n",
    "        return np.random.randint(low = 0, high = g)\n",
    "    \n",
    "def OLH_answer(data, j, epsilon, N, g):\n",
    "    p = np.exp(epsilon)/(np.exp(epsilon)+g-1)\n",
    "    #print(p - 1/g)\n",
    "    return (data[j]- N/g) / (p)"
   ]
  },
  {
   "cell_type": "code",
   "execution_count": 43,
   "metadata": {},
   "outputs": [
    {
     "name": "stdout",
     "output_type": "stream",
     "text": [
      "0.0010028580256262031\n"
     ]
    }
   ],
   "source": [
    "epsilon = 0.7\n",
    "g = 2005\n",
    "print(np.exp(epsilon)/(np.exp(epsilon)+g+1))"
   ]
  },
  {
   "cell_type": "code",
   "execution_count": 44,
   "metadata": {},
   "outputs": [],
   "source": [
    "D = len(all_dates) \n",
    "OLH_count = np.zeros(D)"
   ]
  },
  {
   "cell_type": "code",
   "execution_count": 45,
   "metadata": {},
   "outputs": [],
   "source": [
    "epsilon = 1\n",
    "for idx, count in enumerate(all_counts):\n",
    "    for i in range(0,int(count)):\n",
    "        response = OLH_func(idx, epsilon, D)\n",
    "        OLH_count[response] = OLH_count[response] + 1"
   ]
  },
  {
   "cell_type": "code",
   "execution_count": 46,
   "metadata": {},
   "outputs": [
    {
     "name": "stdout",
     "output_type": "stream",
     "text": [
      "29277.0\n",
      "38355.93149323584\n",
      "var should be 9.151743117683762e-07\n"
     ]
    }
   ],
   "source": [
    "#print(OLH_count)\n",
    "#print(np.sum(OLH_count))\n",
    "print(all_counts[1174])\n",
    "print(OLH_answer(OLH_count, 1174, epsilon, np.sum(OLH_count), D))\n",
    "#N = np.sum(all_counts)\n",
    "N = len(all_counts)\n",
    "print(f'var should be {4*np.exp(epsilon) / (N*np.exp(epsilon) - N)**2}')"
   ]
  },
  {
   "cell_type": "code",
   "execution_count": 18,
   "metadata": {},
   "outputs": [],
   "source": [
    "#np.sum(all_counts)"
   ]
  },
  {
   "cell_type": "code",
   "execution_count": null,
   "metadata": {},
   "outputs": [],
   "source": []
  },
  {
   "cell_type": "code",
   "execution_count": 32,
   "metadata": {},
   "outputs": [],
   "source": [
    "#all_dates[0:100]"
   ]
  },
  {
   "cell_type": "code",
   "execution_count": 33,
   "metadata": {},
   "outputs": [],
   "source": [
    "#print(all_counts[0:100])"
   ]
  },
  {
   "cell_type": "code",
   "execution_count": 48,
   "metadata": {},
   "outputs": [],
   "source": [
    "def get_index(date_idx, n_layers):\n",
    "    \"\"\"Calculates the path of index in full binary string\n",
    "\n",
    "    Parameters:\n",
    "    date_idx (int): The node in the bouttom layer we want to calculate a path to. \n",
    "    The bottom layer has index from 0 to 2**h-1\n",
    "    n_layers (int): The height of the full binary tree. starts from 0 \n",
    "\n",
    "    Returns:\n",
    "    list: of index in the path from the starting from the bottom and going up\n",
    "\n",
    "    \"\"\"\n",
    "    idx = []\n",
    "    for i in np.arange(0,n_layers):\n",
    "        if i == 0:\n",
    "            idx.append(int(date_idx))\n",
    "        else:\n",
    "            idx.append(int(idx[i-1]//2))\n",
    "    idx.append(0)\n",
    "    return idx\n",
    "\n",
    "def left_or_right(current, nxt):\n",
    "    #0 is left 1 is right\n",
    "    #print(f'current = {current}, nxt = {nxt}')\n",
    "    if nxt == 0:\n",
    "        #print('nxt == 0')\n",
    "        return 0\n",
    "    if current == 0 and current < nxt:\n",
    "        #print('current == 0 and current < nxt')\n",
    "        return 1\n",
    "    elif 2* current < nxt:\n",
    "        #print('2* current < nxt')\n",
    "        return 1\n",
    "    else:\n",
    "        #print('else')\n",
    "        return 0"
   ]
  },
  {
   "cell_type": "code",
   "execution_count": 49,
   "metadata": {},
   "outputs": [],
   "source": [
    "my_data = np.genfromtxt('oue_count.csv', delimiter=',')"
   ]
  },
  {
   "cell_type": "code",
   "execution_count": 50,
   "metadata": {},
   "outputs": [
    {
     "data": {
      "text/plain": [
       "array([112676., 113258., 113340., ..., 112793., 113254., 112382.])"
      ]
     },
     "execution_count": 50,
     "metadata": {},
     "output_type": "execute_result"
    }
   ],
   "source": [
    "my_data"
   ]
  },
  {
   "cell_type": "code",
   "execution_count": 51,
   "metadata": {},
   "outputs": [
    {
     "name": "stdout",
     "output_type": "stream",
     "text": [
      "2577.9868738285472\n",
      "2577.9868738285472\n"
     ]
    }
   ],
   "source": [
    "epsilon = 1\n",
    "print( (my_data[0]/len(my_data) + len(my_data)/(1+np.exp(epsilon))) / (1/2 -1/(1+np.exp(epsilon))) )\n",
    "print(OUE_answear(my_data, 0, epsilon))"
   ]
  },
  {
   "cell_type": "code",
   "execution_count": 52,
   "metadata": {},
   "outputs": [
    {
     "name": "stdout",
     "output_type": "stream",
     "text": [
      "2006\n",
      "2006\n"
     ]
    }
   ],
   "source": [
    "print(len(my_data))\n",
    "print(len(all_dates))"
   ]
  },
  {
   "cell_type": "code",
   "execution_count": 53,
   "metadata": {},
   "outputs": [
    {
     "name": "stdout",
     "output_type": "stream",
     "text": [
      "11\n",
      "\n"
     ]
    }
   ],
   "source": [
    "T = len(dates)\n",
    "T = 2**np.ceil(np.log2(T))\n",
    "n_layers = int(np.log2(T))\n",
    "print(n_layers)\n",
    "print()"
   ]
  },
  {
   "cell_type": "code",
   "execution_count": 54,
   "metadata": {},
   "outputs": [
    {
     "data": {
      "text/plain": [
       "array([0.08333333, 0.08333333, 0.08333333, 0.08333333, 0.08333333,\n",
       "       0.08333333, 0.08333333, 0.08333333, 0.08333333, 0.08333333,\n",
       "       0.08333333, 0.08333333])"
      ]
     },
     "execution_count": 54,
     "metadata": {},
     "output_type": "execute_result"
    }
   ],
   "source": [
    "np.full(n_layers+1,1/(n_layers+1))"
   ]
  },
  {
   "cell_type": "code",
   "execution_count": 55,
   "metadata": {},
   "outputs": [
    {
     "name": "stdout",
     "output_type": "stream",
     "text": [
      "1\n"
     ]
    }
   ],
   "source": [
    "#np.random.choice(np.arange(1, 7), p=[0.1, 0.05, 0.05, 0.2, 0.4, 0.2])\n",
    "prob = np.full(n_layers+1,1/(n_layers+1))\n",
    "level = np.random.choice(np.arange(0, n_layers+1), p = prob ) \n",
    "print(level)"
   ]
  },
  {
   "cell_type": "code",
   "execution_count": 56,
   "metadata": {},
   "outputs": [],
   "source": [
    "levels = np.arange(0, n_layers+1)"
   ]
  },
  {
   "cell_type": "code",
   "execution_count": 57,
   "metadata": {},
   "outputs": [
    {
     "data": {
      "text/plain": [
       "'\\nfor level in levels:\\n    print(level)\\n    print(2**level)\\n    print(np.zeros(2**level))\\n'"
      ]
     },
     "execution_count": 57,
     "metadata": {},
     "output_type": "execute_result"
    }
   ],
   "source": [
    "\"\"\"\n",
    "for level in levels:\n",
    "    print(level)\n",
    "    print(2**level)\n",
    "    print(np.zeros(2**level))\n",
    "\"\"\""
   ]
  },
  {
   "cell_type": "code",
   "execution_count": null,
   "metadata": {},
   "outputs": [],
   "source": []
  },
  {
   "cell_type": "code",
   "execution_count": 58,
   "metadata": {},
   "outputs": [
    {
     "data": {
      "text/plain": [
       "'tree_levels = []\\nh = int(np.ceil(np.log2(len(dates))))\\nfor i in np.arange(0,h+1):\\n    level = np.zeros(int(2**np.ceil(i)))\\n    tree_levels.append(level) \\nprint(tree_levels)\\n    '"
      ]
     },
     "execution_count": 58,
     "metadata": {},
     "output_type": "execute_result"
    }
   ],
   "source": [
    "\"\"\"tree_levels = []\n",
    "h = int(np.ceil(np.log2(len(dates))))\n",
    "for i in np.arange(0,h+1):\n",
    "    level = np.zeros(int(2**np.ceil(i)))\n",
    "    tree_levels.append(level) \n",
    "print(tree_levels)\n",
    "    \"\"\""
   ]
  },
  {
   "cell_type": "code",
   "execution_count": null,
   "metadata": {},
   "outputs": [],
   "source": [
    "\n"
   ]
  },
  {
   "cell_type": "code",
   "execution_count": 59,
   "metadata": {},
   "outputs": [],
   "source": [
    "def HH_OUE(dates, counts, OUE, epsilon):\n",
    "    h = int(np.ceil(np.log2(len(dates))))\n",
    "    prob = np.full(h+1,1/(h+1))\n",
    "    print(f'h = {h}')\n",
    "    \n",
    "    tree_levels = []\n",
    "    for i in np.arange(0,h+1):\n",
    "        level = np.zeros(int(2**np.ceil(i)))\n",
    "        tree_levels.append(level) \n",
    "    \n",
    "    #OUE response\n",
    "    vfunc = np.vectorize(OUE, otypes = [int])\n",
    "    \n",
    "    \n",
    "    for index, (date, day_count) in enumerate(zip(dates, counts)):\n",
    "        #print(f'index = {index}, date = {date}, count = {day_count}')\n",
    "        idxs = get_index(index,h)\n",
    "        idxs.reverse()\n",
    "        \n",
    "        for person in range(int(day_count)):\n",
    "            #print(person)\n",
    "            level = np.random.choice(np.arange(0, h+1), p = prob ) \n",
    "            #print(f'we got level = {level}')\n",
    "            tree_level = np.zeros(2**level,dtype=int)\n",
    "            #print(idxs[level])\n",
    "            #tree_level[index] = 1\n",
    "            #get_index\n",
    "            tree_level[idxs[level]] = 1\n",
    "            perb_tree_level = vfunc(tree_level,epsilon)\n",
    "            tree_levels[level] = tree_levels[level] + perb_tree_level\n",
    "        #print(f'index = {index}, date = {type(date)}, count = {count}')\n",
    "        #print(index, value1 + value2)  # for Python 2 use: `print index, value1 + value2` (no braces)\n",
    "    return tree_levels"
   ]
  },
  {
   "cell_type": "code",
   "execution_count": 60,
   "metadata": {},
   "outputs": [
    {
     "name": "stdout",
     "output_type": "stream",
     "text": [
      "h = 8\n"
     ]
    }
   ],
   "source": [
    "epsilon = 1.\n",
    "hhs = HH_OUE(all_dates[:256],all_counts[:256],OUE_func_2,epsilon)"
   ]
  },
  {
   "cell_type": "code",
   "execution_count": 61,
   "metadata": {},
   "outputs": [],
   "source": [
    "def HH_OLH(dates, counts, OLH, epsilon):\n",
    "    h = int(np.ceil(np.log2(len(dates))))\n",
    "    prob = np.full(h+1,1/(h+1))\n",
    "    #print(f'h = {h}')\n",
    "    \n",
    "    tree_levels = []\n",
    "    for i in np.arange(0,h+1):\n",
    "        level = np.zeros(int(2**np.ceil(i)))\n",
    "        tree_levels.append(level) \n",
    "    \n",
    "    for index, (date, day_count) in enumerate(zip(dates, counts)):\n",
    "        #print(f'index = {index}, date = {date}, count = {count}')\n",
    "        idxs = get_index(index,h)\n",
    "        idxs.reverse()\n",
    "        \n",
    "        for person in range(int(day_count)):\n",
    "            level = np.random.choice(np.arange(0, h+1), p = prob ) \n",
    "            tree_level = np.zeros(2**level,dtype=int)\n",
    "            if level != 0:\n",
    "                response = OLH_func(idxs[level], epsilon, (2**level))\n",
    "            else:\n",
    "                response = 0\n",
    "            #print(response)\n",
    "            #tree_level[response] = 1\n",
    "            tree_levels[level][response] = tree_levels[level][response] + 1\n",
    "            #print(f'index = {index}, date = {type(date)}, count = {count}')\n",
    "            #print(index, value1 + value2)  # for Python 2 use: `print index, value1 + value2` (no braces)\n",
    "            \n",
    "    return tree_levels"
   ]
  },
  {
   "cell_type": "code",
   "execution_count": 77,
   "metadata": {},
   "outputs": [
    {
     "name": "stdout",
     "output_type": "stream",
     "text": [
      "Node\n",
      "216.0\n",
      "with level\n",
      "p = 0.11836029017785528\n",
      "[216. 197. 248. 181. 228. 222. 198. 222. 223. 196. 226. 196. 224. 198.\n",
      " 206. 182.]\n",
      "49.10853117431352\n",
      "3363.0\n",
      "16\n",
      "Node\n",
      "100.0\n",
      "with level\n",
      "p = 0.06099738873414404\n",
      "[122. 104. 100. 105. 104.  84. 110. 109. 102.  90. 128. 104. 123. 105.\n",
      "  82. 102. 118.  93.  99.  81. 114.  88.  98. 106.  95. 113.  97. 101.\n",
      " 113. 120. 106. 107.]\n",
      "-63.01499260489513\n",
      "3323.0\n",
      "32\n",
      "____________________________\n",
      "-13.906461430581608\n",
      "[239. 118. 129.   2. 293. 362. 288. 250.  76.  89.   1.]\n",
      "Real answer is 2100.0\n",
      "[array([3379.]), array([1629., 1648.]), array([805., 854., 906., 743.]), array([383., 391., 474., 437., 423., 465., 395., 409.]), array([216., 197., 248., 181., 228., 222., 198., 222., 223., 196., 226.,\n",
      "       196., 224., 198., 206., 182.]), array([122., 104., 100., 105., 104.,  84., 110., 109., 102.,  90., 128.,\n",
      "       104., 123., 105.,  82., 102., 118.,  93.,  99.,  81., 114.,  88.,\n",
      "        98., 106.,  95., 113.,  97., 101., 113., 120., 106., 107.]), array([59., 53., 51., 59., 40., 42., 54., 50., 39., 37., 52., 42., 42.,\n",
      "       52., 66., 40., 56., 54., 47., 55., 47., 47., 58., 62., 64., 45.,\n",
      "       45., 63., 53., 54., 55., 53., 49., 61., 51., 67., 53., 58., 63.,\n",
      "       39., 54., 53., 62., 64., 46., 63., 54., 64., 45., 52., 42., 53.,\n",
      "       47., 55., 45., 44., 42., 54., 60., 56., 60., 53., 40., 34.]), array([33., 20., 35., 38., 32., 29., 21., 22., 18., 30., 24., 16., 27.,\n",
      "       30., 18., 21., 33., 24., 22., 31., 32., 16., 27., 22., 20., 24.,\n",
      "       22., 28., 28., 24., 25., 27., 25., 26., 31., 37., 34., 23., 26.,\n",
      "       15., 23., 18., 27., 31., 31., 26., 28., 27., 36., 33., 26., 31.,\n",
      "       33., 26., 25., 26., 20., 33., 28., 22., 27., 29., 20., 21., 19.,\n",
      "       23., 30., 19., 26., 17., 24., 29., 18., 25., 24., 28., 26., 25.,\n",
      "       31., 24., 24., 15., 24., 23., 26., 31., 26., 30., 20., 22., 24.,\n",
      "       29., 32., 24., 23., 34., 28., 24., 22., 22., 28., 25., 31., 19.,\n",
      "       26., 23., 27., 29., 25., 20., 28., 26., 36., 22., 30., 26., 27.,\n",
      "       28., 27., 30., 27., 27., 23., 22., 30., 24., 24., 23.])]\n"
     ]
    }
   ],
   "source": [
    "class HH_OLH_cc:\n",
    "    def __init__(self, epsilon, dates, counts):\n",
    "        \"\"\"Setup of the datastructere\n",
    "        Parameters:\n",
    "        T (int): The lenght of the stream\n",
    "        epsilon (float): The height of the full binary tree. \n",
    "        dates (Array): The dates of the stream\n",
    "        counts (Array): The count for each of the dates\n",
    "        Returns:\n",
    "        A epsilon differintial datastructe\n",
    "        \"\"\"\n",
    "        self.epsilon = epsilon\n",
    "        self.all_dates = dates\n",
    "        self.all_counts = counts\n",
    "        if len(dates) < (dates[-1]-dates[0]).days:\n",
    "            print('here')\n",
    "            self.all_dates = self.__add_missing_dates(dates)\n",
    "            self.all_counts = self.__add_missing_counts(counts,dates)\n",
    "            \n",
    "        #Make dict for date indexing\n",
    "        values = np.arange(0,len(self.all_dates))\n",
    "        zip_iterator = zip(self.all_dates, values)\n",
    "        self.idx_dict =  dict(zip_iterator)\n",
    "        \n",
    "        self.h = int(np.ceil(np.log2(len(dates))))\n",
    "        self.level_prob = np.full(self.h+1,1/(self.h+1))\n",
    "    \n",
    "        self.tree_levels = self.__process(self.all_dates, self.all_counts)\n",
    "        #Check if we are we have missing dates.\n",
    "        \n",
    "    def __add_missing_dates(self, old_dates):\n",
    "        \"\"\"Add missing dates in a list\n",
    "        Parameters:\n",
    "        old_dates (list of datetime.date): List of dates that is not countious\n",
    "        Returns:\n",
    "        List of countious starting with the first value of \n",
    "        \"\"\"\n",
    "        start_date = dates[0]\n",
    "        end_date = dates[-1]\n",
    "        all_dates = pd.date_range(start = start_date, end = end_date).to_pydatetime().tolist()\n",
    "        return [(date.date()) for date in all_dates]\n",
    "    \n",
    "    def __add_missing_counts(self, old_counts, old_dates):\n",
    "        \"\"\"Adds 0 to the list of counts where there was missing dates\n",
    "        Parameters:\n",
    "        old_counts (list of int): List counts for each day with \n",
    "        old_dates (list of datetime.date): List of dates that is not countious\n",
    "        Returns:\n",
    "        List of countious starting with the first value of \n",
    "        \"\"\"\n",
    "        zip_iterator = zip(old_dates, old_counts)\n",
    "        missing_dict =  dict(zip_iterator)\n",
    "        all_counts = np.zeros(len(self.dates))\n",
    "        for i, date in enumerate(self.dates):\n",
    "            val = missing_dict.get(date, 0)\n",
    "            all_counts[i] = val\n",
    "            \n",
    "        return all_counts\n",
    "    \n",
    "    def __process(self, dates, counts):\n",
    "        tree_levels = []\n",
    "        for i in np.arange(0,self.h+1):\n",
    "            level = np.zeros(int(2**np.ceil(i)))\n",
    "            tree_levels.append(level)\n",
    "        \n",
    "        for index, (date, day_count) in enumerate(zip(dates, counts)):\n",
    "            #print(f'index = {index}, date = {date}, count = {count}')\n",
    "            idxs = get_index(index,self.h)\n",
    "            idxs.reverse()\n",
    "\n",
    "            for person in range(int(day_count)):\n",
    "                level = np.random.choice(np.arange(0, self.h+1), p = self.level_prob ) \n",
    "                tree_level = np.zeros(2**level,dtype=int)\n",
    "                \n",
    "                if level != 0:\n",
    "                    response = OLH_func(idxs[level], self.epsilon, (2**level))\n",
    "                else:\n",
    "                    response = 0\n",
    "                tree_levels[level][response] = tree_levels[level][response] + 1\n",
    "\n",
    "        return tree_levels\n",
    "\n",
    "    def get_index(self, date_idx, n_layers):\n",
    "        \"\"\"Calculates the path of index in full binary string\n",
    "\n",
    "        Parameters:\n",
    "        date_idx (int): The node in the bouttom layer we want to calculate a path to. \n",
    "        The bottom layer has index from 0 to 2**h-1\n",
    "        n_layers (int): The height of the full binary tree. \n",
    "\n",
    "        Returns:\n",
    "        list: of index in the path from the starting from the bottom and going up\n",
    "        \"\"\"\n",
    "        idx = []\n",
    "        for i in np.arange(0,n_layers):\n",
    "            if i == 0:\n",
    "                idx.append(int(date_idx))\n",
    "            else:\n",
    "                idx.append(int(idx[i-1]//2))\n",
    "        idx.append(0)\n",
    "        return idx\n",
    "    \n",
    "    def OLH_aggre(self, count, N, g):\n",
    "        p = np.exp(self.epsilon)/(np.exp(self.epsilon)+g-1)\n",
    "        #print(p - 1/g)\n",
    "        print(f'p = {p}')\n",
    "        return (count- N/g) / (p)\n",
    "    \n",
    "    def answer(self, dates):\n",
    "        \"\"\"Calculates the path of index in full binary string\n",
    "\n",
    "        Parameters:\n",
    "        dates (tuple of string): Two dates in the format string 2000-12-19. \n",
    "\n",
    "        Returns:\n",
    "        float: The private range count\n",
    "        \"\"\"\n",
    "            \n",
    "        date_obj_0 = datetime.strptime(dates[0],'%Y-%m-%d').date()\n",
    "        date_obj_1 = datetime.strptime(dates[1],'%Y-%m-%d').date()\n",
    "\n",
    "\n",
    "        idx_0 = self.idx_dict[date_obj_0]\n",
    "        idx_1 = self.idx_dict[date_obj_1]\n",
    "\n",
    "        idx_left = idx_0-1\n",
    "        idx_right = idx_1+1\n",
    "\n",
    "        path_to_left = np.flip(np.array(get_index(idx_left,self.h)))\n",
    "        path_to_right = np.flip(np.array(get_index(idx_right,self.h)))\n",
    "\n",
    "        if idx_0 == 0:\n",
    "            left_or_right_list_leftside = left_or_right_list(path_to_left[path_to_right != path_to_left])\n",
    "            left_or_right_list_rightside = left_or_right_list(path_to_right[path_to_right != path_to_left])\n",
    "            level_offset = len(path_to_left)-len(left_or_right_list((np.array(path_to_left)[path_to_right != path_to_left])))\n",
    "            \n",
    "            sum_level = 0.0\n",
    "            sum_all = 0.0\n",
    "            \n",
    "            for i in range(len(left_or_right_list_rightside)):\n",
    "                if left_or_right_list_rightside[i] == 1:\n",
    "                    node = self.tree_levels[i+level_offset][path_to_right[i+level_offset]-1]\n",
    "                    print('Node')\n",
    "                    print(node)\n",
    "                    #print('With all')\n",
    "                    #contribution_all = self.OLH_aggre(node, np.sum(self.all_counts), len(self.all_dates))\n",
    "                    #sum_all = sum_all + self.OLH_aggre(node, np.sum(self.all_counts), len(self.all_dates))\n",
    "                    #print(contribution_all)\n",
    "                    print('with level')\n",
    "                    contribution_level = self.OLH_aggre(node, np.sum(self.tree_levels[i+level_offset]), len(self.tree_levels[i+level_offset]))\n",
    "                    sum_level = sum_level + contribution_level\n",
    "                    print(self.tree_levels[i+level_offset])\n",
    "                    print(contribution_level)\n",
    "                    print(np.sum(self.tree_levels[i+level_offset]))\n",
    "                    print(len(self.tree_levels[i+level_offset]))\n",
    "                    \n",
    "            print('____________________________')\n",
    "            print(sum_level)\n",
    "            #print(sum_all)\n",
    "            \n",
    "        elif idx_1 == np.max(self.idx_dict.values):\n",
    "            left_or_right_list_leftside = left_or_right_list(path_to_left[path_to_right != path_to_left])\n",
    "            left_or_right_list_rightside = left_or_right_list(path_to_right[path_to_right != path_to_left])\n",
    "            level_offset = len(path_to_left)-len(left_or_right_list((np.array(path_to_left)[path_to_right != path_to_left])))\n",
    "            \n",
    "            for i in range(len(left_or_right_list_leftside)):\n",
    "                if left_or_right_list_leftside[i] == 0:\n",
    "                    node = self.tree_levels[i+level_offset][path_to_left[i+level_offset]+1]\n",
    "                    print('Node')\n",
    "                    print(node)\n",
    "                    #print('With all')\n",
    "                    #print(self.OLH_aggre(node, self.epsilon, np.sum(self.all_counts), len(self.all_dates)))\n",
    "                    print('with level')\n",
    "                    print(self.tree_levels[i+level_offset])\n",
    "                    print(self.OLH_aggre(node, self.epsilon, np.sum(self.tree_levels[i+level_offset]), len(self.tree_levels[i+level_offset])))\n",
    "                    \n",
    "        else:\n",
    "            left_or_right_list_leftside = left_or_right_list(path_to_left[path_to_right != path_to_left])\n",
    "            left_or_right_list_rightside = left_or_right_list(path_to_right[path_to_right != path_to_left])\n",
    "\n",
    "            level_offset = len(path_to_left)-len(left_or_right_list((np.array(path_to_left)[path_to_right != path_to_left])))\n",
    "            \n",
    "            for i in range(len(left_or_right_list_leftside)):\n",
    "                if left_or_right_list_leftside[i] == 0:\n",
    "                    node = self.tree_levels[i+level_offset][path_to_left[i+level_offset]+1]\n",
    "                    print('Node')\n",
    "                    print(node)\n",
    "                    #print('With all')\n",
    "                    #print(self.OLH_aggre(node, self.epsilon, np.sum(self.all_counts), len(self.all_dates)))\n",
    "                    print('with level')\n",
    "                    print(self.tree_levels[i+level_offset])\n",
    "                    print(self.OLH_aggre(node, self.epsilon, np.sum(self.tree_levels[i+level_offset]), len(self.tree_levels[i+level_offset])))\n",
    "                    \n",
    "            \n",
    "            for i in range(len(left_or_right_list_rightside)):\n",
    "                if left_or_right_list_rightside[i] == 1:\n",
    "                    node = self.tree_levels[i+level_offset][path_to_right[i+level_offset]-1]\n",
    "                    print('Node')\n",
    "                    print(node)\n",
    "                    #print('With all')\n",
    "                    #print(self.OLH_aggre(node, self.epsilon, np.sum(self.all_counts), len(self.all_dates)))\n",
    "                    print('with level')\n",
    "                    print(self.tree_levels[i+level_offset])\n",
    "                    print(self.OLH_aggre(node, self.epsilon, np.sum(self.tree_levels[i+level_offset]), len(self.tree_levels[i+level_offset])))\n",
    "                    \n",
    "\n",
    "        print(all_counts[idx_0:idx_1])\n",
    "        print(f'Real answer is {np.sum(all_counts[idx_0:idx_1+1])}')\n",
    "        #print(OLH_answer(count, epsilon, np.sum(OLH_count), D))\n",
    "        #D = len(all_dates) \n",
    "\n",
    "query_dates = ('2014-01-02','2014-01-13')\n",
    "epsilon = 0.7\n",
    "local_HH = HH_OLH_cc(epsilon, all_dates[:128], all_counts[:128])\n",
    "local_HH.answer(query_dates)\n",
    "print(local_HH.tree_levels)"
   ]
  },
  {
   "cell_type": "code",
   "execution_count": null,
   "metadata": {},
   "outputs": [],
   "source": [
    "epsilon = 1.\n",
    "hhs = HH_OLH(all_dates[:32],all_counts[:32],OLH_func,epsilon)\n"
   ]
  },
  {
   "cell_type": "code",
   "execution_count": null,
   "metadata": {},
   "outputs": [],
   "source": [
    "print(hhs)"
   ]
  },
  {
   "cell_type": "code",
   "execution_count": 63,
   "metadata": {},
   "outputs": [],
   "source": [
    "def HH_OLH_answer(count, epsilon, N, g):\n",
    "    p = np.exp(epsilon)/(np.exp(epsilon)+g-1)\n",
    "    #print(p - 1/g)\n",
    "    return (count- N/g) / (p)"
   ]
  },
  {
   "cell_type": "code",
   "execution_count": 64,
   "metadata": {},
   "outputs": [],
   "source": [
    "def hh_olh_answer(tree, dates, olh_aggr, all_dates, all_counts, epsilon):\n",
    "    #Only asking for one date.\n",
    "    #print(all_dates)\n",
    "    values = np.arange(0,len(all_dates))\n",
    "    zip_iterator = zip(all_dates, values)\n",
    "    idx_dict =  dict(zip_iterator)\n",
    "    h = int(np.ceil(np.log2(len(all_dates))))\n",
    "    #h = 5 \n",
    "    date_obj_0 = datetime.strptime(dates[0],'%Y-%m-%d').date()\n",
    "    date_obj_1 = datetime.strptime(dates[1],'%Y-%m-%d').date()\n",
    "    \n",
    "    \n",
    "    idx_0 = idx_dict[date_obj_0]\n",
    "    idx_1 = idx_dict[date_obj_1]\n",
    "    \n",
    "    #print(idx_0)\n",
    "    #print(idx_1)\n",
    "    #print(np.log2(idx_1+1).is_integer())\n",
    "    \n",
    "    path0 = get_index(idx_0,h)\n",
    "    #print(path0)\n",
    "    path0.reverse()\n",
    "    #print(path0)\n",
    "    path1 = get_index(idx_1,h)\n",
    "    #print(path1)\n",
    "    path1.reverse()\n",
    "    #print(path1)\n",
    "    if idx_0 == 0 and np.log2(idx_1+1).is_integer():\n",
    "        sum_level = list(map(lambda i: i> 0, path1)).index(True)-1\n",
    "        #print(list(map(lambda i: i> 0, path1)).index(True))\n",
    "        #print(list(map(lambda i: i> 0, path1)).index(True)-1)\n",
    "        #print(f'Node count {tree[sum_level][0]}')\n",
    "        #print(np.sum(all_counts))\n",
    "        #print(len(all_dates))\n",
    "        #print(f'Aggre Node count {olh_aggr(tree[sum_level][0], epsilon, np.sum(all_counts),len(all_dates))}')\n",
    "        return olh_aggr(tree[sum_level][0], epsilon, np.sum(all_counts), len(all_dates))\n",
    "    else:\n",
    "        print(f'left is 0, 1 is right')\n",
    "        sum = 0.0\n",
    "        for i in range(len(path1)-1):\n",
    "            #print(f'path1[i] = {path1[i]}')\n",
    "            #print(f'path1[i+1] = {path[i+1]}')\n",
    "            print(f'i = {i}')\n",
    "            print(left_or_right(path1[i],path1[i+1]))\n",
    "            if left_or_right(path1[i],path1[i+1]) == 1:\n",
    "                #We went right\n",
    "                print(f'path1[i+1] = {path1[i+1]}')\n",
    "                print(tree[i+1])\n",
    "                print(tree[i+1][path1[i+1]-1])\n",
    "                #sum = sum + olh_aggr(tree[sum_level][0], epsilon, np.sum(all_counts),len(all_dates))\n",
    "            #print(tree[i])\n",
    "            #print('')\n",
    "    print(all_counts[idx_0:idx_1])\n",
    "    print(f'Real answer is {np.sum(all_counts[idx_0:idx_1+1])}')\n",
    "    #print(OLH_answer(count, epsilon, np.sum(OLH_count), D))\n",
    "    #D = len(all_dates)\n",
    "\n",
    "def left_or_right_list(path):\n",
    "    #print(path)\n",
    "    #0 is left 1 is right\n",
    "    direction_lst = []\n",
    "    for i in range(len(path)-1):\n",
    "        #print(f'i = {i}')\n",
    "        current = path[i]\n",
    "        nxt = path[i+1]\n",
    "        #print(f'current = {current}, nxt = {nxt}')\n",
    "        if nxt == 0:\n",
    "            #print('nxt == 0')\n",
    "            direction_lst.append(0)\n",
    "        elif current == 0 and current < nxt:\n",
    "            #print('current == 0 and current < nxt')\n",
    "            direction_lst.append(1)\n",
    "        elif 2* current < nxt:\n",
    "            #print('2* current < nxt')\n",
    "            direction_lst.append(1)\n",
    "        else:\n",
    "            #print('else')            \n",
    "            direction_lst.append(0)\n",
    "            \n",
    "    return direction_lst\n",
    "\n",
    "def hh_olh_answer_dec(tree, dates, olh_aggr, all_dates, all_counts, epsilon):\n",
    "    #Only asking for one date.\n",
    "    #print(all_dates)\n",
    "    values = np.arange(0,len(all_dates))\n",
    "    zip_iterator = zip(all_dates, values)\n",
    "    idx_dict =  dict(zip_iterator)\n",
    "    h = int(np.ceil(np.log2(len(all_dates))))\n",
    "    #print(h)\n",
    "    date_obj_0 = datetime.strptime(dates[0],'%Y-%m-%d').date()\n",
    "    date_obj_1 = datetime.strptime(dates[1],'%Y-%m-%d').date()\n",
    "    \n",
    "    \n",
    "    idx_0 = idx_dict[date_obj_0]\n",
    "    idx_1 = idx_dict[date_obj_1]\n",
    "    \n",
    "    print(idx_0)\n",
    "    print(idx_1)\n",
    "    idx_left = idx_0-1\n",
    "    idx_right = idx_1+1\n",
    "    \n",
    "    path_to_left = np.flip(np.array(get_index(idx_left,h)))\n",
    "    path_to_right = np.flip(np.array(get_index(idx_right,h)))\n",
    "    \n",
    "    path_to_first_date = get_index(idx_0,h)\n",
    "    path_to_first_date.reverse()\n",
    "    #print(path_to_first_date)\n",
    "    \n",
    "    path_to_second_date = get_index(idx_1,h)\n",
    "    path_to_second_date.reverse()\n",
    "    #print(path_to_second_date)\n",
    "    \n",
    "    if idx_0 == 0:\n",
    "        left_or_right_list_leftside = left_or_right_list(path_to_left[path_to_right != path_to_left])\n",
    "        left_or_right_list_rightside = left_or_right_list(path_to_right[path_to_right != path_to_left])\n",
    "        level_offset = len(path_to_left)-len(left_or_right_list((np.array(path_to_left)[path_to_right != path_to_left])))\n",
    "        for i in range(len(left_or_right_list_rightside)):\n",
    "            if left_or_right_list_rightside[i] == 1:\n",
    "                #print(f'We are at level {i+level_offset}')\n",
    "                #print(f'We are at node {path_to_right[i+level_offset]} in the path')\n",
    "                #print('We went right')        \n",
    "                #print('We need to count the left one')\n",
    "                print(hhs[i+level_offset][path_to_right[i+level_offset]-1])\n",
    "            #else:\n",
    "                #print('We went left')\n",
    "                #print('Nothing to count')\n",
    "    elif idx_1 == np.max(values):\n",
    "        left_or_right_list_leftside = left_or_right_list(path_to_left[path_to_right != path_to_left])\n",
    "        left_or_right_list_rightside = left_or_right_list(path_to_right[path_to_right != path_to_left])\n",
    "        level_offset = len(path_to_left)-len(left_or_right_list((np.array(path_to_left)[path_to_right != path_to_left])))\n",
    "        for i in range(len(left_or_right_list_leftside)):\n",
    "            #print(f'We are looking at {left_or_right_list_leftside[i]}')\n",
    "            if left_or_right_list_leftside[i] == 0:\n",
    "                #print(f'We are at level {i+level_offset}')\n",
    "                #print(path_to_left[i+level_offset])\n",
    "                #print('We went left')\n",
    "                #print('We need to count the right one')\n",
    "                print(hhs[i+level_offset][path_to_left[i+level_offset]+1])\n",
    "            #else:\n",
    "                #print('We went right')\n",
    "                #print('Nothing to count')\n",
    "    else:\n",
    "        left_or_right_list_leftside = left_or_right_list(path_to_left[path_to_right != path_to_left])\n",
    "        left_or_right_list_rightside = left_or_right_list(path_to_right[path_to_right != path_to_left])\n",
    "\n",
    "        level_offset = len(path_to_left)-len(left_or_right_list((np.array(path_to_left)[path_to_right != path_to_left])))\n",
    "        #print(f'level_offset = {level_offset}')\n",
    "        #print('Finding the left side')\n",
    "        for i in range(len(left_or_right_list_leftside)):\n",
    "            #print(f'i = {i}')\n",
    "            #print(left_or_right)\n",
    "            #print(f'We are looking at {left_or_right_list_leftside[i]}')\n",
    "            if left_or_right_list_leftside[i] == 0:\n",
    "                #print(f'We are at level {i+level_offset}')\n",
    "                #print(path_to_left[i+level_offset])\n",
    "                #print('We went left')\n",
    "                #print('We need to count the right one')\n",
    "                print(hhs[i+level_offset][path_to_left[i+level_offset]+1])\n",
    "            #else:\n",
    "                #print('We went right')\n",
    "                #print('Nothing to count')\n",
    "        #print('-------------------------------')\n",
    "        #print('Finding the right side')\n",
    "        for i in range(len(left_or_right_list_rightside)):\n",
    "            #print(f'i = {i}')\n",
    "            #print(left_or_right)\n",
    "            #print(f'We are looking at {left_or_right_list_rightside[i]}')\n",
    "            if left_or_right_list_rightside[i] == 1:\n",
    "                #print(f'We are at level {i+level_offset}')\n",
    "                #print(f'We are at node {path_to_right[i+level_offset]} in the path')\n",
    "                #print('We went right')        \n",
    "                #print('We need to count the left one')\n",
    "                print(hhs[i+level_offset][path_to_right[i+level_offset]-1])\n",
    "            #else:\n",
    "                #print('We went left')\n",
    "                #print('Nothing to count')\n",
    "        \n",
    "    print(all_counts[idx_0:idx_1])\n",
    "    print(f'Real answer is {np.sum(all_counts[idx_0:idx_1+1])}')\n",
    "    #print(OLH_answer(count, epsilon, np.sum(OLH_count), D))\n",
    "    #D = len(all_dates) "
   ]
  },
  {
   "cell_type": "code",
   "execution_count": 65,
   "metadata": {},
   "outputs": [
    {
     "name": "stdout",
     "output_type": "stream",
     "text": [
      "[2756.]\n",
      "[2237. 2100.]\n",
      "[1843. 1786. 1760. 1708.]\n",
      "[1642. 1729. 1701. 1684. 1588. 1645. 1589. 1647.]\n",
      "[1517. 1541. 1539. 1556. 1576. 1563. 1480. 1526. 1551. 1529. 1589. 1519.\n",
      " 1515. 1601. 1540. 1576.]\n",
      "[1440. 1553. 1568. 1472. 1553. 1532. 1541. 1538. 1532. 1560. 1535. 1540.\n",
      " 1460. 1501. 1570. 1559. 1510. 1533. 1512. 1489. 1490. 1499. 1553. 1462.\n",
      " 1509. 1407. 1531. 1504. 1530. 1495. 1516. 1478.]\n",
      "[1520. 1516. 1538. 1595. 1550. 1543. 1566. 1546. 1610. 1522. 1508. 1488.\n",
      " 1520. 1571. 1516. 1582. 1517. 1479. 1508. 1504. 1561. 1588. 1582. 1533.\n",
      " 1532. 1500. 1566. 1538. 1554. 1504. 1515. 1567. 1553. 1536. 1522. 1531.\n",
      " 1468. 1538. 1555. 1489. 1480. 1445. 1566. 1552. 1461. 1578. 1561. 1463.\n",
      " 1492. 1500. 1547. 1506. 1480. 1521. 1504. 1552. 1467. 1586. 1579. 1568.\n",
      " 1459. 1525. 1598. 1537.]\n",
      "[1551. 1519. 1527. 1476. 1482. 1499. 1551. 1538. 1532. 1515. 1555. 1438.\n",
      " 1505. 1505. 1515. 1491. 1472. 1529. 1462. 1489. 1516. 1514. 1531. 1565.\n",
      " 1567. 1452. 1513. 1508. 1529. 1516. 1512. 1583. 1520. 1540. 1506. 1572.\n",
      " 1521. 1544. 1514. 1470. 1519. 1572. 1549. 1570. 1465. 1542. 1523. 1526.\n",
      " 1552. 1461. 1463. 1525. 1525. 1519. 1487. 1486. 1539. 1506. 1526. 1510.\n",
      " 1515. 1546. 1457. 1551. 1565. 1418. 1529. 1581. 1561. 1492. 1569. 1553.\n",
      " 1526. 1506. 1554. 1492. 1509. 1496. 1499. 1515. 1475. 1503. 1551. 1480.\n",
      " 1518. 1496. 1469. 1488. 1461. 1497. 1543. 1560. 1524. 1455. 1505. 1429.\n",
      " 1514. 1525. 1484. 1532. 1516. 1488. 1525. 1519. 1467. 1493. 1517. 1528.\n",
      " 1505. 1516. 1491. 1493. 1528. 1511. 1523. 1541. 1473. 1502. 1520. 1538.\n",
      " 1497. 1550. 1531. 1513. 1573. 1546. 1504. 1482.]\n",
      "[1570. 1460. 1589. 1521. 1533. 1489. 1480. 1518. 1456. 1493. 1473. 1542.\n",
      " 1524. 1482. 1486. 1526. 1574. 1502. 1594. 1630. 1474. 1550. 1475. 1590.\n",
      " 1479. 1512. 1497. 1437. 1568. 1487. 1542. 1514. 1504. 1554. 1518. 1478.\n",
      " 1482. 1522. 1453. 1539. 1451. 1529. 1493. 1516. 1494. 1456. 1501. 1490.\n",
      " 1532. 1510. 1530. 1517. 1518. 1543. 1560. 1509. 1542. 1490. 1503. 1468.\n",
      " 1483. 1498. 1526. 1535. 1515. 1487. 1508. 1548. 1496. 1510. 1481. 1522.\n",
      " 1493. 1462. 1509. 1501. 1534. 1492. 1474. 1470. 1531. 1464. 1455. 1490.\n",
      " 1494. 1469. 1519. 1525. 1565. 1512. 1538. 1537. 1534. 1557. 1484. 1530.\n",
      " 1524. 1508. 1557. 1504. 1539. 1507. 1569. 1573. 1538. 1502. 1483. 1520.\n",
      " 1484. 1466. 1502. 1523. 1505. 1531. 1543. 1531. 1536. 1530. 1539. 1533.\n",
      " 1503. 1483. 1476. 1496. 1494. 1546. 1613. 1509. 1481. 1475. 1506. 1528.\n",
      " 1520. 1582. 1512. 1503. 1519. 1522. 1528. 1499. 1548. 1471. 1536. 1493.\n",
      " 1495. 1575. 1514. 1498. 1476. 1499. 1480. 1553. 1528. 1493. 1484. 1530.\n",
      " 1526. 1557. 1478. 1505. 1478. 1513. 1525. 1563. 1494. 1497. 1551. 1494.\n",
      " 1461. 1476. 1524. 1536. 1489. 1502. 1547. 1597. 1524. 1540. 1535. 1494.\n",
      " 1492. 1495. 1535. 1532. 1487. 1495. 1510. 1582. 1521. 1481. 1432. 1567.\n",
      " 1526. 1428. 1485. 1556. 1477. 1506. 1569. 1487. 1566. 1530. 1469. 1545.\n",
      " 1503. 1452. 1537. 1536. 1514. 1498. 1538. 1513. 1527. 1588. 1469. 1546.\n",
      " 1490. 1424. 1516. 1464. 1526. 1527. 1484. 1543. 1502. 1520. 1470. 1512.\n",
      " 1522. 1522. 1522. 1499. 1496. 1518. 1591. 1533. 1559. 1486. 1538. 1458.\n",
      " 1525. 1414. 1468. 1552. 1559. 1518. 1497. 1551. 1525. 1566. 1527. 1555.\n",
      " 1600. 1583. 1456. 1453.]\n",
      "dec\n",
      "2\n",
      "12\n",
      "1729.0\n",
      "1541.0\n",
      "1701.0\n",
      "1460.0\n",
      "[129.   2. 293. 362. 288. 250.  76.  89.   1. 253.]\n",
      "Real answer is 2107.0\n",
      "None\n"
     ]
    }
   ],
   "source": [
    "query_dates = ('2014-01-04','2014-01-14')\n",
    "for level in hhs:\n",
    "    print(level)\n",
    "#print(all_dates[:10])\n",
    "#print(hh_olh_answer(hhs, query_dates, HH_OLH_answer, all_dates[:32], all_counts[:32], epsilon))\n",
    "print('dec')\n",
    "print(hh_olh_answer_dec(hhs, query_dates, HH_OLH_answer, all_dates[:32], all_counts[:32], epsilon))"
   ]
  },
  {
   "cell_type": "code",
   "execution_count": 66,
   "metadata": {},
   "outputs": [
    {
     "name": "stdout",
     "output_type": "stream",
     "text": [
      "[ True  True False False False False]\n",
      "[2, 3, 4, 5]\n",
      "[0 0 0 0]\n",
      "[0 0 0 0]\n",
      "[ 1  2  5 11]\n",
      "[ 1  2  5 11]\n",
      "[0, 0, 0, 0, 0]\n",
      "[0, 1, 0, 1, 1]\n",
      "[0, 0, 0]\n",
      "[0, 1, 1]\n",
      "3\n",
      "Finding the left side\n",
      "We are looking at 0\n",
      "We are at level 3\n",
      "0\n",
      "We went left\n",
      "We need to count the right one\n",
      "1729.0\n",
      "We are looking at 0\n",
      "We are at level 4\n",
      "0\n",
      "We went left\n",
      "We need to count the right one\n",
      "1541.0\n",
      "We are looking at 0\n",
      "We are at level 5\n",
      "0\n",
      "We went left\n",
      "We need to count the right one\n",
      "1553.0\n",
      "[2756.]\n",
      "[2237. 2100.]\n",
      "[1843. 1786. 1760. 1708.]\n",
      "[1642. 1729. 1701. 1684. 1588. 1645. 1589. 1647.]\n",
      "[1517. 1541. 1539. 1556. 1576. 1563. 1480. 1526. 1551. 1529. 1589. 1519.\n",
      " 1515. 1601. 1540. 1576.]\n",
      "[1440. 1553. 1568. 1472. 1553. 1532. 1541. 1538. 1532. 1560. 1535. 1540.\n",
      " 1460. 1501. 1570. 1559. 1510. 1533. 1512. 1489. 1490. 1499. 1553. 1462.\n",
      " 1509. 1407. 1531. 1504. 1530. 1495. 1516. 1478.]\n",
      "[1520. 1516. 1538. 1595. 1550. 1543. 1566. 1546. 1610. 1522. 1508. 1488.\n",
      " 1520. 1571. 1516. 1582. 1517. 1479. 1508. 1504. 1561. 1588. 1582. 1533.\n",
      " 1532. 1500. 1566. 1538. 1554. 1504. 1515. 1567. 1553. 1536. 1522. 1531.\n",
      " 1468. 1538. 1555. 1489. 1480. 1445. 1566. 1552. 1461. 1578. 1561. 1463.\n",
      " 1492. 1500. 1547. 1506. 1480. 1521. 1504. 1552. 1467. 1586. 1579. 1568.\n",
      " 1459. 1525. 1598. 1537.]\n",
      "[1551. 1519. 1527. 1476. 1482. 1499. 1551. 1538. 1532. 1515. 1555. 1438.\n",
      " 1505. 1505. 1515. 1491. 1472. 1529. 1462. 1489. 1516. 1514. 1531. 1565.\n",
      " 1567. 1452. 1513. 1508. 1529. 1516. 1512. 1583. 1520. 1540. 1506. 1572.\n",
      " 1521. 1544. 1514. 1470. 1519. 1572. 1549. 1570. 1465. 1542. 1523. 1526.\n",
      " 1552. 1461. 1463. 1525. 1525. 1519. 1487. 1486. 1539. 1506. 1526. 1510.\n",
      " 1515. 1546. 1457. 1551. 1565. 1418. 1529. 1581. 1561. 1492. 1569. 1553.\n",
      " 1526. 1506. 1554. 1492. 1509. 1496. 1499. 1515. 1475. 1503. 1551. 1480.\n",
      " 1518. 1496. 1469. 1488. 1461. 1497. 1543. 1560. 1524. 1455. 1505. 1429.\n",
      " 1514. 1525. 1484. 1532. 1516. 1488. 1525. 1519. 1467. 1493. 1517. 1528.\n",
      " 1505. 1516. 1491. 1493. 1528. 1511. 1523. 1541. 1473. 1502. 1520. 1538.\n",
      " 1497. 1550. 1531. 1513. 1573. 1546. 1504. 1482.]\n",
      "[1570. 1460. 1589. 1521. 1533. 1489. 1480. 1518. 1456. 1493. 1473. 1542.\n",
      " 1524. 1482. 1486. 1526. 1574. 1502. 1594. 1630. 1474. 1550. 1475. 1590.\n",
      " 1479. 1512. 1497. 1437. 1568. 1487. 1542. 1514. 1504. 1554. 1518. 1478.\n",
      " 1482. 1522. 1453. 1539. 1451. 1529. 1493. 1516. 1494. 1456. 1501. 1490.\n",
      " 1532. 1510. 1530. 1517. 1518. 1543. 1560. 1509. 1542. 1490. 1503. 1468.\n",
      " 1483. 1498. 1526. 1535. 1515. 1487. 1508. 1548. 1496. 1510. 1481. 1522.\n",
      " 1493. 1462. 1509. 1501. 1534. 1492. 1474. 1470. 1531. 1464. 1455. 1490.\n",
      " 1494. 1469. 1519. 1525. 1565. 1512. 1538. 1537. 1534. 1557. 1484. 1530.\n",
      " 1524. 1508. 1557. 1504. 1539. 1507. 1569. 1573. 1538. 1502. 1483. 1520.\n",
      " 1484. 1466. 1502. 1523. 1505. 1531. 1543. 1531. 1536. 1530. 1539. 1533.\n",
      " 1503. 1483. 1476. 1496. 1494. 1546. 1613. 1509. 1481. 1475. 1506. 1528.\n",
      " 1520. 1582. 1512. 1503. 1519. 1522. 1528. 1499. 1548. 1471. 1536. 1493.\n",
      " 1495. 1575. 1514. 1498. 1476. 1499. 1480. 1553. 1528. 1493. 1484. 1530.\n",
      " 1526. 1557. 1478. 1505. 1478. 1513. 1525. 1563. 1494. 1497. 1551. 1494.\n",
      " 1461. 1476. 1524. 1536. 1489. 1502. 1547. 1597. 1524. 1540. 1535. 1494.\n",
      " 1492. 1495. 1535. 1532. 1487. 1495. 1510. 1582. 1521. 1481. 1432. 1567.\n",
      " 1526. 1428. 1485. 1556. 1477. 1506. 1569. 1487. 1566. 1530. 1469. 1545.\n",
      " 1503. 1452. 1537. 1536. 1514. 1498. 1538. 1513. 1527. 1588. 1469. 1546.\n",
      " 1490. 1424. 1516. 1464. 1526. 1527. 1484. 1543. 1502. 1520. 1470. 1512.\n",
      " 1522. 1522. 1522. 1499. 1496. 1518. 1591. 1533. 1559. 1486. 1538. 1458.\n",
      " 1525. 1414. 1468. 1552. 1559. 1518. 1497. 1551. 1525. 1566. 1527. 1555.\n",
      " 1600. 1583. 1456. 1453.]\n"
     ]
    }
   ],
   "source": [
    "path_to_left = np.array([0, 0, 0, 0, 0, 0])\n",
    "path_to_right = np.array([0, 0, 1, 2, 5, 11])\n",
    "print(path_to_left == path_to_right)\n",
    "\n",
    "changes = [int(i) for i in range(len(path_to_left)) if path_to_left[i] != path_to_right[i]]\n",
    "\n",
    "print(changes)\n",
    "print(path_to_left[path_to_right != path_to_left])\n",
    "print(path_to_left[changes])\n",
    "print(path_to_right[changes])\n",
    "print(path_to_right[path_to_right != path_to_left])\n",
    "\n",
    "print(left_or_right_list(path_to_left))\n",
    "print(left_or_right_list(path_to_right))\n",
    "\n",
    "\n",
    "left_or_right_list_leftside = left_or_right_list(path_to_left[path_to_right != path_to_left])\n",
    "left_or_right_list_rightside = left_or_right_list(path_to_right[path_to_right != path_to_left])\n",
    "print(left_or_right_list_leftside)\n",
    "print(left_or_right_list_rightside)\n",
    "\n",
    "level_offset = len(path_to_left)-len(left_or_right_list((np.array(path_to_left)[changes])))\n",
    "print(level_offset)\n",
    "print('Finding the left side')\n",
    "for i in range(len(left_or_right_list_leftside)):\n",
    "    #print(left_or_right)\n",
    "    print(f'We are looking at {left_or_right_list_leftside[i]}')\n",
    "    if left_or_right_list_leftside[i] == 0:\n",
    "        print(f'We are at level {i+level_offset}')\n",
    "        print(path_to_left[i+level_offset])\n",
    "        print('We went left')\n",
    "        print('We need to count the right one')\n",
    "        print(hhs[i+level_offset][path_to_left[i+level_offset]+1])\n",
    "    else:\n",
    "        print('We went right')\n",
    "\"\"\"\n",
    "print('Finding the right side')\n",
    "for i in range(len(left_or_right_list_rightside)):\n",
    "    #print(left_or_right)\n",
    "    print(f'We are looking at {left_or_right_list_rightside[i]}')\n",
    "    if left_or_right_list_rightside[i] == 1:\n",
    "        print(f'We are at level {i+level_offset}')\n",
    "        print(path_to_right[i+level_offset])\n",
    "        print('We went right')        \n",
    "        print('We need to count the left one')\n",
    "        print(hhs[i+level_offset][path_to_right[i+level_offset]-1])\n",
    "    else:\n",
    "        print('We went left')\n",
    "\"\"\"\n",
    "        \n",
    "for level in hhs:\n",
    "    print(level)"
   ]
  },
  {
   "cell_type": "code",
   "execution_count": null,
   "metadata": {},
   "outputs": [],
   "source": [
    "idx_0 = 2\n",
    "idx_1 = 20\n",
    "idx_left = idx_0-1\n",
    "idx_right = idx_1+1\n",
    "h = 5\n",
    "path_to_left = np.flip(np.array(get_index(idx_left,h)))\n",
    "path_to_right = np.flip(np.array(get_index(idx_right,h)))\n",
    "print('Paths')\n",
    "print(path_to_left)\n",
    "print(path_to_right)\n",
    "#path_to_left = np.array([0, 0, 0, 0, 0, 0])\n",
    "#path_to_right = np.array([0, 0, 1, 2, 5, 11])\n",
    "print(path_to_left == path_to_right)\n",
    "\n",
    "#changes = [int(i) for i in range(len(path_to_left)) if path_to_left[i] != path_to_right[i]]\n",
    "\n",
    "#print(changes)\n",
    "print(path_to_left[path_to_right != path_to_left])\n",
    "#print(path_to_left[changes])\n",
    "#print(path_to_right[changes])\n",
    "print(path_to_right[path_to_right != path_to_left])\n",
    "\n",
    "#print(left_or_right_list(path_to_left))\n",
    "#print(left_or_right_list(path_to_right))\n",
    "\n",
    "\n",
    "left_or_right_list_leftside = left_or_right_list(path_to_left[path_to_right != path_to_left])\n",
    "left_or_right_list_rightside = left_or_right_list(path_to_right[path_to_right != path_to_left])\n",
    "print(left_or_right_list_leftside)\n",
    "print(left_or_right_list_rightside)\n",
    "\n",
    "level_offset = len(path_to_left)-len(left_or_right_list((np.array(path_to_left)[path_to_right != path_to_left])))\n",
    "print(f'level_offset = {level_offset}')\n",
    "print('Finding the left side')\n",
    "for i in range(len(left_or_right_list_leftside)):\n",
    "    #print(f'i = {i}')\n",
    "    #print(left_or_right)\n",
    "    print(f'We are looking at {left_or_right_list_leftside[i]}')\n",
    "    if left_or_right_list_leftside[i] == 0:\n",
    "        print(f'We are at level {i+level_offset}')\n",
    "        print(path_to_left[i+level_offset])\n",
    "        print('We went left')\n",
    "        print('We need to count the right one')\n",
    "        print(hhs[i+level_offset][path_to_left[i+level_offset]+1])\n",
    "    else:\n",
    "        print('We went right')\n",
    "        print('Nothing to count')\n",
    "print('-------------------------------')\n",
    "print('Finding the right side')\n",
    "for i in range(len(left_or_right_list_rightside)):\n",
    "    #print(f'i = {i}')\n",
    "    #print(left_or_right)\n",
    "    print(f'We are looking at {left_or_right_list_rightside[i]}')\n",
    "    if left_or_right_list_rightside[i] == 1:\n",
    "        print(f'We are at level {i+level_offset}')\n",
    "        print(f'We are at node {path_to_right[i+level_offset]} in the path')\n",
    "        print('We went right')        \n",
    "        print('We need to count the left one')\n",
    "        print(hhs[i+level_offset][path_to_right[i+level_offset]-1])\n",
    "    else:\n",
    "        print('We went left')\n",
    "        print('Nothing to count')\n",
    "        \n",
    "\"\"\"\n",
    "\"\"\"\n",
    "        \n",
    "for level in hhs:\n",
    "    print(level)"
   ]
  },
  {
   "cell_type": "code",
   "execution_count": null,
   "metadata": {},
   "outputs": [],
   "source": [
    "idx_0 = 0\n",
    "idx_1 = 11\n",
    "idx_left = idx_0-1\n",
    "idx_right = idx_1+1\n",
    "h = 5\n",
    "path_to_left = np.flip(np.array(get_index(idx_left,h)))\n",
    "path_to_right = np.flip(np.array(get_index(idx_right,h)))\n",
    "print('Paths')\n",
    "print(path_to_left)\n",
    "print(path_to_right)\n",
    "if idx_0 == 0:\n",
    "    \n",
    "    #path_to_left = np.array([0, 0, 0, 0, 0, 0])\n",
    "    #path_to_right = np.array([0, 0, 1, 2, 5, 11])\n",
    "    #print(path_to_left == path_to_right)\n",
    "\n",
    "    #changes = [int(i) for i in range(len(path_to_left)) if path_to_left[i] != path_to_right[i]]\n",
    "\n",
    "    #print(changes)\n",
    "    #print(path_to_left[path_to_right != path_to_left])\n",
    "    #print(path_to_left[changes])\n",
    "    #print(path_to_right[changes])\n",
    "    #print(path_to_right[path_to_right != path_to_left])\n",
    "\n",
    "    #print(left_or_right_list(path_to_left))\n",
    "    #print(left_or_right_list(path_to_right))\n",
    "\n",
    "\n",
    "    left_or_right_list_leftside = left_or_right_list(path_to_left[path_to_right != path_to_left])\n",
    "    left_or_right_list_rightside = left_or_right_list(path_to_right[path_to_right != path_to_left])\n",
    "    print(left_or_right_list_leftside)\n",
    "    print(left_or_right_list_rightside)\n",
    "\n",
    "    level_offset = len(path_to_left)-len(left_or_right_list((np.array(path_to_left)[path_to_right != path_to_left])))\n",
    "    print(f'level_offset = {level_offset}')\n",
    "    \"\"\"\n",
    "    print('Finding the left side')\n",
    "    for i in range(len(left_or_right_list_leftside)):\n",
    "        #print(f'i = {i}')\n",
    "        #print(left_or_right)\n",
    "        print(f'We are looking at {left_or_right_list_leftside[i]}')\n",
    "        if left_or_right_list_leftside[i] == 0:\n",
    "            print(f'We are at level {i+level_offset}')\n",
    "            print(path_to_left[i+level_offset])\n",
    "            print('We went left')\n",
    "            print('We need to count the right one')\n",
    "            print(hhs[i+level_offset][path_to_left[i+level_offset]+1])\n",
    "        else:\n",
    "            print('We went right')\n",
    "            print('Nothing to count')\n",
    "    \"\"\"\n",
    "    print('-------------------------------')\n",
    "    print('Finding the right side')\n",
    "    for i in range(len(left_or_right_list_rightside)):\n",
    "        #print(f'i = {i}')\n",
    "        #print(left_or_right)\n",
    "        print(f'We are looking at {left_or_right_list_rightside[i]}')\n",
    "        if left_or_right_list_rightside[i] == 1:\n",
    "            print(f'We are at level {i+level_offset}')\n",
    "            print(f'We are at node {path_to_right[i+level_offset]} in the path')\n",
    "            print('We went right')        \n",
    "            print('We need to count the left one')\n",
    "            print(hhs[i+level_offset][path_to_right[i+level_offset]-1])\n",
    "        else:\n",
    "            print('We went left')\n",
    "            print('Nothing to count')\n",
    "        \n",
    "\"\"\"\n",
    "\"\"\"\n",
    "        \n",
    "for level in hhs:\n",
    "    print(level)"
   ]
  },
  {
   "cell_type": "code",
   "execution_count": null,
   "metadata": {},
   "outputs": [],
   "source": [
    "print(np.log2(idx_right-1).is_integer())"
   ]
  },
  {
   "cell_type": "code",
   "execution_count": null,
   "metadata": {},
   "outputs": [],
   "source": [
    "epsilons = np.array([2,1.4,1.2,1,0.8,0.7,0.5,0.4,0.3])\n",
    "error_dicts = {}\n",
    "test_dates = all_dates[:32].copy()\n",
    "test_counts = all_counts[:32].copy()\n",
    "for e in epsilons:\n",
    "    print(e)\n",
    "    number_of_queries = 100\n",
    "    range_dates = ('2014-01-02','2014-01-9')\n",
    "    answears = np.zeros(number_of_queries)\n",
    "    corret_answear = np.sum(all_counts[0:8])\n",
    "    for i in range(0,number_of_queries):\n",
    "        hhs = hhs = HH_OLH(test_dates, test_counts,OLH_func,e)\n",
    "        a = hh_olh_answer(hhs, range_dates, HH_OLH_answer, test_dates, test_counts, e)\n",
    "        answears[i] = a\n",
    "    error = np.abs(corret_answear-answears)\n",
    "    max_error = np.amax(error)\n",
    "    min_error = np.amin(error)\n",
    "    true_values = np.full(number_of_queries, corret_answear)\n",
    "    #vfunc = np.vectorize(relative_error)\n",
    "    #rel_erorrs = vfunc(answears, corret_answear)\n",
    "    mse = mean_squared_error(true_values, answears)\n",
    "    error_dicts[e] = {'mse': mse, 'max': max_error, 'min': min_error, 'abs': np.mean(error)}\n",
    "\n"
   ]
  },
  {
   "cell_type": "code",
   "execution_count": null,
   "metadata": {},
   "outputs": [],
   "source": [
    "#Getting all error values from dict\n",
    "n = len(error_dicts)\n",
    "mse_errors = np.zeros(n)\n",
    "min_errors = np.zeros(n)\n",
    "max_errors = np.zeros(n)\n",
    "abs_errors = np.zeros(n)\n",
    "\n",
    "for num, item in enumerate(error_dicts.items()):\n",
    "    mse_errors[num] = item[1]['mse']\n",
    "    min_errors[num] = item[1]['min']\n",
    "    max_errors[num] = item[1]['max']\n",
    "    abs_errors[num] = item[1]['abs']"
   ]
  },
  {
   "cell_type": "code",
   "execution_count": null,
   "metadata": {},
   "outputs": [],
   "source": [
    "error_stack = np.vstack((min_errors,mse_errors,max_errors,abs_errors)).flatten()\n",
    "min_labels = np.full(min_errors.size, 'min errors')\n",
    "mse_labels = np.full(mse_errors.size, 'mse errors')\n",
    "max_labels = np.full(max_errors.size, 'max errors')\n",
    "abs_labels = np.full(abs_errors.size, 'abs errors')\n",
    "\n",
    "\n",
    "labels_stack = np.vstack((min_labels,mse_labels,max_labels,abs_labels)).flatten()\n",
    "epsilons_stack = np.vstack((epsilons,epsilons,epsilons,epsilons)).flatten()\n"
   ]
  },
  {
   "cell_type": "code",
   "execution_count": null,
   "metadata": {},
   "outputs": [],
   "source": [
    "seaborn_df = pd.DataFrame({'epsilons':epsilons_stack, 'errors':error_stack,'labels':labels_stack})\n",
    "seaborn_df.to_csv('local_hh_seaborn_plotting_data.csv',index=False)"
   ]
  },
  {
   "cell_type": "code",
   "execution_count": null,
   "metadata": {},
   "outputs": [],
   "source": [
    "all_data = pd.DataFrame({'epsilons':epsilons, 'min_errors':min_errors,'max_errors':min_errors,'mse_errors':mse_errors,'abs_errors':abs_errors})\n",
    "all_data.to_csv('local_hh_plotting_data.csv',index=False)"
   ]
  },
  {
   "cell_type": "code",
   "execution_count": null,
   "metadata": {},
   "outputs": [],
   "source": [
    "sns.set()"
   ]
  },
  {
   "cell_type": "code",
   "execution_count": null,
   "metadata": {
    "scrolled": true
   },
   "outputs": [],
   "source": [
    "sns_plot = sns.catplot(x=\"epsilons\", y=\"errors\", hue=\"labels\", data=seaborn_df)\n",
    "sns_plot.set(yscale=\"log\")\n",
    "sns_plot.savefig(\"local_hh_AllErrors.png\")\n"
   ]
  },
  {
   "cell_type": "code",
   "execution_count": null,
   "metadata": {},
   "outputs": [],
   "source": [
    "sns_plot = sns.scatterplot(data=seaborn_df.loc[seaborn_df['labels'] == 'min errors'], x ='epsilons', y ='errors')\n",
    "plt.legend(labels=['min errors'])\n",
    "sns_plot.get_figure().savefig('con_min_error.png') "
   ]
  },
  {
   "cell_type": "code",
   "execution_count": null,
   "metadata": {},
   "outputs": [],
   "source": [
    "print(get_index(0,1))\n",
    "print(get_index(0,2))\n",
    "print(get_index(0,3))\n",
    "print(get_index(10,4))\n",
    "print(get_index(10,5))"
   ]
  },
  {
   "cell_type": "code",
   "execution_count": null,
   "metadata": {},
   "outputs": [],
   "source": [
    "print(np.argmax(all_counts))"
   ]
  },
  {
   "cell_type": "code",
   "execution_count": null,
   "metadata": {},
   "outputs": [],
   "source": [
    "path = get_index(8,5)\n",
    "path.reverse()\n",
    "print(path)\n",
    "for i in range(len(path)-1):\n",
    "    #print(f'path[i] = {path[i]}')\n",
    "    #print(f'path[i+1] = {path[i+1]}')\n",
    "    print(f'left is 0, 1 is right')\n",
    "    print(left_or_right(path[i],path[i+1]))"
   ]
  },
  {
   "cell_type": "code",
   "execution_count": null,
   "metadata": {},
   "outputs": [],
   "source": [
    "def max_disjoint_B_adic_ranges(r, B):\n",
    "    # r = length, B = log base\n",
    "    #Fact 3\n",
    "    #Any sub-range of length[a,b]of length r from [D] can be decomposed into ≤ (B−1)(2 logBr+1)disjoint B-adic ranges.\n",
    "    #(B−1)(2 logBr+1)\n",
    "    return (B-1)*(2* np.log(r+1) / np.log(B))"
   ]
  },
  {
   "cell_type": "code",
   "execution_count": null,
   "metadata": {},
   "outputs": [],
   "source": [
    "B = 2\n",
    "r = 20\n",
    "print(max_disjoint_B_adic_ranges(r,B))\n",
    "n = 74088\n",
    "exp = 42\n",
    "np.log(n) / np.log(exp)"
   ]
  },
  {
   "cell_type": "code",
   "execution_count": null,
   "metadata": {
    "scrolled": true
   },
   "outputs": [],
   "source": [
    "\"\"\"\n",
    "[0110000,1101011]=\n",
    "[0110000,0110000]∪\n",
    "[0110001,1000000]∪\n",
    "[1000001,1100000]∪\n",
    "[1100001,1101000]∪\n",
    "[1101001,1101010]∪\n",
    "[1101011,1101011]\n",
    "\"\"\"\n",
    "print(f\"[{int('0110000',2)},{int('1101011',2)}]\")\n",
    "print(f\"[{int('0110000',2)},{int('0110000',2)}]\")\n",
    "print(f\"[{int('0110001',2)},{int('1000000',2)}]\")\n",
    "print(f\"[{int('1000001',2)},{int('1100000',2)}]\")\n",
    "print(f\"[{int('1100001',2)},{int('1101000',2)}]\")\n",
    "print(f\"[{int('1101001',2)},{int('1101010',2)}]\")\n",
    "print(f\"[{int('1101011',2)},{int('1101011',2)}]\")\n"
   ]
  },
  {
   "cell_type": "code",
   "execution_count": null,
   "metadata": {},
   "outputs": [],
   "source": [
    "print(get_index(48,7))\n",
    "print(get_index(107,7))\n",
    "print(get_index(127,7))"
   ]
  },
  {
   "cell_type": "code",
   "execution_count": null,
   "metadata": {},
   "outputs": [],
   "source": [
    "\"\"\"\n",
    "D=32,B=2, the interval[2,22]\n",
    "can be decomposed into sub-intervals\n",
    "[2,3]∪[4,7]∪[8,15]∪[16,19]∪[20,21]∪[22,22].\n",
    "\"\"\"\n",
    "print('[2,3]')\n",
    "print(get_index(2,5))\n",
    "print(get_index(3,5))\n",
    "print('[4,7]')\n",
    "print(get_index(4,5))\n",
    "print(get_index(7,5))\n",
    "print('whole [4,7]')\n",
    "print(get_index(4,5))\n",
    "print(get_index(5,5))\n",
    "print(get_index(6,5))\n",
    "print(get_index(7,5))\n",
    "print('[8,15]')\n",
    "print(get_index(8,5))\n",
    "print(get_index(15,5))\n",
    "print('whole [8,15]')\n",
    "print(get_index(8,5))\n",
    "print(get_index(9,5))\n",
    "print(get_index(10,5))\n",
    "print(get_index(11,5))\n",
    "print(get_index(12,5))\n",
    "print(get_index(13,5))\n",
    "print(get_index(14,5))\n",
    "print(get_index(15,5))\n"
   ]
  }
 ],
 "metadata": {
  "kernelspec": {
   "display_name": "Python 3",
   "language": "python",
   "name": "python3"
  },
  "language_info": {
   "codemirror_mode": {
    "name": "ipython",
    "version": 3
   },
   "file_extension": ".py",
   "mimetype": "text/x-python",
   "name": "python",
   "nbconvert_exporter": "python",
   "pygments_lexer": "ipython3",
   "version": "3.8.5"
  }
 },
 "nbformat": 4,
 "nbformat_minor": 4
}
