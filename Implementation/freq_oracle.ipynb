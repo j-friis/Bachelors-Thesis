{
 "cells": [
  {
   "cell_type": "code",
   "execution_count": 1,
   "metadata": {},
   "outputs": [],
   "source": [
    "import numpy as np\n",
    "import pandas as pd\n",
    "from scipy.stats import laplace\n",
    "import scipy.stats\n",
    "import psycopg2\n",
    "from sklearn.metrics import mean_squared_error\n",
    "import matplotlib.pyplot as plt\n",
    "import seaborn as sns\n",
    "from datetime import datetime\n",
    "from datetime import timedelta  \n",
    "import threading"
   ]
  },
  {
   "cell_type": "code",
   "execution_count": 2,
   "metadata": {},
   "outputs": [
    {
     "name": "stdout",
     "output_type": "stream",
     "text": [
      "Executed query and closed connection.\n",
      "Executed query and closed connection.\n"
     ]
    }
   ],
   "source": [
    "param_dic = {\n",
    "    \"host\"      : \"localhost\",\n",
    "    \"database\"  : \"bachelorBesoeg2014\",\n",
    "    \"user\"      : \"postgres\",\n",
    "    \"password\"  : \"password\",\n",
    "    \"port\"      : \"5432\"\n",
    "}\n",
    "\n",
    "def execRangeQuery(params_dic,dates):\n",
    "    query = \"\"\"\n",
    "    SELECT\n",
    "    sum(count_)\n",
    "    FROM _775147\n",
    "    WHERE\n",
    "    time_ >= '{date0}'\n",
    "    AND time_ <=  '{date1}'\n",
    "    ;\n",
    "    \"\"\".format(date0 = dates[0], date1 = dates[1])\n",
    "    try:\n",
    "        connection = psycopg2.connect(**params_dic)\n",
    "        cursor = connection.cursor()\n",
    "        cursor.execute(query)\n",
    "        record = cursor.fetchall()\n",
    "        return record\n",
    "    except (Exception, psycopg2.Error) as error :\n",
    "        connection = False\n",
    "        print (\"Error while connecting to PostgreSQL\", error)\n",
    "    finally:\n",
    "        if(connection):\n",
    "            cursor.close()\n",
    "            connection.close()\n",
    "            print(\"Executed query and closed connection.\")\n",
    "\n",
    "def execQuery(params_dic,query):\n",
    "    try:\n",
    "        connection = psycopg2.connect(**params_dic)\n",
    "        cursor = connection.cursor()\n",
    "        cursor.execute(query)\n",
    "        record = cursor.fetchall()\n",
    "        return record\n",
    "    except (Exception, psycopg2.Error) as error :\n",
    "        connection = False\n",
    "        print (\"Error while connecting to PostgreSQL\", error)\n",
    "    finally:\n",
    "        if(connection):\n",
    "            cursor.close()\n",
    "            connection.close()\n",
    "            print(\"Executed query and closed connection.\")\n",
    "#\"\"\"select count(*) as number_of_dates, count(DISTINCT  count_) as distinct_count from _775147;\"\"\"\n",
    "query = \"\"\"select time_ from _775147;\"\"\"\n",
    "result = execQuery(param_dic, query)\n",
    "dates = [(date[0]) for date in result]\n",
    "\n",
    "query = \"\"\"select count_ from _775147;\"\"\"\n",
    "result = execQuery(param_dic, query)\n",
    "\"\"\"\n",
    "print(result)\n",
    "print(type(result))\n",
    "print(type(result[0]))\n",
    "print((str(result[0][0])))\n",
    "\"\"\"\n",
    "counts = [(count[0]) for count in result]"
   ]
  },
  {
   "cell_type": "code",
   "execution_count": null,
   "metadata": {},
   "outputs": [],
   "source": []
  },
  {
   "cell_type": "code",
   "execution_count": 3,
   "metadata": {},
   "outputs": [],
   "source": [
    "def add_missing_dates(old_dates):\n",
    "    start_date = dates[0]\n",
    "    end_date = dates[-1]\n",
    "    all_dates = pd.date_range(start = start_date, end = end_date).to_pydatetime().tolist()\n",
    "    return [(date.date()) for date in all_dates]\n",
    "    \n",
    "def add_missing_counts(old_counts, old_dates, new_dates):\n",
    "        \"\"\"Adds 0 to the list of counts where there was missing dates\n",
    "        Parameters:\n",
    "        old_counts (list of int): List counts for each day with \n",
    "        old_dates (list of datetime.date): List of dates that is not countious\n",
    "        Returns:\n",
    "        List of countious starting with the first value of \n",
    "        \"\"\"\n",
    "        zip_iterator = zip(old_dates, old_counts)\n",
    "        missing_dict =  dict(zip_iterator)\n",
    "        all_counts = np.zeros(len(new_dates))\n",
    "        for i, date in enumerate(new_dates):\n",
    "            val = missing_dict.get(date, 0)\n",
    "            all_counts[i] = val\n",
    "            \n",
    "        return all_counts"
   ]
  },
  {
   "cell_type": "code",
   "execution_count": 4,
   "metadata": {},
   "outputs": [],
   "source": [
    "all_dates = add_missing_dates(dates)\n",
    "all_counts =  add_missing_counts(counts, dates, all_dates)"
   ]
  },
  {
   "cell_type": "code",
   "execution_count": null,
   "metadata": {},
   "outputs": [],
   "source": []
  },
  {
   "cell_type": "code",
   "execution_count": null,
   "metadata": {},
   "outputs": [],
   "source": []
  },
  {
   "cell_type": "code",
   "execution_count": 5,
   "metadata": {},
   "outputs": [],
   "source": [
    "np.random.uniform(-1,0,1000)\n",
    "def randomized_response(x, p=0.1):\n",
    "    if np.random.uniform(0,1) < p:\n",
    "        return x\n",
    "    else:\n",
    "        return np.random.randint(2)"
   ]
  },
  {
   "cell_type": "code",
   "execution_count": 6,
   "metadata": {},
   "outputs": [
    {
     "data": {
      "text/plain": [
       "0"
      ]
     },
     "execution_count": 6,
     "metadata": {},
     "output_type": "execute_result"
    }
   ],
   "source": [
    "randomized_response(1)"
   ]
  },
  {
   "cell_type": "code",
   "execution_count": 7,
   "metadata": {},
   "outputs": [],
   "source": [
    "a = np.array([[0,1,2,3,4],[5,6,7,8,9],[0,1,2,3,4],[5,6,7,8,9],[0,1,2,3,4],[5,6,7,8,9]])"
   ]
  },
  {
   "cell_type": "code",
   "execution_count": 8,
   "metadata": {},
   "outputs": [
    {
     "data": {
      "text/plain": [
       "array([0, 5, 0, 5, 0, 5])"
      ]
     },
     "execution_count": 8,
     "metadata": {},
     "output_type": "execute_result"
    }
   ],
   "source": [
    "a[:,0]"
   ]
  },
  {
   "cell_type": "code",
   "execution_count": 9,
   "metadata": {},
   "outputs": [
    {
     "name": "stdout",
     "output_type": "stream",
     "text": [
      "0.35434369377420455\n"
     ]
    }
   ],
   "source": [
    "epsilon = 0.6\n",
    "print(1/(1+np.exp(epsilon)))"
   ]
  },
  {
   "cell_type": "code",
   "execution_count": 10,
   "metadata": {},
   "outputs": [],
   "source": [
    "class OUE:\n",
    "    def __init__(self, epsilon):\n",
    "        # We need the stream to be a power of 2\n",
    "        self.epsilon = epsilon\n",
    "        \n",
    "    \n",
    "    def process(self, e_i):\n",
    "        o_i = e_i.copy()\n",
    "        for idx, j in enumerate(e_i):\n",
    "            if i == 1:\n",
    "                o_i[idx] = np.random.randint(2)\n",
    "            else:\n",
    "                if np.random.uniform(0,1) < 1/(1+np.exp(epsilon)):\n",
    "                    o_i[idx] = 1\n",
    "                else:\n",
    "                    o_i[idx] = 0\n",
    "                    \n",
    "    def aggreation(self, day, lst):\n",
    "        return ( ( lst[:,day] +len(lst)/(1+np.exp(epsilon))) * (1/2 -1/(1+np.exp(epsilon))))\n",
    "        \n",
    "                "
   ]
  },
  {
   "cell_type": "code",
   "execution_count": 11,
   "metadata": {},
   "outputs": [
    {
     "name": "stdout",
     "output_type": "stream",
     "text": [
      "-2005 days, 0:00:00\n"
     ]
    }
   ],
   "source": [
    "len(all_dates)\n",
    "print(all_dates[0]-all_dates[-1])"
   ]
  },
  {
   "cell_type": "code",
   "execution_count": null,
   "metadata": {},
   "outputs": [],
   "source": []
  },
  {
   "cell_type": "code",
   "execution_count": 12,
   "metadata": {},
   "outputs": [],
   "source": [
    "oue_count_lock = threading.Lock()\n",
    "oue_count_lock.acquire()\n",
    "oue_count_lock.release()"
   ]
  },
  {
   "cell_type": "code",
   "execution_count": 13,
   "metadata": {},
   "outputs": [],
   "source": [
    "#len(oue_count)"
   ]
  },
  {
   "cell_type": "code",
   "execution_count": 14,
   "metadata": {},
   "outputs": [],
   "source": [
    "def OUE_func_2(e_i, epsilon):\n",
    "    #print('Call')\n",
    "    #print(e_i)\n",
    "    if e_i == 1:\n",
    "        #print('if')\n",
    "        return np.random.randint(2)\n",
    "    else:\n",
    "        #print('else')\n",
    "        if np.random.uniform(0,1) < 1/(1+np.exp(epsilon)):\n",
    "            return 1\n",
    "        else:\n",
    "            return 0"
   ]
  },
  {
   "cell_type": "code",
   "execution_count": 15,
   "metadata": {},
   "outputs": [],
   "source": [
    "def OUE_answear(data, i, epsilon):\n",
    "    return (data[i]/len(data) + len(data)/(1+np.exp(epsilon))) / (1/2 -1/(1+np.exp(epsilon)))"
   ]
  },
  {
   "cell_type": "code",
   "execution_count": 16,
   "metadata": {},
   "outputs": [],
   "source": [
    "D = len(all_dates) \n",
    "oue_count = np.zeros(D)"
   ]
  },
  {
   "cell_type": "code",
   "execution_count": 17,
   "metadata": {},
   "outputs": [
    {
     "ename": "KeyboardInterrupt",
     "evalue": "",
     "output_type": "error",
     "traceback": [
      "\u001b[0;31m---------------------------------------------------------------------------\u001b[0m",
      "\u001b[0;31mKeyboardInterrupt\u001b[0m                         Traceback (most recent call last)",
      "\u001b[0;32m<ipython-input-17-b373dfa2ec1e>\u001b[0m in \u001b[0;36m<module>\u001b[0;34m\u001b[0m\n\u001b[1;32m      8\u001b[0m         \u001b[0msparse\u001b[0m \u001b[0;34m=\u001b[0m \u001b[0mnp\u001b[0m\u001b[0;34m.\u001b[0m\u001b[0mzeros\u001b[0m\u001b[0;34m(\u001b[0m\u001b[0mD\u001b[0m\u001b[0;34m)\u001b[0m\u001b[0;34m\u001b[0m\u001b[0;34m\u001b[0m\u001b[0m\n\u001b[1;32m      9\u001b[0m         \u001b[0msparse\u001b[0m\u001b[0;34m[\u001b[0m\u001b[0midx\u001b[0m\u001b[0;34m]\u001b[0m \u001b[0;34m=\u001b[0m \u001b[0;36m1\u001b[0m\u001b[0;34m\u001b[0m\u001b[0;34m\u001b[0m\u001b[0m\n\u001b[0;32m---> 10\u001b[0;31m         \u001b[0mdense\u001b[0m \u001b[0;34m=\u001b[0m \u001b[0mvfunc\u001b[0m\u001b[0;34m(\u001b[0m\u001b[0msparse\u001b[0m\u001b[0;34m,\u001b[0m\u001b[0mepsilon\u001b[0m\u001b[0;34m)\u001b[0m\u001b[0;34m\u001b[0m\u001b[0;34m\u001b[0m\u001b[0m\n\u001b[0m\u001b[1;32m     11\u001b[0m         \u001b[0moue_count\u001b[0m \u001b[0;34m=\u001b[0m \u001b[0moue_count\u001b[0m \u001b[0;34m+\u001b[0m \u001b[0mdense\u001b[0m\u001b[0;34m\u001b[0m\u001b[0;34m\u001b[0m\u001b[0m\n",
      "\u001b[0;32m~/.local/lib/python3.8/site-packages/numpy/lib/function_base.py\u001b[0m in \u001b[0;36m__call__\u001b[0;34m(self, *args, **kwargs)\u001b[0m\n\u001b[1;32m   2106\u001b[0m             \u001b[0mvargs\u001b[0m\u001b[0;34m.\u001b[0m\u001b[0mextend\u001b[0m\u001b[0;34m(\u001b[0m\u001b[0;34m[\u001b[0m\u001b[0mkwargs\u001b[0m\u001b[0;34m[\u001b[0m\u001b[0m_n\u001b[0m\u001b[0;34m]\u001b[0m \u001b[0;32mfor\u001b[0m \u001b[0m_n\u001b[0m \u001b[0;32min\u001b[0m \u001b[0mnames\u001b[0m\u001b[0;34m]\u001b[0m\u001b[0;34m)\u001b[0m\u001b[0;34m\u001b[0m\u001b[0;34m\u001b[0m\u001b[0m\n\u001b[1;32m   2107\u001b[0m \u001b[0;34m\u001b[0m\u001b[0m\n\u001b[0;32m-> 2108\u001b[0;31m         \u001b[0;32mreturn\u001b[0m \u001b[0mself\u001b[0m\u001b[0;34m.\u001b[0m\u001b[0m_vectorize_call\u001b[0m\u001b[0;34m(\u001b[0m\u001b[0mfunc\u001b[0m\u001b[0;34m=\u001b[0m\u001b[0mfunc\u001b[0m\u001b[0;34m,\u001b[0m \u001b[0margs\u001b[0m\u001b[0;34m=\u001b[0m\u001b[0mvargs\u001b[0m\u001b[0;34m)\u001b[0m\u001b[0;34m\u001b[0m\u001b[0;34m\u001b[0m\u001b[0m\n\u001b[0m\u001b[1;32m   2109\u001b[0m \u001b[0;34m\u001b[0m\u001b[0m\n\u001b[1;32m   2110\u001b[0m     \u001b[0;32mdef\u001b[0m \u001b[0m_get_ufunc_and_otypes\u001b[0m\u001b[0;34m(\u001b[0m\u001b[0mself\u001b[0m\u001b[0;34m,\u001b[0m \u001b[0mfunc\u001b[0m\u001b[0;34m,\u001b[0m \u001b[0margs\u001b[0m\u001b[0;34m)\u001b[0m\u001b[0;34m:\u001b[0m\u001b[0;34m\u001b[0m\u001b[0;34m\u001b[0m\u001b[0m\n",
      "\u001b[0;32m~/.local/lib/python3.8/site-packages/numpy/lib/function_base.py\u001b[0m in \u001b[0;36m_vectorize_call\u001b[0;34m(self, func, args)\u001b[0m\n\u001b[1;32m   2190\u001b[0m                       for a in args]\n\u001b[1;32m   2191\u001b[0m \u001b[0;34m\u001b[0m\u001b[0m\n\u001b[0;32m-> 2192\u001b[0;31m             \u001b[0moutputs\u001b[0m \u001b[0;34m=\u001b[0m \u001b[0mufunc\u001b[0m\u001b[0;34m(\u001b[0m\u001b[0;34m*\u001b[0m\u001b[0minputs\u001b[0m\u001b[0;34m)\u001b[0m\u001b[0;34m\u001b[0m\u001b[0;34m\u001b[0m\u001b[0m\n\u001b[0m\u001b[1;32m   2193\u001b[0m \u001b[0;34m\u001b[0m\u001b[0m\n\u001b[1;32m   2194\u001b[0m             \u001b[0;32mif\u001b[0m \u001b[0mufunc\u001b[0m\u001b[0;34m.\u001b[0m\u001b[0mnout\u001b[0m \u001b[0;34m==\u001b[0m \u001b[0;36m1\u001b[0m\u001b[0;34m:\u001b[0m\u001b[0;34m\u001b[0m\u001b[0;34m\u001b[0m\u001b[0m\n",
      "\u001b[0;32m<ipython-input-14-2022ad43e898>\u001b[0m in \u001b[0;36mOUE_func_2\u001b[0;34m(e_i, epsilon)\u001b[0m\n\u001b[1;32m      7\u001b[0m     \u001b[0;32melse\u001b[0m\u001b[0;34m:\u001b[0m\u001b[0;34m\u001b[0m\u001b[0;34m\u001b[0m\u001b[0m\n\u001b[1;32m      8\u001b[0m         \u001b[0;31m#print('else')\u001b[0m\u001b[0;34m\u001b[0m\u001b[0;34m\u001b[0m\u001b[0;34m\u001b[0m\u001b[0m\n\u001b[0;32m----> 9\u001b[0;31m         \u001b[0;32mif\u001b[0m \u001b[0mnp\u001b[0m\u001b[0;34m.\u001b[0m\u001b[0mrandom\u001b[0m\u001b[0;34m.\u001b[0m\u001b[0muniform\u001b[0m\u001b[0;34m(\u001b[0m\u001b[0;36m0\u001b[0m\u001b[0;34m,\u001b[0m\u001b[0;36m1\u001b[0m\u001b[0;34m)\u001b[0m \u001b[0;34m<\u001b[0m \u001b[0;36m1\u001b[0m\u001b[0;34m/\u001b[0m\u001b[0;34m(\u001b[0m\u001b[0;36m1\u001b[0m\u001b[0;34m+\u001b[0m\u001b[0mnp\u001b[0m\u001b[0;34m.\u001b[0m\u001b[0mexp\u001b[0m\u001b[0;34m(\u001b[0m\u001b[0mepsilon\u001b[0m\u001b[0;34m)\u001b[0m\u001b[0;34m)\u001b[0m\u001b[0;34m:\u001b[0m\u001b[0;34m\u001b[0m\u001b[0;34m\u001b[0m\u001b[0m\n\u001b[0m\u001b[1;32m     10\u001b[0m             \u001b[0;32mreturn\u001b[0m \u001b[0;36m1\u001b[0m\u001b[0;34m\u001b[0m\u001b[0;34m\u001b[0m\u001b[0m\n\u001b[1;32m     11\u001b[0m         \u001b[0;32melse\u001b[0m\u001b[0;34m:\u001b[0m\u001b[0;34m\u001b[0m\u001b[0;34m\u001b[0m\u001b[0m\n",
      "\u001b[0;31mKeyboardInterrupt\u001b[0m: "
     ]
    }
   ],
   "source": [
    "\n",
    "vfunc = np.vectorize(OUE_func_2, otypes = [int])\n",
    "epsilon = 1\n",
    "vfunc([0,1,1,1,1], epsilon)\n",
    "for idx, count in enumerate(all_counts):\n",
    "    #print(idx)\n",
    "    #print(count)\n",
    "    for i in range(0,int(count)):\n",
    "        sparse = np.zeros(D)\n",
    "        sparse[idx] = 1\n",
    "        dense = vfunc(sparse,epsilon)\n",
    "        oue_count = oue_count + dense"
   ]
  },
  {
   "cell_type": "code",
   "execution_count": null,
   "metadata": {},
   "outputs": [],
   "source": [
    "print(idx)\n",
    "print(count)\n",
    "print(i)"
   ]
  },
  {
   "cell_type": "code",
   "execution_count": null,
   "metadata": {},
   "outputs": [],
   "source": [
    "print(oue_count)"
   ]
  },
  {
   "cell_type": "code",
   "execution_count": null,
   "metadata": {},
   "outputs": [],
   "source": [
    "#np.savetxt('oue_count.csv', oue_count, delimiter=',')"
   ]
  },
  {
   "cell_type": "code",
   "execution_count": null,
   "metadata": {},
   "outputs": [],
   "source": [
    "print(( oue_count[0] +len(oue_count)/(1+np.exp(epsilon))) * (1/2 -1/(1+np.exp(epsilon))))"
   ]
  },
  {
   "cell_type": "code",
   "execution_count": null,
   "metadata": {},
   "outputs": [],
   "source": [
    "vfunc = np.vectorize(OUE_func_2, otypes = [int])\n",
    "vfunc([0,1,1,1,1], 0.2)"
   ]
  },
  {
   "cell_type": "code",
   "execution_count": null,
   "metadata": {},
   "outputs": [],
   "source": []
  },
  {
   "cell_type": "code",
   "execution_count": 18,
   "metadata": {},
   "outputs": [
    {
     "data": {
      "text/plain": [
       "3.718281828459045"
      ]
     },
     "execution_count": 18,
     "metadata": {},
     "output_type": "execute_result"
    }
   ],
   "source": [
    "epsilon = 1\n",
    "np.exp(epsilon)+1"
   ]
  },
  {
   "cell_type": "code",
   "execution_count": 19,
   "metadata": {},
   "outputs": [],
   "source": [
    "def OUE_func(e_i, epsilon):\n",
    "    o_i = e_i.copy()\n",
    "    for idx, j in enumerate(e_i):\n",
    "        if j == 1:\n",
    "            o_i[idx] = np.random.randint(2)\n",
    "        else:\n",
    "            if np.random.uniform(0,1) < 1/(1+np.exp(epsilon)):\n",
    "                o_i[idx] = 1\n",
    "            else:\n",
    "                o_i[idx] = 0\n",
    "    return o_i"
   ]
  },
  {
   "cell_type": "code",
   "execution_count": 20,
   "metadata": {},
   "outputs": [],
   "source": [
    "class flat_OUE:\n",
    "    def __init__(self, epsilon, dates, counts):\n",
    "        \n",
    "        self.dates = dates\n",
    "        self.real_counts = counts\n",
    "        self.epsilon = epsilon\n",
    "        self.counts = self.process(dates, counts)\n",
    "        self.D = len(dates)\n",
    "        \n",
    "        values = np.arange(0,len(self.dates))\n",
    "        zip_iterator = zip(self.dates, values)\n",
    "        self.idx_dict =  dict(zip_iterator)\n",
    "    \n",
    "    def process(self, dates, counts):        \n",
    "        vfunc = np.vectorize(OUE_func_2, otypes = [int])\n",
    "        for idx, count in enumerate(all_counts):\n",
    "            for i in range(0,int(count)):\n",
    "                sparse = np.zeros(D)\n",
    "                sparse[idx] = 1\n",
    "                dense = vfunc(sparse,self.epsilon)\n",
    "                oue_count = oue_count + dense\n",
    "        return oue_count\n",
    "    \n",
    "    def answer(self, dates):\n",
    "        \n",
    "        if (len(dates) < 2):\n",
    "                date_obj_0 = datetime.strptime(dates[0],'%Y-%m-%d').date()\n",
    "                #print(date_obj_0)\n",
    "                #print(type(date_obj_0))\n",
    "                idx = self.idx_dict[date_obj_0]\n",
    "                return self.noise_counts[idx]\n",
    "            \n",
    "        else:\n",
    "            date_obj_0 = datetime.strptime(dates[0],'%Y-%m-%d').date()\n",
    "            date_obj_1 = datetime.strptime(dates[1],'%Y-%m-%d').date()\n",
    "            idx_0 = self.idx_dict[date_obj_0]\n",
    "            idx_1 = self.idx_dict[date_obj_1]\n",
    "\n",
    "                #idx_0 is not 0\n",
    "            if idx_0:\n",
    "                return self.noise_counts[idx_1] - self.noise_counts[idx_0-1]            \n",
    "            else:\n",
    "                return self.noise_counts[idx_1]"
   ]
  },
  {
   "cell_type": "code",
   "execution_count": null,
   "metadata": {},
   "outputs": [],
   "source": []
  },
  {
   "cell_type": "code",
   "execution_count": 21,
   "metadata": {},
   "outputs": [],
   "source": [
    "def OLH_func(x, epsilon, g):\n",
    "    if np.random.uniform(0,1) < np.exp(epsilon)/(np.exp(epsilon)+g-1):\n",
    "        #print('if')\n",
    "        return x\n",
    "    else:\n",
    "        return np.random.randint(low = 0, high = g)\n",
    "    \n",
    "def OLH_answer(data, j, epsilon, N, g):\n",
    "    p = np.exp(epsilon)/(np.exp(epsilon)+g-1)\n",
    "    #print(p - 1/g)\n",
    "    return (data[j]- N/g) / (p)"
   ]
  },
  {
   "cell_type": "code",
   "execution_count": 22,
   "metadata": {},
   "outputs": [
    {
     "name": "stdout",
     "output_type": "stream",
     "text": [
      "0.0010028580256262031\n"
     ]
    }
   ],
   "source": [
    "epsilon = 0.7\n",
    "g = 2005\n",
    "print(np.exp(epsilon)/(np.exp(epsilon)+g+1))"
   ]
  },
  {
   "cell_type": "code",
   "execution_count": 23,
   "metadata": {},
   "outputs": [],
   "source": [
    "D = len(all_dates) \n",
    "OLH_count = np.zeros(D)"
   ]
  },
  {
   "cell_type": "code",
   "execution_count": 24,
   "metadata": {},
   "outputs": [],
   "source": [
    "epsilon = 1\n",
    "for idx, count in enumerate(all_counts):\n",
    "    for i in range(0,int(count)):\n",
    "        response = OLH_func(idx, epsilon, D)\n",
    "        OLH_count[response] = OLH_count[response] + 1"
   ]
  },
  {
   "cell_type": "code",
   "execution_count": 25,
   "metadata": {},
   "outputs": [
    {
     "name": "stdout",
     "output_type": "stream",
     "text": [
      "29277.0\n",
      "37617.333213687096\n",
      "var should be 9.151743117683762e-07\n"
     ]
    }
   ],
   "source": [
    "#print(OLH_count)\n",
    "#print(np.sum(OLH_count))\n",
    "print(all_counts[1174])\n",
    "print(OLH_answer(OLH_count, 1174, epsilon, np.sum(OLH_count), D))\n",
    "#N = np.sum(all_counts)\n",
    "N = len(all_counts)\n",
    "print(f'var should be {4*np.exp(epsilon) / (N*np.exp(epsilon) - N)**2}')"
   ]
  },
  {
   "cell_type": "code",
   "execution_count": 27,
   "metadata": {},
   "outputs": [],
   "source": [
    "#np.sum(all_counts)"
   ]
  },
  {
   "cell_type": "code",
   "execution_count": null,
   "metadata": {},
   "outputs": [],
   "source": []
  },
  {
   "cell_type": "code",
   "execution_count": 28,
   "metadata": {},
   "outputs": [],
   "source": [
    "#all_dates[0:100]"
   ]
  },
  {
   "cell_type": "code",
   "execution_count": 29,
   "metadata": {},
   "outputs": [],
   "source": [
    "#print(all_counts[0:100])"
   ]
  },
  {
   "cell_type": "code",
   "execution_count": 30,
   "metadata": {},
   "outputs": [],
   "source": [
    "def get_index(date_idx, n_layers):\n",
    "    \"\"\"Calculates the path of index in full binary string\n",
    "\n",
    "    Parameters:\n",
    "    date_idx (int): The node in the bouttom layer we want to calculate a path to. \n",
    "    The bottom layer has index from 0 to 2**h-1\n",
    "    n_layers (int): The height of the full binary tree. starts from 0 \n",
    "\n",
    "    Returns:\n",
    "    list: of index in the path from the starting from the bottom and going up\n",
    "\n",
    "    \"\"\"\n",
    "    idx = []\n",
    "    for i in np.arange(0,n_layers):\n",
    "        if i == 0:\n",
    "            idx.append(int(date_idx))\n",
    "        else:\n",
    "            idx.append(int(idx[i-1]//2))\n",
    "    idx.append(0)\n",
    "    return idx\n",
    "\n",
    "def left_or_right(current, nxt):\n",
    "    #0 is left 1 is right\n",
    "    #print(f'current = {current}, nxt = {nxt}')\n",
    "    if nxt == 0:\n",
    "        #print('nxt == 0')\n",
    "        return 0\n",
    "    if current == 0 and current < nxt:\n",
    "        #print('current == 0 and current < nxt')\n",
    "        return 1\n",
    "    elif 2* current < nxt:\n",
    "        #print('2* current < nxt')\n",
    "        return 1\n",
    "    else:\n",
    "        #print('else')\n",
    "        return 0"
   ]
  },
  {
   "cell_type": "code",
   "execution_count": 31,
   "metadata": {},
   "outputs": [],
   "source": [
    "my_data = np.genfromtxt('oue_count.csv', delimiter=',')"
   ]
  },
  {
   "cell_type": "code",
   "execution_count": 32,
   "metadata": {},
   "outputs": [
    {
     "data": {
      "text/plain": [
       "array([112676., 113258., 113340., ..., 112793., 113254., 112382.])"
      ]
     },
     "execution_count": 32,
     "metadata": {},
     "output_type": "execute_result"
    }
   ],
   "source": [
    "my_data"
   ]
  },
  {
   "cell_type": "code",
   "execution_count": 33,
   "metadata": {},
   "outputs": [
    {
     "name": "stdout",
     "output_type": "stream",
     "text": [
      "2577.9868738285472\n",
      "2577.9868738285472\n"
     ]
    }
   ],
   "source": [
    "epsilon = 1\n",
    "print( (my_data[0]/len(my_data) + len(my_data)/(1+np.exp(epsilon))) / (1/2 -1/(1+np.exp(epsilon))) )\n",
    "print(OUE_answear(my_data, 0, epsilon))"
   ]
  },
  {
   "cell_type": "code",
   "execution_count": 35,
   "metadata": {},
   "outputs": [
    {
     "name": "stdout",
     "output_type": "stream",
     "text": [
      "2006\n",
      "2006\n"
     ]
    }
   ],
   "source": [
    "print(len(my_data))\n",
    "print(len(all_dates))"
   ]
  },
  {
   "cell_type": "code",
   "execution_count": 36,
   "metadata": {},
   "outputs": [
    {
     "name": "stdout",
     "output_type": "stream",
     "text": [
      "11\n",
      "\n"
     ]
    }
   ],
   "source": [
    "T = len(dates)\n",
    "T = 2**np.ceil(np.log2(T))\n",
    "n_layers = int(np.log2(T))\n",
    "print(n_layers)\n",
    "print()"
   ]
  },
  {
   "cell_type": "code",
   "execution_count": 37,
   "metadata": {},
   "outputs": [
    {
     "data": {
      "text/plain": [
       "array([0.08333333, 0.08333333, 0.08333333, 0.08333333, 0.08333333,\n",
       "       0.08333333, 0.08333333, 0.08333333, 0.08333333, 0.08333333,\n",
       "       0.08333333, 0.08333333])"
      ]
     },
     "execution_count": 37,
     "metadata": {},
     "output_type": "execute_result"
    }
   ],
   "source": [
    "np.full(n_layers+1,1/(n_layers+1))"
   ]
  },
  {
   "cell_type": "code",
   "execution_count": 38,
   "metadata": {},
   "outputs": [
    {
     "name": "stdout",
     "output_type": "stream",
     "text": [
      "1\n"
     ]
    }
   ],
   "source": [
    "#np.random.choice(np.arange(1, 7), p=[0.1, 0.05, 0.05, 0.2, 0.4, 0.2])\n",
    "prob = np.full(n_layers+1,1/(n_layers+1))\n",
    "level = np.random.choice(np.arange(0, n_layers+1), p = prob ) \n",
    "print(level)"
   ]
  },
  {
   "cell_type": "code",
   "execution_count": 39,
   "metadata": {},
   "outputs": [],
   "source": [
    "levels = np.arange(0, n_layers+1)"
   ]
  },
  {
   "cell_type": "code",
   "execution_count": 40,
   "metadata": {},
   "outputs": [
    {
     "data": {
      "text/plain": [
       "'\\nfor level in levels:\\n    print(level)\\n    print(2**level)\\n    print(np.zeros(2**level))\\n'"
      ]
     },
     "execution_count": 40,
     "metadata": {},
     "output_type": "execute_result"
    }
   ],
   "source": [
    "\"\"\"\n",
    "for level in levels:\n",
    "    print(level)\n",
    "    print(2**level)\n",
    "    print(np.zeros(2**level))\n",
    "\"\"\""
   ]
  },
  {
   "cell_type": "code",
   "execution_count": null,
   "metadata": {},
   "outputs": [],
   "source": []
  },
  {
   "cell_type": "code",
   "execution_count": 41,
   "metadata": {},
   "outputs": [],
   "source": [
    "tree_levels = []\n",
    "h = int(np.ceil(np.log2(len(dates))))\n",
    "for i in np.arange(0,h+1):\n",
    "    level = np.zeros(int(2**np.ceil(i)))\n",
    "    tree_levels.append(level) "
   ]
  },
  {
   "cell_type": "code",
   "execution_count": 42,
   "metadata": {},
   "outputs": [
    {
     "name": "stdout",
     "output_type": "stream",
     "text": [
      "[array([0.]), array([0., 0.]), array([0., 0., 0., 0.]), array([0., 0., 0., 0., 0., 0., 0., 0.]), array([0., 0., 0., 0., 0., 0., 0., 0., 0., 0., 0., 0., 0., 0., 0., 0.]), array([0., 0., 0., 0., 0., 0., 0., 0., 0., 0., 0., 0., 0., 0., 0., 0., 0.,\n",
      "       0., 0., 0., 0., 0., 0., 0., 0., 0., 0., 0., 0., 0., 0., 0.]), array([0., 0., 0., 0., 0., 0., 0., 0., 0., 0., 0., 0., 0., 0., 0., 0., 0.,\n",
      "       0., 0., 0., 0., 0., 0., 0., 0., 0., 0., 0., 0., 0., 0., 0., 0., 0.,\n",
      "       0., 0., 0., 0., 0., 0., 0., 0., 0., 0., 0., 0., 0., 0., 0., 0., 0.,\n",
      "       0., 0., 0., 0., 0., 0., 0., 0., 0., 0., 0., 0., 0.]), array([0., 0., 0., 0., 0., 0., 0., 0., 0., 0., 0., 0., 0., 0., 0., 0., 0.,\n",
      "       0., 0., 0., 0., 0., 0., 0., 0., 0., 0., 0., 0., 0., 0., 0., 0., 0.,\n",
      "       0., 0., 0., 0., 0., 0., 0., 0., 0., 0., 0., 0., 0., 0., 0., 0., 0.,\n",
      "       0., 0., 0., 0., 0., 0., 0., 0., 0., 0., 0., 0., 0., 0., 0., 0., 0.,\n",
      "       0., 0., 0., 0., 0., 0., 0., 0., 0., 0., 0., 0., 0., 0., 0., 0., 0.,\n",
      "       0., 0., 0., 0., 0., 0., 0., 0., 0., 0., 0., 0., 0., 0., 0., 0., 0.,\n",
      "       0., 0., 0., 0., 0., 0., 0., 0., 0., 0., 0., 0., 0., 0., 0., 0., 0.,\n",
      "       0., 0., 0., 0., 0., 0., 0., 0., 0.]), array([0., 0., 0., 0., 0., 0., 0., 0., 0., 0., 0., 0., 0., 0., 0., 0., 0.,\n",
      "       0., 0., 0., 0., 0., 0., 0., 0., 0., 0., 0., 0., 0., 0., 0., 0., 0.,\n",
      "       0., 0., 0., 0., 0., 0., 0., 0., 0., 0., 0., 0., 0., 0., 0., 0., 0.,\n",
      "       0., 0., 0., 0., 0., 0., 0., 0., 0., 0., 0., 0., 0., 0., 0., 0., 0.,\n",
      "       0., 0., 0., 0., 0., 0., 0., 0., 0., 0., 0., 0., 0., 0., 0., 0., 0.,\n",
      "       0., 0., 0., 0., 0., 0., 0., 0., 0., 0., 0., 0., 0., 0., 0., 0., 0.,\n",
      "       0., 0., 0., 0., 0., 0., 0., 0., 0., 0., 0., 0., 0., 0., 0., 0., 0.,\n",
      "       0., 0., 0., 0., 0., 0., 0., 0., 0., 0., 0., 0., 0., 0., 0., 0., 0.,\n",
      "       0., 0., 0., 0., 0., 0., 0., 0., 0., 0., 0., 0., 0., 0., 0., 0., 0.,\n",
      "       0., 0., 0., 0., 0., 0., 0., 0., 0., 0., 0., 0., 0., 0., 0., 0., 0.,\n",
      "       0., 0., 0., 0., 0., 0., 0., 0., 0., 0., 0., 0., 0., 0., 0., 0., 0.,\n",
      "       0., 0., 0., 0., 0., 0., 0., 0., 0., 0., 0., 0., 0., 0., 0., 0., 0.,\n",
      "       0., 0., 0., 0., 0., 0., 0., 0., 0., 0., 0., 0., 0., 0., 0., 0., 0.,\n",
      "       0., 0., 0., 0., 0., 0., 0., 0., 0., 0., 0., 0., 0., 0., 0., 0., 0.,\n",
      "       0., 0., 0., 0., 0., 0., 0., 0., 0., 0., 0., 0., 0., 0., 0., 0., 0.,\n",
      "       0.]), array([0., 0., 0., 0., 0., 0., 0., 0., 0., 0., 0., 0., 0., 0., 0., 0., 0.,\n",
      "       0., 0., 0., 0., 0., 0., 0., 0., 0., 0., 0., 0., 0., 0., 0., 0., 0.,\n",
      "       0., 0., 0., 0., 0., 0., 0., 0., 0., 0., 0., 0., 0., 0., 0., 0., 0.,\n",
      "       0., 0., 0., 0., 0., 0., 0., 0., 0., 0., 0., 0., 0., 0., 0., 0., 0.,\n",
      "       0., 0., 0., 0., 0., 0., 0., 0., 0., 0., 0., 0., 0., 0., 0., 0., 0.,\n",
      "       0., 0., 0., 0., 0., 0., 0., 0., 0., 0., 0., 0., 0., 0., 0., 0., 0.,\n",
      "       0., 0., 0., 0., 0., 0., 0., 0., 0., 0., 0., 0., 0., 0., 0., 0., 0.,\n",
      "       0., 0., 0., 0., 0., 0., 0., 0., 0., 0., 0., 0., 0., 0., 0., 0., 0.,\n",
      "       0., 0., 0., 0., 0., 0., 0., 0., 0., 0., 0., 0., 0., 0., 0., 0., 0.,\n",
      "       0., 0., 0., 0., 0., 0., 0., 0., 0., 0., 0., 0., 0., 0., 0., 0., 0.,\n",
      "       0., 0., 0., 0., 0., 0., 0., 0., 0., 0., 0., 0., 0., 0., 0., 0., 0.,\n",
      "       0., 0., 0., 0., 0., 0., 0., 0., 0., 0., 0., 0., 0., 0., 0., 0., 0.,\n",
      "       0., 0., 0., 0., 0., 0., 0., 0., 0., 0., 0., 0., 0., 0., 0., 0., 0.,\n",
      "       0., 0., 0., 0., 0., 0., 0., 0., 0., 0., 0., 0., 0., 0., 0., 0., 0.,\n",
      "       0., 0., 0., 0., 0., 0., 0., 0., 0., 0., 0., 0., 0., 0., 0., 0., 0.,\n",
      "       0., 0., 0., 0., 0., 0., 0., 0., 0., 0., 0., 0., 0., 0., 0., 0., 0.,\n",
      "       0., 0., 0., 0., 0., 0., 0., 0., 0., 0., 0., 0., 0., 0., 0., 0., 0.,\n",
      "       0., 0., 0., 0., 0., 0., 0., 0., 0., 0., 0., 0., 0., 0., 0., 0., 0.,\n",
      "       0., 0., 0., 0., 0., 0., 0., 0., 0., 0., 0., 0., 0., 0., 0., 0., 0.,\n",
      "       0., 0., 0., 0., 0., 0., 0., 0., 0., 0., 0., 0., 0., 0., 0., 0., 0.,\n",
      "       0., 0., 0., 0., 0., 0., 0., 0., 0., 0., 0., 0., 0., 0., 0., 0., 0.,\n",
      "       0., 0., 0., 0., 0., 0., 0., 0., 0., 0., 0., 0., 0., 0., 0., 0., 0.,\n",
      "       0., 0., 0., 0., 0., 0., 0., 0., 0., 0., 0., 0., 0., 0., 0., 0., 0.,\n",
      "       0., 0., 0., 0., 0., 0., 0., 0., 0., 0., 0., 0., 0., 0., 0., 0., 0.,\n",
      "       0., 0., 0., 0., 0., 0., 0., 0., 0., 0., 0., 0., 0., 0., 0., 0., 0.,\n",
      "       0., 0., 0., 0., 0., 0., 0., 0., 0., 0., 0., 0., 0., 0., 0., 0., 0.,\n",
      "       0., 0., 0., 0., 0., 0., 0., 0., 0., 0., 0., 0., 0., 0., 0., 0., 0.,\n",
      "       0., 0., 0., 0., 0., 0., 0., 0., 0., 0., 0., 0., 0., 0., 0., 0., 0.,\n",
      "       0., 0., 0., 0., 0., 0., 0., 0., 0., 0., 0., 0., 0., 0., 0., 0., 0.,\n",
      "       0., 0., 0., 0., 0., 0., 0., 0., 0., 0., 0., 0., 0., 0., 0., 0., 0.,\n",
      "       0., 0.]), array([0., 0., 0., ..., 0., 0., 0.]), array([0., 0., 0., ..., 0., 0., 0.])]\n"
     ]
    }
   ],
   "source": [
    "print(tree_levels)"
   ]
  },
  {
   "cell_type": "code",
   "execution_count": 43,
   "metadata": {},
   "outputs": [],
   "source": [
    "def HH_OUE(dates, counts, OUE, epsilon):\n",
    "    h = int(np.ceil(np.log2(len(dates))))\n",
    "    prob = np.full(h+1,1/(h+1))\n",
    "    print(f'h = {h}')\n",
    "    \n",
    "    tree_levels = []\n",
    "    for i in np.arange(0,h+1):\n",
    "        level = np.zeros(int(2**np.ceil(i)))\n",
    "        tree_levels.append(level) \n",
    "    \n",
    "    #OUE response\n",
    "    vfunc = np.vectorize(OUE, otypes = [int])\n",
    "    \n",
    "    \n",
    "    for index, (date, day_count) in enumerate(zip(dates, counts)):\n",
    "        #print(f'index = {index}, date = {date}, count = {day_count}')\n",
    "        idxs = get_index(index,h)\n",
    "        idxs.reverse()\n",
    "        \n",
    "        for person in range(int(day_count)):\n",
    "            #print(person)\n",
    "            level = np.random.choice(np.arange(0, h+1), p = prob ) \n",
    "            #print(f'we got level = {level}')\n",
    "            tree_level = np.zeros(2**level,dtype=int)\n",
    "            #print(idxs[level])\n",
    "            #tree_level[index] = 1\n",
    "            #get_index\n",
    "            tree_level[idxs[level]] = 1\n",
    "            perb_tree_level = vfunc(tree_level,epsilon)\n",
    "            tree_levels[level] = tree_levels[level] + perb_tree_level\n",
    "        #print(f'index = {index}, date = {type(date)}, count = {count}')\n",
    "        #print(index, value1 + value2)  # for Python 2 use: `print index, value1 + value2` (no braces)\n",
    "    return tree_levels"
   ]
  },
  {
   "cell_type": "code",
   "execution_count": 44,
   "metadata": {},
   "outputs": [
    {
     "name": "stdout",
     "output_type": "stream",
     "text": [
      "h = 8\n"
     ]
    }
   ],
   "source": [
    "epsilon = 1.\n",
    "hhs = HH_OUE(all_dates[:256],all_counts[:256],OUE_func_2,epsilon)"
   ]
  },
  {
   "cell_type": "code",
   "execution_count": 66,
   "metadata": {},
   "outputs": [],
   "source": [
    "def HH_OLH(dates, counts, OLH, epsilon):\n",
    "    h = int(np.ceil(np.log2(len(dates))))\n",
    "    prob = np.full(h+1,1/(h+1))\n",
    "    #print(f'h = {h}')\n",
    "    \n",
    "    tree_levels = []\n",
    "    for i in np.arange(0,h+1):\n",
    "        level = np.zeros(int(2**np.ceil(i)))\n",
    "        tree_levels.append(level) \n",
    "    \n",
    "    for index, (date, day_count) in enumerate(zip(dates, counts)):\n",
    "        #print(f'index = {index}, date = {date}, count = {count}')\n",
    "        idxs = get_index(index,h)\n",
    "        idxs.reverse()\n",
    "        \n",
    "        for person in range(int(day_count)):\n",
    "            #print(person)\n",
    "            level = np.random.choice(np.arange(0, h+1), p = prob ) \n",
    "            #print(f'we got level = {level}')\n",
    "            tree_level = np.zeros(2**level,dtype=int)\n",
    "            #print(tree_level)\n",
    "            #print(idxs[level])\n",
    "            #tree_level[index] = 1\n",
    "            #get_index\n",
    "            #print(tree_level)\n",
    "            #print(2**level)\n",
    "            if level != 0:\n",
    "                response = OLH_func(idxs[level], epsilon, (2**level))\n",
    "            else:\n",
    "                response = 0\n",
    "            #print(response)\n",
    "            tree_level[response] = 1\n",
    "            tree_levels[level] = tree_levels[level] + tree_level\n",
    "            #print(f'index = {index}, date = {type(date)}, count = {count}')\n",
    "            #print(index, value1 + value2)  # for Python 2 use: `print index, value1 + value2` (no braces)\n",
    "            \n",
    "    return tree_levels"
   ]
  },
  {
   "cell_type": "code",
   "execution_count": 46,
   "metadata": {},
   "outputs": [
    {
     "name": "stdout",
     "output_type": "stream",
     "text": [
      "h = 5\n"
     ]
    }
   ],
   "source": [
    "epsilon = 1.\n",
    "hhs = HH_OLH(all_dates[:32],all_counts[:32],OLH_func,epsilon)"
   ]
  },
  {
   "cell_type": "code",
   "execution_count": 47,
   "metadata": {},
   "outputs": [
    {
     "name": "stdout",
     "output_type": "stream",
     "text": [
      "[array([1059.]), array([501., 468.]), array([241., 235., 255., 267.]), array([117., 159., 110., 130., 124., 116., 159., 112.]), array([75., 61., 76., 77., 57., 68., 61., 61., 46., 66., 48., 49., 65.,\n",
      "       66., 64., 61.]), array([37., 34., 32., 31., 31., 32., 38., 41., 24., 39., 26., 24., 37.,\n",
      "       37., 25., 37., 29., 24., 29., 30., 29., 34., 38., 32., 32., 28.,\n",
      "       39., 37., 35., 28., 34., 24.])]\n"
     ]
    }
   ],
   "source": [
    "print(hhs)"
   ]
  },
  {
   "cell_type": "code",
   "execution_count": 48,
   "metadata": {},
   "outputs": [],
   "source": [
    "def HH_OLH_answer(count, epsilon, N, g):\n",
    "    p = np.exp(epsilon)/(np.exp(epsilon)+g-1)\n",
    "    #print(p - 1/g)\n",
    "    return (count- N/g) / (p)"
   ]
  },
  {
   "cell_type": "code",
   "execution_count": 63,
   "metadata": {},
   "outputs": [],
   "source": [
    "def hh_olh_answer(tree, dates, olh_aggr, all_dates, all_counts, epsilon):\n",
    "    #Only asking for one date.\n",
    "    #print(all_dates)\n",
    "    values = np.arange(0,len(all_dates))\n",
    "    zip_iterator = zip(all_dates, values)\n",
    "    idx_dict =  dict(zip_iterator)\n",
    "    h = int(np.ceil(np.log2(len(all_dates))))\n",
    "    #h = 5 \n",
    "    date_obj_0 = datetime.strptime(dates[0],'%Y-%m-%d').date()\n",
    "    date_obj_1 = datetime.strptime(dates[1],'%Y-%m-%d').date()\n",
    "    \n",
    "    \n",
    "    idx_0 = idx_dict[date_obj_0]\n",
    "    idx_1 = idx_dict[date_obj_1]\n",
    "    \n",
    "    #print(idx_0)\n",
    "    #print(idx_1)\n",
    "    #print(np.log2(idx_1+1).is_integer())\n",
    "    \n",
    "    path0 = get_index(idx_0,h)\n",
    "    #print(path0)\n",
    "    path0.reverse()\n",
    "    #print(path0)\n",
    "    path1 = get_index(idx_1,h)\n",
    "    #print(path1)\n",
    "    path1.reverse()\n",
    "    #print(path1)\n",
    "    if idx_0 == 0 and np.log2(idx_1+1).is_integer():\n",
    "        sum_level = list(map(lambda i: i> 0, path1)).index(True)-1\n",
    "        #print(list(map(lambda i: i> 0, path1)).index(True))\n",
    "        #print(list(map(lambda i: i> 0, path1)).index(True)-1)\n",
    "        #print(f'Node count {tree[sum_level][0]}')\n",
    "        #print(np.sum(all_counts))\n",
    "        #print(len(all_dates))\n",
    "        #print(f'Aggre Node count {olh_aggr(tree[sum_level][0], epsilon, np.sum(all_counts),len(all_dates))}')\n",
    "        return olh_aggr(tree[sum_level][0], epsilon, np.sum(all_counts),len(all_dates))\n",
    "    else:\n",
    "        print(f'left is 0, 1 is right')\n",
    "        sum = 0.0\n",
    "        for i in range(len(path1)-1):\n",
    "            #print(f'path1[i] = {path1[i]}')\n",
    "            #print(f'path1[i+1] = {path[i+1]}')\n",
    "            print(f'i = {i}')\n",
    "            print(left_or_right(path1[i],path1[i+1]))\n",
    "            if left_or_right(path1[i],path1[i+1]) == 1:\n",
    "                #We went right\n",
    "                print(f'path1[i+1] = {path1[i+1]}')\n",
    "                print(tree[i+1])\n",
    "                print(tree[i+1][path1[i+1]-1])\n",
    "                #sum = sum + olh_aggr(tree[sum_level][0], epsilon, np.sum(all_counts),len(all_dates))\n",
    "            #print(tree[i])\n",
    "            #print('')\n",
    "    print(all_counts[idx_0:idx_1])\n",
    "    print(f'Real answer is {np.sum(all_counts[idx_0:idx_1+1])}')\n",
    "    #print(OLH_answer(count, epsilon, np.sum(OLH_count), D))\n",
    "    #D = len(all_dates) "
   ]
  },
  {
   "cell_type": "code",
   "execution_count": 57,
   "metadata": {},
   "outputs": [
    {
     "name": "stdout",
     "output_type": "stream",
     "text": [
      "[1059.]\n",
      "[501. 468.]\n",
      "[241. 235. 255. 267.]\n",
      "[117. 159. 110. 130. 124. 116. 159. 112.]\n",
      "[75. 61. 76. 77. 57. 68. 61. 61. 46. 66. 48. 49. 65. 66. 64. 61.]\n",
      "[37. 34. 32. 31. 31. 32. 38. 41. 24. 39. 26. 24. 37. 37. 25. 37. 29. 24.\n",
      " 29. 30. 29. 34. 38. 32. 32. 28. 39. 37. 35. 28. 34. 24.]\n",
      "0\n",
      "7\n",
      "[0, 0, 0, 0, 0, 0]\n",
      "[0, 0, 0, 1, 3, 7]\n",
      "Node count 241.0\n",
      "Aggre Node count 632.2297632834155\n"
     ]
    },
    {
     "data": {
      "text/plain": [
       "632.2297632834155"
      ]
     },
     "execution_count": 57,
     "metadata": {},
     "output_type": "execute_result"
    }
   ],
   "source": [
    "query_dates = ('2014-01-02','2014-01-9')\n",
    "for level in hhs:\n",
    "    print(level)\n",
    "#print(all_dates[:10])\n",
    "hh_olh_answer(hhs, query_dates, HH_OLH_answer, all_dates[:32], all_counts[:32], epsilon)\n"
   ]
  },
  {
   "cell_type": "code",
   "execution_count": 67,
   "metadata": {},
   "outputs": [
    {
     "name": "stdout",
     "output_type": "stream",
     "text": [
      "2.0\n",
      "1.4\n",
      "1.2\n",
      "1.0\n",
      "0.8\n",
      "0.7\n",
      "0.5\n",
      "0.4\n",
      "0.3\n"
     ]
    }
   ],
   "source": [
    "epsilons = np.array([2,1.4,1.2,1,0.8,0.7,0.5,0.4,0.3])\n",
    "error_dicts = {}\n",
    "test_dates = all_dates[:32].copy()\n",
    "test_counts = all_counts[:32].copy()\n",
    "for e in epsilons:\n",
    "    print(e)\n",
    "    number_of_queries = 100\n",
    "    range_dates = ('2014-01-02','2014-01-9')\n",
    "    answears = np.zeros(number_of_queries)\n",
    "    corret_answear = np.sum(all_counts[0:8])\n",
    "    for i in range(0,number_of_queries):\n",
    "        hhs = hhs = HH_OLH(test_dates, test_counts,OLH_func,e)\n",
    "        a = hh_olh_answer(hhs, range_dates, HH_OLH_answer, test_dates, test_counts, e)\n",
    "        answears[i] = a\n",
    "    error = np.abs(corret_answear-answears)\n",
    "    max_error = np.amax(error)\n",
    "    min_error = np.amin(error)\n",
    "    true_values = np.full(number_of_queries, corret_answear)\n",
    "    #vfunc = np.vectorize(relative_error)\n",
    "    #rel_erorrs = vfunc(answears, corret_answear)\n",
    "    mse = mean_squared_error(true_values, answears)\n",
    "    error_dicts[e] = {'mse': mse, 'max': max_error, 'min': min_error, 'abs': np.mean(error)}\n",
    "\n"
   ]
  },
  {
   "cell_type": "code",
   "execution_count": 69,
   "metadata": {},
   "outputs": [],
   "source": [
    "#Getting all error values from dict\n",
    "n = len(error_dicts)\n",
    "mse_errors = np.zeros(n)\n",
    "min_errors = np.zeros(n)\n",
    "max_errors = np.zeros(n)\n",
    "abs_errors = np.zeros(n)\n",
    "\n",
    "for num, item in enumerate(error_dicts.items()):\n",
    "    mse_errors[num] = item[1]['mse']\n",
    "    min_errors[num] = item[1]['min']\n",
    "    max_errors[num] = item[1]['max']\n",
    "    abs_errors[num] = item[1]['abs']"
   ]
  },
  {
   "cell_type": "code",
   "execution_count": 72,
   "metadata": {},
   "outputs": [],
   "source": [
    "error_stack = np.vstack((min_errors,mse_errors,max_errors,abs_errors)).flatten()\n",
    "min_labels = np.full(min_errors.size, 'min errors')\n",
    "mse_labels = np.full(mse_errors.size, 'mse errors')\n",
    "max_labels = np.full(max_errors.size, 'max errors')\n",
    "abs_labels = np.full(abs_errors.size, 'abs errors')\n",
    "\n",
    "\n",
    "labels_stack = np.vstack((min_labels,mse_labels,max_labels,abs_labels)).flatten()\n",
    "epsilons_stack = np.vstack((epsilons,epsilons,epsilons,epsilons)).flatten()\n"
   ]
  },
  {
   "cell_type": "code",
   "execution_count": 73,
   "metadata": {},
   "outputs": [],
   "source": [
    "seaborn_df = pd.DataFrame({'epsilons':epsilons_stack, 'errors':error_stack,'labels':labels_stack})\n",
    "seaborn_df.to_csv('local_hh_seaborn_plotting_data.csv',index=False)"
   ]
  },
  {
   "cell_type": "code",
   "execution_count": 77,
   "metadata": {},
   "outputs": [],
   "source": [
    "all_data = pd.DataFrame({'epsilons':epsilons, 'min_errors':min_errors,'max_errors':min_errors,'mse_errors':mse_errors,'abs_errors':abs_errors})\n",
    "all_data.to_csv('local_hh_plotting_data.csv',index=False)"
   ]
  },
  {
   "cell_type": "code",
   "execution_count": 78,
   "metadata": {},
   "outputs": [],
   "source": [
    "sns.set()"
   ]
  },
  {
   "cell_type": "code",
   "execution_count": 79,
   "metadata": {
    "scrolled": true
   },
   "outputs": [
    {
     "data": {
      "image/png": "[encoded data removed]",
      "text/plain": [
       "<Figure size 459.85x360 with 1 Axes>"
      ]
     },
     "metadata": {},
     "output_type": "display_data"
    }
   ],
   "source": [
    "sns_plot = sns.catplot(x=\"epsilons\", y=\"errors\", hue=\"labels\", data=seaborn_df)\n",
    "sns_plot.set(yscale=\"log\")\n",
    "sns_plot.savefig(\"local_hh_AllErrors.png\")\n"
   ]
  },
  {
   "cell_type": "code",
   "execution_count": null,
   "metadata": {},
   "outputs": [],
   "source": [
    "sns_plot = sns.scatterplot(data=seaborn_df.loc[seaborn_df['labels'] == 'min errors'], x ='epsilons', y ='errors')\n",
    "plt.legend(labels=['min errors'])\n",
    "sns_plot.get_figure().savefig('con_min_error.png') "
   ]
  },
  {
   "cell_type": "code",
   "execution_count": 52,
   "metadata": {},
   "outputs": [
    {
     "name": "stdout",
     "output_type": "stream",
     "text": [
      "[0, 0]\n",
      "[0, 0, 0]\n",
      "[0, 0, 0, 0]\n",
      "[10, 5, 2, 1, 0]\n",
      "[10, 5, 2, 1, 0, 0]\n"
     ]
    }
   ],
   "source": [
    "print(get_index(0,1))\n",
    "print(get_index(0,2))\n",
    "print(get_index(0,3))\n",
    "print(get_index(10,4))\n",
    "print(get_index(10,5))"
   ]
  },
  {
   "cell_type": "code",
   "execution_count": 80,
   "metadata": {},
   "outputs": [
    {
     "name": "stdout",
     "output_type": "stream",
     "text": [
      "1174\n"
     ]
    }
   ],
   "source": [
    "print(np.argmax(all_counts))"
   ]
  },
  {
   "cell_type": "code",
   "execution_count": null,
   "metadata": {},
   "outputs": [],
   "source": [
    "path = get_index(8,5)\n",
    "path.reverse()\n",
    "print(path)\n",
    "for i in range(len(path)-1):\n",
    "    #print(f'path[i] = {path[i]}')\n",
    "    #print(f'path[i+1] = {path[i+1]}')\n",
    "    print(f'left is 0, 1 is right')\n",
    "    print(left_or_right(path[i],path[i+1]))"
   ]
  },
  {
   "cell_type": "code",
   "execution_count": null,
   "metadata": {},
   "outputs": [],
   "source": [
    "def max_disjoint_B_adic_ranges(r, B):\n",
    "    # r = length, B = log base\n",
    "    #Fact 3\n",
    "    #Any sub-range of length[a,b]of length r from [D] can be decomposed into ≤ (B−1)(2 logBr+1)disjoint B-adic ranges.\n",
    "    #(B−1)(2 logBr+1)\n",
    "    return (B-1)*(2* np.log(r+1) / np.log(B))"
   ]
  },
  {
   "cell_type": "code",
   "execution_count": null,
   "metadata": {},
   "outputs": [],
   "source": [
    "B = 2\n",
    "r = 20\n",
    "print(max_disjoint_B_adic_ranges(r,B))\n",
    "n = 74088\n",
    "exp = 42\n",
    "np.log(n) / np.log(exp)"
   ]
  },
  {
   "cell_type": "code",
   "execution_count": null,
   "metadata": {
    "scrolled": true
   },
   "outputs": [],
   "source": [
    "\"\"\"\n",
    "[0110000,1101011]=\n",
    "[0110000,0110000]∪\n",
    "[0110001,1000000]∪\n",
    "[1000001,1100000]∪\n",
    "[1100001,1101000]∪\n",
    "[1101001,1101010]∪\n",
    "[1101011,1101011]\n",
    "\"\"\"\n",
    "print(f\"[{int('0110000',2)},{int('1101011',2)}]\")\n",
    "print(f\"[{int('0110000',2)},{int('0110000',2)}]\")\n",
    "print(f\"[{int('0110001',2)},{int('1000000',2)}]\")\n",
    "print(f\"[{int('1000001',2)},{int('1100000',2)}]\")\n",
    "print(f\"[{int('1100001',2)},{int('1101000',2)}]\")\n",
    "print(f\"[{int('1101001',2)},{int('1101010',2)}]\")\n",
    "print(f\"[{int('1101011',2)},{int('1101011',2)}]\")\n"
   ]
  },
  {
   "cell_type": "code",
   "execution_count": null,
   "metadata": {},
   "outputs": [],
   "source": [
    "print(get_index(48,7))\n",
    "print(get_index(107,7))\n",
    "print(get_index(127,7))"
   ]
  },
  {
   "cell_type": "code",
   "execution_count": null,
   "metadata": {},
   "outputs": [],
   "source": [
    "\"\"\"\n",
    "D=32,B=2, the interval[2,22]\n",
    "can be decomposed into sub-intervals\n",
    "[2,3]∪[4,7]∪[8,15]∪[16,19]∪[20,21]∪[22,22].\n",
    "\"\"\"\n",
    "print('[2,3]')\n",
    "print(get_index(2,5))\n",
    "print(get_index(3,5))\n",
    "print('[4,7]')\n",
    "print(get_index(4,5))\n",
    "print(get_index(7,5))\n",
    "print('whole [4,7]')\n",
    "print(get_index(4,5))\n",
    "print(get_index(5,5))\n",
    "print(get_index(6,5))\n",
    "print(get_index(7,5))\n",
    "print('[8,15]')\n",
    "print(get_index(8,5))\n",
    "print(get_index(15,5))\n",
    "print('whole [8,15]')\n",
    "print(get_index(8,5))\n",
    "print(get_index(9,5))\n",
    "print(get_index(10,5))\n",
    "print(get_index(11,5))\n",
    "print(get_index(12,5))\n",
    "print(get_index(13,5))\n",
    "print(get_index(14,5))\n",
    "print(get_index(15,5))\n"
   ]
  }
 ],
 "metadata": {
  "kernelspec": {
   "display_name": "Python 3",
   "language": "python",
   "name": "python3"
  },
  "language_info": {
   "codemirror_mode": {
    "name": "ipython",
    "version": 3
   },
   "file_extension": ".py",
   "mimetype": "text/x-python",
   "name": "python",
   "nbconvert_exporter": "python",
   "pygments_lexer": "ipython3",
   "version": "3.8.5"
  }
 },
 "nbformat": 4,
 "nbformat_minor": 4
}
