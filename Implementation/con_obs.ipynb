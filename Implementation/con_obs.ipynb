{
 "cells": [
  {
   "cell_type": "code",
   "execution_count": 1,
   "metadata": {},
   "outputs": [],
   "source": [
    "import numpy as np\n",
    "import pandas as pd\n",
    "from scipy.stats import laplace\n",
    "import scipy.stats\n",
    "import psycopg2\n",
    "from sklearn.metrics import mean_squared_error\n",
    "import matplotlib.pyplot as plt\n",
    "import seaborn as sns\n",
    "from datetime import datetime\n"
   ]
  },
  {
   "cell_type": "code",
   "execution_count": 2,
   "metadata": {},
   "outputs": [
    {
     "name": "stdout",
     "output_type": "stream",
     "text": [
      "Executed query and closed connection.\n"
     ]
    }
   ],
   "source": [
    "param_dic = {\n",
    "    \"host\"      : \"localhost\",\n",
    "    \"database\"  : \"bachelorBesoeg2014\",\n",
    "    \"user\"      : \"postgres\",\n",
    "    \"password\"  : \"password\",\n",
    "    \"port\"      : \"5432\"\n",
    "}\n",
    "\n",
    "def execRangeQuery(params_dic,dates):\n",
    "    query = \"\"\"\n",
    "    SELECT\n",
    "    sum(count_)\n",
    "    FROM _775147\n",
    "    WHERE\n",
    "    time_ >= '{date0}'\n",
    "    AND time_ <=  '{date1}'\n",
    "    ;\n",
    "    \"\"\".format(date0 = dates[0], date1 = dates[1])\n",
    "    try:\n",
    "        connection = psycopg2.connect(**params_dic)\n",
    "        cursor = connection.cursor()\n",
    "        cursor.execute(query)\n",
    "        record = cursor.fetchall()\n",
    "        return record\n",
    "    except (Exception, psycopg2.Error) as error :\n",
    "        connection = False\n",
    "        print (\"Error while connecting to PostgreSQL\", error)\n",
    "    finally:\n",
    "        if(connection):\n",
    "            cursor.close()\n",
    "            connection.close()\n",
    "            print(\"Executed query and closed connection.\")\n",
    "\n",
    "def execQuery(params_dic,query):\n",
    "    try:\n",
    "        connection = psycopg2.connect(**params_dic)\n",
    "        cursor = connection.cursor()\n",
    "        cursor.execute(query)\n",
    "        record = cursor.fetchall()\n",
    "        return record\n",
    "    except (Exception, psycopg2.Error) as error :\n",
    "        connection = False\n",
    "        print (\"Error while connecting to PostgreSQL\", error)\n",
    "    finally:\n",
    "        if(connection):\n",
    "            cursor.close()\n",
    "            connection.close()\n",
    "            print(\"Executed query and closed connection.\")\n",
    "#\"\"\"select count(*) as number_of_dates, count(DISTINCT  count_) as distinct_count from _775147;\"\"\"\n",
    "query = \"\"\"select time_ from _775147;\"\"\"\n",
    "result = execQuery(param_dic, query)\n",
    "dates = [(date[0]) for date in result]"
   ]
  },
  {
   "cell_type": "code",
   "execution_count": 3,
   "metadata": {},
   "outputs": [
    {
     "name": "stdout",
     "output_type": "stream",
     "text": [
      "Executed query and closed connection.\n"
     ]
    },
    {
     "data": {
      "text/plain": [
       "538"
      ]
     },
     "execution_count": 3,
     "metadata": {},
     "output_type": "execute_result"
    }
   ],
   "source": [
    "execRangeQuery(param_dic,('2014-01-08','2014-01-09'))[0][0]"
   ]
  },
  {
   "cell_type": "code",
   "execution_count": 4,
   "metadata": {},
   "outputs": [
    {
     "name": "stdout",
     "output_type": "stream",
     "text": [
      "Executed query and closed connection.\n"
     ]
    }
   ],
   "source": [
    "query = \"\"\"select count_ from _775147;\"\"\"\n",
    "result = execQuery(param_dic, query)\n",
    "\"\"\"\n",
    "print(result)\n",
    "print(type(result))\n",
    "print(type(result[0]))\n",
    "print((str(result[0][0])))\n",
    "\"\"\"\n",
    "counts = [(count[0]) for count in result]"
   ]
  },
  {
   "cell_type": "code",
   "execution_count": 5,
   "metadata": {},
   "outputs": [],
   "source": [
    "#counts"
   ]
  },
  {
   "cell_type": "code",
   "execution_count": 6,
   "metadata": {},
   "outputs": [
    {
     "name": "stdout",
     "output_type": "stream",
     "text": [
      "10.80896417491926\n",
      "11\n",
      "2048.0\n"
     ]
    }
   ],
   "source": [
    "T = 1794\n",
    "print(np.log2(1794))\n",
    "print(int(np.ceil(np.log2(1794))))\n",
    "print(2**np.ceil(np.log2(1794)))\n"
   ]
  },
  {
   "cell_type": "code",
   "execution_count": 7,
   "metadata": {},
   "outputs": [],
   "source": [
    "def get_index(date_idx, n_layers):\n",
    "    \"\"\"Calculates the path of index in full binary string\n",
    "\n",
    "    Parameters:\n",
    "    date_idx (int): The node in the bouttom layer we want to calculate a path to. \n",
    "    The bottom layer has index from 0 to 2**h-1\n",
    "    n_layers (int): The height of the full binary tree. \n",
    "\n",
    "    Returns:\n",
    "    list: of index in the path from the starting from the bottom and going up\n",
    "\n",
    "    \"\"\"\n",
    "    idx = []\n",
    "    for i in np.arange(0,n_layers):\n",
    "        if i == 0:\n",
    "            idx.append(int(date_idx))\n",
    "        else:\n",
    "            idx.append(int(idx[i-1]//2))\n",
    "    idx.append(0)\n",
    "    return idx"
   ]
  },
  {
   "cell_type": "code",
   "execution_count": 8,
   "metadata": {},
   "outputs": [
    {
     "name": "stdout",
     "output_type": "stream",
     "text": [
      "1794\n",
      "2048.0\n",
      "n_layers = 11\n",
      "[2047, 1023, 511, 255, 127, 63, 31, 15, 7, 3, 1, 0]\n"
     ]
    }
   ],
   "source": [
    "T = len(dates)\n",
    "print(T)\n",
    "T = 2**np.ceil(np.log2(T))\n",
    "print(T)\n",
    "n_layers = int(np.log2(T))\n",
    "print(f'n_layers = {n_layers}')\n",
    "print(get_index(2**np.ceil(np.log2(T))-1,n_layers))"
   ]
  },
  {
   "cell_type": "code",
   "execution_count": 9,
   "metadata": {},
   "outputs": [
    {
     "name": "stdout",
     "output_type": "stream",
     "text": [
      "[0, 0]\n",
      "[0, 0, 0]\n",
      "[0, 0, 0, 0]\n",
      "[12, 6, 3, 1, 0]\n"
     ]
    }
   ],
   "source": [
    "print(get_index(0,1))\n",
    "print(get_index(0,2))\n",
    "print(get_index(0,3))\n",
    "print(get_index(12,4))"
   ]
  },
  {
   "cell_type": "code",
   "execution_count": 10,
   "metadata": {},
   "outputs": [
    {
     "name": "stdout",
     "output_type": "stream",
     "text": [
      "[0, 0, 0, 0, 0, 0, 0, 0, 0, 0, 0, 0]\n"
     ]
    }
   ],
   "source": [
    "print(get_index(0,n_layers))"
   ]
  },
  {
   "cell_type": "code",
   "execution_count": null,
   "metadata": {},
   "outputs": [],
   "source": []
  },
  {
   "cell_type": "code",
   "execution_count": null,
   "metadata": {},
   "outputs": [],
   "source": []
  },
  {
   "cell_type": "code",
   "execution_count": null,
   "metadata": {},
   "outputs": [],
   "source": []
  },
  {
   "cell_type": "code",
   "execution_count": 11,
   "metadata": {},
   "outputs": [],
   "source": [
    "class con_obs:\n",
    "    \n",
    "    def __init__(self, T, epsilon, dates, counts):\n",
    "        \"\"\"Setup of the datastructere\n",
    "\n",
    "        Parameters:\n",
    "        T (int): The lenght of the stream\n",
    "        epsilon (float): The height of the full binary tree. \n",
    "        dates (Array): The dates of the stream\n",
    "        counts (Array): The count for each of the dates\n",
    "        Returns:\n",
    "        A epsilon differintial datastructe\n",
    "        \"\"\"\n",
    "        # We need the stream to be a power of 2\n",
    "        self.T = int(2**np.ceil(np.log2(T)))\n",
    "        self.epsilon = epsilon\n",
    "        self.zeta = (np.log2(T))/epsilon\n",
    "        self.dates = dates\n",
    "        # The height of the \"Binary tree\"\n",
    "        self.n_layers = int(np.log2(self.T))\n",
    "        \n",
    "        # Get laplace for each node\n",
    "        self.laplaces = self.__init_laplace()\n",
    "        \n",
    "        values = np.arange(0,len(dates))\n",
    "        zip_iterator = zip(dates, values)\n",
    "        self.idx_dict =  dict(zip_iterator)\n",
    "        \n",
    "        self.real_counts = counts\n",
    "        \n",
    "        self.noise_counts = self.__process(self.real_counts)\n",
    "        \n",
    "        \n",
    "    def __init_laplace(self):\n",
    "        \"\"\"\n",
    "        returns: list of arrays with the correct size of laplaces variabels.\n",
    "        \"\"\"\n",
    "        laplaces = []\n",
    "        for i in np.arange(0,self.n_layers+1):\n",
    "            rvs = laplace(scale=self.zeta).rvs(int(2**np.ceil(i)))\n",
    "            laplaces.append(rvs)\n",
    "        \n",
    "        return laplaces\n",
    "    \n",
    "    \n",
    "    def __process(self, counts):\n",
    "        noise_counts = np.zeros(len(dates))\n",
    "        for idx, date_count in enumerate(counts):\n",
    "            indices = self.get_index(idx,self.n_layers)\n",
    "            indices.reverse()\n",
    "            laplace_sum = 0.0\n",
    "            for laplace_idx, laplace_row in enumerate(self.laplaces):\n",
    "                laplace_sum = laplace_sum + laplace_row[indices[laplace_idx]]\n",
    "            noise_counts[idx] = date_count  +  noise_counts[idx-1] + laplace_sum\n",
    "        return noise_counts\n",
    "    \n",
    "    def get_index(self, date_idx, n_layers):\n",
    "        \"\"\"Calculates the path of index in full binary string\n",
    "\n",
    "        Parameters:\n",
    "        date_idx (int): The node in the bouttom layer we want to calculate a path to. \n",
    "        The bottom layer has index from 0 to 2**h-1\n",
    "        n_layers (int): The height of the full binary tree. \n",
    "\n",
    "        Returns:\n",
    "        list: of index in the path from the starting from the bottom and going up\n",
    "        \"\"\"\n",
    "        idx = []\n",
    "        for i in np.arange(0,n_layers):\n",
    "            if i == 0:\n",
    "                idx.append(int(date_idx))\n",
    "            else:\n",
    "                idx.append(int(idx[i-1]//2))\n",
    "        idx.append(0)\n",
    "        return idx\n",
    "    \n",
    "    def answer(self, dates):\n",
    "        \"\"\"Calculates the path of index in full binary string\n",
    "\n",
    "        Parameters:\n",
    "        dates (tuple of string): Two dates in the format string 2000-12-19. \n",
    "\n",
    "        Returns:\n",
    "        float: The private range count\n",
    "        \"\"\"\n",
    "            \n",
    "        if (len(dates) < 2):\n",
    "            date_obj_0 = datetime.strptime(dates[0],'%Y-%m-%d').date()\n",
    "            #print(date_obj_0)\n",
    "            #print(type(date_obj_0))\n",
    "            idx = self.idx_dict[date_obj_0]\n",
    "            #Index is not 0\n",
    "            if idx:\n",
    "                return self.noise_counts[idx] - self.noise_counts[idx-1]            \n",
    "            else:\n",
    "                return self.noise_counts[idx]\n",
    "        else:\n",
    "            date_obj_0 = datetime.strptime(dates[0],'%Y-%m-%d').date()\n",
    "            date_obj_1 = datetime.strptime(dates[1],'%Y-%m-%d').date()\n",
    "            \n",
    "            idx_0 = self.idx_dict[date_obj_0]\n",
    "            idx_1 = self.idx_dict[date_obj_1]\n",
    "            \n",
    "            #idx_0 is not 0\n",
    "            if idx_0:\n",
    "                return self.noise_counts[idx_1] - self.noise_counts[idx_0-1]            \n",
    "            else:\n",
    "                return self.noise_counts[idx_1]\n",
    "            \n",
    "        \n",
    "    def real_answer(self, dates):\n",
    "        if len(dates) < 2:\n",
    "            date_obj_0 = datetime.strptime(dates[0],'%Y-%m-%d').date()\n",
    "            return self.real_counts[self.idx_dict[date_obj_0]]\n",
    "        else:\n",
    "            date_obj_0 = datetime.strptime(dates[0],'%Y-%m-%d').date()\n",
    "            date_obj_1 = datetime.strptime(dates[1],'%Y-%m-%d').date()\n",
    "            sum_ = np.sum(self.real_counts[self.idx_dict[date_obj_0]: self.idx_dict[date_obj_1]+1])  \n",
    "            return sum_\n",
    "\n",
    "        \n",
    "        \n",
    "\n",
    "T = len(dates)\n",
    "epsilon = 0.7\n",
    "c_o = con_obs(T, epsilon, dates, counts)"
   ]
  },
  {
   "cell_type": "code",
   "execution_count": null,
   "metadata": {},
   "outputs": [],
   "source": []
  },
  {
   "cell_type": "code",
   "execution_count": 12,
   "metadata": {},
   "outputs": [
    {
     "name": "stdout",
     "output_type": "stream",
     "text": [
      "316.8817332955733\n",
      "538\n",
      "Executed query and closed connection.\n",
      "357\n",
      "255.7988438512516\n",
      "315\n",
      "426.6381625021445\n",
      "488\n"
     ]
    }
   ],
   "source": [
    "print(c_o.answer(('2014-01-08','2014-01-09')))\n",
    "print(c_o.real_answer(('2014-01-08','2014-01-09')))\n",
    "print(execRangeQuery(param_dic,dates)[0][0])\n",
    "\n",
    "print(c_o.answer(('2014-01-20',)))\n",
    "print(c_o.real_answer(('2014-01-20',)))\n",
    "\n",
    "print(c_o.answer(('2014-01-02','2014-01-05')))\n",
    "print(c_o.real_answer(('2014-01-02','2014-01-05')))\n",
    "\n"
   ]
  },
  {
   "cell_type": "code",
   "execution_count": 13,
   "metadata": {},
   "outputs": [],
   "source": [
    "def relative_error_percentage(x_approx, x_true):\n",
    "    # | (V - Vapprox) / V | x 100% \n",
    "    return np.abs((x_true-x_approx)/x_true)*100\n",
    "\n",
    "\n",
    "def relative_error(x_approx, x_true):\n",
    "    # | 1 - (Vapprox / V) | \n",
    "    return np.abs(1-(x_approx/x_true))\n",
    " "
   ]
  },
  {
   "cell_type": "code",
   "execution_count": 14,
   "metadata": {},
   "outputs": [],
   "source": [
    "epsilons = np.array([2,1.4,1.2,1,0.8,0.7,0.5,0.4,0.3])"
   ]
  },
  {
   "cell_type": "code",
   "execution_count": 15,
   "metadata": {},
   "outputs": [
    {
     "name": "stdout",
     "output_type": "stream",
     "text": [
      "2.0\n",
      "Executed query and closed connection.\n",
      "1.4\n",
      "Executed query and closed connection.\n",
      "1.2\n",
      "Executed query and closed connection.\n",
      "1.0\n",
      "Executed query and closed connection.\n",
      "0.8\n",
      "Executed query and closed connection.\n",
      "0.7\n",
      "Executed query and closed connection.\n",
      "0.5\n",
      "Executed query and closed connection.\n",
      "0.4\n",
      "Executed query and closed connection.\n",
      "0.3\n",
      "Executed query and closed connection.\n"
     ]
    }
   ],
   "source": [
    "error_dicts = {}\n",
    "\n",
    "for e in epsilons:\n",
    "    print(e)\n",
    "    number_of_queries = 100\n",
    "    range_dates = ('2014-01-08','2014-01-09')\n",
    "    answears = np.zeros(number_of_queries)\n",
    "    corret_answear = execRangeQuery(param_dic,range_dates)[0][0]\n",
    "    for i in range(0,number_of_queries):\n",
    "        c_o = con_obs(T, epsilon, dates, counts)\n",
    "        answears[i] = c_o.answer(('2014-01-08','2014-01-09'))\n",
    "    error = np.abs(corret_answear-answears)\n",
    "    max_error = np.amax(error)\n",
    "    min_error = np.amin(error)\n",
    "    true_values = np.full(number_of_queries, corret_answear)\n",
    "    vfunc = np.vectorize(relative_error)\n",
    "    rel_erorrs = vfunc(answears, corret_answear)\n",
    "    mse = mean_squared_error(true_values, answears)\n",
    "    error_dicts[e] = {'mse': mse, 'max': max_error, 'min': min_error, 'rel': np.mean(rel_erorrs)}\n",
    "\n"
   ]
  },
  {
   "cell_type": "code",
   "execution_count": null,
   "metadata": {},
   "outputs": [],
   "source": []
  },
  {
   "cell_type": "code",
   "execution_count": 17,
   "metadata": {},
   "outputs": [],
   "source": [
    "#Getting all error values from dict\n",
    "n = len(error_dicts)\n",
    "mse_errors = np.zeros(n)\n",
    "min_errors = np.zeros(n)\n",
    "max_errors = np.zeros(n)\n",
    "rel_errors = np.zeros(n)\n",
    "\n",
    "for num, item in enumerate(error_dicts.items()):\n",
    "    mse_errors[num] = item[1]['mse']\n",
    "    min_errors[num] = item[1]['min']\n",
    "    max_errors[num] = item[1]['max']\n",
    "    rel_errors[num] = item[1]['rel']"
   ]
  },
  {
   "cell_type": "code",
   "execution_count": 18,
   "metadata": {},
   "outputs": [],
   "source": [
    "error_stack = np.vstack((min_errors,mse_errors,max_errors,rel_errors)).flatten()\n",
    "min_labels = np.full(min_errors.size, 'min errors')\n",
    "mse_labels = np.full(mse_errors.size, 'mse errors')\n",
    "max_labels = np.full(max_errors.size, 'max errors')\n",
    "rel_labels = np.full(rel_errors.size, 'rel errors')\n",
    "\n",
    "labels_stack = np.vstack((min_labels,mse_labels,max_labels,rel_labels)).flatten()\n",
    "epsilons_stack = np.vstack((epsilons,epsilons,epsilons,epsilons)).flatten()\n"
   ]
  },
  {
   "cell_type": "code",
   "execution_count": 19,
   "metadata": {},
   "outputs": [],
   "source": [
    "seaborn_df = pd.DataFrame({'epsilons':epsilons_stack, 'errors':error_stack,'labels':labels_stack})\n",
    "seaborn_df.to_csv('con_obs_seaborn_plotting_data.csv',index=False)"
   ]
  },
  {
   "cell_type": "code",
   "execution_count": 20,
   "metadata": {},
   "outputs": [],
   "source": [
    "all_data = pd.DataFrame({'epsilons':epsilons, 'min_errors':min_errors,'max_errors':min_errors,'mse_errors':mse_errors,'rel_errors':rel_errors})\n",
    "all_data.to_csv('con_obs_plotting_data.csv',index=False)"
   ]
  },
  {
   "cell_type": "code",
   "execution_count": 21,
   "metadata": {},
   "outputs": [],
   "source": [
    "sns.set()"
   ]
  },
  {
   "cell_type": "code",
   "execution_count": 22,
   "metadata": {},
   "outputs": [
    {
     "data": {
      "image/png": "[encoded data removed]",
      "text/plain": [
       "<Figure size 459.85x360 with 1 Axes>"
      ]
     },
     "metadata": {},
     "output_type": "display_data"
    }
   ],
   "source": [
    "sns_plot = sns.catplot(x=\"epsilons\", y=\"errors\", hue=\"labels\", data=seaborn_df)\n",
    "sns_plot.set(yscale=\"log\")\n",
    "sns_plot.savefig(\"con_AllErrors.png\")\n"
   ]
  },
  {
   "cell_type": "code",
   "execution_count": 23,
   "metadata": {},
   "outputs": [
    {
     "data": {
      "image/png": "[encoded data removed]",
      "text/plain": [
       "<Figure size 432x288 with 1 Axes>"
      ]
     },
     "metadata": {},
     "output_type": "display_data"
    }
   ],
   "source": [
    "sns_plot = sns.scatterplot(data=seaborn_df.loc[seaborn_df['labels'] == 'min errors'], x ='epsilons', y ='errors')\n",
    "plt.legend(labels=['min errors'])\n",
    "sns_plot.get_figure().savefig('con_min_error.png') "
   ]
  },
  {
   "cell_type": "code",
   "execution_count": 24,
   "metadata": {},
   "outputs": [
    {
     "data": {
      "image/png": "[encoded data removed]",
      "text/plain": [
       "<Figure size 432x288 with 1 Axes>"
      ]
     },
     "metadata": {},
     "output_type": "display_data"
    }
   ],
   "source": [
    "sns_plot = sns.scatterplot(data=seaborn_df.loc[seaborn_df['labels'] == 'max errors'], x ='epsilons', y ='errors')\n",
    "plt.legend(labels=['max errors'])\n",
    "sns_plot.get_figure().savefig('con_max_error.png') "
   ]
  },
  {
   "cell_type": "code",
   "execution_count": 25,
   "metadata": {},
   "outputs": [
    {
     "data": {
      "image/png": "[encoded data removed]",
      "text/plain": [
       "<Figure size 432x288 with 1 Axes>"
      ]
     },
     "metadata": {},
     "output_type": "display_data"
    }
   ],
   "source": [
    "sns_plot = sns.scatterplot(data=seaborn_df.loc[seaborn_df['labels'] == 'mse errors'], x ='epsilons', y ='errors')\n",
    "plt.legend(labels=['mse errors'])\n",
    "sns_plot.get_figure().savefig('con_mse_error.png') "
   ]
  },
  {
   "cell_type": "code",
   "execution_count": 26,
   "metadata": {},
   "outputs": [
    {
     "data": {
      "image/png": "[encoded data removed]",
      "text/plain": [
       "<Figure size 432x288 with 1 Axes>"
      ]
     },
     "metadata": {},
     "output_type": "display_data"
    }
   ],
   "source": [
    "sns_plot = sns.scatterplot(data=seaborn_df.loc[seaborn_df['labels'] == 'rel errors'], x ='epsilons', y ='errors')\n",
    "plt.legend(labels=['rel errors'])\n",
    "sns_plot.get_figure().savefig('con_rel_error.png') "
   ]
  }
 ],
 "metadata": {
  "kernelspec": {
   "display_name": "Python 3",
   "language": "python",
   "name": "python3"
  },
  "language_info": {
   "codemirror_mode": {
    "name": "ipython",
    "version": 3
   },
   "file_extension": ".py",
   "mimetype": "text/x-python",
   "name": "python",
   "nbconvert_exporter": "python",
   "pygments_lexer": "ipython3",
   "version": "3.8.5"
  }
 },
 "nbformat": 4,
 "nbformat_minor": 4
}
