{
 "cells": [
  {
   "cell_type": "code",
   "execution_count": 1,
   "metadata": {},
   "outputs": [],
   "source": [
    "import numpy as np\n",
    "import pandas as pd\n",
    "from scipy.stats import laplace\n",
    "import scipy.stats\n",
    "import psycopg2\n",
    "from sklearn.metrics import mean_squared_error\n",
    "import matplotlib.pyplot as plt\n",
    "import seaborn as sns\n",
    "from datetime import datetime\n"
   ]
  },
  {
   "cell_type": "code",
   "execution_count": 2,
   "metadata": {},
   "outputs": [
    {
     "name": "stdout",
     "output_type": "stream",
     "text": [
      "Executed query and closed connection.\n",
      "<class 'list'>\n",
      "<class 'tuple'>\n",
      "<class 'datetime.date'>\n"
     ]
    }
   ],
   "source": [
    "param_dic = {\n",
    "    \"host\"      : \"localhost\",\n",
    "    \"database\"  : \"bachelorBesoeg2014\",\n",
    "    \"user\"      : \"postgres\",\n",
    "    \"password\"  : \"password\",\n",
    "    \"port\"      : \"5432\"\n",
    "}\n",
    "\n",
    "def execQuery(params_dic,query):\n",
    "    try:\n",
    "        connection = psycopg2.connect(**params_dic)\n",
    "        cursor = connection.cursor()\n",
    "        cursor.execute(query)\n",
    "        record = cursor.fetchall()\n",
    "        return record\n",
    "    except (Exception, psycopg2.Error) as error :\n",
    "        connection = False\n",
    "        print (\"Error while connecting to PostgreSQL\", error)\n",
    "    finally:\n",
    "        if(connection):\n",
    "            cursor.close()\n",
    "            connection.close()\n",
    "            print(\"Executed query and closed connection.\")\n",
    "#\"\"\"select count(*) as number_of_dates, count(DISTINCT  count_) as distinct_count from _775147;\"\"\"\n",
    "query = \"\"\"select time_ from _775147;\"\"\"\n",
    "result = execQuery(param_dic, query)\n",
    "dates = [(date[0]) for date in result]"
   ]
  },
  {
   "cell_type": "code",
   "execution_count": 3,
   "metadata": {},
   "outputs": [
    {
     "name": "stdout",
     "output_type": "stream",
     "text": [
      "Executed query and closed connection.\n"
     ]
    }
   ],
   "source": [
    "query = \"\"\"select count_ from _775147;\"\"\"\n",
    "result = execQuery(param_dic, query)\n",
    "\"\"\"\n",
    "print(result)\n",
    "print(type(result))\n",
    "print(type(result[0]))\n",
    "print((str(result[0][0])))\n",
    "\"\"\"\n",
    "counts = [(count[0]) for count in result]"
   ]
  },
  {
   "cell_type": "code",
   "execution_count": 4,
   "metadata": {},
   "outputs": [],
   "source": [
    "#counts"
   ]
  },
  {
   "cell_type": "code",
   "execution_count": 8,
   "metadata": {},
   "outputs": [
    {
     "name": "stdout",
     "output_type": "stream",
     "text": [
      "10.80896417491926\n",
      "11\n",
      "2048.0\n"
     ]
    }
   ],
   "source": [
    "T = 1794\n",
    "print(np.log2(1794))\n",
    "print(int(np.ceil(np.log2(1794))))\n",
    "print(2**np.ceil(np.log2(1794)))\n"
   ]
  },
  {
   "cell_type": "code",
   "execution_count": 12,
   "metadata": {},
   "outputs": [],
   "source": [
    "def get_index(date_idx, n_layers):\n",
    "    \"\"\"Calculates the path of index in full binary string\n",
    "\n",
    "    Parameters:\n",
    "    date_idx (int): The node in the bouttom layer we want to calculate a path to. \n",
    "    The bottom layer has index from 0 to 2**h-1\n",
    "    n_layers (int): The height of the full binary tree. \n",
    "\n",
    "    Returns:\n",
    "    list: of index in the path from the starting from the bottom and going up\n",
    "\n",
    "    \"\"\"\n",
    "    idx = []\n",
    "    for i in np.arange(0,n_layers):\n",
    "        if i == 0:\n",
    "            idx.append(int(date_idx))\n",
    "        else:\n",
    "            idx.append(int(idx[i-1]//2))\n",
    "    idx.append(0)\n",
    "    return idx"
   ]
  },
  {
   "cell_type": "code",
   "execution_count": 13,
   "metadata": {},
   "outputs": [
    {
     "name": "stdout",
     "output_type": "stream",
     "text": [
      "1794\n",
      "2048.0\n",
      "n_layers = 11\n",
      "[2047, 1023, 511, 255, 127, 63, 31, 15, 7, 3, 1, 0]\n"
     ]
    }
   ],
   "source": [
    "T = len(dates)\n",
    "print(T)\n",
    "T = 2**np.ceil(np.log2(T))\n",
    "print(T)\n",
    "n_layers = int(np.log2(T))\n",
    "print(f'n_layers = {n_layers}')\n",
    "print(get_index(2**np.ceil(np.log2(T))-1,n_layers))"
   ]
  },
  {
   "cell_type": "code",
   "execution_count": 14,
   "metadata": {},
   "outputs": [
    {
     "name": "stdout",
     "output_type": "stream",
     "text": [
      "[0, 0]\n",
      "[0, 0, 0]\n",
      "[0, 0, 0, 0]\n",
      "[12, 6, 3, 1, 0]\n"
     ]
    }
   ],
   "source": [
    "print(get_index(0,1))\n",
    "print(get_index(0,2))\n",
    "print(get_index(0,3))\n",
    "print(get_index(12,4))"
   ]
  },
  {
   "cell_type": "code",
   "execution_count": 15,
   "metadata": {},
   "outputs": [
    {
     "name": "stdout",
     "output_type": "stream",
     "text": [
      "[0, 0, 0, 0, 0, 0, 0, 0, 0, 0, 0, 0]\n"
     ]
    }
   ],
   "source": [
    "print(get_index(0,n_layers))"
   ]
  },
  {
   "cell_type": "code",
   "execution_count": 16,
   "metadata": {},
   "outputs": [
    {
     "data": {
      "text/plain": [
       "11.0"
      ]
     },
     "execution_count": 16,
     "metadata": {},
     "output_type": "execute_result"
    }
   ],
   "source": [
    "np.log2(T)"
   ]
  },
  {
   "cell_type": "code",
   "execution_count": 17,
   "metadata": {},
   "outputs": [
    {
     "name": "stdout",
     "output_type": "stream",
     "text": [
      "1.0\n"
     ]
    }
   ],
   "source": [
    "print(2**np.ceil(0))"
   ]
  },
  {
   "cell_type": "code",
   "execution_count": 18,
   "metadata": {},
   "outputs": [
    {
     "name": "stdout",
     "output_type": "stream",
     "text": [
      "<class 'numpy.ndarray'>\n",
      "[-35.28586081  -1.23109471   2.55302941 -30.80437906  -1.46634152\n",
      "   8.90055945 -32.6139728   -7.84837736   1.36831592 -11.7462362\n",
      "  23.95923493]\n",
      "<class 'numpy.ndarray'>\n",
      "[-35.07773817]\n"
     ]
    }
   ],
   "source": [
    "print( type(laplace(scale=(np.log2(T))/epsilon).rvs(int(np.ceil(np.log2(1794))))))\n",
    "print( laplace(scale=(np.log2(T))/epsilon).rvs(int(np.ceil(np.log2(1794)))))\n",
    "print( type(laplace(scale=(np.log2(T))/epsilon).rvs(1)))\n",
    "print( laplace(scale=(np.log2(T))/epsilon).rvs(1))"
   ]
  },
  {
   "cell_type": "code",
   "execution_count": 19,
   "metadata": {},
   "outputs": [],
   "source": [
    "class con_obs:\n",
    "    \n",
    "    def __init__(self, T, epsilon, dates, counts):\n",
    "        \n",
    "        self.T = int(2**np.ceil(np.log2(T)))\n",
    "        self.epsilon = epsilon\n",
    "        self.zeta = (np.log2(T))/epsilon\n",
    "        self.dates = dates\n",
    "        \n",
    "        self.n_layers = int(np.log2(self.T))\n",
    "        \n",
    "        self.laplaces = self.__init_laplace()\n",
    "        \n",
    "        values = np.arange(0,len(dates))\n",
    "        zip_iterator = zip(dates, values)\n",
    "        self.idx_dict =  dict(zip_iterator)\n",
    "        \n",
    "        self.real_counts = counts\n",
    "        \n",
    "        self.noise_counts = self.__process(self.real_counts)\n",
    "        \n",
    "        \n",
    "    def __init_laplace(self):\n",
    "        laplaces = []\n",
    "        for i in np.arange(0,self.n_layers+1):\n",
    "            rvs = laplace(scale=self.zeta).rvs(int(2**np.ceil(i)))\n",
    "            laplaces.append(rvs)\n",
    "        \n",
    "        return laplaces\n",
    "    \n",
    "    \n",
    "    def __process(self, counts):\n",
    "        noise_counts = np.zeros(len(dates))\n",
    "        for idx, date_count in enumerate(counts):\n",
    "            indices = self.get_index(idx,self.n_layers)\n",
    "            indices.reverse()\n",
    "            laplace_sum = 0.0\n",
    "            for laplace_idx, laplace_row in enumerate(self.laplaces):\n",
    "                laplace_sum = laplace_sum + laplace_row[indices[laplace_idx]]\n",
    "            noise_counts[idx] = date_count  +  noise_counts[idx-1] + laplace_sum\n",
    "        return noise_counts\n",
    "    \n",
    "    def get_index(self, date_idx, n_layers):\n",
    "        \"\"\"Calculates the path of index in full binary string\n",
    "\n",
    "        Parameters:\n",
    "        date_idx (int): The node in the bouttom layer we want to calculate a path to. \n",
    "        The bottom layer has index from 0 to 2**h-1\n",
    "        n_layers (int): The height of the full binary tree. \n",
    "\n",
    "        Returns:\n",
    "        list: of index in the path from the starting from the bottom and going up\n",
    "\n",
    "        \"\"\"\n",
    "        idx = []\n",
    "        for i in np.arange(0,n_layers):\n",
    "            if i == 0:\n",
    "                idx.append(int(date_idx))\n",
    "            else:\n",
    "                idx.append(int(idx[i-1]//2))\n",
    "        idx.append(0)\n",
    "        return idx\n",
    "    \n",
    "    def answer(self, dates):\n",
    "                \"\"\"Calculates the path of index in full binary string\n",
    "\n",
    "        Parameters:\n",
    "        date_idx (int): The node in the bouttom layer we want to calculate a path to. \n",
    "        The bottom layer has index from 0 to 2**h-1\n",
    "        n_layers (int): The height of the full binary tree. \n",
    "\n",
    "        Returns:\n",
    "        float: of index in the path from the starting from the bottom and going up\n",
    "        \"\"\"\n",
    "        if len(dates) < 2:\n",
    "            date_obj_0 = datetime.strptime(dates[0],'%Y-%m-%d').date()\n",
    "            #print(date_obj_0)\n",
    "            #print(type(date_obj_0))\n",
    "            idx = self.idx_dict[date_obj_0]\n",
    "            #Index is not 0\n",
    "            if idx:\n",
    "                return self.noise_counts[idx] - self.noise_counts[idx-1]            \n",
    "            else:\n",
    "                return self.noise_counts[idx]\n",
    "        else:\n",
    "            \"\"\"\n",
    "            print(self.noise_counts[0:4])\n",
    "            print(self.noise_counts[self.idx_dict[dates[0]]])\n",
    "            print(self.noise_counts[self.idx_dict[dates[1]]] )\n",
    "            print(f'date_obj_0 idx = {self.idx_dict[date_obj_0]}')\n",
    "            print(f'date_obj_1 idx = {self.idx_dict[date_obj_1]}')\n",
    "            print(f'noise_counts[{self.idx_dict[date_obj_0]}] = {self.noise_counts[self.idx_dict[date_obj_0]]}')\n",
    "            print(f'noise_counts[{self.idx_dict[date_obj_1]}] = {self.noise_counts[self.idx_dict[date_obj_1]]}')\n",
    "            \"\"\"\n",
    "            date_obj_0 = datetime.strptime(dates[0],'%Y-%m-%d').date()\n",
    "            date_obj_1 = datetime.strptime(dates[1],'%Y-%m-%d').date()\n",
    "            \n",
    "            idx_0 = self.idx_dict[date_obj_0]\n",
    "            idx_1 = self.idx_dict[date_obj_1]\n",
    "            \n",
    "            #idx_0 is not 0\n",
    "            if idx_0:\n",
    "                return self.noise_counts[idx_1] - self.noise_counts[idx_0-1]            \n",
    "            else:\n",
    "                return self.noise_counts[idx_1]\n",
    "            \n",
    "        \n",
    "    def real_answer(self, dates):\n",
    "        if len(dates) < 2:\n",
    "            date_obj_0 = datetime.strptime(dates[0],'%Y-%m-%d').date()\n",
    "            return self.real_counts[self.idx_dict[date_obj_0]]\n",
    "        else:\n",
    "            date_obj_0 = datetime.strptime(dates[0],'%Y-%m-%d').date()\n",
    "            date_obj_1 = datetime.strptime(dates[1],'%Y-%m-%d').date()\n",
    "            sum_ = np.sum(self.real_counts[self.idx_dict[date_obj_0]: self.idx_dict[date_obj_1]+1])  \n",
    "            return sum_\n",
    "\n",
    "        \n",
    "T = len(dates)\n",
    "epsilon = 0.7\n",
    "c_o = con_obs(T, epsilon, dates, counts)"
   ]
  },
  {
   "cell_type": "code",
   "execution_count": null,
   "metadata": {},
   "outputs": [],
   "source": []
  },
  {
   "cell_type": "code",
   "execution_count": 20,
   "metadata": {},
   "outputs": [
    {
     "name": "stdout",
     "output_type": "stream",
     "text": [
      "535.0211868711058\n",
      "538\n",
      "338.3931718058029\n",
      "315\n",
      "406.342082191646\n",
      "488\n"
     ]
    }
   ],
   "source": [
    "print(c_o.answer(('2014-01-08','2014-01-09')))\n",
    "print(c_o.real_answer(('2014-01-08','2014-01-09')))\n",
    "\n",
    "print(c_o.answer(('2014-01-20',)))\n",
    "print(c_o.real_answer(('2014-01-20',)))\n",
    "\n",
    "print(c_o.answer(('2014-01-02','2014-01-05')))\n",
    "print(c_o.real_answer(('2014-01-02','2014-01-05')))"
   ]
  },
  {
   "cell_type": "code",
   "execution_count": null,
   "metadata": {},
   "outputs": [],
   "source": []
  }
 ],
 "metadata": {
  "kernelspec": {
   "display_name": "Python 3",
   "language": "python",
   "name": "python3"
  },
  "language_info": {
   "codemirror_mode": {
    "name": "ipython",
    "version": 3
   },
   "file_extension": ".py",
   "mimetype": "text/x-python",
   "name": "python",
   "nbconvert_exporter": "python",
   "pygments_lexer": "ipython3",
   "version": "3.6.12"
  }
 },
 "nbformat": 4,
 "nbformat_minor": 4
}
