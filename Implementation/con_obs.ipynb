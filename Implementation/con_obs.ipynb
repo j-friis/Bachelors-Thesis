{
 "cells": [
  {
   "cell_type": "code",
   "execution_count": 1,
   "metadata": {},
   "outputs": [],
   "source": [
    "import numpy as np\n",
    "import pandas as pd\n",
    "from scipy.stats import laplace\n",
    "import scipy.stats\n",
    "import psycopg2\n",
    "from sklearn.metrics import mean_squared_error\n",
    "import matplotlib.pyplot as plt\n",
    "import seaborn as sns"
   ]
  },
  {
   "cell_type": "code",
   "execution_count": 2,
   "metadata": {},
   "outputs": [
    {
     "name": "stdout",
     "output_type": "stream",
     "text": [
      "Executed query and closed connection.\n",
      "<class 'list'>\n",
      "<class 'tuple'>\n",
      "2014-01-02\n"
     ]
    }
   ],
   "source": [
    "param_dic = {\n",
    "    \"host\"      : \"localhost\",\n",
    "    \"database\"  : \"bachelorBesoeg2014\",\n",
    "    \"user\"      : \"postgres\",\n",
    "    \"password\"  : \"password\",\n",
    "    \"port\"      : \"5432\"\n",
    "}\n",
    "\n",
    "def execQuery(params_dic,query):\n",
    "    try:\n",
    "        connection = psycopg2.connect(**params_dic)\n",
    "        cursor = connection.cursor()\n",
    "        cursor.execute(query)\n",
    "        record = cursor.fetchall()\n",
    "        return record\n",
    "    except (Exception, psycopg2.Error) as error :\n",
    "        connection = False\n",
    "        print (\"Error while connecting to PostgreSQL\", error)\n",
    "    finally:\n",
    "        if(connection):\n",
    "            cursor.close()\n",
    "            connection.close()\n",
    "            print(\"Executed query and closed connection.\")\n",
    "#\"\"\"select count(*) as number_of_dates, count(DISTINCT  count_) as distinct_count from _775147;\"\"\"\n",
    "query = \"\"\"select time_ from _775147;\"\"\"\n",
    "result = execQuery(param_dic, query)\n",
    "#print(result)\n",
    "print(type(result))\n",
    "print(type(result[0]))\n",
    "print((str(result[0][0])))\n",
    "dates = [str(date[0]) for date in result]\n",
    "values = np.arange(0,len(dates))\n",
    "zip_iterator = zip(dates, values)"
   ]
  },
  {
   "cell_type": "code",
   "execution_count": 3,
   "metadata": {},
   "outputs": [
    {
     "name": "stdout",
     "output_type": "stream",
     "text": [
      "Executed query and closed connection.\n"
     ]
    }
   ],
   "source": [
    "query = \"\"\"select count_ from _775147;\"\"\"\n",
    "result = execQuery(param_dic, query)\n",
    "\"\"\"\n",
    "print(result)\n",
    "print(type(result))\n",
    "print(type(result[0]))\n",
    "print((str(result[0][0])))\n",
    "\"\"\"\n",
    "counts = [(count[0]) for count in result]"
   ]
  },
  {
   "cell_type": "code",
   "execution_count": 4,
   "metadata": {},
   "outputs": [],
   "source": [
    "#counts"
   ]
  },
  {
   "cell_type": "code",
   "execution_count": 5,
   "metadata": {},
   "outputs": [],
   "source": [
    "#dates"
   ]
  },
  {
   "cell_type": "code",
   "execution_count": 6,
   "metadata": {},
   "outputs": [],
   "source": [
    "def laplace_mechanism(answear,epsilon):\n",
    "    b = 1/epsilon\n",
    "    laplace_mec = laplace(scale=b)\n",
    "    Y = laplace_mec.rvs()\n",
    "    return answear + Y"
   ]
  },
  {
   "cell_type": "code",
   "execution_count": 7,
   "metadata": {},
   "outputs": [
    {
     "name": "stdout",
     "output_type": "stream",
     "text": [
      "zeta=16.86994882131323\n",
      "count=-13.001388382540172\n",
      "569.1903464674552\n",
      "-0.42314377259554037\n",
      "[ 12.85825516 -16.57305377  -9.61920896   1.25924836 -36.57754956\n",
      " -19.59665119  -4.55639925  53.22922718   4.81483957  -6.57226769\n",
      " -26.52587256]\n"
     ]
    }
   ],
   "source": [
    "def con_obs(T, epsilon):\n",
    "    zeta = (1+np.log2(T))/epsilon\n",
    "    count = laplace(scale=zeta).rvs()\n",
    "    print(f'zeta={zeta}')\n",
    "    print(f'count={count}')\n",
    "    laplace_mec = laplace(scale=zeta)\n",
    "    print(laplace_mec.var())\n",
    "    print(laplace_mec.rvs())\n",
    "    \n",
    "    print(laplace(scale=zeta).rvs(11))\n",
    "\n",
    "    \n",
    "T = len(dates)\n",
    "epsilon = 0.7\n",
    "con_obs(T,epsilon)  "
   ]
  },
  {
   "cell_type": "code",
   "execution_count": 8,
   "metadata": {},
   "outputs": [
    {
     "name": "stdout",
     "output_type": "stream",
     "text": [
      "10.80896417491926\n",
      "11\n",
      "2048.0\n"
     ]
    }
   ],
   "source": [
    "T = 1794\n",
    "print(np.log2(1794))\n",
    "print(int(np.ceil(np.log2(1794))))\n",
    "print(2**np.ceil(np.log2(1794)))\n"
   ]
  },
  {
   "cell_type": "code",
   "execution_count": 9,
   "metadata": {},
   "outputs": [],
   "source": [
    "class con_obs:\n",
    "    \n",
    "    def __init__(self, T, epsilon, dates, counts):\n",
    "        \n",
    "        self.T = T\n",
    "        self.epsilon = epsilon\n",
    "        self.zeta = (np.log2(T))/epsilon\n",
    "        self.dates = dates\n",
    "        \n",
    "        values = np.arange(0,len(dates))\n",
    "        zip_iterator = zip(dates, values)\n",
    "        self.idx_dict =  dict(zip_iterator)\n",
    "        \n",
    "        self.real_counts = counts\n",
    "        \n",
    "        self.noise_counts = self.__process(self.real_counts)\n",
    "        \n",
    "        \n",
    "    \n",
    "    def __process(self, dates):\n",
    "        noise_counts = np.zeros(len(dates))\n",
    "        \n",
    "        for idx, date_count in enumerate(counts):\n",
    "            laplace_sum = np.sum(laplace(scale=self.zeta).rvs(int(np.ceil(np.log2(1794)))))\n",
    "            noise_counts[idx] = date_count + laplace_sum + noise_counts[idx-1]\n",
    "            \n",
    "        return noise_counts\n",
    "    \n",
    "    def answer(self, dates):\n",
    "        \n",
    "        if len(dates) < 2:\n",
    "            idx = self.idx_dict[dates[0]]\n",
    "            #Index is not 0\n",
    "            if idx:\n",
    "                return self.noise_counts[idx] - self.noise_counts[idx-1]            \n",
    "            else:\n",
    "                return self.noise_counts[idx]\n",
    "        else:\n",
    "            \"\"\"\n",
    "            print(self.noise_counts[0:4])\n",
    "            print(self.noise_counts[self.idx_dict[dates[0]]])\n",
    "            print(self.noise_counts[self.idx_dict[dates[1]]] )\n",
    "            \"\"\"\n",
    "            diff = self.noise_counts[self.idx_dict[dates[1]]+1]  - self.noise_counts[self.idx_dict[dates[0]]]\n",
    "            return diff\n",
    "        \n",
    "    def real_answer(self, dates):\n",
    "        if len(dates) < 2:\n",
    "            return self.real_counts[self.idx_dict[dates[0]]]\n",
    "        else:\n",
    "            sum_ = np.sum(self.real_counts[self.idx_dict[dates[0]]: self.idx_dict[dates[1]]+1])  \n",
    "            return sum_\n",
    "        "
   ]
  },
  {
   "cell_type": "code",
   "execution_count": 10,
   "metadata": {},
   "outputs": [],
   "source": [
    "T = len(dates)\n",
    "epsilon = 0.7\n",
    "c_o = con_obs(T, epsilon, dates, counts)"
   ]
  },
  {
   "cell_type": "code",
   "execution_count": 11,
   "metadata": {},
   "outputs": [
    {
     "name": "stdout",
     "output_type": "stream",
     "text": [
      "648.2225705369397\n",
      "488\n",
      "197.43208584767262\n",
      "315\n"
     ]
    }
   ],
   "source": [
    "print(c_o.answer(('2014-01-02','2014-01-05')))\n",
    "print(c_o.real_answer(('2014-01-02','2014-01-05')))\n",
    "\n",
    "print(c_o.answer(('2014-01-20',)))\n",
    "print(c_o.real_answer(('2014-01-20',)))\n"
   ]
  },
  {
   "cell_type": "code",
   "execution_count": 60,
   "metadata": {},
   "outputs": [],
   "source": [
    "def get_index(date_idx, n_layers):\n",
    "    idx = []\n",
    "    print(np.arange(0,n_layers))\n",
    "    for i in np.arange(0,n_layers):\n",
    "        if i == 0:\n",
    "            idx.append(date_idx)\n",
    "        else:\n",
    "            idx.append(idx[i-1]//2)\n",
    "\n",
    "    return idx"
   ]
  },
  {
   "cell_type": "code",
   "execution_count": 58,
   "metadata": {},
   "outputs": [
    {
     "name": "stdout",
     "output_type": "stream",
     "text": [
      "1794\n",
      "2048.0\n",
      "n_layers = 11\n"
     ]
    }
   ],
   "source": [
    "T = len(dates)\n",
    "print(T)\n",
    "T = 2**np.ceil(np.log2(T))\n",
    "print(T)\n",
    "n_layers = int(np.log2(T))\n",
    "print(f'n_layers = {n_layers}')\n"
   ]
  },
  {
   "cell_type": "code",
   "execution_count": 63,
   "metadata": {},
   "outputs": [
    {
     "name": "stdout",
     "output_type": "stream",
     "text": [
      "[ 0  1  2  3  4  5  6  7  8  9 10]\n",
      "[100, 50, 25, 12, 6, 3, 1, 0, 0, 0, 0]\n"
     ]
    }
   ],
   "source": [
    "print(get_index(100,n_layers))"
   ]
  },
  {
   "cell_type": "code",
   "execution_count": 59,
   "metadata": {},
   "outputs": [
    {
     "name": "stdout",
     "output_type": "stream",
     "text": [
      "[ 0  1  2  3  4  5  6  7  8  9 10]\n",
      "0\n",
      "[]\n",
      "First time\n",
      "1\n",
      "[0]\n",
      "2\n",
      "[0, 0]\n",
      "3\n",
      "[0, 0, 0]\n",
      "4\n",
      "[0, 0, 0, 0]\n",
      "5\n",
      "[0, 0, 0, 0, 0]\n",
      "6\n",
      "[0, 0, 0, 0, 0, 0]\n",
      "7\n",
      "[0, 0, 0, 0, 0, 0, 0]\n",
      "8\n",
      "[0, 0, 0, 0, 0, 0, 0, 0]\n",
      "9\n",
      "[0, 0, 0, 0, 0, 0, 0, 0, 0]\n",
      "10\n",
      "[0, 0, 0, 0, 0, 0, 0, 0, 0, 0]\n",
      "[0, 0, 0, 0, 0, 0, 0, 0, 0, 0, 0]\n"
     ]
    }
   ],
   "source": [
    "print(get_index(0,n_layers))"
   ]
  },
  {
   "cell_type": "code",
   "execution_count": 15,
   "metadata": {},
   "outputs": [
    {
     "data": {
      "text/plain": [
       "11.0"
      ]
     },
     "execution_count": 15,
     "metadata": {},
     "output_type": "execute_result"
    }
   ],
   "source": [
    "np.log2(T)"
   ]
  },
  {
   "cell_type": "code",
   "execution_count": 77,
   "metadata": {},
   "outputs": [
    {
     "name": "stdout",
     "output_type": "stream",
     "text": [
      "1.0\n"
     ]
    }
   ],
   "source": [
    "print(2**np.ceil(0))"
   ]
  },
  {
   "cell_type": "code",
   "execution_count": 74,
   "metadata": {},
   "outputs": [
    {
     "name": "stdout",
     "output_type": "stream",
     "text": [
      "<class 'numpy.ndarray'>\n",
      "[  1.7930495    0.72489034  -9.10081171  42.02193462  31.71046265\n",
      " -10.11842026  55.64229908 -20.92004182  10.7209528   25.73483589\n",
      "   8.21784395]\n",
      "<class 'numpy.ndarray'>\n",
      "[27.88607276]\n"
     ]
    }
   ],
   "source": [
    "print( type(laplace(scale=(np.log2(T))/epsilon).rvs(int(np.ceil(np.log2(1794))))))\n",
    "print( laplace(scale=(np.log2(T))/epsilon).rvs(int(np.ceil(np.log2(1794)))))\n",
    "print( type(laplace(scale=(np.log2(T))/epsilon).rvs(1)))\n",
    "print( laplace(scale=(np.log2(T))/epsilon).rvs(1))"
   ]
  },
  {
   "cell_type": "code",
   "execution_count": 70,
   "metadata": {},
   "outputs": [
    {
     "name": "stdout",
     "output_type": "stream",
     "text": [
      "i = 0\n",
      "i = 1\n",
      "i = 2\n",
      "i = 3\n",
      "i = 4\n",
      "i = 5\n",
      "i = 6\n",
      "i = 7\n",
      "i = 8\n",
      "i = 9\n"
     ]
    }
   ],
   "source": [
    "class con_obs:\n",
    "    \n",
    "    def __init__(self, T, epsilon, dates, counts):\n",
    "        \n",
    "        self.T = T\n",
    "        self.epsilon = epsilon\n",
    "        self.zeta = (np.log2(T))/epsilon\n",
    "        self.dates = dates\n",
    "        \n",
    "        self.n_layers = int(np.log2(T))\n",
    "        \n",
    "        self.laplaces = self.init_laplace()\n",
    "        \n",
    "        values = np.arange(0,len(dates))\n",
    "        zip_iterator = zip(dates, values)\n",
    "        self.idx_dict =  dict(zip_iterator)\n",
    "        \n",
    "        self.real_counts = counts\n",
    "        \n",
    "        self.noise_counts = self.__process(self.real_counts)\n",
    "        \n",
    "        \n",
    "    def init_laplace(self):\n",
    "        laplaces = []\n",
    "        for i in np.arange(1,self.n_layers+1):\n",
    "            rvs = laplace(scale=self.zeta).rvs(int(np.ceil(np.log2(1794))))\n",
    "            laplaces.append\n",
    "        \n",
    "        return laplaces\n",
    "    \n",
    "    \n",
    "    def __process(self, dates):\n",
    "        noise_counts = np.zeros(len(dates))\n",
    "        for idx, date_count in enumerate(counts):\n",
    "            laplace_sum = np.sum(laplace(scale=self.zeta).rvs(int(np.ceil(np.log2(1794)))))\n",
    "            noise_counts[idx] = date_count + laplace_sum + noise_counts[idx-1]\n",
    "        return noise_counts\n",
    "    \n",
    "    def answer(self, dates):\n",
    "        \n",
    "        if len(dates) < 2:\n",
    "            idx = self.idx_dict[dates[0]]\n",
    "            #Index is not 0\n",
    "            if idx:\n",
    "                return self.noise_counts[idx] - self.noise_counts[idx-1]            \n",
    "            else:\n",
    "                return self.noise_counts[idx]\n",
    "        else:\n",
    "            \"\"\"\n",
    "            print(self.noise_counts[0:4])\n",
    "            print(self.noise_counts[self.idx_dict[dates[0]]])\n",
    "            print(self.noise_counts[self.idx_dict[dates[1]]] )\n",
    "            \"\"\"\n",
    "            diff = self.noise_counts[self.idx_dict[dates[1]]+1]  - self.noise_counts[self.idx_dict[dates[0]]]\n",
    "            return diff\n",
    "        \n",
    "    def real_answer(self, dates):\n",
    "        if len(dates) < 2:\n",
    "            return self.real_counts[self.idx_dict[dates[0]]]\n",
    "        else:\n",
    "            sum_ = np.sum(self.real_counts[self.idx_dict[dates[0]]: self.idx_dict[dates[1]]+1])  \n",
    "            return sum_\n",
    "\n",
    "        \n",
    "T = len(dates)\n",
    "epsilon = 0.7\n",
    "c_o = con_obs(T, epsilon, dates, counts)"
   ]
  }
 ],
 "metadata": {
  "kernelspec": {
   "display_name": "Python 3",
   "language": "python",
   "name": "python3"
  },
  "language_info": {
   "codemirror_mode": {
    "name": "ipython",
    "version": 3
   },
   "file_extension": ".py",
   "mimetype": "text/x-python",
   "name": "python",
   "nbconvert_exporter": "python",
   "pygments_lexer": "ipython3",
   "version": "3.8.5"
  }
 },
 "nbformat": 4,
 "nbformat_minor": 4
}
