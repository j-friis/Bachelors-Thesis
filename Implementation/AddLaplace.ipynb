{
 "cells": [
  {
   "cell_type": "code",
   "execution_count": 1,
   "id": "veterinary-determination",
   "metadata": {},
   "outputs": [],
   "source": [
    "import numpy as np\n",
    "import pandas as pd\n",
    "from scipy.stats import laplace\n",
    "import scipy.stats\n",
    "import psycopg2\n",
    "from sklearn.metrics import mean_squared_error\n",
    "import matplotlib.pyplot as plt\n",
    "import seaborn as sns"
   ]
  },
  {
   "cell_type": "code",
   "execution_count": null,
   "id": "ranging-aircraft",
   "metadata": {},
   "outputs": [],
   "source": []
  },
  {
   "cell_type": "raw",
   "id": "indoor-steering",
   "metadata": {},
   "source": [
    "param_dic = {\n",
    "    \"host\"      : \"localhost\",\n",
    "    \"database\"  : \"bachelorBesoeg2014\",\n",
    "    \"user\"      : \"postgres\",\n",
    "    \"password\"  : \"password\",\n",
    "    \"port\"      : \"5432\"\n",
    "}\n",
    "\n",
    "def execQuery(params_dic,query):\n",
    "    try:\n",
    "        connection = psycopg2.connect(**params_dic)\n",
    "        cursor = connection.cursor()\n",
    "        cursor.execute(query)\n",
    "        record = cursor.fetchall()\n",
    "        return record\n",
    "    except (Exception, psycopg2.Error) as error :\n",
    "        connection = False\n",
    "        print (\"Error while connecting to PostgreSQL\", error)\n",
    "    finally:\n",
    "        if(connection):\n",
    "            cursor.close()\n",
    "            connection.close()\n",
    "            print(\"Executed query and closed connection.\")\n",
    "\n",
    "result = execQuery(param_dic, \"\"\"select count(*) as number_of_dates, count(DISTINCT  count_) as distinct_count from _775147;\"\"\")\n",
    "result\n"
   ]
  },
  {
   "cell_type": "code",
   "execution_count": 2,
   "id": "dangerous-brother",
   "metadata": {},
   "outputs": [
    {
     "data": {
      "text/plain": [
       "[(1794, 475)]"
      ]
     },
     "execution_count": 2,
     "metadata": {},
     "output_type": "execute_result"
    }
   ],
   "source": [
    "def execQuery(query):\n",
    "    try:\n",
    "        connection = psycopg2.connect(user = \"postgres\",\n",
    "                                      password = \"password\",\n",
    "                                      host = \"localhost\",\n",
    "                                      port = \"5432\",\n",
    "                                      database = \"bachelorBesoeg2014\")\n",
    "        cursor = connection.cursor()\n",
    "        cursor.execute(query)\n",
    "        record = cursor.fetchall()\n",
    "        return record\n",
    "    except (Exception, psycopg2.Error) as error :\n",
    "        connection = False\n",
    "        print (\"Error while connecting to PostgreSQL\", error)\n",
    "    finally:\n",
    "        if(connection):\n",
    "            cursor.close()\n",
    "            connection.close()\n",
    "            #print(\"Executed query and closed connection.\")\n",
    "\n",
    "result = execQuery(\"\"\"select count(*) as number_of_dates, count(DISTINCT  count_) as distinct_count from _775147;\"\"\")\n",
    "result"
   ]
  },
  {
   "cell_type": "code",
   "execution_count": 3,
   "id": "cellular-firewall",
   "metadata": {},
   "outputs": [
    {
     "data": {
      "text/plain": [
       "['_775100',\n",
       " '_775144',\n",
       " '_775167',\n",
       " '_775120',\n",
       " '_775146',\n",
       " '_775168',\n",
       " '_775122',\n",
       " '_775147',\n",
       " '_775170',\n",
       " '_775126',\n",
       " '_775150',\n",
       " '_775127',\n",
       " '_775160',\n",
       " '_775130',\n",
       " '_775140',\n",
       " '_775164']"
      ]
     },
     "execution_count": 3,
     "metadata": {},
     "output_type": "execute_result"
    }
   ],
   "source": [
    "result = execQuery(\"\"\"SELECT table_name FROM information_schema.tables\n",
    "       WHERE table_schema = 'public'\"\"\")\n",
    "tabels = [x[0] for x in result]\n",
    "tabels"
   ]
  },
  {
   "cell_type": "code",
   "execution_count": 4,
   "id": "round-investigator",
   "metadata": {},
   "outputs": [
    {
     "name": "stdout",
     "output_type": "stream",
     "text": [
      "[(36,)]\n",
      "<class 'int'>\n"
     ]
    }
   ],
   "source": [
    "result = execQuery(\"\"\"select count(*) from _775147 where count_ = 1;\"\"\")\n",
    "print(result)\n",
    "print(type(result[0][0]))"
   ]
  },
  {
   "cell_type": "code",
   "execution_count": 5,
   "id": "public-identity",
   "metadata": {},
   "outputs": [],
   "source": [
    "requests = np.array([1,92,82,48])\n",
    "ac = np.array([36,11,5,1])"
   ]
  },
  {
   "cell_type": "code",
   "execution_count": 6,
   "id": "limited-express",
   "metadata": {},
   "outputs": [],
   "source": [
    "def lap(x,b):\n",
    "    return 1/(2*b) * np.exp(-(np.abs(x)/b))"
   ]
  },
  {
   "cell_type": "code",
   "execution_count": 7,
   "id": "prerequisite-stand",
   "metadata": {},
   "outputs": [],
   "source": [
    "epsilons = np.array([2,1,0.8,0.7,0.5,0.4,0.3])"
   ]
  },
  {
   "cell_type": "code",
   "execution_count": 8,
   "id": "waiting-steps",
   "metadata": {},
   "outputs": [
    {
     "name": "stdout",
     "output_type": "stream",
     "text": [
      "0.5\n",
      "0.5\n"
     ]
    },
    {
     "data": {
      "text/plain": [
       "-0.3845055255410975"
      ]
     },
     "execution_count": 8,
     "metadata": {},
     "output_type": "execute_result"
    }
   ],
   "source": [
    "epsilon = 2\n",
    "b = 1/epsilon\n",
    "print(b)\n",
    "print(2*(b)**2)\n",
    "laplace_mec = laplace(scale=b)\n",
    "laplace_mec.var()\n",
    "laplace_mec.rvs()"
   ]
  },
  {
   "cell_type": "code",
   "execution_count": null,
   "id": "received-speaker",
   "metadata": {},
   "outputs": [],
   "source": []
  },
  {
   "cell_type": "code",
   "execution_count": 9,
   "id": "later-people",
   "metadata": {},
   "outputs": [],
   "source": [
    "def laplace_mechanism(answear,epsilon):\n",
    "    b = 1/epsilon\n",
    "    laplace_mec = laplace(scale=b)\n",
    "    Y = laplace_mec.rvs()\n",
    "    return answear + Y"
   ]
  },
  {
   "cell_type": "code",
   "execution_count": 10,
   "id": "advised-space",
   "metadata": {},
   "outputs": [],
   "source": [
    "def range_count(query,epsilon):\n",
    "    corret_answear = execQuery(query)[0][0]\n",
    "    return laplace_mechanism(corret_answear,epsilon)"
   ]
  },
  {
   "cell_type": "code",
   "execution_count": null,
   "id": "blond-cowboy",
   "metadata": {},
   "outputs": [],
   "source": []
  },
  {
   "cell_type": "code",
   "execution_count": 11,
   "id": "human-removal",
   "metadata": {},
   "outputs": [],
   "source": [
    "def mean_confidence_interval(data, confidence=0.95):\n",
    "    a = 1.0 * np.array(data)\n",
    "    n = len(a)\n",
    "    m, se = np.mean(a), scipy.stats.sem(a)\n",
    "    h = se * scipy.stats.t.ppf((1 + confidence) / 2., n-1)\n",
    "    return m, m-h, m+h"
   ]
  },
  {
   "cell_type": "code",
   "execution_count": 12,
   "id": "institutional-aluminum",
   "metadata": {},
   "outputs": [],
   "source": [
    "def confidence_interval(mean, confidence=0.95):\n",
    "    se = np.mean(a), scipy.stats.sem(a)\n",
    "    h = se * scipy.stats.t.ppf((1 + confidence) / 2., n-1)\n",
    "    return m, m-h, m+h"
   ]
  },
  {
   "cell_type": "code",
   "execution_count": null,
   "id": "hourly-aaron",
   "metadata": {},
   "outputs": [],
   "source": []
  },
  {
   "cell_type": "raw",
   "id": "earned-listening",
   "metadata": {},
   "source": [
    "number_of_queries = 100\n",
    "epsilon = 2\n",
    "query = \"\"\"select count(*) from _775147 where count_ = 1;\"\"\"\n",
    "answears = np.zeros(number_of_queries)\n",
    "corret_answear = execQuery(query)[0][0]\n",
    "print(answears)\n",
    "for i in range(0,number_of_queries):\n",
    "    answears[i] = range_count(query,epsilon)\n",
    "error = np.abs(corret_answear-answears)\n",
    "print(np.amax(error))\n",
    "print(np.amin(error))\n",
    "print(answears)\n",
    "true_values = np.full(number_of_queries, corret_answear)\n",
    "mse = mean_squared_error(true_values, answears)\n",
    "print(mse)\n",
    "\n",
    "print(mean_confidence_interval(answears))"
   ]
  },
  {
   "cell_type": "code",
   "execution_count": null,
   "id": "united-probe",
   "metadata": {},
   "outputs": [],
   "source": []
  },
  {
   "cell_type": "code",
   "execution_count": 13,
   "id": "senior-prague",
   "metadata": {
    "scrolled": true
   },
   "outputs": [
    {
     "name": "stdout",
     "output_type": "stream",
     "text": [
      "2.0\n",
      "1.0\n",
      "0.8\n",
      "0.7\n",
      "0.5\n",
      "0.4\n",
      "0.3\n"
     ]
    }
   ],
   "source": [
    "error_dicts = {}\n",
    "\n",
    "for e in epsilons:\n",
    "    print(e)\n",
    "    number_of_queries = 100\n",
    "    query = \"\"\"select count(*) from _775147 where count_ = 1;\"\"\"\n",
    "    answears = np.zeros(number_of_queries)\n",
    "    corret_answear = execQuery(query)[0][0]\n",
    "    for i in range(0,number_of_queries):\n",
    "        answears[i] = range_count(query,e)\n",
    "    error = np.abs(corret_answear-answears)\n",
    "    max_error = np.amax(error)\n",
    "    min_error = np.amin(error)\n",
    "    true_values = np.full(number_of_queries, corret_answear)\n",
    "    mse = mean_squared_error(true_values, answears)\n",
    "    error_dicts[e] = {'mse': mse, 'max': max_error, 'min': min_error }\n",
    "\n"
   ]
  },
  {
   "cell_type": "code",
   "execution_count": null,
   "id": "cultural-sodium",
   "metadata": {},
   "outputs": [],
   "source": []
  },
  {
   "cell_type": "code",
   "execution_count": 14,
   "id": "furnished-harbor",
   "metadata": {},
   "outputs": [],
   "source": [
    "#Getting all error values from dict\n",
    "n = len(error_dicts)\n",
    "mse_errors = np.zeros(n)\n",
    "min_errors = np.zeros(n)\n",
    "max_errors = np.zeros(n)\n",
    "\n",
    "for num, item in enumerate(error_dicts.items()):\n",
    "    mse_errors[num] = item[1]['mse']\n",
    "    min_errors[num] = item[1]['min']\n",
    "    max_errors[num] = item[1]['max']"
   ]
  },
  {
   "cell_type": "code",
   "execution_count": null,
   "id": "legitimate-observer",
   "metadata": {},
   "outputs": [],
   "source": []
  },
  {
   "cell_type": "code",
   "execution_count": 15,
   "id": "smoking-exercise",
   "metadata": {},
   "outputs": [],
   "source": [
    "error_stack = np.vstack((min_errors,mse_errors,max_errors)).flatten()\n",
    "min_labels = np.full(min_errors.size, 'min errors')\n",
    "mse_labels = np.full(mse_errors.size, 'mse errors')\n",
    "max_labels = np.full(max_errors.size, 'max errors')\n",
    "labels_stack = np.vstack((min_labels,mse_labels,max_labels)).flatten()\n",
    "epsilons_stack = np.vstack((epsilons,epsilons,epsilons)).flatten()\n"
   ]
  },
  {
   "cell_type": "code",
   "execution_count": null,
   "id": "civic-snapshot",
   "metadata": {},
   "outputs": [],
   "source": []
  },
  {
   "cell_type": "code",
   "execution_count": 16,
   "id": "ideal-enterprise",
   "metadata": {},
   "outputs": [],
   "source": [
    "seaborn_df = pd.DataFrame({'epsilons':epsilons_stack, 'errors':error_stack,'labels':labels_stack})\n",
    "seaborn_df.to_csv('seaborn_plotting_data.csv',index=False)"
   ]
  },
  {
   "cell_type": "code",
   "execution_count": 17,
   "id": "fleet-train",
   "metadata": {},
   "outputs": [],
   "source": [
    "all_data = pd.DataFrame({'epsilons':epsilons, 'min_errors':min_errors,'max_errors':min_errors,'mse_errors':mse_errors})\n",
    "all_data.to_csv('plotting_data.csv',index=False)"
   ]
  },
  {
   "cell_type": "code",
   "execution_count": 18,
   "id": "martial-lodge",
   "metadata": {},
   "outputs": [],
   "source": [
    "sns.set_theme()"
   ]
  },
  {
   "cell_type": "code",
   "execution_count": 19,
   "id": "federal-library",
   "metadata": {},
   "outputs": [
    {
     "data": {
      "text/plain": [
       "<seaborn.axisgrid.FacetGrid at 0x1f18658e080>"
      ]
     },
     "execution_count": 19,
     "metadata": {},
     "output_type": "execute_result"
    },
    {
     "data": {
      "image/png": "[encoded data removed]",
      "text/plain": [
       "<Figure size 452.35x360 with 1 Axes>"
      ]
     },
     "metadata": {},
     "output_type": "display_data"
    }
   ],
   "source": [
    "sns.catplot(x=\"epsilons\", y=\"errors\", hue=\"labels\", data=seaborn_df)"
   ]
  },
  {
   "cell_type": "code",
   "execution_count": null,
   "id": "homeless-attendance",
   "metadata": {},
   "outputs": [],
   "source": []
  },
  {
   "cell_type": "code",
   "execution_count": 20,
   "id": "scheduled-trigger",
   "metadata": {},
   "outputs": [
    {
     "data": {
      "text/plain": [
       "<matplotlib.legend.Legend at 0x1f18d914780>"
      ]
     },
     "execution_count": 20,
     "metadata": {},
     "output_type": "execute_result"
    },
    {
     "data": {
      "image/png": "[encoded data removed]",
      "text/plain": [
       "<Figure size 432x288 with 1 Axes>"
      ]
     },
     "metadata": {},
     "output_type": "display_data"
    }
   ],
   "source": [
    "sns.scatterplot(data=seaborn_df.loc[seaborn_df['labels'] == 'min errors'], x ='epsilons', y ='errors')\n",
    "plt.legend(labels=['min errors'])"
   ]
  },
  {
   "cell_type": "code",
   "execution_count": 21,
   "id": "interim-climate",
   "metadata": {},
   "outputs": [
    {
     "data": {
      "text/plain": [
       "<matplotlib.legend.Legend at 0x1f18d99ea90>"
      ]
     },
     "execution_count": 21,
     "metadata": {},
     "output_type": "execute_result"
    },
    {
     "data": {
      "image/png": "[encoded data removed]",
      "text/plain": [
       "<Figure size 432x288 with 1 Axes>"
      ]
     },
     "metadata": {},
     "output_type": "display_data"
    }
   ],
   "source": [
    "sns.scatterplot(data=seaborn_df.loc[seaborn_df['labels'] == 'max errors'], x ='epsilons', y ='errors')\n",
    "plt.legend(labels=['max errors'])"
   ]
  },
  {
   "cell_type": "code",
   "execution_count": 22,
   "id": "available-dryer",
   "metadata": {},
   "outputs": [
    {
     "data": {
      "text/plain": [
       "<matplotlib.legend.Legend at 0x1f18d979668>"
      ]
     },
     "execution_count": 22,
     "metadata": {},
     "output_type": "execute_result"
    },
    {
     "data": {
      "image/png": "[encoded data removed]",
      "text/plain": [
       "<Figure size 432x288 with 1 Axes>"
      ]
     },
     "metadata": {},
     "output_type": "display_data"
    }
   ],
   "source": [
    "sns.scatterplot(data=seaborn_df.loc[seaborn_df['labels'] == 'mse errors'], x ='epsilons', y ='errors')\n",
    "plt.legend(labels=['mse errors'])"
   ]
  },
  {
   "cell_type": "raw",
   "id": "handy-rental",
   "metadata": {},
   "source": [
    "\n",
    "fig = plt.figure(1)\n",
    "#p1, = plt.plot(xs, ys, 'ro', label='Data points')\n",
    "#p2, = plt.plot(t, p, 'b-.', label='Approx')\n",
    "p3, = plt.plot(xs, ys, 'g-', label=r'$f(t)=e^{-t}\\cos(4\\pi t)$')\n",
    "plt.legend(handles=[p3], loc='best')\n",
    "plt.xlabel('x')\n",
    "plt.ylabel('y')\n",
    "plt.title('Plot of function')\n",
    "plt.grid(True)\n",
    "plt.show()\n",
    "fig.savefig('A5p2Func.png', dpi=fig.dpi)\n",
    "\n",
    "        \n",
    "fig = plt.figure(2)\n",
    "n_values = np.arange(1, 11)\n",
    "print(n_values)\n",
    "for n in n_values:\n",
    "    xs = np.linspace(0, 3, n)\n",
    "    ys = f(xs)\n",
    "    t = np.linspace(np.min(x), np.max(x), n)\n",
    "    approx = np.array([lagrange_polynomial(t[i], xs, ys) for i in range(len(t))])\n",
    "    plt.plot(xs,approx, label=n)\n",
    "\n",
    "xs = np.linspace(0, 3, 100)\n",
    "ys = f(xs)\n",
    "p3, = plt.plot(xs, ys, 'ro', label=r'Real')\n",
    "\n",
    "plt.legend(bbox_to_anchor=(0.95, 1), loc='upper left')\n",
    "plt.show()\n",
    "fig.savefig('A5p2smalln.png', dpi=fig.dpi)\n",
    "\n",
    "\n",
    "\n",
    "fig =plt.figure(3)\n",
    "n_values = np.arange(40, 60, 2, dtype = int)\n",
    "print(n_values)\n",
    "for n in n_values:\n",
    "    xs = np.linspace(0, 3, n)\n",
    "    ys = f(xs)\n",
    "    t = np.linspace(np.min(x), np.max(x), n)\n",
    "    approx = np.array([lagrange_polynomial(t[i], xs, ys) for i in range(len(t))])\n",
    "    plt.plot(xs,approx, label=n)\n",
    "\n",
    "\n",
    "xs = np.linspace(0, 3, 100)\n",
    "ys = f(xs)\n",
    "p3, = plt.plot(xs, ys, 'ro', label=r'Real')\n",
    "\n",
    "plt.legend(bbox_to_anchor=(0.95, 1), loc='upper left')\n",
    "\n",
    "plt.show()\n",
    "fig.savefig('A5p2mediumn.png', dpi=fig.dpi)\n",
    "\n",
    "\n",
    "\n",
    "\n",
    "fig = plt.figure(3)\n",
    "n_values = np.arange(80, 90, dtype = int)\n",
    "print(n_values)\n",
    "for n in n_values:\n",
    "    xs = np.linspace(0, 3, n)\n",
    "    ys = f(xs)\n",
    "    t = np.linspace(np.min(x), np.max(x), n)\n",
    "    approx = np.array([lagrange_polynomial(t[i], xs, ys) for i in range(len(t))])\n",
    "    plt.plot(xs,approx, label=n)\n",
    "\n",
    "xs = np.linspace(0, 3, 100)\n",
    "ys = f(xs)\n",
    "p3, = plt.plot(xs, ys, 'ro', label=r'Real')\n",
    "\n",
    "plt.legend(bbox_to_anchor=(0.95, 1), loc='upper left')\n",
    "\n",
    "plt.show()\n",
    "fig.savefig('A5p2largen.png', dpi=fig.dpi)\n",
    "\n",
    "fig = plt.figure(4)\n",
    "n_values = np.arange(100, 150,10, dtype = int)\n",
    "print(n_values)\n",
    "for n in n_values:\n",
    "    xs = np.linspace(0, 3, n)\n",
    "    print(xs.shape)\n",
    "    #print(xs)\n",
    "    ys = f(xs)\n",
    "    t = np.linspace(np.min(x), np.max(x), n)\n",
    "    approx = np.array([lagrange_polynomial(t[i], xs, ys) for i in range(len(t))])\n",
    "    plt.plot(xs,approx, label=n)\n",
    "\n",
    "xs = np.linspace(0, 3, 150)\n",
    "ys = f(xs)\n",
    "p3, = plt.plot(xs, ys, 'ro', label=r'Real')\n",
    "\n",
    "plt.legend(bbox_to_anchor=(0.95, 1), loc='upper left')\n",
    "\n",
    "plt.show()\n",
    "fig.savefig('A5p2fail.png', dpi=fig.dpi)"
   ]
  },
  {
   "cell_type": "code",
   "execution_count": 23,
   "id": "changing-latvia",
   "metadata": {},
   "outputs": [],
   "source": [
    "def get_means(data):\n",
    "    means = np.zeros(data.size)\n",
    "    for i in range(0,data.size):\n",
    "        means[i] = np.mean(data[0:i+1]) \n",
    "    print(np.mean(data))\n",
    "    return means"
   ]
  },
  {
   "cell_type": "code",
   "execution_count": 42,
   "id": "sticky-liability",
   "metadata": {},
   "outputs": [
    {
     "name": "stdout",
     "output_type": "stream",
     "text": [
      "36.55799190090924\n"
     ]
    }
   ],
   "source": [
    "epsilon = 2\n",
    "number_of_queries = 100\n",
    "query = \"\"\"select count(*) from _775147 where count_ = 1;\"\"\"\n",
    "answears = np.zeros(number_of_queries)\n",
    "corret_answear = execQuery(query)[0][0]\n",
    "for i in range(0,number_of_queries):\n",
    "    answears[i] = range_count(query,e)\n",
    "means = get_means(answears)"
   ]
  },
  {
   "cell_type": "code",
   "execution_count": null,
   "id": "residential-elephant",
   "metadata": {},
   "outputs": [],
   "source": []
  },
  {
   "cell_type": "code",
   "execution_count": 43,
   "id": "adult-favor",
   "metadata": {},
   "outputs": [],
   "source": [
    "upper = np.zeros(number_of_queries)\n",
    "lower = np.zeros(number_of_queries)\n",
    "\n",
    "for i in range(0,100):\n",
    "    mean, low, up = mean_confidence_interval(answears[0:i+1])\n",
    "    upper[i] = up\n",
    "    lower[i] = low\n",
    "    \n",
    "upper = upper[-99:] \n",
    "lower = lower[-99:]"
   ]
  },
  {
   "cell_type": "code",
   "execution_count": 44,
   "id": "suited-negative",
   "metadata": {},
   "outputs": [
    {
     "name": "stdout",
     "output_type": "stream",
     "text": [
      "[59.05400732 42.34512425 39.4361688  39.21884352 38.43703582 37.80614108\n",
      " 37.258958   36.7956322  36.80196332 36.57181756 36.48791381 36.22342997\n",
      " 36.319148   37.54070951 37.5633084  37.48553364 37.89071432 37.81005102\n",
      " 39.5547782  39.37794066 39.31726325 38.96707274 38.68223793 38.48486375\n",
      " 38.58419811 38.36660415 38.27581285 38.25798935 38.14139344 38.20260546\n",
      " 38.03987061 38.07831711 38.03443314 37.88120332 37.8565681  37.75409469\n",
      " 37.694179   38.50645899 38.4696347  38.38971951 38.17890178 38.07675116\n",
      " 38.02419498 38.0399367  38.00435805 38.01239123 37.9755311  38.01287593\n",
      " 37.98203766 37.9578844  38.00900725 37.97166032 38.00014707 38.13207841\n",
      " 38.11429986 38.11936237 38.06078283 38.00704857 37.96274889 37.98673684\n",
      " 38.03000664 37.97585512 38.04623475 37.98313654 37.96065762 37.95529732\n",
      " 37.99551404 37.89325267 37.77943903 37.76340193 37.78497095 37.69976247\n",
      " 37.71542471 37.59693168 38.24238301 38.13085932 38.09499556 38.07130928\n",
      " 38.03073525 37.99340655 37.94965316 37.93118277 37.89330432 37.9482336\n",
      " 37.94281384 37.90275477 38.00737527 37.98673501 37.89045097 37.88795659\n",
      " 37.9054454  37.87733061 37.87350389 37.81951221 37.78697703 37.73627511\n",
      " 37.71686358 37.66793685 37.64732401]\n",
      "[ 5.59303484 25.40138718 29.62984266 31.36520084 32.44936581 32.98325065\n",
      " 33.09116251 32.94755117 33.31906686 33.46283151 33.67107275 33.20728472\n",
      " 33.45351942 33.59536855 33.84882866 34.01070805 34.30862358 34.43466839\n",
      " 34.53912313 34.61888498 34.78788824 34.35731919 34.17502817 34.14652525\n",
      " 34.37155605 34.26706611 34.33215528 34.45321648 34.46509123 34.62373427\n",
      " 34.54423821 34.6766947  34.73809943 34.64507993 34.71366136 34.68957584\n",
      " 34.71328939 34.93235712 34.98873733 34.99415526 34.73351248 34.70446168\n",
      " 34.73129981 34.81670978 34.85395554 34.92724954 34.9570467  35.04716574\n",
      " 35.07777817 35.11250094 35.20530516 35.22234868 35.29571328 35.42660801\n",
      " 35.45853512 35.50925919 35.4926516  35.48029768 35.47758231 35.53771485\n",
      " 35.61047149 35.59130289 35.67884841 35.64515948 35.65899418 35.68839032\n",
      " 35.75302704 35.64436436 35.50796939 35.52472344 35.57367533 35.49521723\n",
      " 35.53823972 35.37960227 35.5349712  35.42238314 35.42100162 35.43179558\n",
      " 35.42309902 35.41723029 35.40295081 35.41579076 35.40673304 35.47861401\n",
      " 35.50223094 35.48841597 35.58706243 35.5939996  35.49235239 35.5163359\n",
      " 35.55723048 35.5540089  35.57510466 35.53867766 35.52876285 35.49556546\n",
      " 35.49920704 35.46721108 35.46865979]\n"
     ]
    }
   ],
   "source": [
    "print(upper)\n",
    "print(lower)"
   ]
  },
  {
   "cell_type": "code",
   "execution_count": null,
   "id": "fixed-abraham",
   "metadata": {},
   "outputs": [],
   "source": []
  },
  {
   "cell_type": "code",
   "execution_count": null,
   "id": "engaging-pioneer",
   "metadata": {},
   "outputs": [],
   "source": []
  },
  {
   "cell_type": "code",
   "execution_count": 33,
   "id": "hundred-marina",
   "metadata": {},
   "outputs": [],
   "source": [
    "xs = np.arange(99)+2"
   ]
  },
  {
   "cell_type": "code",
   "execution_count": null,
   "id": "ready-chinese",
   "metadata": {},
   "outputs": [],
   "source": []
  },
  {
   "cell_type": "code",
   "execution_count": null,
   "id": "funded-scott",
   "metadata": {},
   "outputs": [],
   "source": []
  },
  {
   "cell_type": "code",
   "execution_count": 45,
   "id": "systematic-understanding",
   "metadata": {},
   "outputs": [
    {
     "data": {
      "image/png": "[encoded data removed]",
      "text/plain": [
       "<Figure size 432x288 with 1 Axes>"
      ]
     },
     "metadata": {},
     "output_type": "display_data"
    }
   ],
   "source": [
    "fig = plt.figure(1)\n",
    "#p1, = plt.plot(xs, ys, 'ro', label='Data points')\n",
    "#p2, = plt.plot(t, p, 'b-.', label='Approx')\n",
    "p3 = plt.scatter(xs, means[-(number_of_queries-1):])\n",
    "plt.vlines(x=xs, ymin=lower, ymax=upper, colors='teal', ls='--', lw=2)\n",
    "\n",
    "plt.xlabel('x')\n",
    "plt.ylabel('y')\n",
    "plt.xscale(\"log\")\n",
    "plt.title('Plot of function')\n",
    "plt.grid(True)\n",
    "plt.show()\n",
    "\n"
   ]
  },
  {
   "cell_type": "code",
   "execution_count": null,
   "id": "attended-grenada",
   "metadata": {},
   "outputs": [],
   "source": []
  },
  {
   "cell_type": "code",
   "execution_count": 28,
   "id": "backed-legislation",
   "metadata": {},
   "outputs": [
    {
     "data": {
      "text/plain": [
       "\"\\nimport numpy as np\\nimport matplotlib.pyplot as plt\\n\\nxs = np.linspace(1, 21, 200)\\n\\nplt.figure(figsize=(10, 7))\\n\\n# only one line may be specified; full height\\nplt.axvline(x=36, color='b', label='axvline - full height')\\n\\n# only one line may be specified; ymin & ymax spedified as a percentage of y-range\\nplt.axvline(x=36.25, ymin=0.05, ymax=0.95, color='b', label='axvline - % of full height')\\n\\n# multiple lines all full height\\nplt.vlines(x=[37, 37.25, 37.5], ymin=0, ymax=len(xs), colors='purple', ls='--', lw=2, label='vline_multiple - full height')\\n\\n# multiple lines with varying ymin and ymax\\nplt.vlines(x=[38, 38.25, 38.5], ymin=[0, 25, 75], ymax=[200, 175, 150], colors='teal', ls='--', lw=2, label='vline_multiple - partial height')\\n\\n# single vline with full ymin and ymax\\nplt.vlines(x=39, ymin=0, ymax=len(xs), colors='green', ls=':', lw=2, label='vline_single - full height')\\n\\n# single vline with specific ymin and ymax\\nplt.vlines(x=39.25, ymin=25, ymax=150, colors='green', ls=':', lw=2, label='vline_single - partial height')\\n\\n# place legend outside\\nplt.legend(bbox_to_anchor=(1.0, 1), loc='upper left')\\n\\nplt.show()\\n\""
      ]
     },
     "execution_count": 28,
     "metadata": {},
     "output_type": "execute_result"
    }
   ],
   "source": [
    "\"\"\"\n",
    "import numpy as np\n",
    "import matplotlib.pyplot as plt\n",
    "\n",
    "xs = np.linspace(1, 21, 200)\n",
    "\n",
    "plt.figure(figsize=(10, 7))\n",
    "\n",
    "# only one line may be specified; full height\n",
    "plt.axvline(x=36, color='b', label='axvline - full height')\n",
    "\n",
    "# only one line may be specified; ymin & ymax spedified as a percentage of y-range\n",
    "plt.axvline(x=36.25, ymin=0.05, ymax=0.95, color='b', label='axvline - % of full height')\n",
    "\n",
    "# multiple lines all full height\n",
    "plt.vlines(x=[37, 37.25, 37.5], ymin=0, ymax=len(xs), colors='purple', ls='--', lw=2, label='vline_multiple - full height')\n",
    "\n",
    "# multiple lines with varying ymin and ymax\n",
    "plt.vlines(x=[38, 38.25, 38.5], ymin=[0, 25, 75], ymax=[200, 175, 150], colors='teal', ls='--', lw=2, label='vline_multiple - partial height')\n",
    "\n",
    "# single vline with full ymin and ymax\n",
    "plt.vlines(x=39, ymin=0, ymax=len(xs), colors='green', ls=':', lw=2, label='vline_single - full height')\n",
    "\n",
    "# single vline with specific ymin and ymax\n",
    "plt.vlines(x=39.25, ymin=25, ymax=150, colors='green', ls=':', lw=2, label='vline_single - partial height')\n",
    "\n",
    "# place legend outside\n",
    "plt.legend(bbox_to_anchor=(1.0, 1), loc='upper left')\n",
    "\n",
    "plt.show()\n",
    "\"\"\""
   ]
  },
  {
   "cell_type": "code",
   "execution_count": null,
   "id": "statistical-seafood",
   "metadata": {},
   "outputs": [],
   "source": []
  },
  {
   "cell_type": "code",
   "execution_count": null,
   "id": "institutional-smooth",
   "metadata": {},
   "outputs": [],
   "source": []
  }
 ],
 "metadata": {
  "kernelspec": {
   "display_name": "Python 3",
   "language": "python",
   "name": "python3"
  },
  "language_info": {
   "codemirror_mode": {
    "name": "ipython",
    "version": 3
   },
   "file_extension": ".py",
   "mimetype": "text/x-python",
   "name": "python",
   "nbconvert_exporter": "python",
   "pygments_lexer": "ipython3",
   "version": "3.6.12"
  }
 },
 "nbformat": 4,
 "nbformat_minor": 5
}
