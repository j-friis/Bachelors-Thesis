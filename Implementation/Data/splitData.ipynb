{
 "cells": [
  {
   "cell_type": "code",
   "execution_count": 1,
   "id": "solid-greensboro",
   "metadata": {},
   "outputs": [],
   "source": [
    "import pandas as pd\n",
    "import numpy as np\n",
    "import os"
   ]
  },
  {
   "cell_type": "code",
   "execution_count": 2,
   "id": "trained-century",
   "metadata": {},
   "outputs": [],
   "source": [
    "def make_day_files(file_in):\n",
    "    df = pd.read_csv(file_in + '.csv',sep=',') \n",
    "    df = df.drop(columns=['_id'])\n",
    "    try:\n",
    "        ids = df.libno.unique()\n",
    "        print(f'There are so many differnt libraies {len(ids)}')\n",
    "        print(f'Their ids are {ids}')\n",
    "        for _id in ids:\n",
    "            df_everyone_else, df_with_id = [x for _, x in df.groupby(df['libno'] == _id )]\n",
    "            filename = file_in + str(_id) + '.csv'\n",
    "            df_with_id.to_csv(filename,index=False)\n",
    "        new_filenames = [file_in + str(x) + '.csv' for x in ids]\n",
    "        for num, filename in enumerate(new_filenames):\n",
    "            df = pd.read_csv(filename,sep=',')\n",
    "            #Slice hour away from time format\n",
    "            df.time = df.time.str[0:10]\n",
    "            # Sum the in and out by date\n",
    "            df = df.groupby(['time']).sum()\n",
    "            # Set the corret libno again after suming in previous step\n",
    "            df.libno = ids[num]\n",
    "            # Write to file again\n",
    "            df.to_csv(filename)\n",
    "    except:\n",
    "        df = pd.read_csv(file_in + '.csv',sep=',')\n",
    "        df = df.drop(columns=['_id'])\n",
    "        #Slice hour away from time format\n",
    "        df.time = df.time.str[0:10]\n",
    "        # Sum the in and out by date\n",
    "        df = df.groupby(['time']).sum()\n",
    "        # Write to file again\n",
    "        df.to_csv(file_in+ 'sum' '.csv')\n",
    "    "
   ]
  },
  {
   "cell_type": "code",
   "execution_count": 3,
   "id": "political-emperor",
   "metadata": {},
   "outputs": [],
   "source": [
    "\n",
    "onlydirs = [f for f in os.listdir(os.getcwd()) if os.path.isdir(os.path.join(os.getcwd(), f)) and f[0] != '.']"
   ]
  },
  {
   "cell_type": "code",
   "execution_count": 4,
   "id": "consolidated-spice",
   "metadata": {},
   "outputs": [
    {
     "name": "stdout",
     "output_type": "stream",
     "text": [
      "besoeg\n",
      "There are so many differnt libraies 18\n",
      "Their ids are [775100 775120 775126 775127 775130 775140 775144 775146 775147 775149\n",
      " 775150 775160 775162 775164 775167 775168 775170 775122]\n",
      "besoeg2014-2019\n",
      "There are so many differnt libraies 16\n",
      "Their ids are [775164 775167 775168 775170 775130 775140 775146 775122 775147 775127\n",
      " 775160 775144 775126 775150 775120 775100]\n",
      "besoegdokk1\n",
      "besoegende\n",
      "There are so many differnt libraies 18\n",
      "Their ids are [775146 775167 775168 775127 775122 775140 775126 775120 775130 775164\n",
      " 775149 775170 775162 775144 775160 775150 775147 775100]\n"
     ]
    }
   ],
   "source": [
    "for _dir in onlydirs: \n",
    "    os.chdir(os.getcwd()+'/'+_dir)\n",
    "    path = os.getcwd()\n",
    "    file_in = _dir\n",
    "    \n",
    "    print(file_in)\n",
    "    make_day_files(file_in)\n",
    "    os.chdir(\"../\")\n",
    "    path = os.getcwd()\n",
    "\n"
   ]
  },
  {
   "cell_type": "code",
   "execution_count": null,
   "id": "reserved-strip",
   "metadata": {},
   "outputs": [],
   "source": []
  },
  {
   "cell_type": "code",
   "execution_count": null,
   "id": "formal-liberal",
   "metadata": {},
   "outputs": [],
   "source": []
  },
  {
   "cell_type": "code",
   "execution_count": null,
   "id": "peaceful-diamond",
   "metadata": {},
   "outputs": [],
   "source": []
  },
  {
   "cell_type": "code",
   "execution_count": null,
   "id": "specified-inquiry",
   "metadata": {},
   "outputs": [],
   "source": []
  },
  {
   "cell_type": "code",
   "execution_count": null,
   "id": "accessory-shape",
   "metadata": {},
   "outputs": [],
   "source": []
  },
  {
   "cell_type": "code",
   "execution_count": 6,
   "id": "falling-leadership",
   "metadata": {},
   "outputs": [],
   "source": []
  },
  {
   "cell_type": "code",
   "execution_count": null,
   "id": "surface-grammar",
   "metadata": {},
   "outputs": [],
   "source": [
    "df = pd.read_csv(file_in,sep=',') "
   ]
  },
  {
   "cell_type": "code",
   "execution_count": null,
   "id": "adopted-diagram",
   "metadata": {},
   "outputs": [],
   "source": [
    "df = df.drop(columns=['_id'])\n"
   ]
  },
  {
   "cell_type": "code",
   "execution_count": null,
   "id": "later-saudi",
   "metadata": {},
   "outputs": [],
   "source": [
    "ids = df.libno.unique()\n",
    "print(f'There are so many differnt libraies {len(ids)}')\n",
    "print(f'Their ids are {ids}')"
   ]
  },
  {
   "cell_type": "code",
   "execution_count": null,
   "id": "independent-knight",
   "metadata": {},
   "outputs": [],
   "source": [
    "for _id in ids:\n",
    "    df_everyone_else, df_with_id = [x for _, x in df.groupby(df['libno'] == _id )]\n",
    "    filename = 'besoeg' + str(_id) + '.csv'\n",
    "    df_with_id.to_csv(filename,index=False)\n",
    "    "
   ]
  },
  {
   "cell_type": "code",
   "execution_count": null,
   "id": "ancient-solomon",
   "metadata": {},
   "outputs": [],
   "source": [
    "new_filenames = ['besoeg' + str(x) + '.csv' for x in ids]"
   ]
  },
  {
   "cell_type": "code",
   "execution_count": null,
   "id": "hourly-blogger",
   "metadata": {},
   "outputs": [],
   "source": [
    "for num, filename in enumerate(new_filenames):\n",
    "    df = pd.read_csv(filename,sep=',')\n",
    "    #Slice hour away from time format\n",
    "    df.time = df.time.str[0:10]\n",
    "    # Sum the in and out by date\n",
    "    df = df.groupby(['time']).sum()\n",
    "    # Set the corret libno again after suming in previous step\n",
    "    df.libno = ids[num]\n",
    "    # Write to file again\n",
    "    df.to_csv(filename)"
   ]
  },
  {
   "cell_type": "code",
   "execution_count": null,
   "id": "filled-recall",
   "metadata": {},
   "outputs": [],
   "source": []
  }
 ],
 "metadata": {
  "kernelspec": {
   "display_name": "Python 3",
   "language": "python",
   "name": "python3"
  },
  "language_info": {
   "codemirror_mode": {
    "name": "ipython",
    "version": 3
   },
   "file_extension": ".py",
   "mimetype": "text/x-python",
   "name": "python",
   "nbconvert_exporter": "python",
   "pygments_lexer": "ipython3",
   "version": "3.6.12"
  }
 },
 "nbformat": 4,
 "nbformat_minor": 5
}
