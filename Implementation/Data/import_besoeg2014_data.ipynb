{
 "cells": [
  {
   "cell_type": "code",
   "execution_count": 1,
   "id": "thick-portsmouth",
   "metadata": {},
   "outputs": [],
   "source": [
    "import pandas as pd\n",
    "import sys\n",
    "import os\n",
    "\n",
    "import psycopg2"
   ]
  },
  {
   "cell_type": "code",
   "execution_count": 2,
   "id": "eleven-houston",
   "metadata": {},
   "outputs": [],
   "source": [
    "onlydirs = [f for f in os.listdir(os.getcwd()) if os.path.isdir(os.path.join(os.getcwd(), f)) and f[0] != '.']"
   ]
  },
  {
   "cell_type": "code",
   "execution_count": 3,
   "id": "knowing-understanding",
   "metadata": {},
   "outputs": [
    {
     "data": {
      "text/plain": [
       "['besoeg', 'besoeg2014-2019', 'besoegdokk1', 'besoegende']"
      ]
     },
     "execution_count": 3,
     "metadata": {},
     "output_type": "execute_result"
    }
   ],
   "source": [
    "onlydirs"
   ]
  },
  {
   "cell_type": "code",
   "execution_count": 4,
   "id": "yellow-cornwall",
   "metadata": {},
   "outputs": [
    {
     "data": {
      "text/plain": [
       "'C:\\\\Users\\\\Jonas Friis\\\\Documents\\\\Universitet\\\\Bachelors-Thesis\\\\Implementation\\\\Data\\\\besoeg2014-2019'"
      ]
     },
     "execution_count": 4,
     "metadata": {},
     "output_type": "execute_result"
    }
   ],
   "source": [
    "os.chdir(os.getcwd()+'/'+'besoeg2014-2019')\n",
    "os.getcwd()\n"
   ]
  },
  {
   "cell_type": "code",
   "execution_count": 5,
   "id": "numeric-pollution",
   "metadata": {},
   "outputs": [],
   "source": [
    "param_dic = {\n",
    "    \"host\"      : \"localhost\",\n",
    "    \"database\"  : \"bachelorBesoeg2014\",\n",
    "    \"user\"      : \"postgres\",\n",
    "    \"password\"  : \"password\",\n",
    "    \"port\"      : \"5432\"\n",
    "}"
   ]
  },
  {
   "cell_type": "code",
   "execution_count": 6,
   "id": "hindu-effect",
   "metadata": {},
   "outputs": [],
   "source": [
    "file_in = 'besoeg2014-2019.csv'    \n",
    "    \n",
    "files = [f for f in os.listdir(os.getcwd()) if os.path.isfile(os.path.join(os.getcwd(), f)) and f != file_in]"
   ]
  },
  {
   "cell_type": "code",
   "execution_count": 7,
   "id": "narrow-journey",
   "metadata": {},
   "outputs": [
    {
     "data": {
      "text/plain": [
       "['besoeg2014-2019775100.csv',\n",
       " 'besoeg2014-2019775120.csv',\n",
       " 'besoeg2014-2019775122.csv',\n",
       " 'besoeg2014-2019775126.csv',\n",
       " 'besoeg2014-2019775127.csv',\n",
       " 'besoeg2014-2019775130.csv',\n",
       " 'besoeg2014-2019775140.csv',\n",
       " 'besoeg2014-2019775144.csv',\n",
       " 'besoeg2014-2019775146.csv',\n",
       " 'besoeg2014-2019775147.csv',\n",
       " 'besoeg2014-2019775150.csv',\n",
       " 'besoeg2014-2019775160.csv',\n",
       " 'besoeg2014-2019775164.csv',\n",
       " 'besoeg2014-2019775167.csv',\n",
       " 'besoeg2014-2019775168.csv',\n",
       " 'besoeg2014-2019775170.csv']"
      ]
     },
     "execution_count": 7,
     "metadata": {},
     "output_type": "execute_result"
    }
   ],
   "source": [
    "files"
   ]
  },
  {
   "cell_type": "code",
   "execution_count": 8,
   "id": "cathedral-cameroon",
   "metadata": {},
   "outputs": [],
   "source": [
    "def execQuery(params_dic, query):\n",
    "    try:\n",
    "        connection = psycopg2.connect(**params_dic)\n",
    "        cursor = connection.cursor()\n",
    "        cursor.execute(query)\n",
    "        record = cursor.fetchall()\n",
    "        return record\n",
    "    except (Exception, psycopg2.Error) as error :\n",
    "        connection = False\n",
    "        print (\"Error while connecting to PostgreSQL\", error)\n",
    "    finally:\n",
    "        if(connection):\n",
    "            cursor.close()\n",
    "            connection.close()\n",
    "            print(\"Executed query and closed connection.\")\n",
    "\n",
    "#result = execQuery(\"\"\"select content, type_id from article  ORDER BY article_id ASC LIMIT 200000 ;\"\"\")"
   ]
  },
  {
   "cell_type": "code",
   "execution_count": 9,
   "id": "automotive-norwegian",
   "metadata": {},
   "outputs": [],
   "source": [
    "def makeTable(params_dic, query):\n",
    "    try:\n",
    "        connection = psycopg2.connect(**params_dic)\n",
    "        cursor = connection.cursor()\n",
    "        cursor.execute(query)\n",
    "    except (Exception, psycopg2.Error) as error :\n",
    "        connection = False\n",
    "        print (\"Error while connecting to PostgreSQL\", error)\n",
    "    finally:\n",
    "        if(connection):\n",
    "            connection.commit()\n",
    "            cursor.close()\n",
    "            connection.close()\n",
    "            print(\"Executed query and closed connection.\")"
   ]
  },
  {
   "cell_type": "code",
   "execution_count": 10,
   "id": "opponent-running",
   "metadata": {},
   "outputs": [
    {
     "name": "stdout",
     "output_type": "stream",
     "text": [
      "775100\n",
      "775120\n",
      "775122\n",
      "775126\n",
      "775127\n",
      "775130\n",
      "775140\n",
      "775144\n",
      "775146\n",
      "775147\n",
      "775150\n",
      "775160\n",
      "775164\n",
      "775167\n",
      "775168\n",
      "775170\n"
     ]
    }
   ],
   "source": [
    "for f in files:\n",
    "    print(f[15:21])"
   ]
  },
  {
   "cell_type": "code",
   "execution_count": 11,
   "id": "indirect-absorption",
   "metadata": {},
   "outputs": [
    {
     "name": "stdout",
     "output_type": "stream",
     "text": [
      "Executed query and closed connection.\n",
      "Executed query and closed connection.\n",
      "Executed query and closed connection.\n",
      "Executed query and closed connection.\n",
      "Executed query and closed connection.\n",
      "Executed query and closed connection.\n",
      "Executed query and closed connection.\n",
      "Executed query and closed connection.\n",
      "Executed query and closed connection.\n",
      "Executed query and closed connection.\n",
      "Executed query and closed connection.\n",
      "Executed query and closed connection.\n",
      "Executed query and closed connection.\n",
      "Executed query and closed connection.\n",
      "Executed query and closed connection.\n",
      "Executed query and closed connection.\n"
     ]
    }
   ],
   "source": [
    "for f in files:\n",
    "    table = \"\"\"\n",
    "    CREATE TABLE {tablename} (\n",
    "    time_ date,\n",
    "    count_ int,\n",
    "    PRIMARY KEY (time_)\n",
    "    );\n",
    "    \"\"\".format(tablename = '_'+f[15:21])\n",
    "    #print(table)\n",
    "    makeTable(param_dic,table)"
   ]
  },
  {
   "cell_type": "code",
   "execution_count": null,
   "id": "hundred-terrorist",
   "metadata": {},
   "outputs": [],
   "source": []
  },
  {
   "cell_type": "code",
   "execution_count": 12,
   "id": "personalized-adrian",
   "metadata": {},
   "outputs": [],
   "source": [
    "\n",
    "import psycopg2.extras as extras"
   ]
  },
  {
   "cell_type": "code",
   "execution_count": 13,
   "id": "dependent-novelty",
   "metadata": {},
   "outputs": [],
   "source": [
    "def connect(params_dic):\n",
    "    \"\"\" Connect to the PostgreSQL database server \"\"\"\n",
    "    conn = None\n",
    "    try:\n",
    "        # connect to the PostgreSQL server\n",
    "        print('Connecting to the PostgreSQL database...')\n",
    "        conn = psycopg2.connect(**params_dic)\n",
    "    except (Exception, psycopg2.DatabaseError) as error:\n",
    "        print(error)\n",
    "        sys.exit(1)\n",
    "    print(\"Connection successful\")\n",
    "    return conn\n",
    "def execute_values(conn, df, table):\n",
    "    \"\"\"\n",
    "    Using psycopg2.extras.execute_values() to insert the dataframe\n",
    "    \"\"\"\n",
    "    # Create a list of tupples from the dataframe values\n",
    "    tuples = [tuple(x) for x in df.to_numpy()]\n",
    "    # Comma-separated dataframe columns\n",
    "    cols = ','.join(list(df.columns))\n",
    "    # SQL quert to execute\n",
    "    query  = \"INSERT INTO %s(%s) VALUES %%s\" % (table, cols)\n",
    "    cursor = conn.cursor()\n",
    "    try:\n",
    "        extras.execute_values(cursor, query, tuples)\n",
    "        conn.commit()\n",
    "    except (Exception, psycopg2.DatabaseError) as error:\n",
    "        print(\"Error: %s\" % error)\n",
    "        conn.rollback()\n",
    "        cursor.close()\n",
    "        return 1\n",
    "    print(\"execute_values() done\")\n",
    "    cursor.close()"
   ]
  },
  {
   "cell_type": "code",
   "execution_count": 14,
   "id": "dependent-board",
   "metadata": {},
   "outputs": [
    {
     "name": "stdout",
     "output_type": "stream",
     "text": [
      "Connecting to the PostgreSQL database...\n",
      "Connection successful\n",
      "execute_values() done\n",
      "execute_values() done\n",
      "execute_values() done\n",
      "execute_values() done\n",
      "execute_values() done\n",
      "execute_values() done\n",
      "execute_values() done\n",
      "execute_values() done\n",
      "execute_values() done\n",
      "execute_values() done\n",
      "execute_values() done\n",
      "execute_values() done\n",
      "execute_values() done\n",
      "execute_values() done\n",
      "execute_values() done\n",
      "execute_values() done\n"
     ]
    }
   ],
   "source": [
    "conn = connect(param_dic)\n",
    "for f in files:\n",
    "    df = pd.read_csv(f,sep=',') \n",
    "    df = df.drop(columns=['libno'])\n",
    "    df.columns = ['time_', 'count_']\n",
    "    execute_values(conn, df, '_'+f[15:21])\n",
    "\n",
    "conn.close()\n",
    "    "
   ]
  }
 ],
 "metadata": {
  "kernelspec": {
   "display_name": "Python 3",
   "language": "python",
   "name": "python3"
  },
  "language_info": {
   "codemirror_mode": {
    "name": "ipython",
    "version": 3
   },
   "file_extension": ".py",
   "mimetype": "text/x-python",
   "name": "python",
   "nbconvert_exporter": "python",
   "pygments_lexer": "ipython3",
   "version": "3.6.12"
  }
 },
 "nbformat": 4,
 "nbformat_minor": 5
}
