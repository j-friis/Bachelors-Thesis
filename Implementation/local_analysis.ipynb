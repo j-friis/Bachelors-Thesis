{
 "cells": [
  {
   "cell_type": "code",
   "execution_count": 1,
   "id": "cross-drinking",
   "metadata": {},
   "outputs": [],
   "source": [
    "import numpy as np\n",
    "import pandas as pd\n",
    "\n",
    "\n",
    "import psycopg2\n",
    "from sklearn.metrics import mean_squared_error\n",
    "import matplotlib.pyplot as plt\n",
    "import seaborn as sns\n",
    "from datetime import datetime\n",
    "from datetime import timedelta  \n",
    "\n",
    "import sys\n",
    "import os\n",
    "import re"
   ]
  },
  {
   "cell_type": "code",
   "execution_count": 2,
   "id": "assisted-interest",
   "metadata": {},
   "outputs": [
    {
     "name": "stdout",
     "output_type": "stream",
     "text": [
      "Executed query and closed connection.\n",
      "1681\n"
     ]
    }
   ],
   "source": [
    "param_dic = {\n",
    "    \"host\"      : \"localhost\",\n",
    "    \"database\"  : \"bachelorBesoeg2014\",\n",
    "    \"user\"      : \"postgres\",\n",
    "    \"password\"  : \"password\",\n",
    "    \"port\"      : \"5432\"\n",
    "}\n",
    "\n",
    "def execRangeQuery(params_dic,dates):\n",
    "    query = \"\"\"\n",
    "    SELECT\n",
    "    sum(count_)\n",
    "    FROM _775147\n",
    "    WHERE\n",
    "    time_ >= '{date0}'\n",
    "    AND time_ <=  '{date1}'\n",
    "    ;\n",
    "    \"\"\".format(date0 = dates[0], date1 = dates[1])\n",
    "    try:\n",
    "        connection = psycopg2.connect(**params_dic)\n",
    "        cursor = connection.cursor()\n",
    "        cursor.execute(query)\n",
    "        record = cursor.fetchall()\n",
    "        return record\n",
    "    except (Exception, psycopg2.Error) as error :\n",
    "        connection = False\n",
    "        print (\"Error while connecting to PostgreSQL\", error)\n",
    "    finally:\n",
    "        if(connection):\n",
    "            cursor.close()\n",
    "            connection.close()\n",
    "            print(\"Executed query and closed connection.\")\n",
    "\n",
    "def execQuery(params_dic,query):\n",
    "    try:\n",
    "        connection = psycopg2.connect(**params_dic)\n",
    "        cursor = connection.cursor()\n",
    "        cursor.execute(query)\n",
    "        record = cursor.fetchall()\n",
    "        return record\n",
    "    except (Exception, psycopg2.Error) as error :\n",
    "        connection = False\n",
    "        print (\"Error while connecting to PostgreSQL\", error)\n",
    "    finally:\n",
    "        if(connection):\n",
    "            cursor.close()\n",
    "            connection.close()\n",
    "            print(\"Executed query and closed connection.\")\n",
    "#\"\"\"select count(*) as number_of_dates, count(DISTINCT  count_) as distinct_count from _775147;\"\"\"\n",
    "range_dates = ('2014-01-02','2014-01-9') \n",
    "correct_answer = execRangeQuery(param_dic, range_dates)[0][0]\n",
    "print(correct_answer)"
   ]
  },
  {
   "cell_type": "code",
   "execution_count": 3,
   "id": "conscious-rugby",
   "metadata": {},
   "outputs": [],
   "source": [
    "onlydirs = [f for f in os.listdir(os.getcwd()) if os.path.isdir(os.path.join(os.getcwd(), f)) and f[0] != '.']"
   ]
  },
  {
   "cell_type": "code",
   "execution_count": 4,
   "id": "speaking-drama",
   "metadata": {},
   "outputs": [
    {
     "data": {
      "text/plain": [
       "['Data', 'plots', 'results']"
      ]
     },
     "execution_count": 4,
     "metadata": {},
     "output_type": "execute_result"
    }
   ],
   "source": [
    "onlydirs"
   ]
  },
  {
   "cell_type": "code",
   "execution_count": 5,
   "id": "accomplished-marina",
   "metadata": {},
   "outputs": [
    {
     "data": {
      "text/plain": [
       "'C:\\\\Users\\\\Jonas Friis\\\\Documents\\\\Universitet\\\\Bachelors-Thesis\\\\Implementation\\\\results\\\\local_flat_freq'"
      ]
     },
     "execution_count": 5,
     "metadata": {},
     "output_type": "execute_result"
    }
   ],
   "source": [
    "os.chdir(os.getcwd()+'/'+'results/local_flat_freq')\n",
    "os.getcwd()"
   ]
  },
  {
   "cell_type": "code",
   "execution_count": 6,
   "id": "portable-bearing",
   "metadata": {},
   "outputs": [
    {
     "data": {
      "text/plain": [
       "['flat_freq_e=0.3_N=1024.csv',\n",
       " 'flat_freq_e=0.3_N=128.csv',\n",
       " 'flat_freq_e=0.3_N=2048.csv',\n",
       " 'flat_freq_e=0.3_N=256.csv',\n",
       " 'flat_freq_e=0.3_N=32.csv',\n",
       " 'flat_freq_e=0.3_N=512.csv',\n",
       " 'flat_freq_e=0.8_N=1024.csv',\n",
       " 'flat_freq_e=0.8_N=128.csv',\n",
       " 'flat_freq_e=0.8_N=2048.csv',\n",
       " 'flat_freq_e=0.8_N=256.csv',\n",
       " 'flat_freq_e=0.8_N=32.csv',\n",
       " 'flat_freq_e=0.8_N=512.csv',\n",
       " 'flat_freq_e=1.0_N=1024.csv',\n",
       " 'flat_freq_e=1.0_N=128.csv',\n",
       " 'flat_freq_e=1.0_N=2048.csv',\n",
       " 'flat_freq_e=1.0_N=256.csv',\n",
       " 'flat_freq_e=1.0_N=32.csv',\n",
       " 'flat_freq_e=1.0_N=512.csv',\n",
       " 'flat_freq_e=1.2_N=1024.csv',\n",
       " 'flat_freq_e=1.2_N=128.csv',\n",
       " 'flat_freq_e=1.2_N=2048.csv',\n",
       " 'flat_freq_e=1.2_N=256.csv',\n",
       " 'flat_freq_e=1.2_N=32.csv',\n",
       " 'flat_freq_e=1.2_N=512.csv',\n",
       " 'flat_freq_e=1.4_N=1024.csv',\n",
       " 'flat_freq_e=1.4_N=128.csv',\n",
       " 'flat_freq_e=1.4_N=2048.csv',\n",
       " 'flat_freq_e=1.4_N=256.csv',\n",
       " 'flat_freq_e=1.4_N=32.csv',\n",
       " 'flat_freq_e=1.4_N=512.csv',\n",
       " 'flat_freq_e=2.0_N=1024.csv',\n",
       " 'flat_freq_e=2.0_N=128.csv',\n",
       " 'flat_freq_e=2.0_N=2048.csv',\n",
       " 'flat_freq_e=2.0_N=256.csv',\n",
       " 'flat_freq_e=2.0_N=32.csv',\n",
       " 'flat_freq_e=2.0_N=512.csv',\n",
       " 'flat_freq_epsilon_olh_seaborn_plotting_data.csv',\n",
       " 'flat_freq_epsilon_plotting_data.csv',\n",
       " 'flat_freq_epslion_olh_seaborn_plotting_data.csv',\n",
       " 'flat_freq_N_olh_seaborn_plotting_data.csv',\n",
       " 'flat_freq_N_plotting_data.csv',\n",
       " 'flat_freq_olh_seaborn_plotting_data.csv',\n",
       " 'flat_freq_plotting_data.csv']"
      ]
     },
     "execution_count": 6,
     "metadata": {},
     "output_type": "execute_result"
    }
   ],
   "source": [
    "files = [f for f in os.listdir('.') if re.match(r'(flat_freq).*\\.csv', f)]\n",
    "files"
   ]
  },
  {
   "cell_type": "code",
   "execution_count": 7,
   "id": "scientific-aurora",
   "metadata": {},
   "outputs": [],
   "source": [
    "epsilons = np.array([2,1.4,1,0.8,0.3])\n",
    "n = np.array([32,128,512,2048])\n",
    "\n",
    "epsilon_2 = []\n",
    "epsilon_14 = []\n",
    "epsilon_1 = []\n",
    "epsilon_08 = []\n",
    "epsilon_03 = []\n",
    "\n",
    "n_32 = []\n",
    "n_128 = []\n",
    "n_512 = []\n",
    "n_2048 = []\n",
    "\n",
    "\n",
    "for f in files:\n",
    "    if 'e=2' in f:\n",
    "        epsilon_2.append(np.genfromtxt(f, delimiter=','))\n",
    "    if 'e=1.4' in f:\n",
    "        epsilon_14.append(np.genfromtxt(f, delimiter=','))\n",
    "    if 'e=1.0' in f:\n",
    "        epsilon_1.append(np.genfromtxt(f, delimiter=','))\n",
    "    if 'e=0.8' in f:\n",
    "        epsilon_08.append(np.genfromtxt(f, delimiter=','))\n",
    "    if 'e=0.3' in f:\n",
    "        epsilon_03.append(np.genfromtxt(f, delimiter=','))\n",
    "    if 'N=32' in f:\n",
    "        n_32.append(np.genfromtxt(f, delimiter=','))\n",
    "    if 'N=128' in f:\n",
    "        n_128.append(np.genfromtxt(f, delimiter=','))\n",
    "    if 'N=512' in f:\n",
    "        n_512.append(np.genfromtxt(f, delimiter=','))\n",
    "    if 'N=2048' in f:\n",
    "        n_2048.append(np.genfromtxt(f, delimiter=','))\n",
    "\n",
    "        \n",
    "epsilon_2 = np.array([item for sublist in epsilon_2 for item in sublist])\n",
    "epsilon_14 = np.array([item for sublist in epsilon_14 for item in sublist])\n",
    "epsilon_1 = np.array([item for sublist in epsilon_1 for item in sublist])\n",
    "epsilon_08 = np.array([item for sublist in epsilon_08 for item in sublist])\n",
    "epsilon_03 = np.array([item for sublist in epsilon_03 for item in sublist])\n",
    "\n",
    "\n",
    "n_32 = np.array([item for sublist in n_32 for item in sublist])\n",
    "n_128 = np.array([item for sublist in n_128 for item in sublist])\n",
    "n_512 = np.array([item for sublist in n_512 for item in sublist])\n",
    "n_2048 = np.array([item for sublist in n_2048 for item in sublist])\n",
    "\n",
    "epsilons_res = [epsilon_2 ,epsilon_14, epsilon_1, epsilon_08, epsilon_03]\n",
    "ns = [n_32, n_128, n_512, n_2048]"
   ]
  },
  {
   "cell_type": "code",
   "execution_count": 8,
   "id": "cheap-location",
   "metadata": {},
   "outputs": [],
   "source": [
    "def same_parameter(answers, correct_answer):\n",
    "    error = np.abs(correct_answer-answers)\n",
    "    max_error = np.amax(error)\n",
    "    min_error = np.amin(error)\n",
    "    true_values = np.full(len(answers), correct_answer)\n",
    "    mse = mean_squared_error(true_values, answers, squared = False)\n",
    "    error_dict = {'mse': mse, 'max': max_error, 'min': min_error, 'abs': np.mean(error)}\n",
    "    \n",
    "    return error_dict\n"
   ]
  },
  {
   "cell_type": "code",
   "execution_count": 19,
   "id": "australian-convergence",
   "metadata": {},
   "outputs": [],
   "source": [
    "#Getting all error values from dict\n",
    "def dict_error_plot_epsilons(dic, plotname, epsilons):\n",
    "    n = len(dic)\n",
    "    mse_errors = np.zeros(n)\n",
    "    max_errors = np.zeros(n)\n",
    "    abs_errors = np.zeros(n)\n",
    "\n",
    "    for num, item in enumerate(dic.items()):\n",
    "        mse_errors[num] = item[1]['mse']\n",
    "        max_errors[num] = item[1]['max']\n",
    "        abs_errors[num] = item[1]['abs']\n",
    "\n",
    "    error_stack = np.vstack((mse_errors,max_errors,abs_errors)).flatten()\n",
    "    mse_labels = np.full(mse_errors.size, 'mse errors')\n",
    "    max_labels = np.full(max_errors.size, 'max errors')\n",
    "    abs_labels = np.full(abs_errors.size, 'abs errors')\n",
    "\n",
    "\n",
    "    labels_stack = np.vstack((mse_labels,max_labels,abs_labels)).flatten()\n",
    "    epsilons_stack = np.vstack((epsilons,epsilons,epsilons)).flatten()\n",
    "\n",
    "    seaborn_df = pd.DataFrame({'epsilons':epsilons_stack, 'errors':error_stack,'labels':labels_stack})\n",
    "    seaborn_df.to_csv(plotname + '_olh_seaborn_plotting_data.csv',index=False)\n",
    "\n",
    "    all_data = pd.DataFrame({'epsilons':epsilons,'max_errors':max_errors,'rmse_errors':mse_errors,'abs_errors':abs_errors})\n",
    "    all_data.to_csv(plotname + '_plotting_data.csv',index=False)\n",
    "    sns.set()\n",
    "    sns_plot = sns.catplot(x=\"epsilons\", y=\"errors\", hue=\"labels\", data=seaborn_df)\n",
    "    sns_plot.set(yscale=\"log\")\n",
    "    sns_plot.savefig(plotname + \"_AllErrors.png\")\n",
    "    \n",
    "#Getting all error values from dict\n",
    "def dict_error_plot_n(dic, plotname, ns):\n",
    "    n = len(dic)\n",
    "    mse_errors = np.zeros(n)\n",
    "    min_errors = np.zeros(n)\n",
    "    max_errors = np.zeros(n)\n",
    "    abs_errors = np.zeros(n)\n",
    "\n",
    "    for num, item in enumerate(dic.items()):\n",
    "        mse_errors[num] = item[1]['mse']\n",
    "        max_errors[num] = item[1]['max']\n",
    "        abs_errors[num] = item[1]['abs']\n",
    "\n",
    "    error_stack = np.vstack((min_errors,mse_errors,max_errors,abs_errors)).flatten()\n",
    "    mse_labels = np.full(mse_errors.size, 'mse errors')\n",
    "    max_labels = np.full(max_errors.size, 'max errors')\n",
    "    abs_labels = np.full(abs_errors.size, 'abs errors')\n",
    "\n",
    "\n",
    "    labels_stack = np.vstack((min_labels,mse_labels,max_labels,abs_labels)).flatten()\n",
    "    n_stack = np.vstack((ns,ns,ns,ns)).flatten()\n",
    "    print(ns)\n",
    "    print(len(n_stack))\n",
    "    print(len(error_stack))\n",
    "    print(len(labels_stack))\n",
    "    \n",
    "    seaborn_df = pd.DataFrame({'N':n_stack, 'errors':error_stack, 'labels':labels_stack})\n",
    "    seaborn_df.to_csv(plotname + '_olh_seaborn_plotting_data.csv',index=False)\n",
    "\n",
    "    all_data = pd.DataFrame({'N':ns,'max_errors':min_errors,'rmse_errors':mse_errors,'abs_errors':abs_errors})\n",
    "    all_data.to_csv(plotname + '_plotting_data.csv',index=False)\n",
    "    sns.set()\n",
    "    sns_plot = sns.catplot(x=\"N\", y=\"errors\", hue=\"labels\", data=seaborn_df)\n",
    "    sns_plot.set(yscale=\"log\")\n",
    "    sns_plot.savefig(plotname + \"_AllErrors.png\")"
   ]
  },
  {
   "cell_type": "code",
   "execution_count": null,
   "id": "suburban-embassy",
   "metadata": {},
   "outputs": [],
   "source": []
  },
  {
   "cell_type": "code",
   "execution_count": 10,
   "id": "ruled-settlement",
   "metadata": {},
   "outputs": [],
   "source": [
    "epsilon_error_dicts = {}\n",
    "for idx, e in enumerate(epsilons):\n",
    "    epsilon_error_dicts[e] = same_parameter(epsilons_res[idx], correct_answer)"
   ]
  },
  {
   "cell_type": "code",
   "execution_count": 11,
   "id": "furnished-pleasure",
   "metadata": {},
   "outputs": [
    {
     "data": {
      "text/plain": [
       "{2.0: {'mse': 5311.795757522135,\n",
       "  'max': 32024.045231666478,\n",
       "  'min': 0.9916412546990614,\n",
       "  'abs': 2669.399195439518},\n",
       " 1.4: {'mse': 9216.582723321533,\n",
       "  'max': 47348.63583286199,\n",
       "  'min': 0.8343124973966951,\n",
       "  'abs': 4884.193133482977},\n",
       " 1.0: {'mse': 11750.228848143814,\n",
       "  'max': 46210.971341422875,\n",
       "  'min': 9.808611799326854,\n",
       "  'abs': 7241.481492559342},\n",
       " 0.8: {'mse': 18424.110794959248,\n",
       "  'max': 106933.14434892678,\n",
       "  'min': 4.300354041955416,\n",
       "  'abs': 9070.957103440149},\n",
       " 0.3: {'mse': 26975.57436502828,\n",
       "  'max': 161357.15670487552,\n",
       "  'min': 22.94915216348204,\n",
       "  'abs': 14760.662509451036}}"
      ]
     },
     "execution_count": 11,
     "metadata": {},
     "output_type": "execute_result"
    }
   ],
   "source": [
    "epsilon_error_dicts"
   ]
  },
  {
   "cell_type": "code",
   "execution_count": 20,
   "id": "accepting-experiment",
   "metadata": {},
   "outputs": [
    {
     "data": {
      "image/png": "[encoded data removed]",
      "text/plain": [
       "<Figure size 452.35x360 with 1 Axes>"
      ]
     },
     "metadata": {},
     "output_type": "display_data"
    }
   ],
   "source": [
    "plt_name = 'flat_freq_epsilon'\n",
    "dict_error_plot_epsilons(epsilon_error_dicts,plt_name, epsilons)"
   ]
  },
  {
   "cell_type": "code",
   "execution_count": null,
   "id": "inner-pharmaceutical",
   "metadata": {},
   "outputs": [],
   "source": [
    "n_error_dicts = {}\n",
    "for idx, N in enumerate(n):\n",
    "    n_error_dicts[N] = same_parameter(ns[idx], correct_answer)\n",
    "\n"
   ]
  },
  {
   "cell_type": "code",
   "execution_count": null,
   "id": "found-capture",
   "metadata": {},
   "outputs": [],
   "source": [
    "n_error_dicts"
   ]
  },
  {
   "cell_type": "code",
   "execution_count": null,
   "id": "collaborative-carol",
   "metadata": {
    "scrolled": false
   },
   "outputs": [],
   "source": [
    "print(n)\n",
    "plt_name = 'flat_freq_N'\n",
    "dict_error_plot_n(n_error_dicts,plt_name, n)"
   ]
  },
  {
   "cell_type": "code",
   "execution_count": null,
   "id": "fiscal-royal",
   "metadata": {},
   "outputs": [],
   "source": []
  }
 ],
 "metadata": {
  "kernelspec": {
   "display_name": "Python 3",
   "language": "python",
   "name": "python3"
  },
  "language_info": {
   "codemirror_mode": {
    "name": "ipython",
    "version": 3
   },
   "file_extension": ".py",
   "mimetype": "text/x-python",
   "name": "python",
   "nbconvert_exporter": "python",
   "pygments_lexer": "ipython3",
   "version": "3.6.12"
  }
 },
 "nbformat": 4,
 "nbformat_minor": 5
}
