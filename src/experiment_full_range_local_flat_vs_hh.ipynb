{
 "cells": [
  {
   "cell_type": "code",
   "execution_count": 1,
   "id": "aggregate-carbon",
   "metadata": {},
   "outputs": [],
   "source": [
    "import numpy as np\n",
    "import pandas as pd\n",
    "\n",
    "from psql_functions import execQuery\n",
    "from miss_data import add_missing_dates, add_missing_counts\n",
    "from sample_range_query import load_range_queries_n_split\n",
    "\n",
    "\n",
    "from datetime import timedelta  \n",
    "\n",
    "import re\n",
    "import os\n",
    "owd = os.getcwd()"
   ]
  },
  {
   "cell_type": "code",
   "execution_count": 2,
   "id": "executive-brave",
   "metadata": {},
   "outputs": [],
   "source": [
    "os.chdir(owd)"
   ]
  },
  {
   "cell_type": "code",
   "execution_count": 3,
   "id": "streaming-array",
   "metadata": {},
   "outputs": [
    {
     "name": "stdout",
     "output_type": "stream",
     "text": [
      "Executed query and closed connection.\n",
      "Executed query and closed connection.\n"
     ]
    }
   ],
   "source": [
    "param_dic = {\n",
    "    \"host\"      : \"localhost\",\n",
    "    \"database\"  : \"bachelorBesoeg2014\",\n",
    "    \"user\"      : \"postgres\",\n",
    "    \"password\"  : \"password\",\n",
    "    \"port\"      : \"5432\"\n",
    "}\n",
    "\n",
    "query = \"\"\"select time_ from _775147;\"\"\"\n",
    "result = execQuery(param_dic, query)\n",
    "dates = [(date[0]) for date in result]\n",
    "\n",
    "query = \"\"\"select count_ from _775147;\"\"\"\n",
    "result = execQuery(param_dic, query)\n",
    "\n",
    "counts = [(count[0]) for count in result]\n",
    "\n",
    "all_dates = add_missing_dates(dates)\n",
    "all_counts =  add_missing_counts(counts, dates, all_dates)\n"
   ]
  },
  {
   "cell_type": "code",
   "execution_count": null,
   "id": "sunrise-bryan",
   "metadata": {},
   "outputs": [],
   "source": []
  },
  {
   "cell_type": "code",
   "execution_count": 4,
   "id": "purple-payroll",
   "metadata": {},
   "outputs": [],
   "source": [
    "n_data_structures = 50"
   ]
  },
  {
   "cell_type": "code",
   "execution_count": null,
   "id": "coordinated-senior",
   "metadata": {},
   "outputs": [],
   "source": []
  },
  {
   "cell_type": "code",
   "execution_count": 5,
   "id": "informative-temple",
   "metadata": {},
   "outputs": [],
   "source": [
    "def model_answers(model, query):\n",
    "    estimation = model.answer(query)\n",
    "    correct = model.real_answer(query)  \n",
    "    return estimation, correct\n"
   ]
  },
  {
   "cell_type": "code",
   "execution_count": 6,
   "id": "fluid-corps",
   "metadata": {},
   "outputs": [
    {
     "name": "stdout",
     "output_type": "stream",
     "text": [
      "Epsilon = 1.2\n",
      "N = 32\n",
      "N = 128\n",
      "N = 256\n",
      "Epsilon = 1.0\n",
      "N = 32\n",
      "N = 128\n",
      "N = 256\n",
      "Epsilon = 0.8\n",
      "N = 32\n",
      "N = 128\n",
      "N = 256\n"
     ]
    }
   ],
   "source": [
    "epsilons = np.array([1.2, 1, 0.8])\n",
    "n = np.array([32, 128, 256])\n",
    "degrees = np.array([2, 4])\n",
    "\n",
    "os.chdir(owd)\n",
    "\n",
    "from flat_olh import OLH_flat\n",
    "from local_hh_object import HH_OLH_degree\n",
    "\n",
    "\n",
    "for e in epsilons:\n",
    "    print(f'Epsilon = {e}')\n",
    "    for N in n:\n",
    "        print(f'N = {N}')\n",
    "        start_date = all_dates[0]\n",
    "        end_date = dates[0] + timedelta(days=(int(N-1)))\n",
    "        query_dates = (str(start_date),str(end_date))\n",
    "        \n",
    "        hh_est = []\n",
    "        flat_est = []\n",
    "\n",
    "        \n",
    "        for i in range(0,n_data_structures):\n",
    "            flat_model = OLH_flat(e, all_dates[:N], all_counts[:N])\n",
    "            hh_model = HH_OLH_degree(e, 2, all_dates[:N], all_counts[:N])\n",
    "\n",
    "            est, cor = model_answers(hh_model, query_dates)\n",
    "            #print(f'hh = {est}')  \n",
    "            hh_est.append(est)\n",
    "            \n",
    "            est, cor = model_answers(flat_model, query_dates)\n",
    "            #print(f'flat = {est}')  \n",
    "            \n",
    "            \n",
    "            flat_est.append(est)\n",
    "        \n",
    "        csv_name_hh = 'results/full_range/' + f'hh_est_e={e}_N={N}.csv'\n",
    "        csv_name_flat = 'results/full_range/' + f'flat_est_e={e}_N={N}.csv'      \n",
    "        csv_name_cor = 'results/full_range/' + f'cor_e={e}_N={N}.csv'      \n",
    "            \n",
    "        np.savetxt(csv_name_hh, hh_est, delimiter=',')\n",
    "        np.savetxt(csv_name_flat, flat_est, delimiter=',')\n",
    "        np.savetxt(csv_name_cor, np.full(n_data_structures, np.sum(all_counts[:N])), delimiter=',')\n",
    "                \n",
    "             "
   ]
  },
  {
   "cell_type": "code",
   "execution_count": 7,
   "id": "heard-morrison",
   "metadata": {},
   "outputs": [
    {
     "name": "stdout",
     "output_type": "stream",
     "text": [
      "[239. 118. 129.   2. 293. 362. 288. 250.  76.  89.   1. 253. 364. 241.\n",
      "   0. 388.  80.   4. 315. 365. 266. 244.  51.  88.   5. 260. 353. 251.\n",
      " 288. 116. 176. 126.   0. 675. 269. 272.  87. 168.   6. 261. 239. 257.\n",
      " 251.  54.   0.   0. 471. 445. 328. 351.  78.  69.  20. 333. 390. 326.\n",
      " 286. 103. 128.  30. 290. 388. 362. 269.]\n"
     ]
    }
   ],
   "source": [
    "print(all_counts[:64])"
   ]
  },
  {
   "cell_type": "code",
   "execution_count": 8,
   "id": "unlikely-student",
   "metadata": {},
   "outputs": [
    {
     "name": "stdout",
     "output_type": "stream",
     "text": [
      "C:\\Users\\Jonas Friis\\Documents\\Universitet\\Bachelors-Thesis\\src\n"
     ]
    }
   ],
   "source": [
    "print(os.getcwd())\n"
   ]
  },
  {
   "cell_type": "code",
   "execution_count": 9,
   "id": "continent-makeup",
   "metadata": {},
   "outputs": [],
   "source": [
    "a = np.arange(0,30)"
   ]
  },
  {
   "cell_type": "code",
   "execution_count": 10,
   "id": "aggressive-malawi",
   "metadata": {},
   "outputs": [
    {
     "ename": "NameError",
     "evalue": "name 'all_r_queries_est' is not defined",
     "output_type": "error",
     "traceback": [
      "\u001b[1;31m---------------------------------------------------------------------------\u001b[0m",
      "\u001b[1;31mNameError\u001b[0m                                 Traceback (most recent call last)",
      "\u001b[1;32m<ipython-input-10-bf1da00facb6>\u001b[0m in \u001b[0;36m<module>\u001b[1;34m\u001b[0m\n\u001b[1;32m----> 1\u001b[1;33m \u001b[0mall_r_queries_est\u001b[0m\u001b[1;33m\u001b[0m\u001b[1;33m\u001b[0m\u001b[0m\n\u001b[0m",
      "\u001b[1;31mNameError\u001b[0m: name 'all_r_queries_est' is not defined"
     ]
    }
   ],
   "source": [
    "all_r_queries_est"
   ]
  },
  {
   "cell_type": "code",
   "execution_count": null,
   "id": "compliant-ethernet",
   "metadata": {
    "scrolled": false
   },
   "outputs": [],
   "source": [
    "print(len(all_r_queries_cor[0]))"
   ]
  },
  {
   "cell_type": "code",
   "execution_count": null,
   "id": "greenhouse-namibia",
   "metadata": {},
   "outputs": [],
   "source": [
    "get_answers_for_variable(0,3,a)"
   ]
  }
 ],
 "metadata": {
  "kernelspec": {
   "display_name": "Python 3",
   "language": "python",
   "name": "python3"
  },
  "language_info": {
   "codemirror_mode": {
    "name": "ipython",
    "version": 3
   },
   "file_extension": ".py",
   "mimetype": "text/x-python",
   "name": "python",
   "nbconvert_exporter": "python",
   "pygments_lexer": "ipython3",
   "version": "3.6.12"
  }
 },
 "nbformat": 4,
 "nbformat_minor": 5
}
