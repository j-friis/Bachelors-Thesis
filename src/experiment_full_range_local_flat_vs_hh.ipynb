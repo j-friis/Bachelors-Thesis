{
 "cells": [
  {
   "cell_type": "code",
   "execution_count": 1,
   "id": "aggregate-carbon",
   "metadata": {},
   "outputs": [],
   "source": [
    "import numpy as np\n",
    "import pandas as pd\n",
    "\n",
    "from psql_functions import execQuery\n",
    "from miss_data import add_missing_dates, add_missing_counts\n",
    "from sample_range_query import load_range_queries_n_split\n",
    "\n",
    "\n",
    "from datetime import timedelta  \n",
    "\n",
    "from local_flat import OLH_flat\n",
    "from local_hh import HH_OLH\n",
    "\n",
    "\n",
    "import re\n",
    "import os\n",
    "owd = os.getcwd()"
   ]
  },
  {
   "cell_type": "code",
   "execution_count": 2,
   "id": "executive-brave",
   "metadata": {},
   "outputs": [],
   "source": [
    "os.chdir(owd)"
   ]
  },
  {
   "cell_type": "code",
   "execution_count": 3,
   "id": "streaming-array",
   "metadata": {},
   "outputs": [
    {
     "name": "stdout",
     "output_type": "stream",
     "text": [
      "Executed query and closed connection.\n",
      "Executed query and closed connection.\n"
     ]
    }
   ],
   "source": [
    "param_dic = {\n",
    "    \"host\"      : \"localhost\",\n",
    "    \"database\"  : \"bachelorBesoeg2014\",\n",
    "    \"user\"      : \"postgres\",\n",
    "    \"password\"  : \"password\",\n",
    "    \"port\"      : \"5432\"\n",
    "}\n",
    "\n",
    "query = \"\"\"select time_ from _775147;\"\"\"\n",
    "result = execQuery(param_dic, query)\n",
    "dates = [(date[0]) for date in result]\n",
    "\n",
    "query = \"\"\"select count_ from _775147;\"\"\"\n",
    "result = execQuery(param_dic, query)\n",
    "\n",
    "counts = [(count[0]) for count in result]\n",
    "\n",
    "all_dates = add_missing_dates(dates)\n",
    "all_counts =  add_missing_counts(counts, dates, all_dates)\n"
   ]
  },
  {
   "cell_type": "code",
   "execution_count": 4,
   "id": "sunrise-bryan",
   "metadata": {},
   "outputs": [
    {
     "name": "stdout",
     "output_type": "stream",
     "text": [
      "2006\n",
      "2006\n"
     ]
    }
   ],
   "source": [
    "print(len(all_dates))\n",
    "print(len(all_counts))"
   ]
  },
  {
   "cell_type": "code",
   "execution_count": 5,
   "id": "purple-payroll",
   "metadata": {},
   "outputs": [],
   "source": [
    "n_data_structures = 25"
   ]
  },
  {
   "cell_type": "code",
   "execution_count": null,
   "id": "coordinated-senior",
   "metadata": {},
   "outputs": [],
   "source": []
  },
  {
   "cell_type": "code",
   "execution_count": 6,
   "id": "informative-temple",
   "metadata": {},
   "outputs": [],
   "source": [
    "def model_answers(model, query):\n",
    "    estimation = model.answer(query)\n",
    "    correct = model.real_answer(query)  \n",
    "    return estimation, correct\n"
   ]
  },
  {
   "cell_type": "code",
   "execution_count": 8,
   "id": "fluid-corps",
   "metadata": {},
   "outputs": [
    {
     "name": "stdout",
     "output_type": "stream",
     "text": [
      "Epsilon = 1.4\n",
      "N = 32\n",
      "N = 128\n",
      "N = 256\n",
      "N = 512\n",
      "N = 1024\n",
      "N = 2048\n",
      "Epsilon = 1.2\n",
      "N = 32\n",
      "N = 128\n",
      "N = 256\n",
      "N = 512\n",
      "N = 1024\n",
      "N = 2048\n",
      "Epsilon = 1.0\n",
      "N = 32\n",
      "N = 128\n",
      "N = 256\n",
      "N = 512\n",
      "N = 1024\n",
      "N = 2048\n",
      "Epsilon = 0.8\n",
      "N = 32\n",
      "N = 128\n",
      "N = 256\n",
      "N = 512\n",
      "N = 1024\n",
      "N = 2048\n",
      "Epsilon = 0.6\n",
      "N = 32\n",
      "N = 128\n",
      "N = 256\n",
      "N = 512\n",
      "N = 1024\n",
      "N = 2048\n",
      "Epsilon = 0.4\n",
      "N = 32\n",
      "N = 128\n",
      "N = 256\n",
      "N = 512\n",
      "N = 1024\n",
      "N = 2048\n"
     ]
    }
   ],
   "source": [
    "epsilons = np.array([1.4, 1.2, 1, 0.8, 0.6, 0.4])\n",
    "n = np.array([32, 128, 256, 512, 1024, 2048])\n",
    "\n",
    "os.chdir(owd)\n",
    "\n",
    "for e in epsilons:\n",
    "    print(f'Epsilon = {e}')\n",
    "    for N in n:\n",
    "        print(f'N = {N}')\n",
    "        start_date = all_dates[0]\n",
    "        end_date = all_dates[:N][-1]\n",
    "        query_all_dates = (str(start_date),str(end_date))\n",
    "        start_date = all_dates[0]\n",
    "        end_date = dates[0] + timedelta(days=(int(N/2-1)))\n",
    "        query_half_dates = (str(start_date),str(end_date))\n",
    "        \n",
    "        hh_full_est = []\n",
    "        flat_full_est = []\n",
    "        \n",
    "        hh_half_est = []\n",
    "        flat_half_est = []\n",
    "        \n",
    "        for i in range(0,n_data_structures):\n",
    "            flat_model = OLH_flat(e, all_dates[:N], all_counts[:N])\n",
    "            hh_model = HH_OLH(e, 2, all_dates[:N], all_counts[:N])\n",
    "\n",
    "            est, cor = model_answers(hh_model, query_all_dates)\n",
    "            hh_full_est.append(est)\n",
    "            \n",
    "            est, cor = model_answers(flat_model, query_all_dates)\n",
    "            \n",
    "            flat_full_est.append(est)\n",
    "                        \n",
    "            est, cor = model_answers(hh_model, query_half_dates)\n",
    "            #print(f'hh = {est}')  \n",
    "            hh_half_est.append(est)\n",
    "            \n",
    "            est, cor = model_answers(flat_model, query_half_dates)\n",
    "            #print(f'flat = {est}')  \n",
    "            flat_half_est.append(est)\n",
    "        \n",
    "        csv_name_hh_full = 'results/local_max_hh/' + f'full_hh_est_e={e}_N={N}.csv'\n",
    "        csv_name_flat_full = 'results/local_max_hh/' + f'full_flat_est_e={e}_N={N}.csv'      \n",
    "        csv_name_cor_full = 'results/local_max_hh/' + f'full_cor_e={e}_N={N}.csv'  \n",
    "        \n",
    "        csv_name_hh_half = 'results/local_max_hh/' + f'half_hh_est_e={e}_N={N}.csv'\n",
    "        csv_name_flat_half = 'results/local_max_hh/' + f'half_flat_est_e={e}_N={N}.csv'      \n",
    "        csv_name_cor_half = 'results/local_max_hh/' + f'half_cor_e={e}_N={N}.csv'   \n",
    "            \n",
    "        np.savetxt(csv_name_hh_full, hh_full_est, delimiter=',')\n",
    "        np.savetxt(csv_name_flat_full, flat_full_est, delimiter=',')\n",
    "        np.savetxt(csv_name_cor_full, np.full(n_data_structures, np.sum(all_counts[:N])), delimiter=',')\n",
    "        \n",
    "        np.savetxt(csv_name_hh_half, hh_half_est, delimiter=',')\n",
    "        np.savetxt(csv_name_flat_half, flat_half_est, delimiter=',')\n",
    "        N_h = int(N/2)\n",
    "        np.savetxt(csv_name_cor_half, np.full(n_data_structures, np.sum(all_counts[:N_h])), delimiter=',')\n",
    "             "
   ]
  },
  {
   "cell_type": "code",
   "execution_count": null,
   "id": "secondary-neighborhood",
   "metadata": {},
   "outputs": [],
   "source": [
    "N = 64\n",
    "start_date = all_dates[0]\n",
    "end_date = all_dates[:N][-1]\n",
    "query_dates = (str(start_date),str(end_date))\n",
    "print(query_dates)"
   ]
  },
  {
   "cell_type": "code",
   "execution_count": null,
   "id": "fixed-solution",
   "metadata": {},
   "outputs": [],
   "source": [
    "fake_counts = np.full(shape = N, fill_value = 1)"
   ]
  },
  {
   "cell_type": "code",
   "execution_count": null,
   "id": "interior-ethernet",
   "metadata": {},
   "outputs": [],
   "source": []
  },
  {
   "cell_type": "code",
   "execution_count": null,
   "id": "compliant-ethernet",
   "metadata": {
    "scrolled": false
   },
   "outputs": [],
   "source": [
    "print(len(all_r_queries_cor[0]))"
   ]
  },
  {
   "cell_type": "code",
   "execution_count": null,
   "id": "greenhouse-namibia",
   "metadata": {},
   "outputs": [],
   "source": [
    "get_answers_for_variable(0,3,a)"
   ]
  }
 ],
 "metadata": {
  "kernelspec": {
   "display_name": "Python 3",
   "language": "python",
   "name": "python3"
  },
  "language_info": {
   "codemirror_mode": {
    "name": "ipython",
    "version": 3
   },
   "file_extension": ".py",
   "mimetype": "text/x-python",
   "name": "python",
   "nbconvert_exporter": "python",
   "pygments_lexer": "ipython3",
   "version": "3.6.12"
  }
 },
 "nbformat": 4,
 "nbformat_minor": 5
}
