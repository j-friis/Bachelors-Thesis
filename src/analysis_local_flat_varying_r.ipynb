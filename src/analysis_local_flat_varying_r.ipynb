{
 "cells": [
  {
   "cell_type": "code",
   "execution_count": 1,
   "id": "cross-drinking",
   "metadata": {},
   "outputs": [],
   "source": [
    "import numpy as np\n",
    "import pandas as pd\n",
    "\n",
    "\n",
    "from sklearn.metrics import mean_squared_error\n",
    "import matplotlib.pyplot as plt\n",
    "import seaborn as sns\n",
    "\n",
    "from psql_functions import execQuery\n",
    "from miss_data import add_missing_dates, add_missing_counts\n",
    "from make_plots import dict_error_plot_epsilons, dict_error_plot_n\n",
    "\n",
    "import warnings\n",
    "warnings.filterwarnings('ignore')\n",
    "\n",
    "import sys\n",
    "import os\n",
    "import re\n",
    "owd = os.getcwd()"
   ]
  },
  {
   "cell_type": "code",
   "execution_count": 2,
   "id": "assisted-interest",
   "metadata": {},
   "outputs": [
    {
     "name": "stdout",
     "output_type": "stream",
     "text": [
      "Executed query and closed connection.\n",
      "Executed query and closed connection.\n"
     ]
    }
   ],
   "source": [
    "param_dic = {\n",
    "    \"host\"      : \"localhost\",\n",
    "    \"database\"  : \"bachelorBesoeg2014\",\n",
    "    \"user\"      : \"postgres\",\n",
    "    \"password\"  : \"password\",\n",
    "    \"port\"      : \"5432\"\n",
    "}\n",
    "\n",
    "query = \"\"\"select time_ from _775147;\"\"\"\n",
    "result = execQuery(param_dic, query)\n",
    "dates = [(date[0]) for date in result]\n",
    "\n",
    "query = \"\"\"select count_ from _775147;\"\"\"\n",
    "result = execQuery(param_dic, query)\n",
    "\n",
    "counts = [(count[0]) for count in result]\n",
    "\n",
    "all_dates = add_missing_dates(dates)\n",
    "all_counts =  add_missing_counts(counts, dates, all_dates)\n",
    "\n",
    "n_data_structures = 50\n"
   ]
  },
  {
   "cell_type": "code",
   "execution_count": 3,
   "id": "conscious-rugby",
   "metadata": {},
   "outputs": [],
   "source": [
    "onlydirs = [f for f in os.listdir(os.getcwd()) if os.path.isdir(os.path.join(os.getcwd(), f)) and f[0] != '.']"
   ]
  },
  {
   "cell_type": "code",
   "execution_count": 4,
   "id": "speaking-drama",
   "metadata": {},
   "outputs": [
    {
     "data": {
      "text/plain": [
       "['Data', 'plots', 'range_queries', 'results', '__pycache__']"
      ]
     },
     "execution_count": 4,
     "metadata": {},
     "output_type": "execute_result"
    }
   ],
   "source": [
    "onlydirs"
   ]
  },
  {
   "cell_type": "code",
   "execution_count": 5,
   "id": "mental-therapist",
   "metadata": {},
   "outputs": [],
   "source": [
    "def make_lookup_error_dict_e_n(epsilons, n):\n",
    "    epsilon_dict = dict.fromkeys(epsilons)\n",
    "    n_dicts = []\n",
    "    for i in range(0,len(epsilons)):\n",
    "        n_dict = dict.fromkeys(n)\n",
    "        n_dicts.append(n_dict)\n",
    "\n",
    "    i = 0\n",
    "    for e_key in epsilon_dict:\n",
    "        epsilon_dict[e_key] = n_dicts[i]\n",
    "        i = i + 1\n",
    "    return epsilon_dict\n",
    "\n",
    "def make_query_lookup_dict_n_r(n, rs):\n",
    "    n_dict = dict.fromkeys(n)\n",
    "    r_dicts = []\n",
    "    for i in range(0,len(n)):\n",
    "        #print(rs[i])\n",
    "        r_dict = dict.fromkeys(rs[i])\n",
    "        r_dicts.append(r_dict)\n",
    "\n",
    "    for idx, n_key in enumerate(n_dict):\n",
    "            n_dict[n_key] = r_dicts[idx]\n",
    "    \n",
    "    return n_dict\n",
    "\n",
    "def fill_up_query_lookup_dict_n_r(n, rs, files):\n",
    "    dict_ = make_query_lookup_dict_n_r(n, rs)\n",
    "    for idx, f in enumerate(files):\n",
    "        here_n = re.search(r'N=\\d+', f).group(0)\n",
    "        here_n = here_n.split(\"N=\")[1]\n",
    "        here_r = re.search(r'r=\\d+', f).group(0) \n",
    "        here_r = here_r.split(\"r=\")[1]\n",
    "        \n",
    "        querries = load_range_queries_n_split(f, n_data_structures)\n",
    "        dict_[int(here_n)][int(here_r)] = querries.copy()\n",
    "    return dict_"
   ]
  },
  {
   "cell_type": "code",
   "execution_count": 6,
   "id": "stable-alabama",
   "metadata": {},
   "outputs": [],
   "source": [
    "def make_lookup_error_dict(epsilons, n, rs):\n",
    "    epsilon_dict = dict.fromkeys(epsilons)\n",
    "    n_dicts = []\n",
    "    for i in range(0,len(epsilons)):\n",
    "        n_dict = dict.fromkeys(n)\n",
    "        n_dicts.append(n_dict)\n",
    "    r_dicts = []\n",
    "    for i in range(0,len(n)*len(epsilons)):\n",
    "        r_dict = dict.fromkeys(rs[i%len(n)])\n",
    "        r_dicts.append(r_dict)\n",
    "    i = 0\n",
    "    j = 0\n",
    "    for e_key in epsilon_dict:\n",
    "        epsilon_dict[e_key] = n_dicts[i]\n",
    "        n_dict = epsilon_dict[e_key]\n",
    "        for n_key in n_dict:\n",
    "            #print(j)\n",
    "            n_dict[n_key] = r_dicts[j]\n",
    "            j = j + 1\n",
    "        i = i + 1\n",
    "    return epsilon_dict\n",
    "\n",
    "\n",
    "def fill_up_lookup_error_dict(epsilons, n, degrees, files):\n",
    "    dict_ = make_lookup_error_dict(epsilons, n, degrees)\n",
    "    for idx, f in enumerate(files):\n",
    "        e = re.search(r'e=[-+]?[0-9]*\\.?[0-9]*', f).group(0)\n",
    "        e = e.split(\"e=\")[1]\n",
    "        here_n = re.search(r'N=\\d+', f).group(0)\n",
    "        here_n = here_n.split(\"N=\")[1]\n",
    "        here_r = re.search(r'r=\\d+', f).group(0) \n",
    "        here_r = here_r.split(\"r=\")[1]\n",
    "\n",
    "        dict_[float(e)][int(here_n)][int(here_r)] = np.loadtxt(f, delimiter=',')\n",
    "    return dict_\n",
    "\n",
    "def find_error_different_queries(est, cor):\n",
    "    erorrs = est - cor\n",
    "    max_error = np.amax(erorrs)\n",
    "    min_error = np.amin(erorrs)\n",
    "    rmse = mean_squared_error(cor, est, squared = False)\n",
    "    error_dict = {'rmse': rmse, 'max': max_error, 'min': min_error, 'abs': np.mean(erorrs)}\n",
    "    return error_dict"
   ]
  },
  {
   "cell_type": "code",
   "execution_count": 7,
   "id": "preliminary-thing",
   "metadata": {},
   "outputs": [],
   "source": [
    "epsilons = np.array([2, 1.4, 1.2, 1, 0.8, 0.6, 0.5, 0.3])\n",
    "n = np.array([32,128,256,512,1024,2048])\n",
    "flat_r_32 =  np.array([2, 4, 8, 12, 16, 20, 24])\n",
    "flat_r_128 =  np.array([20, 40, 50, 60, 70, 80, 90])\n",
    "flat_r_256 =  np.array([40, 60, 80, 100, 140, 200, 220])\n",
    "flat_r_512 =  np.array([100, 150, 200, 250, 300, 400, 450])\n",
    "flat_r_1024 =  np.array([200, 300, 400, 500, 600, 800, 900])\n",
    "flat_r_2048 =  np.array([600, 800, 1000, 1250, 1500, 1700, 1800])\n",
    "\n",
    "rs = [flat_r_32, flat_r_128, flat_r_256, flat_r_512, flat_r_1024, flat_r_2048]"
   ]
  },
  {
   "cell_type": "code",
   "execution_count": 8,
   "id": "geological-douglas",
   "metadata": {},
   "outputs": [
    {
     "data": {
      "text/plain": [
       "336"
      ]
     },
     "execution_count": 8,
     "metadata": {},
     "output_type": "execute_result"
    }
   ],
   "source": [
    "len(epsilons)*len(n)*len(rs[0])"
   ]
  },
  {
   "cell_type": "code",
   "execution_count": null,
   "id": "stunning-depression",
   "metadata": {},
   "outputs": [],
   "source": []
  },
  {
   "cell_type": "markdown",
   "id": "variable-nickel",
   "metadata": {},
   "source": [
    "# Loading the data "
   ]
  },
  {
   "cell_type": "code",
   "execution_count": 9,
   "id": "accomplished-marina",
   "metadata": {},
   "outputs": [
    {
     "data": {
      "text/plain": [
       "'C:\\\\Users\\\\Jonas Friis\\\\Documents\\\\Universitet\\\\Bachelors-Thesis\\\\src\\\\results\\\\sample_querys\\\\flat_varying_r'"
      ]
     },
     "execution_count": 9,
     "metadata": {},
     "output_type": "execute_result"
    }
   ],
   "source": [
    "#C:\\Users\\Jonas Friis\\Documents\\Universitet\\Bachelors-Thesis\\src\\results\\sample_querys\\local_hh\n",
    "os.chdir(os.getcwd()+'/'+'results/sample_querys/flat_varying_r/')\n",
    "os.getcwd()"
   ]
  },
  {
   "cell_type": "code",
   "execution_count": 10,
   "id": "portable-bearing",
   "metadata": {
    "scrolled": true
   },
   "outputs": [
    {
     "name": "stdout",
     "output_type": "stream",
     "text": [
      "['cor_e=0.3_N=1024_r=200.csv', 'cor_e=0.3_N=1024_r=300.csv', 'cor_e=0.3_N=1024_r=400.csv', 'cor_e=0.3_N=1024_r=500.csv', 'cor_e=0.3_N=1024_r=600.csv', 'cor_e=0.3_N=1024_r=800.csv', 'cor_e=0.3_N=1024_r=900.csv', 'cor_e=0.3_N=128_r=20.csv', 'cor_e=0.3_N=128_r=40.csv', 'cor_e=0.3_N=128_r=50.csv', 'cor_e=0.3_N=128_r=60.csv', 'cor_e=0.3_N=128_r=70.csv', 'cor_e=0.3_N=128_r=80.csv', 'cor_e=0.3_N=128_r=90.csv', 'cor_e=0.3_N=2048_r=1000.csv', 'cor_e=0.3_N=2048_r=1250.csv', 'cor_e=0.3_N=2048_r=1500.csv', 'cor_e=0.3_N=2048_r=1700.csv', 'cor_e=0.3_N=2048_r=1800.csv', 'cor_e=0.3_N=2048_r=600.csv', 'cor_e=0.3_N=2048_r=800.csv', 'cor_e=0.3_N=2048_r=900.csv', 'cor_e=0.3_N=256_r=100.csv', 'cor_e=0.3_N=256_r=140.csv', 'cor_e=0.3_N=256_r=200.csv', 'cor_e=0.3_N=256_r=220.csv', 'cor_e=0.3_N=256_r=40.csv', 'cor_e=0.3_N=256_r=60.csv', 'cor_e=0.3_N=256_r=80.csv', 'cor_e=0.3_N=32_r=12.csv', 'cor_e=0.3_N=32_r=16.csv', 'cor_e=0.3_N=32_r=2.csv', 'cor_e=0.3_N=32_r=20.csv', 'cor_e=0.3_N=32_r=24.csv', 'cor_e=0.3_N=32_r=4.csv', 'cor_e=0.3_N=32_r=8.csv', 'cor_e=0.3_N=512_r=100.csv', 'cor_e=0.3_N=512_r=150.csv', 'cor_e=0.3_N=512_r=200.csv', 'cor_e=0.3_N=512_r=250.csv', 'cor_e=0.3_N=512_r=300.csv', 'cor_e=0.3_N=512_r=400.csv', 'cor_e=0.3_N=512_r=450.csv', 'cor_e=0.5_N=1024_r=200.csv', 'cor_e=0.5_N=1024_r=300.csv', 'cor_e=0.5_N=1024_r=400.csv', 'cor_e=0.5_N=1024_r=500.csv', 'cor_e=0.5_N=1024_r=600.csv', 'cor_e=0.5_N=1024_r=800.csv', 'cor_e=0.5_N=1024_r=900.csv', 'cor_e=0.5_N=128_r=20.csv', 'cor_e=0.5_N=128_r=40.csv', 'cor_e=0.5_N=128_r=50.csv', 'cor_e=0.5_N=128_r=60.csv', 'cor_e=0.5_N=128_r=70.csv', 'cor_e=0.5_N=128_r=80.csv', 'cor_e=0.5_N=128_r=90.csv', 'cor_e=0.5_N=2048_r=1000.csv', 'cor_e=0.5_N=2048_r=1250.csv', 'cor_e=0.5_N=2048_r=1500.csv', 'cor_e=0.5_N=2048_r=1700.csv', 'cor_e=0.5_N=2048_r=1800.csv', 'cor_e=0.5_N=2048_r=600.csv', 'cor_e=0.5_N=2048_r=800.csv', 'cor_e=0.5_N=2048_r=900.csv', 'cor_e=0.5_N=256_r=100.csv', 'cor_e=0.5_N=256_r=140.csv', 'cor_e=0.5_N=256_r=200.csv', 'cor_e=0.5_N=256_r=220.csv', 'cor_e=0.5_N=256_r=40.csv', 'cor_e=0.5_N=256_r=60.csv', 'cor_e=0.5_N=256_r=80.csv', 'cor_e=0.5_N=32_r=12.csv', 'cor_e=0.5_N=32_r=16.csv', 'cor_e=0.5_N=32_r=2.csv', 'cor_e=0.5_N=32_r=20.csv', 'cor_e=0.5_N=32_r=24.csv', 'cor_e=0.5_N=32_r=4.csv', 'cor_e=0.5_N=32_r=8.csv', 'cor_e=0.5_N=512_r=100.csv', 'cor_e=0.5_N=512_r=150.csv', 'cor_e=0.5_N=512_r=200.csv', 'cor_e=0.5_N=512_r=250.csv', 'cor_e=0.5_N=512_r=300.csv', 'cor_e=0.5_N=512_r=400.csv', 'cor_e=0.5_N=512_r=450.csv', 'cor_e=0.6_N=1024_r=200.csv', 'cor_e=0.6_N=1024_r=300.csv', 'cor_e=0.6_N=1024_r=400.csv', 'cor_e=0.6_N=1024_r=500.csv', 'cor_e=0.6_N=1024_r=600.csv', 'cor_e=0.6_N=1024_r=800.csv', 'cor_e=0.6_N=1024_r=900.csv', 'cor_e=0.6_N=128_r=20.csv', 'cor_e=0.6_N=128_r=40.csv', 'cor_e=0.6_N=128_r=50.csv', 'cor_e=0.6_N=128_r=60.csv', 'cor_e=0.6_N=128_r=70.csv', 'cor_e=0.6_N=128_r=80.csv', 'cor_e=0.6_N=128_r=90.csv', 'cor_e=0.6_N=2048_r=1000.csv', 'cor_e=0.6_N=2048_r=1250.csv', 'cor_e=0.6_N=2048_r=1500.csv', 'cor_e=0.6_N=2048_r=1700.csv', 'cor_e=0.6_N=2048_r=1800.csv', 'cor_e=0.6_N=2048_r=600.csv', 'cor_e=0.6_N=2048_r=800.csv', 'cor_e=0.6_N=2048_r=900.csv', 'cor_e=0.6_N=256_r=100.csv', 'cor_e=0.6_N=256_r=140.csv', 'cor_e=0.6_N=256_r=200.csv', 'cor_e=0.6_N=256_r=220.csv', 'cor_e=0.6_N=256_r=40.csv', 'cor_e=0.6_N=256_r=60.csv', 'cor_e=0.6_N=256_r=80.csv', 'cor_e=0.6_N=32_r=12.csv', 'cor_e=0.6_N=32_r=16.csv', 'cor_e=0.6_N=32_r=2.csv', 'cor_e=0.6_N=32_r=20.csv', 'cor_e=0.6_N=32_r=24.csv', 'cor_e=0.6_N=32_r=4.csv', 'cor_e=0.6_N=32_r=8.csv', 'cor_e=0.6_N=512_r=100.csv', 'cor_e=0.6_N=512_r=150.csv', 'cor_e=0.6_N=512_r=200.csv', 'cor_e=0.6_N=512_r=250.csv', 'cor_e=0.6_N=512_r=300.csv', 'cor_e=0.6_N=512_r=400.csv', 'cor_e=0.6_N=512_r=450.csv', 'cor_e=0.8_N=1024_r=200.csv', 'cor_e=0.8_N=1024_r=300.csv', 'cor_e=0.8_N=1024_r=400.csv', 'cor_e=0.8_N=1024_r=500.csv', 'cor_e=0.8_N=1024_r=600.csv', 'cor_e=0.8_N=1024_r=800.csv', 'cor_e=0.8_N=1024_r=900.csv', 'cor_e=0.8_N=128_r=20.csv', 'cor_e=0.8_N=128_r=40.csv', 'cor_e=0.8_N=128_r=50.csv', 'cor_e=0.8_N=128_r=60.csv', 'cor_e=0.8_N=128_r=70.csv', 'cor_e=0.8_N=128_r=80.csv', 'cor_e=0.8_N=128_r=90.csv', 'cor_e=0.8_N=2048_r=1000.csv', 'cor_e=0.8_N=2048_r=1250.csv', 'cor_e=0.8_N=2048_r=1500.csv', 'cor_e=0.8_N=2048_r=1700.csv', 'cor_e=0.8_N=2048_r=1800.csv', 'cor_e=0.8_N=2048_r=600.csv', 'cor_e=0.8_N=2048_r=800.csv', 'cor_e=0.8_N=2048_r=900.csv', 'cor_e=0.8_N=256_r=100.csv', 'cor_e=0.8_N=256_r=140.csv', 'cor_e=0.8_N=256_r=200.csv', 'cor_e=0.8_N=256_r=220.csv', 'cor_e=0.8_N=256_r=40.csv', 'cor_e=0.8_N=256_r=60.csv', 'cor_e=0.8_N=256_r=80.csv', 'cor_e=0.8_N=32_r=12.csv', 'cor_e=0.8_N=32_r=16.csv', 'cor_e=0.8_N=32_r=2.csv', 'cor_e=0.8_N=32_r=20.csv', 'cor_e=0.8_N=32_r=24.csv', 'cor_e=0.8_N=32_r=4.csv', 'cor_e=0.8_N=32_r=8.csv', 'cor_e=0.8_N=512_r=100.csv', 'cor_e=0.8_N=512_r=150.csv', 'cor_e=0.8_N=512_r=200.csv', 'cor_e=0.8_N=512_r=250.csv', 'cor_e=0.8_N=512_r=300.csv', 'cor_e=0.8_N=512_r=400.csv', 'cor_e=0.8_N=512_r=450.csv', 'cor_e=1.0_N=1024_r=200.csv', 'cor_e=1.0_N=1024_r=300.csv', 'cor_e=1.0_N=1024_r=400.csv', 'cor_e=1.0_N=1024_r=500.csv', 'cor_e=1.0_N=1024_r=600.csv', 'cor_e=1.0_N=1024_r=800.csv', 'cor_e=1.0_N=1024_r=900.csv', 'cor_e=1.0_N=128_r=20.csv', 'cor_e=1.0_N=128_r=40.csv', 'cor_e=1.0_N=128_r=50.csv', 'cor_e=1.0_N=128_r=60.csv', 'cor_e=1.0_N=128_r=70.csv', 'cor_e=1.0_N=128_r=80.csv', 'cor_e=1.0_N=128_r=90.csv', 'cor_e=1.0_N=2048_r=1000.csv', 'cor_e=1.0_N=2048_r=1250.csv', 'cor_e=1.0_N=2048_r=1500.csv', 'cor_e=1.0_N=2048_r=1700.csv', 'cor_e=1.0_N=2048_r=1800.csv', 'cor_e=1.0_N=2048_r=600.csv', 'cor_e=1.0_N=2048_r=800.csv', 'cor_e=1.0_N=2048_r=900.csv', 'cor_e=1.0_N=256_r=100.csv', 'cor_e=1.0_N=256_r=140.csv', 'cor_e=1.0_N=256_r=200.csv', 'cor_e=1.0_N=256_r=220.csv', 'cor_e=1.0_N=256_r=40.csv', 'cor_e=1.0_N=256_r=60.csv', 'cor_e=1.0_N=256_r=80.csv', 'cor_e=1.0_N=32_r=12.csv', 'cor_e=1.0_N=32_r=16.csv', 'cor_e=1.0_N=32_r=2.csv', 'cor_e=1.0_N=32_r=20.csv', 'cor_e=1.0_N=32_r=24.csv', 'cor_e=1.0_N=32_r=4.csv', 'cor_e=1.0_N=32_r=8.csv', 'cor_e=1.0_N=512_r=100.csv', 'cor_e=1.0_N=512_r=150.csv', 'cor_e=1.0_N=512_r=200.csv', 'cor_e=1.0_N=512_r=250.csv', 'cor_e=1.0_N=512_r=300.csv', 'cor_e=1.0_N=512_r=400.csv', 'cor_e=1.0_N=512_r=450.csv', 'cor_e=1.2_N=1024_r=200.csv', 'cor_e=1.2_N=1024_r=300.csv', 'cor_e=1.2_N=1024_r=400.csv', 'cor_e=1.2_N=1024_r=500.csv', 'cor_e=1.2_N=1024_r=600.csv', 'cor_e=1.2_N=1024_r=800.csv', 'cor_e=1.2_N=1024_r=900.csv', 'cor_e=1.2_N=128_r=20.csv', 'cor_e=1.2_N=128_r=40.csv', 'cor_e=1.2_N=128_r=50.csv', 'cor_e=1.2_N=128_r=60.csv', 'cor_e=1.2_N=128_r=70.csv', 'cor_e=1.2_N=128_r=80.csv', 'cor_e=1.2_N=128_r=90.csv', 'cor_e=1.2_N=2048_r=1000.csv', 'cor_e=1.2_N=2048_r=1250.csv', 'cor_e=1.2_N=2048_r=1500.csv', 'cor_e=1.2_N=2048_r=1700.csv', 'cor_e=1.2_N=2048_r=1800.csv', 'cor_e=1.2_N=2048_r=600.csv', 'cor_e=1.2_N=2048_r=800.csv', 'cor_e=1.2_N=2048_r=900.csv', 'cor_e=1.2_N=256_r=100.csv', 'cor_e=1.2_N=256_r=140.csv', 'cor_e=1.2_N=256_r=200.csv', 'cor_e=1.2_N=256_r=220.csv', 'cor_e=1.2_N=256_r=40.csv', 'cor_e=1.2_N=256_r=60.csv', 'cor_e=1.2_N=256_r=80.csv', 'cor_e=1.2_N=32_r=12.csv', 'cor_e=1.2_N=32_r=16.csv', 'cor_e=1.2_N=32_r=2.csv', 'cor_e=1.2_N=32_r=20.csv', 'cor_e=1.2_N=32_r=24.csv', 'cor_e=1.2_N=32_r=4.csv', 'cor_e=1.2_N=32_r=8.csv', 'cor_e=1.2_N=512_r=100.csv', 'cor_e=1.2_N=512_r=150.csv', 'cor_e=1.2_N=512_r=200.csv', 'cor_e=1.2_N=512_r=250.csv', 'cor_e=1.2_N=512_r=300.csv', 'cor_e=1.2_N=512_r=400.csv', 'cor_e=1.2_N=512_r=450.csv', 'cor_e=1.4_N=1024_r=200.csv', 'cor_e=1.4_N=1024_r=300.csv', 'cor_e=1.4_N=1024_r=400.csv', 'cor_e=1.4_N=1024_r=500.csv', 'cor_e=1.4_N=1024_r=600.csv', 'cor_e=1.4_N=1024_r=800.csv', 'cor_e=1.4_N=1024_r=900.csv', 'cor_e=1.4_N=128_r=20.csv', 'cor_e=1.4_N=128_r=40.csv', 'cor_e=1.4_N=128_r=50.csv', 'cor_e=1.4_N=128_r=60.csv', 'cor_e=1.4_N=128_r=70.csv', 'cor_e=1.4_N=128_r=80.csv', 'cor_e=1.4_N=128_r=90.csv', 'cor_e=1.4_N=2048_r=1000.csv', 'cor_e=1.4_N=2048_r=1250.csv', 'cor_e=1.4_N=2048_r=1500.csv', 'cor_e=1.4_N=2048_r=1700.csv', 'cor_e=1.4_N=2048_r=1800.csv', 'cor_e=1.4_N=2048_r=600.csv', 'cor_e=1.4_N=2048_r=800.csv', 'cor_e=1.4_N=2048_r=900.csv', 'cor_e=1.4_N=256_r=100.csv', 'cor_e=1.4_N=256_r=140.csv', 'cor_e=1.4_N=256_r=200.csv', 'cor_e=1.4_N=256_r=220.csv', 'cor_e=1.4_N=256_r=40.csv', 'cor_e=1.4_N=256_r=60.csv', 'cor_e=1.4_N=256_r=80.csv', 'cor_e=1.4_N=32_r=12.csv', 'cor_e=1.4_N=32_r=16.csv', 'cor_e=1.4_N=32_r=2.csv', 'cor_e=1.4_N=32_r=20.csv', 'cor_e=1.4_N=32_r=24.csv', 'cor_e=1.4_N=32_r=4.csv', 'cor_e=1.4_N=32_r=8.csv', 'cor_e=1.4_N=512_r=100.csv', 'cor_e=1.4_N=512_r=150.csv', 'cor_e=1.4_N=512_r=200.csv', 'cor_e=1.4_N=512_r=250.csv', 'cor_e=1.4_N=512_r=300.csv', 'cor_e=1.4_N=512_r=400.csv', 'cor_e=1.4_N=512_r=450.csv', 'cor_e=2.0_N=1024_r=200.csv', 'cor_e=2.0_N=1024_r=300.csv', 'cor_e=2.0_N=1024_r=400.csv', 'cor_e=2.0_N=1024_r=500.csv', 'cor_e=2.0_N=1024_r=600.csv', 'cor_e=2.0_N=1024_r=800.csv', 'cor_e=2.0_N=1024_r=900.csv', 'cor_e=2.0_N=128_r=20.csv', 'cor_e=2.0_N=128_r=40.csv', 'cor_e=2.0_N=128_r=50.csv', 'cor_e=2.0_N=128_r=60.csv', 'cor_e=2.0_N=128_r=70.csv', 'cor_e=2.0_N=128_r=80.csv', 'cor_e=2.0_N=128_r=90.csv', 'cor_e=2.0_N=2048_r=1000.csv', 'cor_e=2.0_N=2048_r=1250.csv', 'cor_e=2.0_N=2048_r=1500.csv', 'cor_e=2.0_N=2048_r=1700.csv', 'cor_e=2.0_N=2048_r=1800.csv', 'cor_e=2.0_N=2048_r=600.csv', 'cor_e=2.0_N=2048_r=800.csv', 'cor_e=2.0_N=2048_r=900.csv', 'cor_e=2.0_N=256_r=100.csv', 'cor_e=2.0_N=256_r=140.csv', 'cor_e=2.0_N=256_r=200.csv', 'cor_e=2.0_N=256_r=220.csv', 'cor_e=2.0_N=256_r=40.csv', 'cor_e=2.0_N=256_r=60.csv', 'cor_e=2.0_N=256_r=80.csv', 'cor_e=2.0_N=32_r=12.csv', 'cor_e=2.0_N=32_r=16.csv', 'cor_e=2.0_N=32_r=2.csv', 'cor_e=2.0_N=32_r=20.csv', 'cor_e=2.0_N=32_r=24.csv', 'cor_e=2.0_N=32_r=4.csv', 'cor_e=2.0_N=32_r=8.csv', 'cor_e=2.0_N=512_r=100.csv', 'cor_e=2.0_N=512_r=150.csv', 'cor_e=2.0_N=512_r=200.csv', 'cor_e=2.0_N=512_r=250.csv', 'cor_e=2.0_N=512_r=300.csv', 'cor_e=2.0_N=512_r=400.csv', 'cor_e=2.0_N=512_r=450.csv']\n",
      "344\n",
      "['est_e=0.3_N=1024_r=200.csv', 'est_e=0.3_N=1024_r=300.csv', 'est_e=0.3_N=1024_r=400.csv', 'est_e=0.3_N=1024_r=500.csv', 'est_e=0.3_N=1024_r=600.csv', 'est_e=0.3_N=1024_r=800.csv', 'est_e=0.3_N=1024_r=900.csv', 'est_e=0.3_N=128_r=20.csv', 'est_e=0.3_N=128_r=40.csv', 'est_e=0.3_N=128_r=50.csv', 'est_e=0.3_N=128_r=60.csv', 'est_e=0.3_N=128_r=70.csv', 'est_e=0.3_N=128_r=80.csv', 'est_e=0.3_N=128_r=90.csv', 'est_e=0.3_N=2048_r=1000.csv', 'est_e=0.3_N=2048_r=1250.csv', 'est_e=0.3_N=2048_r=1500.csv', 'est_e=0.3_N=2048_r=1700.csv', 'est_e=0.3_N=2048_r=1800.csv', 'est_e=0.3_N=2048_r=600.csv', 'est_e=0.3_N=2048_r=800.csv', 'est_e=0.3_N=2048_r=900.csv', 'est_e=0.3_N=256_r=100.csv', 'est_e=0.3_N=256_r=140.csv', 'est_e=0.3_N=256_r=200.csv', 'est_e=0.3_N=256_r=220.csv', 'est_e=0.3_N=256_r=40.csv', 'est_e=0.3_N=256_r=60.csv', 'est_e=0.3_N=256_r=80.csv', 'est_e=0.3_N=32_r=12.csv', 'est_e=0.3_N=32_r=16.csv', 'est_e=0.3_N=32_r=2.csv', 'est_e=0.3_N=32_r=20.csv', 'est_e=0.3_N=32_r=24.csv', 'est_e=0.3_N=32_r=4.csv', 'est_e=0.3_N=32_r=8.csv', 'est_e=0.3_N=512_r=100.csv', 'est_e=0.3_N=512_r=150.csv', 'est_e=0.3_N=512_r=200.csv', 'est_e=0.3_N=512_r=250.csv', 'est_e=0.3_N=512_r=300.csv', 'est_e=0.3_N=512_r=400.csv', 'est_e=0.3_N=512_r=450.csv', 'est_e=0.5_N=1024_r=200.csv', 'est_e=0.5_N=1024_r=300.csv', 'est_e=0.5_N=1024_r=400.csv', 'est_e=0.5_N=1024_r=500.csv', 'est_e=0.5_N=1024_r=600.csv', 'est_e=0.5_N=1024_r=800.csv', 'est_e=0.5_N=1024_r=900.csv', 'est_e=0.5_N=128_r=20.csv', 'est_e=0.5_N=128_r=40.csv', 'est_e=0.5_N=128_r=50.csv', 'est_e=0.5_N=128_r=60.csv', 'est_e=0.5_N=128_r=70.csv', 'est_e=0.5_N=128_r=80.csv', 'est_e=0.5_N=128_r=90.csv', 'est_e=0.5_N=2048_r=1000.csv', 'est_e=0.5_N=2048_r=1250.csv', 'est_e=0.5_N=2048_r=1500.csv', 'est_e=0.5_N=2048_r=1700.csv', 'est_e=0.5_N=2048_r=1800.csv', 'est_e=0.5_N=2048_r=600.csv', 'est_e=0.5_N=2048_r=800.csv', 'est_e=0.5_N=2048_r=900.csv', 'est_e=0.5_N=256_r=100.csv', 'est_e=0.5_N=256_r=140.csv', 'est_e=0.5_N=256_r=200.csv', 'est_e=0.5_N=256_r=220.csv', 'est_e=0.5_N=256_r=40.csv', 'est_e=0.5_N=256_r=60.csv', 'est_e=0.5_N=256_r=80.csv', 'est_e=0.5_N=32_r=12.csv', 'est_e=0.5_N=32_r=16.csv', 'est_e=0.5_N=32_r=2.csv', 'est_e=0.5_N=32_r=20.csv', 'est_e=0.5_N=32_r=24.csv', 'est_e=0.5_N=32_r=4.csv', 'est_e=0.5_N=32_r=8.csv', 'est_e=0.5_N=512_r=100.csv', 'est_e=0.5_N=512_r=150.csv', 'est_e=0.5_N=512_r=200.csv', 'est_e=0.5_N=512_r=250.csv', 'est_e=0.5_N=512_r=300.csv', 'est_e=0.5_N=512_r=400.csv', 'est_e=0.5_N=512_r=450.csv', 'est_e=0.6_N=1024_r=200.csv', 'est_e=0.6_N=1024_r=300.csv', 'est_e=0.6_N=1024_r=400.csv', 'est_e=0.6_N=1024_r=500.csv', 'est_e=0.6_N=1024_r=600.csv', 'est_e=0.6_N=1024_r=800.csv', 'est_e=0.6_N=1024_r=900.csv', 'est_e=0.6_N=128_r=20.csv', 'est_e=0.6_N=128_r=40.csv', 'est_e=0.6_N=128_r=50.csv', 'est_e=0.6_N=128_r=60.csv', 'est_e=0.6_N=128_r=70.csv', 'est_e=0.6_N=128_r=80.csv', 'est_e=0.6_N=128_r=90.csv', 'est_e=0.6_N=2048_r=1000.csv', 'est_e=0.6_N=2048_r=1250.csv', 'est_e=0.6_N=2048_r=1500.csv', 'est_e=0.6_N=2048_r=1700.csv', 'est_e=0.6_N=2048_r=1800.csv', 'est_e=0.6_N=2048_r=600.csv', 'est_e=0.6_N=2048_r=800.csv', 'est_e=0.6_N=2048_r=900.csv', 'est_e=0.6_N=256_r=100.csv', 'est_e=0.6_N=256_r=140.csv', 'est_e=0.6_N=256_r=200.csv', 'est_e=0.6_N=256_r=220.csv', 'est_e=0.6_N=256_r=40.csv', 'est_e=0.6_N=256_r=60.csv', 'est_e=0.6_N=256_r=80.csv', 'est_e=0.6_N=32_r=12.csv', 'est_e=0.6_N=32_r=16.csv', 'est_e=0.6_N=32_r=2.csv', 'est_e=0.6_N=32_r=20.csv', 'est_e=0.6_N=32_r=24.csv', 'est_e=0.6_N=32_r=4.csv', 'est_e=0.6_N=32_r=8.csv', 'est_e=0.6_N=512_r=100.csv', 'est_e=0.6_N=512_r=150.csv', 'est_e=0.6_N=512_r=200.csv', 'est_e=0.6_N=512_r=250.csv', 'est_e=0.6_N=512_r=300.csv', 'est_e=0.6_N=512_r=400.csv', 'est_e=0.6_N=512_r=450.csv', 'est_e=0.8_N=1024_r=200.csv', 'est_e=0.8_N=1024_r=300.csv', 'est_e=0.8_N=1024_r=400.csv', 'est_e=0.8_N=1024_r=500.csv', 'est_e=0.8_N=1024_r=600.csv', 'est_e=0.8_N=1024_r=800.csv', 'est_e=0.8_N=1024_r=900.csv', 'est_e=0.8_N=128_r=20.csv', 'est_e=0.8_N=128_r=40.csv', 'est_e=0.8_N=128_r=50.csv', 'est_e=0.8_N=128_r=60.csv', 'est_e=0.8_N=128_r=70.csv', 'est_e=0.8_N=128_r=80.csv', 'est_e=0.8_N=128_r=90.csv', 'est_e=0.8_N=2048_r=1000.csv', 'est_e=0.8_N=2048_r=1250.csv', 'est_e=0.8_N=2048_r=1500.csv', 'est_e=0.8_N=2048_r=1700.csv', 'est_e=0.8_N=2048_r=1800.csv', 'est_e=0.8_N=2048_r=600.csv', 'est_e=0.8_N=2048_r=800.csv', 'est_e=0.8_N=2048_r=900.csv', 'est_e=0.8_N=256_r=100.csv', 'est_e=0.8_N=256_r=140.csv', 'est_e=0.8_N=256_r=200.csv', 'est_e=0.8_N=256_r=220.csv', 'est_e=0.8_N=256_r=40.csv', 'est_e=0.8_N=256_r=60.csv', 'est_e=0.8_N=256_r=80.csv', 'est_e=0.8_N=32_r=12.csv', 'est_e=0.8_N=32_r=16.csv', 'est_e=0.8_N=32_r=2.csv', 'est_e=0.8_N=32_r=20.csv', 'est_e=0.8_N=32_r=24.csv', 'est_e=0.8_N=32_r=4.csv', 'est_e=0.8_N=32_r=8.csv', 'est_e=0.8_N=512_r=100.csv', 'est_e=0.8_N=512_r=150.csv', 'est_e=0.8_N=512_r=200.csv', 'est_e=0.8_N=512_r=250.csv', 'est_e=0.8_N=512_r=300.csv', 'est_e=0.8_N=512_r=400.csv', 'est_e=0.8_N=512_r=450.csv', 'est_e=1.0_N=1024_r=200.csv', 'est_e=1.0_N=1024_r=300.csv', 'est_e=1.0_N=1024_r=400.csv', 'est_e=1.0_N=1024_r=500.csv', 'est_e=1.0_N=1024_r=600.csv', 'est_e=1.0_N=1024_r=800.csv', 'est_e=1.0_N=1024_r=900.csv', 'est_e=1.0_N=128_r=20.csv', 'est_e=1.0_N=128_r=40.csv', 'est_e=1.0_N=128_r=50.csv', 'est_e=1.0_N=128_r=60.csv', 'est_e=1.0_N=128_r=70.csv', 'est_e=1.0_N=128_r=80.csv', 'est_e=1.0_N=128_r=90.csv', 'est_e=1.0_N=2048_r=1000.csv', 'est_e=1.0_N=2048_r=1250.csv', 'est_e=1.0_N=2048_r=1500.csv', 'est_e=1.0_N=2048_r=1700.csv', 'est_e=1.0_N=2048_r=1800.csv', 'est_e=1.0_N=2048_r=600.csv', 'est_e=1.0_N=2048_r=800.csv', 'est_e=1.0_N=2048_r=900.csv', 'est_e=1.0_N=256_r=100.csv', 'est_e=1.0_N=256_r=140.csv', 'est_e=1.0_N=256_r=200.csv', 'est_e=1.0_N=256_r=220.csv', 'est_e=1.0_N=256_r=40.csv', 'est_e=1.0_N=256_r=60.csv', 'est_e=1.0_N=256_r=80.csv', 'est_e=1.0_N=32_r=12.csv', 'est_e=1.0_N=32_r=16.csv', 'est_e=1.0_N=32_r=2.csv', 'est_e=1.0_N=32_r=20.csv', 'est_e=1.0_N=32_r=24.csv', 'est_e=1.0_N=32_r=4.csv', 'est_e=1.0_N=32_r=8.csv', 'est_e=1.0_N=512_r=100.csv', 'est_e=1.0_N=512_r=150.csv', 'est_e=1.0_N=512_r=200.csv', 'est_e=1.0_N=512_r=250.csv', 'est_e=1.0_N=512_r=300.csv', 'est_e=1.0_N=512_r=400.csv', 'est_e=1.0_N=512_r=450.csv', 'est_e=1.2_N=1024_r=200.csv', 'est_e=1.2_N=1024_r=300.csv', 'est_e=1.2_N=1024_r=400.csv', 'est_e=1.2_N=1024_r=500.csv', 'est_e=1.2_N=1024_r=600.csv', 'est_e=1.2_N=1024_r=800.csv', 'est_e=1.2_N=1024_r=900.csv', 'est_e=1.2_N=128_r=20.csv', 'est_e=1.2_N=128_r=40.csv', 'est_e=1.2_N=128_r=50.csv', 'est_e=1.2_N=128_r=60.csv', 'est_e=1.2_N=128_r=70.csv', 'est_e=1.2_N=128_r=80.csv', 'est_e=1.2_N=128_r=90.csv', 'est_e=1.2_N=2048_r=1000.csv', 'est_e=1.2_N=2048_r=1250.csv', 'est_e=1.2_N=2048_r=1500.csv', 'est_e=1.2_N=2048_r=1700.csv', 'est_e=1.2_N=2048_r=1800.csv', 'est_e=1.2_N=2048_r=600.csv', 'est_e=1.2_N=2048_r=800.csv', 'est_e=1.2_N=2048_r=900.csv', 'est_e=1.2_N=256_r=100.csv', 'est_e=1.2_N=256_r=140.csv', 'est_e=1.2_N=256_r=200.csv', 'est_e=1.2_N=256_r=220.csv', 'est_e=1.2_N=256_r=40.csv', 'est_e=1.2_N=256_r=60.csv', 'est_e=1.2_N=256_r=80.csv', 'est_e=1.2_N=32_r=12.csv', 'est_e=1.2_N=32_r=16.csv', 'est_e=1.2_N=32_r=2.csv', 'est_e=1.2_N=32_r=20.csv', 'est_e=1.2_N=32_r=24.csv', 'est_e=1.2_N=32_r=4.csv', 'est_e=1.2_N=32_r=8.csv', 'est_e=1.2_N=512_r=100.csv', 'est_e=1.2_N=512_r=150.csv', 'est_e=1.2_N=512_r=200.csv', 'est_e=1.2_N=512_r=250.csv', 'est_e=1.2_N=512_r=300.csv', 'est_e=1.2_N=512_r=400.csv', 'est_e=1.2_N=512_r=450.csv', 'est_e=1.4_N=1024_r=200.csv', 'est_e=1.4_N=1024_r=300.csv', 'est_e=1.4_N=1024_r=400.csv', 'est_e=1.4_N=1024_r=500.csv', 'est_e=1.4_N=1024_r=600.csv', 'est_e=1.4_N=1024_r=800.csv', 'est_e=1.4_N=1024_r=900.csv', 'est_e=1.4_N=128_r=20.csv', 'est_e=1.4_N=128_r=40.csv', 'est_e=1.4_N=128_r=50.csv', 'est_e=1.4_N=128_r=60.csv', 'est_e=1.4_N=128_r=70.csv', 'est_e=1.4_N=128_r=80.csv', 'est_e=1.4_N=128_r=90.csv', 'est_e=1.4_N=2048_r=1000.csv', 'est_e=1.4_N=2048_r=1250.csv', 'est_e=1.4_N=2048_r=1500.csv', 'est_e=1.4_N=2048_r=1700.csv', 'est_e=1.4_N=2048_r=1800.csv', 'est_e=1.4_N=2048_r=600.csv', 'est_e=1.4_N=2048_r=800.csv', 'est_e=1.4_N=2048_r=900.csv', 'est_e=1.4_N=256_r=100.csv', 'est_e=1.4_N=256_r=140.csv', 'est_e=1.4_N=256_r=200.csv', 'est_e=1.4_N=256_r=220.csv', 'est_e=1.4_N=256_r=40.csv', 'est_e=1.4_N=256_r=60.csv', 'est_e=1.4_N=256_r=80.csv', 'est_e=1.4_N=32_r=12.csv', 'est_e=1.4_N=32_r=16.csv', 'est_e=1.4_N=32_r=2.csv', 'est_e=1.4_N=32_r=20.csv', 'est_e=1.4_N=32_r=24.csv', 'est_e=1.4_N=32_r=4.csv', 'est_e=1.4_N=32_r=8.csv', 'est_e=1.4_N=512_r=100.csv', 'est_e=1.4_N=512_r=150.csv', 'est_e=1.4_N=512_r=200.csv', 'est_e=1.4_N=512_r=250.csv', 'est_e=1.4_N=512_r=300.csv', 'est_e=1.4_N=512_r=400.csv', 'est_e=1.4_N=512_r=450.csv', 'est_e=2.0_N=1024_r=200.csv', 'est_e=2.0_N=1024_r=300.csv', 'est_e=2.0_N=1024_r=400.csv', 'est_e=2.0_N=1024_r=500.csv', 'est_e=2.0_N=1024_r=600.csv', 'est_e=2.0_N=1024_r=800.csv', 'est_e=2.0_N=1024_r=900.csv', 'est_e=2.0_N=128_r=20.csv', 'est_e=2.0_N=128_r=40.csv', 'est_e=2.0_N=128_r=50.csv', 'est_e=2.0_N=128_r=60.csv', 'est_e=2.0_N=128_r=70.csv', 'est_e=2.0_N=128_r=80.csv', 'est_e=2.0_N=128_r=90.csv', 'est_e=2.0_N=2048_r=1000.csv', 'est_e=2.0_N=2048_r=1250.csv', 'est_e=2.0_N=2048_r=1500.csv', 'est_e=2.0_N=2048_r=1700.csv', 'est_e=2.0_N=2048_r=1800.csv', 'est_e=2.0_N=2048_r=600.csv', 'est_e=2.0_N=2048_r=800.csv', 'est_e=2.0_N=2048_r=900.csv', 'est_e=2.0_N=256_r=100.csv', 'est_e=2.0_N=256_r=140.csv', 'est_e=2.0_N=256_r=200.csv', 'est_e=2.0_N=256_r=220.csv', 'est_e=2.0_N=256_r=40.csv', 'est_e=2.0_N=256_r=60.csv', 'est_e=2.0_N=256_r=80.csv', 'est_e=2.0_N=32_r=12.csv', 'est_e=2.0_N=32_r=16.csv', 'est_e=2.0_N=32_r=2.csv', 'est_e=2.0_N=32_r=20.csv', 'est_e=2.0_N=32_r=24.csv', 'est_e=2.0_N=32_r=4.csv', 'est_e=2.0_N=32_r=8.csv', 'est_e=2.0_N=512_r=100.csv', 'est_e=2.0_N=512_r=150.csv', 'est_e=2.0_N=512_r=200.csv', 'est_e=2.0_N=512_r=250.csv', 'est_e=2.0_N=512_r=300.csv', 'est_e=2.0_N=512_r=400.csv', 'est_e=2.0_N=512_r=450.csv']\n",
      "344\n"
     ]
    },
    {
     "data": {
      "text/plain": [
       "'\\n#Where flat beats hh\\nhh_files_cor_flat = hh_files_cor[:144]\\n#Where hh beats flat\\nhh_files_cor_hh = hh_files_cor[144+1:]\\n#print(hh_files_cor_flat)\\n#print(hh_files_cor_hh)\\nhh_files_est = hh_files[len(hh_files)//2:]\\nhh_files_est_flat = hh_files_est[:144]\\nhh_files_est_hh = hh_files_est[144+1:]\\n#print(hh_files_est_flat)\\n#print(hh_files_est_hh)\\n'"
      ]
     },
     "execution_count": 10,
     "metadata": {},
     "output_type": "execute_result"
    }
   ],
   "source": [
    "files = [f for f in os.listdir('.')]\n",
    "files_cor = files[:len(files)//2]\n",
    "files_est = files[len(files)//2:]\n",
    "print(files_cor)\n",
    "print(len(files_cor))\n",
    "\n",
    "print(files_est)\n",
    "print(len(files_est))\n",
    "\"\"\"\n",
    "#Where flat beats hh\n",
    "hh_files_cor_flat = hh_files_cor[:144]\n",
    "#Where hh beats flat\n",
    "hh_files_cor_hh = hh_files_cor[144+1:]\n",
    "#print(hh_files_cor_flat)\n",
    "#print(hh_files_cor_hh)\n",
    "hh_files_est = hh_files[len(hh_files)//2:]\n",
    "hh_files_est_flat = hh_files_est[:144]\n",
    "hh_files_est_hh = hh_files_est[144+1:]\n",
    "#print(hh_files_est_flat)\n",
    "#print(hh_files_est_hh)\n",
    "\"\"\""
   ]
  },
  {
   "cell_type": "code",
   "execution_count": 11,
   "id": "diverse-softball",
   "metadata": {},
   "outputs": [
    {
     "ename": "ValueError",
     "evalue": "could not convert string to float: '2014-02-06'",
     "output_type": "error",
     "traceback": [
      "\u001b[1;31m---------------------------------------------------------------------------\u001b[0m",
      "\u001b[1;31mValueError\u001b[0m                                Traceback (most recent call last)",
      "\u001b[1;32m<ipython-input-11-818c47fab201>\u001b[0m in \u001b[0;36m<module>\u001b[1;34m\u001b[0m\n\u001b[1;32m----> 1\u001b[1;33m \u001b[0mcor_dict\u001b[0m \u001b[1;33m=\u001b[0m \u001b[0mfill_up_lookup_error_dict\u001b[0m\u001b[1;33m(\u001b[0m\u001b[0mepsilons\u001b[0m\u001b[1;33m,\u001b[0m \u001b[0mn\u001b[0m\u001b[1;33m,\u001b[0m \u001b[0mrs\u001b[0m\u001b[1;33m,\u001b[0m \u001b[0mfiles_cor\u001b[0m\u001b[1;33m)\u001b[0m\u001b[1;33m\u001b[0m\u001b[1;33m\u001b[0m\u001b[0m\n\u001b[0m\u001b[0;32m      2\u001b[0m \u001b[0mest_dict\u001b[0m \u001b[1;33m=\u001b[0m \u001b[0mfill_up_lookup_error_dict\u001b[0m\u001b[1;33m(\u001b[0m\u001b[0mepsilons\u001b[0m\u001b[1;33m,\u001b[0m \u001b[0mn\u001b[0m\u001b[1;33m,\u001b[0m \u001b[0mrs\u001b[0m\u001b[1;33m,\u001b[0m \u001b[0mfiles_est\u001b[0m\u001b[1;33m)\u001b[0m\u001b[1;33m\u001b[0m\u001b[1;33m\u001b[0m\u001b[0m\n",
      "\u001b[1;32m<ipython-input-6-93a6b78e4b74>\u001b[0m in \u001b[0;36mfill_up_lookup_error_dict\u001b[1;34m(epsilons, n, degrees, files)\u001b[0m\n\u001b[0;32m     32\u001b[0m         \u001b[0mhere_r\u001b[0m \u001b[1;33m=\u001b[0m \u001b[0mhere_r\u001b[0m\u001b[1;33m.\u001b[0m\u001b[0msplit\u001b[0m\u001b[1;33m(\u001b[0m\u001b[1;34m\"r=\"\u001b[0m\u001b[1;33m)\u001b[0m\u001b[1;33m[\u001b[0m\u001b[1;36m1\u001b[0m\u001b[1;33m]\u001b[0m\u001b[1;33m\u001b[0m\u001b[1;33m\u001b[0m\u001b[0m\n\u001b[0;32m     33\u001b[0m \u001b[1;33m\u001b[0m\u001b[0m\n\u001b[1;32m---> 34\u001b[1;33m         \u001b[0mdict_\u001b[0m\u001b[1;33m[\u001b[0m\u001b[0mfloat\u001b[0m\u001b[1;33m(\u001b[0m\u001b[0me\u001b[0m\u001b[1;33m)\u001b[0m\u001b[1;33m]\u001b[0m\u001b[1;33m[\u001b[0m\u001b[0mint\u001b[0m\u001b[1;33m(\u001b[0m\u001b[0mhere_n\u001b[0m\u001b[1;33m)\u001b[0m\u001b[1;33m]\u001b[0m\u001b[1;33m[\u001b[0m\u001b[0mint\u001b[0m\u001b[1;33m(\u001b[0m\u001b[0mhere_r\u001b[0m\u001b[1;33m)\u001b[0m\u001b[1;33m]\u001b[0m \u001b[1;33m=\u001b[0m \u001b[0mnp\u001b[0m\u001b[1;33m.\u001b[0m\u001b[0mloadtxt\u001b[0m\u001b[1;33m(\u001b[0m\u001b[0mf\u001b[0m\u001b[1;33m,\u001b[0m \u001b[0mdelimiter\u001b[0m\u001b[1;33m=\u001b[0m\u001b[1;34m','\u001b[0m\u001b[1;33m)\u001b[0m\u001b[1;33m\u001b[0m\u001b[1;33m\u001b[0m\u001b[0m\n\u001b[0m\u001b[0;32m     35\u001b[0m     \u001b[1;32mreturn\u001b[0m \u001b[0mdict_\u001b[0m\u001b[1;33m\u001b[0m\u001b[1;33m\u001b[0m\u001b[0m\n\u001b[0;32m     36\u001b[0m \u001b[1;33m\u001b[0m\u001b[0m\n",
      "\u001b[1;32mE:\\anaconda\\envs\\bachelor\\lib\\site-packages\\numpy\\lib\\npyio.py\u001b[0m in \u001b[0;36mloadtxt\u001b[1;34m(fname, dtype, comments, delimiter, converters, skiprows, usecols, unpack, ndmin, encoding, max_rows)\u001b[0m\n\u001b[0;32m   1137\u001b[0m         \u001b[1;31m# converting the data\u001b[0m\u001b[1;33m\u001b[0m\u001b[1;33m\u001b[0m\u001b[1;33m\u001b[0m\u001b[0m\n\u001b[0;32m   1138\u001b[0m         \u001b[0mX\u001b[0m \u001b[1;33m=\u001b[0m \u001b[1;32mNone\u001b[0m\u001b[1;33m\u001b[0m\u001b[1;33m\u001b[0m\u001b[0m\n\u001b[1;32m-> 1139\u001b[1;33m         \u001b[1;32mfor\u001b[0m \u001b[0mx\u001b[0m \u001b[1;32min\u001b[0m \u001b[0mread_data\u001b[0m\u001b[1;33m(\u001b[0m\u001b[0m_loadtxt_chunksize\u001b[0m\u001b[1;33m)\u001b[0m\u001b[1;33m:\u001b[0m\u001b[1;33m\u001b[0m\u001b[1;33m\u001b[0m\u001b[0m\n\u001b[0m\u001b[0;32m   1140\u001b[0m             \u001b[1;32mif\u001b[0m \u001b[0mX\u001b[0m \u001b[1;32mis\u001b[0m \u001b[1;32mNone\u001b[0m\u001b[1;33m:\u001b[0m\u001b[1;33m\u001b[0m\u001b[1;33m\u001b[0m\u001b[0m\n\u001b[0;32m   1141\u001b[0m                 \u001b[0mX\u001b[0m \u001b[1;33m=\u001b[0m \u001b[0mnp\u001b[0m\u001b[1;33m.\u001b[0m\u001b[0marray\u001b[0m\u001b[1;33m(\u001b[0m\u001b[0mx\u001b[0m\u001b[1;33m,\u001b[0m \u001b[0mdtype\u001b[0m\u001b[1;33m)\u001b[0m\u001b[1;33m\u001b[0m\u001b[1;33m\u001b[0m\u001b[0m\n",
      "\u001b[1;32mE:\\anaconda\\envs\\bachelor\\lib\\site-packages\\numpy\\lib\\npyio.py\u001b[0m in \u001b[0;36mread_data\u001b[1;34m(chunk_size)\u001b[0m\n\u001b[0;32m   1065\u001b[0m \u001b[1;33m\u001b[0m\u001b[0m\n\u001b[0;32m   1066\u001b[0m             \u001b[1;31m# Convert each value according to its column and store\u001b[0m\u001b[1;33m\u001b[0m\u001b[1;33m\u001b[0m\u001b[1;33m\u001b[0m\u001b[0m\n\u001b[1;32m-> 1067\u001b[1;33m             \u001b[0mitems\u001b[0m \u001b[1;33m=\u001b[0m \u001b[1;33m[\u001b[0m\u001b[0mconv\u001b[0m\u001b[1;33m(\u001b[0m\u001b[0mval\u001b[0m\u001b[1;33m)\u001b[0m \u001b[1;32mfor\u001b[0m \u001b[1;33m(\u001b[0m\u001b[0mconv\u001b[0m\u001b[1;33m,\u001b[0m \u001b[0mval\u001b[0m\u001b[1;33m)\u001b[0m \u001b[1;32min\u001b[0m \u001b[0mzip\u001b[0m\u001b[1;33m(\u001b[0m\u001b[0mconverters\u001b[0m\u001b[1;33m,\u001b[0m \u001b[0mvals\u001b[0m\u001b[1;33m)\u001b[0m\u001b[1;33m]\u001b[0m\u001b[1;33m\u001b[0m\u001b[1;33m\u001b[0m\u001b[0m\n\u001b[0m\u001b[0;32m   1068\u001b[0m \u001b[1;33m\u001b[0m\u001b[0m\n\u001b[0;32m   1069\u001b[0m             \u001b[1;31m# Then pack it according to the dtype's nesting\u001b[0m\u001b[1;33m\u001b[0m\u001b[1;33m\u001b[0m\u001b[1;33m\u001b[0m\u001b[0m\n",
      "\u001b[1;32mE:\\anaconda\\envs\\bachelor\\lib\\site-packages\\numpy\\lib\\npyio.py\u001b[0m in \u001b[0;36m<listcomp>\u001b[1;34m(.0)\u001b[0m\n\u001b[0;32m   1065\u001b[0m \u001b[1;33m\u001b[0m\u001b[0m\n\u001b[0;32m   1066\u001b[0m             \u001b[1;31m# Convert each value according to its column and store\u001b[0m\u001b[1;33m\u001b[0m\u001b[1;33m\u001b[0m\u001b[1;33m\u001b[0m\u001b[0m\n\u001b[1;32m-> 1067\u001b[1;33m             \u001b[0mitems\u001b[0m \u001b[1;33m=\u001b[0m \u001b[1;33m[\u001b[0m\u001b[0mconv\u001b[0m\u001b[1;33m(\u001b[0m\u001b[0mval\u001b[0m\u001b[1;33m)\u001b[0m \u001b[1;32mfor\u001b[0m \u001b[1;33m(\u001b[0m\u001b[0mconv\u001b[0m\u001b[1;33m,\u001b[0m \u001b[0mval\u001b[0m\u001b[1;33m)\u001b[0m \u001b[1;32min\u001b[0m \u001b[0mzip\u001b[0m\u001b[1;33m(\u001b[0m\u001b[0mconverters\u001b[0m\u001b[1;33m,\u001b[0m \u001b[0mvals\u001b[0m\u001b[1;33m)\u001b[0m\u001b[1;33m]\u001b[0m\u001b[1;33m\u001b[0m\u001b[1;33m\u001b[0m\u001b[0m\n\u001b[0m\u001b[0;32m   1068\u001b[0m \u001b[1;33m\u001b[0m\u001b[0m\n\u001b[0;32m   1069\u001b[0m             \u001b[1;31m# Then pack it according to the dtype's nesting\u001b[0m\u001b[1;33m\u001b[0m\u001b[1;33m\u001b[0m\u001b[1;33m\u001b[0m\u001b[0m\n",
      "\u001b[1;32mE:\\anaconda\\envs\\bachelor\\lib\\site-packages\\numpy\\lib\\npyio.py\u001b[0m in \u001b[0;36mfloatconv\u001b[1;34m(x)\u001b[0m\n\u001b[0;32m    761\u001b[0m         \u001b[1;32mif\u001b[0m \u001b[1;34m'0x'\u001b[0m \u001b[1;32min\u001b[0m \u001b[0mx\u001b[0m\u001b[1;33m:\u001b[0m\u001b[1;33m\u001b[0m\u001b[1;33m\u001b[0m\u001b[0m\n\u001b[0;32m    762\u001b[0m             \u001b[1;32mreturn\u001b[0m \u001b[0mfloat\u001b[0m\u001b[1;33m.\u001b[0m\u001b[0mfromhex\u001b[0m\u001b[1;33m(\u001b[0m\u001b[0mx\u001b[0m\u001b[1;33m)\u001b[0m\u001b[1;33m\u001b[0m\u001b[1;33m\u001b[0m\u001b[0m\n\u001b[1;32m--> 763\u001b[1;33m         \u001b[1;32mreturn\u001b[0m \u001b[0mfloat\u001b[0m\u001b[1;33m(\u001b[0m\u001b[0mx\u001b[0m\u001b[1;33m)\u001b[0m\u001b[1;33m\u001b[0m\u001b[1;33m\u001b[0m\u001b[0m\n\u001b[0m\u001b[0;32m    764\u001b[0m \u001b[1;33m\u001b[0m\u001b[0m\n\u001b[0;32m    765\u001b[0m     \u001b[0mtyp\u001b[0m \u001b[1;33m=\u001b[0m \u001b[0mdtype\u001b[0m\u001b[1;33m.\u001b[0m\u001b[0mtype\u001b[0m\u001b[1;33m\u001b[0m\u001b[1;33m\u001b[0m\u001b[0m\n",
      "\u001b[1;31mValueError\u001b[0m: could not convert string to float: '2014-02-06'"
     ]
    }
   ],
   "source": [
    "cor_dict = fill_up_lookup_error_dict(epsilons, n, rs, files_cor)\n",
    "est_dict = fill_up_lookup_error_dict(epsilons, n, rs, files_est)\n"
   ]
  },
  {
   "cell_type": "code",
   "execution_count": null,
   "id": "based-awareness",
   "metadata": {},
   "outputs": [],
   "source": [
    "cor_dict"
   ]
  },
  {
   "cell_type": "code",
   "execution_count": null,
   "id": "desirable-projector",
   "metadata": {},
   "outputs": [],
   "source": [
    "est_dict"
   ]
  },
  {
   "cell_type": "code",
   "execution_count": null,
   "id": "thorough-content",
   "metadata": {},
   "outputs": [],
   "source": []
  },
  {
   "cell_type": "code",
   "execution_count": null,
   "id": "cooked-visiting",
   "metadata": {},
   "outputs": [],
   "source": []
  },
  {
   "cell_type": "code",
   "execution_count": null,
   "id": "scientific-aurora",
   "metadata": {
    "scrolled": true
   },
   "outputs": [],
   "source": [
    "error_dict = make_lookup_error_dict(epsilons, n, rs)\n",
    "\n",
    "for e in epsilons:\n",
    "    for N in n:\n",
    "        #r_values = error_dict[e][N]\n",
    "        for r in error_dict[e][N]:\n",
    "            error_dict[e][N][r] = find_error_different_queries(est_dict[e][N][r], cor_dict[e][N][r])"
   ]
  },
  {
   "cell_type": "code",
   "execution_count": null,
   "id": "hidden-hollow",
   "metadata": {},
   "outputs": [],
   "source": [
    "def get_answers_for_r(n_r, step_size, all_answers):\n",
    "    \"\"\"\n",
    "    Setup of the datastructere\n",
    "    Parameters:\n",
    "    n_r (int): Which index/number of the r values\n",
    "    step_size (int): How many r values there is \n",
    "    all_answers (Array): All answers for all the differnt r values\n",
    "    Returns:\n",
    "    The answers for this specific r\n",
    "    \"\"\"\n",
    "    return all_answers[n_r::step_size]"
   ]
  },
  {
   "cell_type": "code",
   "execution_count": null,
   "id": "honey-parcel",
   "metadata": {},
   "outputs": [],
   "source": [
    "dict_plot_rmse_dict = make_lookup_error_dict_e_n(epsilons, n)\n",
    "for e in epsilons:\n",
    "    for N in n:\n",
    "        rmse = []\n",
    "        for r_keys in error_dict[e][N]: \n",
    "            rmse.append(error_dict[e][N][r_keys]['rmse'])\n",
    "        \n",
    "        dict_plot_rmse_dict[e][N] = rmse"
   ]
  },
  {
   "cell_type": "code",
   "execution_count": null,
   "id": "timely-aluminum",
   "metadata": {},
   "outputs": [],
   "source": [
    "dict_plot_rmse_dict"
   ]
  },
  {
   "cell_type": "code",
   "execution_count": null,
   "id": "undefined-catholic",
   "metadata": {},
   "outputs": [],
   "source": [
    "def plot(xs, ys, N, epsilon, plot_name):\n",
    "\n",
    "    plt.scatter(xs, ys)\n",
    "    #plt.hlines(np.mean(answears128),line_range[0],line_range[1])\n",
    "    #plt.hlines(np.mean(correct_answear),line_range[0],line_range[1])\n",
    "    #plt.legend()\n",
    "    plt.xlabel('Length of query')\n",
    "    plt.ylabel('RMSE')\n",
    "    plt.title(f'Flat OLH with N = {N} and \\u03B5 = {epsilon}')\n",
    "    #plt.savefig(plot_name,bbox_inches='tight')\n",
    "    plt.show()"
   ]
  },
  {
   "cell_type": "code",
   "execution_count": null,
   "id": "bronze-tumor",
   "metadata": {},
   "outputs": [],
   "source": [
    "for e in epsilons:\n",
    "    for N in n:\n",
    "        xs = list(error_dict[e][N].keys())\n",
    "        print(xs)\n",
    "        ys = dict_plot_rmse_dict[e][N]\n",
    "        print(ys)\n",
    "        plot(xs, ys, N, e, 'e')\n"
   ]
  },
  {
   "cell_type": "code",
   "execution_count": null,
   "id": "speaking-prescription",
   "metadata": {},
   "outputs": [],
   "source": [
    "\n",
    "    "
   ]
  },
  {
   "cell_type": "code",
   "execution_count": null,
   "id": "formal-soldier",
   "metadata": {},
   "outputs": [],
   "source": []
  }
 ],
 "metadata": {
  "kernelspec": {
   "display_name": "Python 3",
   "language": "python",
   "name": "python3"
  },
  "language_info": {
   "codemirror_mode": {
    "name": "ipython",
    "version": 3
   },
   "file_extension": ".py",
   "mimetype": "text/x-python",
   "name": "python",
   "nbconvert_exporter": "python",
   "pygments_lexer": "ipython3",
   "version": "3.6.12"
  }
 },
 "nbformat": 4,
 "nbformat_minor": 5
}
