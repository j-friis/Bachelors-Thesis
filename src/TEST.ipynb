{
 "cells": [
  {
   "cell_type": "code",
   "execution_count": 1,
   "id": "running-holly",
   "metadata": {},
   "outputs": [],
   "source": [
    "import numpy as np\n",
    "import pandas as pd\n",
    "from scipy.stats import laplace\n",
    "import scipy.stats\n",
    "import psycopg2\n",
    "from sklearn.metrics import mean_squared_error\n",
    "import matplotlib.pyplot as plt\n",
    "import seaborn as sns\n",
    "from datetime import datetime\n",
    "\n",
    "import math"
   ]
  },
  {
   "cell_type": "code",
   "execution_count": 2,
   "id": "characteristic-equivalent",
   "metadata": {},
   "outputs": [],
   "source": [
    "def get_index(date_idx, n_layers, degree):\n",
    "    \"\"\"Calculates the path of index in full binary string\n",
    "\n",
    "    Parameters:\n",
    "    date_idx (int): The node in the bouttom layer we want to calculate a path to. \n",
    "    The bottom layer has index from 0 to 2**h-1\n",
    "    n_layers (int): The height of the full binary tree. \n",
    "\n",
    "    Returns:\n",
    "    list: of index in the path from the starting from the bottom and going up\n",
    "\n",
    "    \"\"\"\n",
    "    idx = []\n",
    "    for i in np.arange(0,n_layers):\n",
    "        if i == 0:\n",
    "            idx.append(int(date_idx))\n",
    "        else:\n",
    "            idx.append(int(idx[i-1]//degree))\n",
    "    idx.append(0)\n",
    "    return idx"
   ]
  },
  {
   "cell_type": "code",
   "execution_count": 3,
   "id": "reflected-isaac",
   "metadata": {},
   "outputs": [
    {
     "name": "stdout",
     "output_type": "stream",
     "text": [
      "[0, 0]\n",
      "[0, 0, 0]\n",
      "[0, 0, 0, 0]\n",
      "[12, 4, 1, 0]\n",
      "[15, 5, 1, 0]\n",
      "[9, 3, 1, 0]\n"
     ]
    }
   ],
   "source": [
    "print(get_index(0,1,3))\n",
    "print(get_index(0,2,3))\n",
    "print(get_index(0,3,3))\n",
    "print(get_index(12,3,3))\n",
    "print(get_index(15,3,3))\n",
    "print(get_index(9,3,3))"
   ]
  },
  {
   "cell_type": "code",
   "execution_count": 4,
   "id": "unsigned-roots",
   "metadata": {},
   "outputs": [
    {
     "name": "stdout",
     "output_type": "stream",
     "text": [
      "[12, 3, 0, 0]\n"
     ]
    }
   ],
   "source": [
    "print(get_index(12,3,4))\n"
   ]
  },
  {
   "cell_type": "code",
   "execution_count": null,
   "id": "explicit-leader",
   "metadata": {},
   "outputs": [],
   "source": []
  },
  {
   "cell_type": "code",
   "execution_count": 16,
   "id": "bound-parks",
   "metadata": {},
   "outputs": [
    {
     "data": {
      "text/plain": [
       "'\\nPaths\\n[ 0  1  5 23]\\ncurrent = 0, nxt = 1\\ncurrent == 0 and current < nxt\\ncurrent = 1, nxt = 5\\ncurrent * degree != nxt\\ncurrent = 5, nxt = 23\\ncurrent * degree != nxt\\nTurns\\n[1, 1, 1]\\n\\n'"
      ]
     },
     "execution_count": 16,
     "metadata": {},
     "output_type": "execute_result"
    }
   ],
   "source": [
    "def get_group(idx, n_layers, degree, level):\n",
    "    \"\"\"Calculates the path of index in full binary string\n",
    "\n",
    "    Parameters:\n",
    "    date_idx (int): The node in the bouttom layer we want to calculate a path to. \n",
    "    The bottom layer has index from 0 to 2**h-1\n",
    "    n_layers (int): The height of the full binary tree. 0 index\n",
    "\n",
    "    Returns:\n",
    "    list: of index in the path from the starting from the bottom and going up\n",
    "\n",
    "    \"\"\"\n",
    "    if level == 0:\n",
    "        return id\n",
    "    elif idx == 0:\n",
    "        return np.arange(0,degree)\n",
    "    else:\n",
    "        group_index = idx //degree\n",
    "        \n",
    "        #Array of index at level\n",
    "        level_indicis = np.arange(0,degree**level)\n",
    "        split_ratio = (len(level_indicis) // degree)\n",
    "        \n",
    "        level_indicis_split = np.array_split(level_indicis, split_ratio)\n",
    "        print(level)\n",
    "\n",
    "        print(group_index)\n",
    "        print(level_indicis)\n",
    "        print(split_ratio)\n",
    "        print(level_indicis_split)\n",
    "            \n",
    "        return level_indicis_split[group_index]\n",
    "\n",
    "def turns_right(path, degree):\n",
    "    #print(path)\n",
    "    #0 is left 1 is right\n",
    "    direction_lst = []\n",
    "    for i in range(len(path)-1):\n",
    "        #print(f'i = {i}')\n",
    "        current = path[i]\n",
    "        nxt = path[i+1]\n",
    "        #print(f'current = {current}, nxt = {nxt}')\n",
    "        if nxt == 0:\n",
    "            #We went left\n",
    "            #print('nxt == 0')\n",
    "            direction_lst.append(0)\n",
    "        elif current == 0 and current < nxt:\n",
    "            #We went right\n",
    "            #print('current == 0 and current < nxt')\n",
    "            direction_lst.append(1)\n",
    "        elif degree * current < nxt:\n",
    "            #We went right\n",
    "            #print('2* current < nxt')\n",
    "            direction_lst.append(1)\n",
    "        else:\n",
    "            #print('else')            \n",
    "            direction_lst.append(0)\n",
    "            \n",
    "    return direction_lst\n",
    "\n",
    "def turns_left(path, degree):\n",
    "    #print(path)\n",
    "    #0 is left 1 is right\n",
    "    direction_lst = []\n",
    "    for i in range(len(path)-1):\n",
    "        #print(f'i = {i}')\n",
    "        current = path[i]\n",
    "        nxt = path[i+1]\n",
    "        #print(f'current = {current}, nxt = {nxt}')\n",
    "        #Checks\n",
    "        if nxt == 0:\n",
    "            #We went left\n",
    "            #print('nxt == 0')\n",
    "            direction_lst.append(0)\n",
    "        #Checks\n",
    "        elif nxt == current*degree + degree - 1:\n",
    "            #We went right\n",
    "            #print(current * degree)\n",
    "            #print(current * degree + degree)\n",
    "            #print('current * degree != nxt')\n",
    "            direction_lst.append(1)\n",
    "        elif current == 0 and current < nxt:\n",
    "            #We went left\n",
    "            #print('current == 0 and current < nxt')\n",
    "            direction_lst.append(0)\n",
    "        else:\n",
    "            #print('else')            \n",
    "            direction_lst.append(0)\n",
    "            \n",
    "    return direction_lst\n",
    "\n",
    "#p = [0, 1, 5, 23]\n",
    "#p = [0, 1, 4, 19]\n",
    "#p = [0, 3, 13, 55]\n",
    "#print(turns_left(p, degree))\n",
    "\"\"\"\n",
    "Paths\n",
    "[ 0  1  5 23]\n",
    "current = 0, nxt = 1\n",
    "current == 0 and current < nxt\n",
    "current = 1, nxt = 5\n",
    "current * degree != nxt\n",
    "current = 5, nxt = 23\n",
    "current * degree != nxt\n",
    "Turns\n",
    "[1, 1, 1]\n",
    "\n",
    "\"\"\""
   ]
  },
  {
   "cell_type": "code",
   "execution_count": null,
   "id": "original-stability",
   "metadata": {},
   "outputs": [],
   "source": []
  },
  {
   "cell_type": "code",
   "execution_count": null,
   "id": "dying-embassy",
   "metadata": {},
   "outputs": [],
   "source": []
  },
  {
   "cell_type": "code",
   "execution_count": 6,
   "id": "differential-cement",
   "metadata": {},
   "outputs": [
    {
     "name": "stdout",
     "output_type": "stream",
     "text": [
      "[0, 0, 0, 0]\n",
      "[32, 8, 2, 0]\n"
     ]
    }
   ],
   "source": [
    "degree = 4\n",
    "n_layers = 3\n",
    "print(get_index(0, n_layers, degree))\n",
    "print(get_index(32, n_layers, degree))\n"
   ]
  },
  {
   "cell_type": "code",
   "execution_count": 7,
   "id": "integral-submission",
   "metadata": {},
   "outputs": [
    {
     "name": "stdout",
     "output_type": "stream",
     "text": [
      "[array([3241]), array([833, 843, 812, 823]), array([181, 200, 199, 219, 170, 217, 205, 202, 221, 184, 213, 182, 211,\n",
      "       210, 173, 208]), array([56, 47, 60, 50, 56, 62, 62, 51, 61, 47, 52, 41, 54, 63, 45, 46, 38,\n",
      "       46, 52, 53, 59, 58, 48, 46, 41, 48, 33, 48, 58, 44, 38, 49, 46, 60,\n",
      "       37, 65, 59, 49, 70, 56, 48, 50, 53, 53, 37, 46, 62, 55, 42, 50, 40,\n",
      "       49, 44, 52, 55, 59, 49, 61, 43, 49, 51, 63, 55, 51])]\n"
     ]
    },
    {
     "data": {
      "text/plain": [
       "'\\nhhs = [[1175], [420, 405, 412,], [123, 133, 116, 139, 136, 144, 146, 125, 113,],\\n[62, 44, 30, 39, 44, 41, 46, 54, 32, 41, 35, 45, 54, 48, 44, 43, 44, 41,\\n 41, 45, 41, 42, 38, 53, 39, 49, 49,]]\\nhhs = [np.array(a) for a in hhs]\\nprint(hhs)\\n'"
      ]
     },
     "execution_count": 7,
     "metadata": {},
     "output_type": "execute_result"
    }
   ],
   "source": [
    "\n",
    "hhs = [[3241], [833, 843, 812, 823], [181, 200, 199, 219, 170, 217, 205,\n",
    "        202, 221, 184, 213, 182, 211, 210, 173, 208],[56, 47, 60, 50, 56,\n",
    "        62, 62, 51, 61, 47, 52, 41, 54, 63, 45, 46, 38, 46, 52, 53, 59, 58,\n",
    "        48, 46, 41, 48, 33, 48, 58, 44, 38, 49, 46, 60, 37, 65, 59, 49, 70,\n",
    "        56, 48, 50, 53, 53, 37, 46, 62, 55, 42, 50, 40, 49, 44, 52, 55, 59,\n",
    "        49, 61, 43, 49, 51, 63, 55, 51]]\n",
    "hhs = [np.array(a) for a in hhs]\n",
    "print(hhs)\n",
    "\"\"\"\n",
    "hhs = [[1175], [420, 405, 412,], [123, 133, 116, 139, 136, 144, 146, 125, 113,],\n",
    "[62, 44, 30, 39, 44, 41, 46, 54, 32, 41, 35, 45, 54, 48, 44, 43, 44, 41,\n",
    " 41, 45, 41, 42, 38, 53, 39, 49, 49,]]\n",
    "hhs = [np.array(a) for a in hhs]\n",
    "print(hhs)\n",
    "\"\"\"\n"
   ]
  },
  {
   "cell_type": "code",
   "execution_count": null,
   "id": "historic-aviation",
   "metadata": {
    "scrolled": false
   },
   "outputs": [],
   "source": []
  },
  {
   "cell_type": "markdown",
   "id": "liable-mechanism",
   "metadata": {},
   "source": [
    "# When we start from 0"
   ]
  },
  {
   "cell_type": "code",
   "execution_count": 8,
   "id": "impressive-import",
   "metadata": {},
   "outputs": [
    {
     "name": "stdout",
     "output_type": "stream",
     "text": [
      "level_offset = 1\n",
      "833\n",
      "843\n",
      "46\n",
      "60\n",
      "37\n",
      "[3241]\n",
      "[833 843 812 823]\n",
      "[181 200 199 219 170 217 205 202 221 184 213 182 211 210 173 208]\n",
      "[56 47 60 50 56 62 62 51 61 47 52 41 54 63 45 46 38 46 52 53 59 58 48 46\n",
      " 41 48 33 48 58 44 38 49 46 60 37 65 59 49 70 56 48 50 53 53 37 46 62 55\n",
      " 42 50 40 49 44 52 55 59 49 61 43 49 51 63 55 51]\n"
     ]
    }
   ],
   "source": [
    "degree = 4\n",
    "n_layers = 3\n",
    "\n",
    "idx_0 = 0\n",
    "idx_1 = 34 \n",
    "\n",
    "idx_left = idx_0-1\n",
    "idx_right = idx_1+1\n",
    "\n",
    "path_to_left = np.flip(np.array(get_index(idx_left,n_layers, degree)))\n",
    "path_to_right = np.flip(np.array(get_index(idx_right,n_layers, degree)))\n",
    "\n",
    "if idx_0 == 0:\n",
    "    left_or_right_list_leftside = turns_left(path_to_left, degree)\n",
    "    left_or_right_list_rightside = turns_right(path_to_right, degree)\n",
    "    \n",
    "    #level_offset = len(path_to_left)-len(left_or_right_list((np.array(path_to_left)[path_to_right != path_to_left]), degree))\n",
    "    level_offset = 1\n",
    "    print(f'level_offset = {level_offset}')\n",
    "   \n",
    "    for i in range(len(left_or_right_list_rightside)):\n",
    "        if left_or_right_list_rightside[i] == 1:\n",
    "            group = get_group(path_to_right[i+level_offset],0 ,degree, i+level_offset)\n",
    "            idx_sss = np.where(group == path_to_right[i+level_offset])[0][0]\n",
    "            \n",
    "            count_nodes = hhs[i+level_offset][group[:idx_sss]]\n",
    "            for node in count_nodes:\n",
    "                print(node)\n",
    "        \n",
    "for level in hhs:\n",
    "    print(level)"
   ]
  },
  {
   "cell_type": "markdown",
   "id": "surgical-syracuse",
   "metadata": {},
   "source": [
    "# When we start from max"
   ]
  },
  {
   "cell_type": "code",
   "execution_count": 17,
   "id": "random-front",
   "metadata": {},
   "outputs": [
    {
     "name": "stdout",
     "output_type": "stream",
     "text": [
      "Paths\n",
      "[ 0  1  7 30]\n",
      "[ 0  4 16 64]\n",
      "level_offset = 1\n",
      "1\n",
      "0\n",
      "[0 1 2 3]\n",
      "1\n",
      "[array([0, 1, 2, 3])]\n",
      "812\n",
      "823\n",
      "3\n",
      "7\n",
      "[ 0  1  2  3  4  5  6  7  8  9 10 11 12 13 14 15 16 17 18 19 20 21 22 23\n",
      " 24 25 26 27 28 29 30 31 32 33 34 35 36 37 38 39 40 41 42 43 44 45 46 47\n",
      " 48 49 50 51 52 53 54 55 56 57 58 59 60 61 62 63]\n",
      "16\n",
      "[array([0, 1, 2, 3]), array([4, 5, 6, 7]), array([ 8,  9, 10, 11]), array([12, 13, 14, 15]), array([16, 17, 18, 19]), array([20, 21, 22, 23]), array([24, 25, 26, 27]), array([28, 29, 30, 31]), array([32, 33, 34, 35]), array([36, 37, 38, 39]), array([40, 41, 42, 43]), array([44, 45, 46, 47]), array([48, 49, 50, 51]), array([52, 53, 54, 55]), array([56, 57, 58, 59]), array([60, 61, 62, 63])]\n",
      "49\n",
      "[3241]\n",
      "[833 843 812 823]\n",
      "[181 200 199 219 170 217 205 202 221 184 213 182 211 210 173 208]\n",
      "[56 47 60 50 56 62 62 51 61 47 52 41 54 63 45 46 38 46 52 53 59 58 48 46\n",
      " 41 48 33 48 58 44 38 49 46 60 37 65 59 49 70 56 48 50 53 53 37 46 62 55\n",
      " 42 50 40 49 44 52 55 59 49 61 43 49 51 63 55 51]\n"
     ]
    }
   ],
   "source": [
    "degree = 4\n",
    "n_layers = 3\n",
    "\n",
    "idx_0 = 31\n",
    "idx_1 = 63 \n",
    "\n",
    "idx_left = idx_0-1\n",
    "idx_right = idx_1+1\n",
    "\n",
    "path_to_left = np.flip(np.array(get_index(idx_left,n_layers, degree)))\n",
    "path_to_right = np.flip(np.array(get_index(idx_right,n_layers, degree)))\n",
    "print('Paths')\n",
    "print(path_to_left)\n",
    "print(path_to_right)\n",
    "\n",
    "if True:\n",
    "    left_or_right_list_leftside = turns_left(path_to_left, degree)\n",
    "    left_or_right_list_rightside = turns_right(path_to_right, degree)\n",
    "    #print(left_or_right_list_leftside)\n",
    "    #level_offset = len(path_to_left)-len(left_or_right_list((np.array(path_to_left)[path_to_right != path_to_left]), degree))\n",
    "    level_offset = 1\n",
    "    print(f'level_offset = {level_offset}')\n",
    "   \n",
    "    for i in range(len(left_or_right_list_leftside)):\n",
    "        if left_or_right_list_leftside[i] == 0:\n",
    "\n",
    "            group = get_group(path_to_left[i+level_offset], 0 ,degree, i+level_offset)\n",
    "            idx_sss = np.where(group == path_to_left[i+level_offset])[0][0]\n",
    "\n",
    "            count_nodes = hhs[i+level_offset][group[idx_sss+1:]]\n",
    "            for node in count_nodes:\n",
    "                print(node)\n",
    "        \n",
    "for level in hhs:\n",
    "    print(level)"
   ]
  },
  {
   "cell_type": "markdown",
   "id": "looking-delay",
   "metadata": {},
   "source": [
    "# Random search\n",
    "\n"
   ]
  },
  {
   "cell_type": "code",
   "execution_count": 11,
   "id": "corporate-jacket",
   "metadata": {
    "scrolled": false
   },
   "outputs": [
    {
     "name": "stdout",
     "output_type": "stream",
     "text": [
      "Paths\n",
      "[ 0  1  7 30]\n",
      "[ 0  2 11 44]\n",
      "Counting nodes\n",
      "At level 1\n",
      "Both not zero\n",
      "[]\n",
      "At level 2\n",
      "Left not zero\n",
      "8\n",
      "9\n",
      "10\n",
      "At level 3\n",
      "Right not zero\n",
      "31\n",
      "[3241]\n",
      "[833 843 812 823]\n",
      "[181 200 199 219 170 217 205 202 221 184 213 182 211 210 173 208]\n",
      "[56 47 60 50 56 62 62 51 61 47 52 41 54 63 45 46 38 46 52 53 59 58 48 46\n",
      " 41 48 33 48 58 44 38 49 46 60 37 65 59 49 70 56 48 50 53 53 37 46 62 55\n",
      " 42 50 40 49 44 52 55 59 49 61 43 49 51 63 55 51]\n"
     ]
    }
   ],
   "source": [
    "degree = 4\n",
    "n_layers = 3\n",
    "\n",
    "#32 #48 #24 FOR DEGREE FOUR\n",
    "idx_0 = 31\n",
    "\n",
    "idx_1 = 43\n",
    "\n",
    "#print(get_index(idx_0, n_layers, degree))\n",
    "#print(get_index(idx_1, n_layers, degree))\n",
    "\n",
    "idx_left = idx_0-1\n",
    "idx_right = idx_1+1\n",
    "\n",
    "path_to_left = np.flip(np.array(get_index(idx_left,n_layers, degree)))\n",
    "path_to_right = np.flip(np.array(get_index(idx_right,n_layers, degree)))\n",
    "print('Paths')\n",
    "print(path_to_left)\n",
    "print(path_to_right)\n",
    "#For max\n",
    "    \n",
    "left_or_right_list_leftside = turns_left(path_to_left, degree)\n",
    "left_or_right_list_rightside = turns_right(path_to_right, degree)\n",
    "    \n",
    "level_offset = 1\n",
    "\n",
    "left_count = []\n",
    "left_count_group = []\n",
    "\n",
    "for i in range(len(left_or_right_list_rightside)):\n",
    "    if left_or_right_list_rightside[i] == 1:\n",
    "        group = get_group(path_to_right[i+level_offset],0 ,degree, i+level_offset)\n",
    "        idx_sss = np.where(group == path_to_right[i+level_offset])[0][0]\n",
    "        \n",
    "        left_count_group.append(group[:idx_sss]) \n",
    "        \n",
    "        count_nodes = hhs[i+level_offset][group[:idx_sss]]\n",
    "        left_count.append(count_nodes)\n",
    "            \n",
    "    else:\n",
    "        left_count_group.append(np.array([]))\n",
    "        left_count.append(np.array([]))\n",
    "    \n",
    "#The search right side\n",
    "right_count = []\n",
    "right_count_group = []\n",
    "\n",
    "for i in range(len(left_or_right_list_leftside)):\n",
    "    if left_or_right_list_leftside[i] == 0:\n",
    "\n",
    "        group = get_group(path_to_left[i+level_offset], 0 ,degree, i+level_offset)\n",
    "        idx_sss = np.where(group == path_to_left[i+level_offset])[0][0]\n",
    "        \n",
    "        right_count_group.append(group[idx_sss+1:]) \n",
    "\n",
    "        count_nodes = hhs[i+level_offset][group[idx_sss+1:]]\n",
    "        right_count.append(count_nodes)\n",
    "        \n",
    "    else:\n",
    "        right_count_group.append(np.array([]))\n",
    "        right_count.append(np.array([]))\n",
    "\n",
    "print('Counting nodes')\n",
    "#print(left_count)\n",
    "#print(right_count)\n",
    "for i in range(len(left_count_group)):\n",
    "    print(f'At level {level_offset + i}')\n",
    "    \"\"\"\n",
    "    print('Left size')\n",
    "    print(left_count_group[i].size)\n",
    "    print('right size')\n",
    "    print(right_count_group[i].size)\n",
    "    \"\"\"\n",
    "    if left_count_group[i].size != 0 and right_count_group[i].size != 0:\n",
    "        print('Both not zero')\n",
    "        group_left = get_group(left_count_group[i][0], 0, degree, i+ level_offset)\n",
    "        group_right = get_group(right_count_group[i][0], 0, degree, i+ level_offset)\n",
    "\n",
    "        if not (np.array_equal(group_left,group_right)):\n",
    "            for node in left_count_group[i]:\n",
    "                print(node)\n",
    "            for node in right_count_group[i]:\n",
    "                print(node)\n",
    "        else:\n",
    "            #print(left_count_group[i])\n",
    "            #print(right_count_group[i])\n",
    "            print(np.intersect1d(left_count_group[i], right_count_group[i]))\n",
    "            \n",
    "    if left_count_group[i].size != 0 and right_count_group[i].size == 0:\n",
    "        print('Left not zero')\n",
    "        for node in left_count_group[i]:\n",
    "            print(node)\n",
    "    if right_count_group[i].size != 0 and left_count_group[i].size == 0:\n",
    "        print('Right not zero')\n",
    "        for node in right_count_group[i]:\n",
    "            print(node) \n",
    "\"\"\"\n",
    "\"\"\"\n",
    "        \n",
    "for level in hhs:\n",
    "    print(level)"
   ]
  },
  {
   "cell_type": "code",
   "execution_count": null,
   "id": "assisted-inspection",
   "metadata": {},
   "outputs": [],
   "source": [
    "\"\"\"\n",
    "print(get_group(0,1,3,0))\n",
    "print(get_group(0,2,3,0))\n",
    "print(get_group(0,3,3,0))\n",
    "print(get_group(12,3,3,0))\n",
    "print(get_group(15,3,3,0))\n",
    "\"\"\"\n",
    "degree = 3\n",
    "n_layers = 3\n",
    "#print(get_group(0,n_layers, degree, 2))\n",
    "#print(get_group(9,3,3,3))\n",
    "#print(get_group(12,3,3,3))\n",
    "#print(get_group(21,3,3,3))\n",
    "print(get_group(3, n_layers, degree, 2))\n",
    "print(get_group(21, n_layers, degree, 3))\n",
    "print(get_group(9, n_layers, degree, 4))\n",
    "#print(get_group(3,3,3,2))\n",
    "#print(get_group(10,3,3,3))"
   ]
  },
  {
   "cell_type": "code",
   "execution_count": null,
   "id": "infectious-cleaning",
   "metadata": {},
   "outputs": [],
   "source": [
    "degree = 4\n",
    "n_layers = 3\n",
    "print(get_group(4, n_layers, degree, 2))\n",
    "print(get_group(24, n_layers, degree, 3))\n",
    "degree = 2\n",
    "n_layers = 3\n",
    "print(get_group(1, n_layers, degree, 2))\n",
    "print(get_group(2, n_layers, degree, 3))"
   ]
  },
  {
   "cell_type": "code",
   "execution_count": null,
   "id": "sized-return",
   "metadata": {},
   "outputs": [],
   "source": [
    "for i in range(0,12):\n",
    "    print('New')\n",
    "    print(2**i)\n",
    "    print(3**i)\n",
    "    print(4**i)    "
   ]
  },
  {
   "cell_type": "code",
   "execution_count": 19,
   "id": "derived-netherlands",
   "metadata": {},
   "outputs": [
    {
     "name": "stdout",
     "output_type": "stream",
     "text": [
      "120\n",
      "220\n"
     ]
    }
   ],
   "source": [
    "from scipy.special import comb\n",
    "k = np.array([3, 4])\n",
    "n = np.array([10, 10])\n",
    "comb(n, k, exact=False)\n",
    "\n",
    "print(comb(10, 3, exact=True))\n",
    "\n",
    "print(comb(10, 3, exact=True, repetition=True))"
   ]
  },
  {
   "cell_type": "code",
   "execution_count": null,
   "id": "spectacular-montgomery",
   "metadata": {},
   "outputs": [],
   "source": [
    "def OLH_var(p, N):\n",
    "    print(f'4*p*(1-p) = {4*p*(1-p)}')\n",
    "    print(f'N*(2*p-1)**2 = {N*(2*p-1)**2}')\n",
    "    return 4*p*(1-p)/(N*(2*p-1)**2)\n",
    "def OLH_var2(p, N):\n",
    "    print(f'4*p-4*p**2 = {4*p-4*p**2}')\n",
    "    print(f'(N*2*p-N)**2 = {(N*2*p-N)**2}')\n",
    "    return (4*p-4*p**2)/(N*2*p-N)**2\n",
    "def OLH_var3(e, N):\n",
    "    print(f'4*np.exp(e)= {4*np.exp(e)}')\n",
    "    print(f'N*(np.exp(e)-1)**2 = {N*(np.exp(e)-1)**2}')\n",
    "    return (4*np.exp(e))/N*(np.exp(e)-1)**2"
   ]
  },
  {
   "cell_type": "code",
   "execution_count": null,
   "id": "designed-calvin",
   "metadata": {},
   "outputs": [],
   "source": [
    "epsilon = 0.2\n",
    "g = 32\n",
    "N = np.sum(all_counts[:33])\n",
    "p = np.exp(epsilon)/(np.exp(epsilon)+g-1)\n",
    "print(p)\n",
    "print(OLH_var(p,N))\n",
    "print(OLH_var2(p,N))\n",
    "print(OLH_var3(epsilon,N))"
   ]
  },
  {
   "cell_type": "code",
   "execution_count": 3,
   "id": "expensive-mozambique",
   "metadata": {},
   "outputs": [],
   "source": [
    "%run psql_functions.py\n",
    "%run miss_data.py"
   ]
  },
  {
   "cell_type": "code",
   "execution_count": 5,
   "id": "compact-progress",
   "metadata": {},
   "outputs": [
    {
     "name": "stdout",
     "output_type": "stream",
     "text": [
      "Executed query and closed connection.\n",
      "Executed query and closed connection.\n"
     ]
    }
   ],
   "source": [
    "query = \"\"\"select time_ from _775147;\"\"\"\n",
    "result = execQuery(param_dic, query)\n",
    "dates = [(date[0]) for date in result]\n",
    "\n",
    "query = \"\"\"select count_ from _775147;\"\"\"\n",
    "result = execQuery(param_dic, query)\n",
    "\"\"\"\n",
    "print(result)\n",
    "print(type(result))\n",
    "print(type(result[0]))\n",
    "print((str(result[0][0])))\n",
    "\"\"\"\n",
    "counts = [(count[0]) for count in result]\n",
    "\n",
    "all_dates = add_missing_dates(dates)\n",
    "all_counts =  add_missing_counts(counts, dates, all_dates)"
   ]
  },
  {
   "cell_type": "code",
   "execution_count": null,
   "id": "metallic-unknown",
   "metadata": {},
   "outputs": [],
   "source": []
  }
 ],
 "metadata": {
  "kernelspec": {
   "display_name": "Python 3",
   "language": "python",
   "name": "python3"
  },
  "language_info": {
   "codemirror_mode": {
    "name": "ipython",
    "version": 3
   },
   "file_extension": ".py",
   "mimetype": "text/x-python",
   "name": "python",
   "nbconvert_exporter": "python",
   "pygments_lexer": "ipython3",
   "version": "3.6.12"
  }
 },
 "nbformat": 4,
 "nbformat_minor": 5
}
