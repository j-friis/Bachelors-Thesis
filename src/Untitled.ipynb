{
 "cells": [
  {
   "cell_type": "code",
   "execution_count": 1,
   "id": "precise-fifty",
   "metadata": {},
   "outputs": [],
   "source": [
    "import numpy as np\n",
    "\n",
    "from datetime import datetime\n",
    "from datetime import timedelta  \n",
    "import numpy as np\n",
    "import pandas as pd\n",
    "from scipy.stats import laplace\n",
    "import scipy.stats\n",
    "import psycopg2\n",
    "from sklearn.metrics import mean_squared_error\n",
    "\n",
    "import matplotlib.pyplot as plt\n",
    "import seaborn as sns\n",
    "%matplotlib inline\n",
    "\n",
    "from datetime import datetime\n",
    "from datetime import timedelta  \n",
    "import threading\n",
    "import os\n",
    "import re"
   ]
  },
  {
   "cell_type": "code",
   "execution_count": 2,
   "id": "polished-raising",
   "metadata": {},
   "outputs": [
    {
     "name": "stdout",
     "output_type": "stream",
     "text": [
      "Executed query and closed connection.\n",
      "Executed query and closed connection.\n"
     ]
    }
   ],
   "source": [
    "param_dic = {\n",
    "    \"host\"      : \"localhost\",\n",
    "    \"database\"  : \"bachelorBesoeg2014\",\n",
    "    \"user\"      : \"postgres\",\n",
    "    \"password\"  : \"password\",\n",
    "    \"port\"      : \"5432\"\n",
    "}\n",
    "\n",
    "def execRangeQuery(params_dic,dates):\n",
    "    query = \"\"\"\n",
    "    SELECT\n",
    "    sum(count_)\n",
    "    FROM _775147\n",
    "    WHERE\n",
    "    time_ >= '{date0}'\n",
    "    AND time_ <=  '{date1}'\n",
    "    ;\n",
    "    \"\"\".format(date0 = dates[0], date1 = dates[1])\n",
    "    try:\n",
    "        connection = psycopg2.connect(**params_dic)\n",
    "        cursor = connection.cursor()\n",
    "        cursor.execute(query)\n",
    "        record = cursor.fetchall()\n",
    "        return record\n",
    "    except (Exception, psycopg2.Error) as error :\n",
    "        connection = False\n",
    "        print (\"Error while connecting to PostgreSQL\", error)\n",
    "    finally:\n",
    "        if(connection):\n",
    "            cursor.close()\n",
    "            connection.close()\n",
    "            print(\"Executed query and closed connection.\")\n",
    "\n",
    "def execQuery(params_dic,query):\n",
    "    try:\n",
    "        connection = psycopg2.connect(**params_dic)\n",
    "        cursor = connection.cursor()\n",
    "        cursor.execute(query)\n",
    "        record = cursor.fetchall()\n",
    "        return record\n",
    "    except (Exception, psycopg2.Error) as error :\n",
    "        connection = False\n",
    "        print (\"Error while connecting to PostgreSQL\", error)\n",
    "    finally:\n",
    "        if(connection):\n",
    "            cursor.close()\n",
    "            connection.close()\n",
    "            print(\"Executed query and closed connection.\")\n",
    "#\"\"\"select count(*) as number_of_dates, count(DISTINCT  count_) as distinct_count from _775147;\"\"\"\n",
    "query = \"\"\"select time_ from _775147;\"\"\"\n",
    "result = execQuery(param_dic, query)\n",
    "dates = [(date[0]) for date in result]\n",
    "\n",
    "query = \"\"\"select count_ from _775147;\"\"\"\n",
    "result = execQuery(param_dic, query)\n",
    "\"\"\"\n",
    "print(result)\n",
    "print(type(result))\n",
    "print(type(result[0]))\n",
    "print((str(result[0][0])))\n",
    "\"\"\"\n",
    "counts = [(count[0]) for count in result]\n",
    "\n",
    "def add_missing_dates(old_dates):\n",
    "    start_date = old_dates[0]\n",
    "    end_date = old_dates[-1]\n",
    "    all_dates = pd.date_range(start = start_date, end = end_date).to_pydatetime().tolist()\n",
    "    return [(date.date()) for date in all_dates]\n",
    "    \n",
    "def add_missing_counts(old_counts, old_dates, new_dates):\n",
    "        \"\"\"Adds 0 to the list of counts where there was missing dates\n",
    "        Parameters:\n",
    "        old_counts (list of int): List counts for each day with \n",
    "        old_dates (list of datetime.date): List of dates that is not countious\n",
    "        Returns:\n",
    "        List of countious starting with the first value of \n",
    "        \"\"\"\n",
    "        zip_iterator = zip(old_dates, old_counts)\n",
    "        missing_dict =  dict(zip_iterator)\n",
    "        all_counts = np.zeros(len(new_dates))\n",
    "        for i, date in enumerate(new_dates):\n",
    "            val = missing_dict.get(date, 0)\n",
    "            all_counts[i] = val\n",
    "            \n",
    "        return all_counts\n",
    "\n",
    "all_dates = add_missing_dates(dates)\n",
    "all_counts =  add_missing_counts(counts, dates, all_dates)"
   ]
  },
  {
   "cell_type": "code",
   "execution_count": 3,
   "id": "suited-clearance",
   "metadata": {},
   "outputs": [
    {
     "data": {
      "text/plain": [
       "['Data', 'plots', 'range_queries', 'results', '__pycache__']"
      ]
     },
     "execution_count": 3,
     "metadata": {},
     "output_type": "execute_result"
    }
   ],
   "source": [
    "onlydirs = [f for f in os.listdir(os.getcwd()) if os.path.isdir(os.path.join(os.getcwd(), f)) and f[0] != '.']\n",
    "onlydirs"
   ]
  },
  {
   "cell_type": "code",
   "execution_count": 4,
   "id": "obvious-river",
   "metadata": {},
   "outputs": [
    {
     "data": {
      "text/plain": [
       "'C:\\\\Users\\\\Jonas Friis\\\\Documents\\\\Universitet\\\\Bachelors-Thesis\\\\src\\\\range_queries\\\\flat'"
      ]
     },
     "execution_count": 4,
     "metadata": {},
     "output_type": "execute_result"
    }
   ],
   "source": [
    "os.chdir(os.getcwd()+'/'+'range_queries/flat/')\n",
    "os.getcwd()"
   ]
  },
  {
   "cell_type": "code",
   "execution_count": 58,
   "id": "varying-broadcasting",
   "metadata": {},
   "outputs": [],
   "source": [
    "n = np.array([256,512,1024,2048])\n",
    "degrees = np.array([2,3,4])\n",
    "lenght_n = 32\n",
    "\n",
    "degree_2 = np.array([44,325,402,485])\n",
    "\n",
    "degree_3 = np.array([217,217,296,294])\n",
    "degree_4 = np.array([130,200,202,288])\n",
    "n_quries = 5000\n",
    "def myfunc_dis(x, b):\n",
    "    return 2*b*int(np.ceil(np.log(x) / np.log(b)))**2\n",
    "\n",
    "def sample_range_query(length, dates):\n",
    "    \"\"\"\n",
    "    Samples two dates of with distance of lenght\n",
    "    \"\"\"\n",
    "    while True:\n",
    "        start_date_idx = np.random.randint((dates[-1]-dates[0]).days+1)\n",
    "        start_date = dates[start_date_idx]\n",
    "        end_date = dates[start_date_idx] + timedelta(days=(int(length-1)))\n",
    "        if dates[-1] > end_date:\n",
    "            return (str(start_date), str(end_date))\n",
    "\n",
    "def load_range_queries(file):\n",
    "    return pd.read_csv(file, sep='\\n',header=None).to_numpy().flatten()"
   ]
  },
  {
   "cell_type": "code",
   "execution_count": 50,
   "id": "medieval-planning",
   "metadata": {},
   "outputs": [
    {
     "data": {
      "text/plain": [
       "['range_queries_flat_N=1024_B=2_r=42.csv',\n",
       " 'range_queries_flat_N=1024_B=3_r=43.csv',\n",
       " 'range_queries_flat_N=1024_B=4_r=44.csv',\n",
       " 'range_queries_flat_N=128_B=2_r=7.csv',\n",
       " 'range_queries_flat_N=128_B=3_r=8.csv',\n",
       " 'range_queries_flat_N=128_B=4_r=9.csv',\n",
       " 'range_queries_flat_N=2048_B=2_r=62.csv',\n",
       " 'range_queries_flat_N=2048_B=3_r=63.csv',\n",
       " 'range_queries_flat_N=2048_B=4_r=64.csv',\n",
       " 'range_queries_flat_N=256_B=2_r=22.csv',\n",
       " 'range_queries_flat_N=256_B=3_r=23.csv',\n",
       " 'range_queries_flat_N=256_B=4_r=24.csv',\n",
       " 'range_queries_flat_N=32_B=2_r=4.csv',\n",
       " 'range_queries_flat_N=32_B=3_r=5.csv',\n",
       " 'range_queries_flat_N=32_B=4_r=6.csv',\n",
       " 'range_queries_flat_N=512_B=2_r=32.csv',\n",
       " 'range_queries_flat_N=512_B=3_r=33.csv',\n",
       " 'range_queries_flat_N=512_B=4_r=35.csv']"
      ]
     },
     "execution_count": 50,
     "metadata": {},
     "output_type": "execute_result"
    }
   ],
   "source": [
    "files = [f for f in os.listdir('.') if re.match(r'.+(_flat_).*\\.csv', f)]\n",
    "files"
   ]
  },
  {
   "cell_type": "code",
   "execution_count": 59,
   "id": "relative-priority",
   "metadata": {},
   "outputs": [],
   "source": [
    "a = load_range_queries(files[0])"
   ]
  },
  {
   "cell_type": "code",
   "execution_count": 60,
   "id": "simple-albert",
   "metadata": {},
   "outputs": [
    {
     "data": {
      "text/plain": [
       "array(['(2015-08-21,2015-10-01)', '(2016-08-31,2016-10-11)',\n",
       "       '(2015-09-10,2015-10-21)', ..., '(2014-06-13,2014-07-24)',\n",
       "       '(2015-09-19,2015-10-30)', '(2015-01-20,2015-03-02)'], dtype=object)"
      ]
     },
     "execution_count": 60,
     "metadata": {},
     "output_type": "execute_result"
    }
   ],
   "source": [
    "a"
   ]
  },
  {
   "cell_type": "code",
   "execution_count": 61,
   "id": "adapted-submission",
   "metadata": {},
   "outputs": [],
   "source": [
    "split_ratio = 50\n",
    "level_indicis_split = np.array_split(a, split_ratio)"
   ]
  },
  {
   "cell_type": "code",
   "execution_count": 62,
   "id": "major-eight",
   "metadata": {},
   "outputs": [
    {
     "data": {
      "text/plain": [
       "100"
      ]
     },
     "execution_count": 62,
     "metadata": {},
     "output_type": "execute_result"
    }
   ],
   "source": [
    "len(level_indicis_split[49])"
   ]
  },
  {
   "cell_type": "code",
   "execution_count": 63,
   "id": "signal-institute",
   "metadata": {},
   "outputs": [
    {
     "name": "stdout",
     "output_type": "stream",
     "text": [
      "(2014-04-23,2014-06-03)\n"
     ]
    }
   ],
   "source": [
    "print(level_indicis_split[0][99])"
   ]
  }
 ],
 "metadata": {
  "kernelspec": {
   "display_name": "Python 3",
   "language": "python",
   "name": "python3"
  },
  "language_info": {
   "codemirror_mode": {
    "name": "ipython",
    "version": 3
   },
   "file_extension": ".py",
   "mimetype": "text/x-python",
   "name": "python",
   "nbconvert_exporter": "python",
   "pygments_lexer": "ipython3",
   "version": "3.6.12"
  }
 },
 "nbformat": 4,
 "nbformat_minor": 5
}
