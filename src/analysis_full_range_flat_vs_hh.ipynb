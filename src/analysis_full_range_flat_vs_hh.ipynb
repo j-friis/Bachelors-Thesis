{
 "cells": [
  {
   "cell_type": "code",
   "execution_count": 1,
   "id": "cross-drinking",
   "metadata": {},
   "outputs": [],
   "source": [
    "import numpy as np\n",
    "import pandas as pd\n",
    "\n",
    "\n",
    "from sklearn.metrics import mean_squared_error\n",
    "import matplotlib.pyplot as plt\n",
    "import seaborn as sns\n",
    "\n",
    "from psql_functions import execQuery\n",
    "from miss_data import add_missing_dates, add_missing_counts\n",
    "from make_plots import dict_error_plot_epsilons, dict_error_plot_n\n",
    "\n",
    "import warnings\n",
    "warnings.filterwarnings('ignore')\n",
    "\n",
    "import sys\n",
    "import os\n",
    "import re\n",
    "owd = os.getcwd()"
   ]
  },
  {
   "cell_type": "code",
   "execution_count": 2,
   "id": "assisted-interest",
   "metadata": {},
   "outputs": [
    {
     "name": "stdout",
     "output_type": "stream",
     "text": [
      "Executed query and closed connection.\n",
      "Executed query and closed connection.\n"
     ]
    }
   ],
   "source": [
    "param_dic = {\n",
    "    \"host\"      : \"localhost\",\n",
    "    \"database\"  : \"bachelorBesoeg2014\",\n",
    "    \"user\"      : \"postgres\",\n",
    "    \"password\"  : \"password\",\n",
    "    \"port\"      : \"5432\"\n",
    "}\n",
    "\n",
    "query = \"\"\"select time_ from _775147;\"\"\"\n",
    "result = execQuery(param_dic, query)\n",
    "dates = [(date[0]) for date in result]\n",
    "\n",
    "query = \"\"\"select count_ from _775147;\"\"\"\n",
    "result = execQuery(param_dic, query)\n",
    "\n",
    "counts = [(count[0]) for count in result]\n",
    "\n",
    "all_dates = add_missing_dates(dates)\n",
    "all_counts =  add_missing_counts(counts, dates, all_dates)\n",
    "\n",
    "n_data_structures = 2\n"
   ]
  },
  {
   "cell_type": "code",
   "execution_count": 3,
   "id": "conscious-rugby",
   "metadata": {},
   "outputs": [],
   "source": [
    "onlydirs = [f for f in os.listdir(os.getcwd()) if os.path.isdir(os.path.join(os.getcwd(), f)) and f[0] != '.']"
   ]
  },
  {
   "cell_type": "code",
   "execution_count": 4,
   "id": "speaking-drama",
   "metadata": {},
   "outputs": [
    {
     "data": {
      "text/plain": [
       "['Data', 'plots', 'range_queries', 'results', '__pycache__']"
      ]
     },
     "execution_count": 4,
     "metadata": {},
     "output_type": "execute_result"
    }
   ],
   "source": [
    "onlydirs"
   ]
  },
  {
   "cell_type": "code",
   "execution_count": 5,
   "id": "stable-alabama",
   "metadata": {},
   "outputs": [],
   "source": [
    "def make_result_dict(epsilons, n):\n",
    "    epsilon_dict = dict.fromkeys(epsilons)\n",
    "    for e_key in epsilon_dict:\n",
    "        epsilon_dict[e_key] = dict.fromkeys(n)\n",
    "    return epsilon_dict\n",
    "\n",
    "\n",
    "def fill_up_result_dict(epsilons, n, path, files):\n",
    "    dict_ = make_result_dict(epsilons, n)\n",
    "    for idx, f in enumerate(files):\n",
    "        e = re.search(r'e=[-+]?[0-9]*\\.?[0-9]*', f).group(0)\n",
    "        e = e.split(\"e=\")[1]\n",
    "        N = re.search(r'N=\\d+', f).group(0)\n",
    "        N = N.split(\"N=\")[1]\n",
    "\n",
    "        res = np.loadtxt(path + f, delimiter=',').copy()\n",
    "        dict_[float(e)][int(N)] = res\n",
    "    return dict_\n",
    "\n",
    "def find_error_different_queries(est, cor):\n",
    "    erorrs = est - cor\n",
    "    max_error = np.amax(erorrs)\n",
    "    min_error = np.amin(erorrs)\n",
    "    rmse = mean_squared_error(cor, est, squared = False)\n",
    "    error_dict = {'rmse': rmse, 'max': max_error, 'min': min_error, 'abs': np.mean(erorrs)}\n",
    "    return error_dict"
   ]
  },
  {
   "cell_type": "code",
   "execution_count": 6,
   "id": "hundred-humor",
   "metadata": {},
   "outputs": [],
   "source": [
    "def load_split_est_n_cor_files(path):\n",
    "    files_cor = [f for f in os.listdir(path) if re.match(r'.*(cor).*\\.csv', f)]\n",
    "    \n",
    "    files_est = [f for f in os.listdir(path) if re.match(r'.*(est).*\\.csv', f)]\n",
    "    \n",
    "    est_full = [f for f in files_est if re.match(r'(full_).*\\.csv', f)]\n",
    "    \n",
    "    est_half = [f for f in files_est if re.match(r'(half_).*\\.csv', f)]\n",
    "\n",
    "    est_full_flat =  [f for f in est_full if re.match(r'.*(_flat_).*\\.csv', f)]\n",
    "    est_full_hh =  [f for f in est_full if re.match(r'.*(_hh_).*\\.csv', f)]\n",
    "\n",
    "    est_half_flat =  [f for f in est_half if re.match(r'.*(_flat_).*\\.csv', f)]\n",
    "    est_half_hh =  [f for f in est_half if re.match(r'.*(_hh_).*\\.csv', f)]\n",
    "    \n",
    "    cor_full = [f for f in files_cor if re.match(r'(full_).*\\.csv', f)]\n",
    "    #Where hh beats flat\n",
    "    cor_half = [f for f in files_cor if re.match(r'(half_).*\\.csv', f)]\n",
    "    \n",
    "    \n",
    "    return est_full_flat, est_full_hh, est_half_flat, est_half_hh, cor_full, cor_half\n"
   ]
  },
  {
   "cell_type": "code",
   "execution_count": 7,
   "id": "upper-collect",
   "metadata": {},
   "outputs": [
    {
     "data": {
      "text/plain": [
       "\"\\nest_full_flat_dict \\nest_full_hh_dict \\n\\nest_half_flat_dict \\nest_half_hh_dict\\n\\ncor_full_dict\\ncor_half_dict \\n\\ni = 0\\n    j = 0\\n    for e_key in epsilon_dict:\\n        #print(e_key)\\n        epsilon_dict[e_key] = n_dicts[i]\\n        n_dict = epsilon_dict[e_key]\\n        #print(epsilon_dict[e_key])\\n        for n_key in n_dict:\\n            n_dict[n_key] = model_dicts[j]\\n            n_dict[n_key]['flat'] = dict.fromkeys(degrees)\\n            n_dict[n_key]['hh'] = dict.fromkeys(degrees)\\n            j = j + 1\\n        i = i + 1\\n        #print(epsilon_dict)\\n\""
      ]
     },
     "execution_count": 7,
     "metadata": {},
     "output_type": "execute_result"
    }
   ],
   "source": [
    "def make_flat_errors_dict(epsilons, n):\n",
    "    epsilon_dict = dict.fromkeys(epsilons)\n",
    "    \n",
    "    model_dicts = []\n",
    "    for i in range(0,len(n)*len(epsilons)):\n",
    "        model_dict = dict.fromkeys(['flat', 'hh'])\n",
    "\n",
    "        model_dicts.append(model_dict)\n",
    "    \n",
    "    i = 0\n",
    "    j = 0\n",
    "    for e_key in epsilon_dict:\n",
    "        #print(e_key)\n",
    "        epsilon_dict[e_key] = dict.fromkeys(n)\n",
    "        n_dict = epsilon_dict[e_key]\n",
    "        #print(epsilon_dict[e_key])\n",
    "        for n_key in n_dict:\n",
    "            n_dict[n_key] = model_dicts[j]\n",
    "            j = j + 1\n",
    "        i = i + 1\n",
    "    return epsilon_dict\n",
    "\n",
    "def fill_up_errors_dict(epsilons, n, flat_est_dict, hh_est_dict, cor_dict):\n",
    "    dict_ = make_flat_errors_dict(epsilons, n)\n",
    "    for e in epsilons:\n",
    "        for N in n:\n",
    "\n",
    "            cor = cor_dict[e][N]\n",
    "            flat_est = flat_est_dict[e][N]\n",
    "            dict_[e][N]['flat'] = find_error_different_queries(flat_est, cor) \n",
    "            \n",
    "   \n",
    "            hh_est = hh_est_dict[e][N]\n",
    "            dict_[e][N]['hh'] = find_error_different_queries(hh_est, cor) \n",
    "\n",
    "\n",
    "    return dict_\n",
    "\"\"\"\n",
    "est_full_flat_dict \n",
    "est_full_hh_dict \n",
    "\n",
    "est_half_flat_dict \n",
    "est_half_hh_dict\n",
    "\n",
    "cor_full_dict\n",
    "cor_half_dict \n",
    "\n",
    "i = 0\n",
    "    j = 0\n",
    "    for e_key in epsilon_dict:\n",
    "        #print(e_key)\n",
    "        epsilon_dict[e_key] = n_dicts[i]\n",
    "        n_dict = epsilon_dict[e_key]\n",
    "        #print(epsilon_dict[e_key])\n",
    "        for n_key in n_dict:\n",
    "            n_dict[n_key] = model_dicts[j]\n",
    "            n_dict[n_key]['flat'] = dict.fromkeys(degrees)\n",
    "            n_dict[n_key]['hh'] = dict.fromkeys(degrees)\n",
    "            j = j + 1\n",
    "        i = i + 1\n",
    "        #print(epsilon_dict)\n",
    "\"\"\"\n",
    "#make_flat_errors_dict(epsilons, n)\n"
   ]
  },
  {
   "cell_type": "code",
   "execution_count": null,
   "id": "acting-amendment",
   "metadata": {},
   "outputs": [],
   "source": []
  },
  {
   "cell_type": "code",
   "execution_count": 8,
   "id": "preliminary-thing",
   "metadata": {},
   "outputs": [],
   "source": [
    "epsilons = np.array([1.4, 1.2, 1, 0.8, 0.6, 0.4])\n",
    "n = np.array([32, 128, 256, 512, 1024, 2048])"
   ]
  },
  {
   "cell_type": "code",
   "execution_count": null,
   "id": "geological-douglas",
   "metadata": {},
   "outputs": [],
   "source": []
  },
  {
   "cell_type": "code",
   "execution_count": null,
   "id": "stunning-depression",
   "metadata": {},
   "outputs": [],
   "source": []
  },
  {
   "cell_type": "code",
   "execution_count": null,
   "id": "expected-fighter",
   "metadata": {},
   "outputs": [],
   "source": []
  },
  {
   "cell_type": "markdown",
   "id": "variable-nickel",
   "metadata": {},
   "source": [
    "# Loading the data "
   ]
  },
  {
   "cell_type": "code",
   "execution_count": 9,
   "id": "accomplished-marina",
   "metadata": {},
   "outputs": [
    {
     "data": {
      "text/plain": [
       "'C:\\\\Users\\\\Jonas Friis\\\\Documents\\\\Universitet\\\\Bachelors-Thesis\\\\src\\\\results\\\\max_hh'"
      ]
     },
     "execution_count": 9,
     "metadata": {},
     "output_type": "execute_result"
    }
   ],
   "source": [
    "#C:\\Users\\Jonas Friis\\Documents\\Universitet\\Bachelors-Thesis\\src\\results\\sample_querys\\local_hh\n",
    "os.chdir(os.getcwd()+'/'+'results/max_hh/')\n",
    "os.getcwd()"
   ]
  },
  {
   "cell_type": "code",
   "execution_count": 10,
   "id": "portable-bearing",
   "metadata": {
    "scrolled": true
   },
   "outputs": [],
   "source": [
    "path =  owd +'/'+'results/max_hh/'\n",
    "files = os.listdir(path)\n",
    "est_full_flat, est_full_hh, est_half_flat, est_half_hh, cor_full, cor_half = load_split_est_n_cor_files(path)\n"
   ]
  },
  {
   "cell_type": "code",
   "execution_count": 11,
   "id": "hungarian-cigarette",
   "metadata": {},
   "outputs": [
    {
     "name": "stdout",
     "output_type": "stream",
     "text": [
      "['half_flat_est_e=0.4_N=1024.csv', 'half_flat_est_e=0.4_N=128.csv', 'half_flat_est_e=0.4_N=2048.csv', 'half_flat_est_e=0.4_N=256.csv', 'half_flat_est_e=0.4_N=32.csv', 'half_flat_est_e=0.4_N=512.csv', 'half_flat_est_e=0.6_N=1024.csv', 'half_flat_est_e=0.6_N=128.csv', 'half_flat_est_e=0.6_N=2048.csv', 'half_flat_est_e=0.6_N=256.csv', 'half_flat_est_e=0.6_N=32.csv', 'half_flat_est_e=0.6_N=512.csv', 'half_flat_est_e=0.8_N=1024.csv', 'half_flat_est_e=0.8_N=128.csv', 'half_flat_est_e=0.8_N=2048.csv', 'half_flat_est_e=0.8_N=256.csv', 'half_flat_est_e=0.8_N=32.csv', 'half_flat_est_e=0.8_N=512.csv', 'half_flat_est_e=1.0_N=1024.csv', 'half_flat_est_e=1.0_N=128.csv', 'half_flat_est_e=1.0_N=2048.csv', 'half_flat_est_e=1.0_N=256.csv', 'half_flat_est_e=1.0_N=32.csv', 'half_flat_est_e=1.0_N=512.csv', 'half_flat_est_e=1.2_N=1024.csv', 'half_flat_est_e=1.2_N=128.csv', 'half_flat_est_e=1.2_N=2048.csv', 'half_flat_est_e=1.2_N=256.csv', 'half_flat_est_e=1.2_N=32.csv', 'half_flat_est_e=1.2_N=512.csv', 'half_flat_est_e=1.4_N=1024.csv', 'half_flat_est_e=1.4_N=128.csv', 'half_flat_est_e=1.4_N=2048.csv', 'half_flat_est_e=1.4_N=256.csv', 'half_flat_est_e=1.4_N=32.csv', 'half_flat_est_e=1.4_N=512.csv']\n",
      "['half_hh_est_e=0.4_N=1024.csv', 'half_hh_est_e=0.4_N=128.csv', 'half_hh_est_e=0.4_N=2048.csv', 'half_hh_est_e=0.4_N=256.csv', 'half_hh_est_e=0.4_N=32.csv', 'half_hh_est_e=0.4_N=512.csv', 'half_hh_est_e=0.6_N=1024.csv', 'half_hh_est_e=0.6_N=128.csv', 'half_hh_est_e=0.6_N=2048.csv', 'half_hh_est_e=0.6_N=256.csv', 'half_hh_est_e=0.6_N=32.csv', 'half_hh_est_e=0.6_N=512.csv', 'half_hh_est_e=0.8_N=1024.csv', 'half_hh_est_e=0.8_N=128.csv', 'half_hh_est_e=0.8_N=2048.csv', 'half_hh_est_e=0.8_N=256.csv', 'half_hh_est_e=0.8_N=32.csv', 'half_hh_est_e=0.8_N=512.csv', 'half_hh_est_e=1.0_N=1024.csv', 'half_hh_est_e=1.0_N=128.csv', 'half_hh_est_e=1.0_N=2048.csv', 'half_hh_est_e=1.0_N=256.csv', 'half_hh_est_e=1.0_N=32.csv', 'half_hh_est_e=1.0_N=512.csv', 'half_hh_est_e=1.2_N=1024.csv', 'half_hh_est_e=1.2_N=128.csv', 'half_hh_est_e=1.2_N=2048.csv', 'half_hh_est_e=1.2_N=256.csv', 'half_hh_est_e=1.2_N=32.csv', 'half_hh_est_e=1.2_N=512.csv', 'half_hh_est_e=1.4_N=1024.csv', 'half_hh_est_e=1.4_N=128.csv', 'half_hh_est_e=1.4_N=2048.csv', 'half_hh_est_e=1.4_N=256.csv', 'half_hh_est_e=1.4_N=32.csv', 'half_hh_est_e=1.4_N=512.csv']\n",
      "['half_cor_e=0.4_N=1024.csv', 'half_cor_e=0.4_N=128.csv', 'half_cor_e=0.4_N=2048.csv', 'half_cor_e=0.4_N=256.csv', 'half_cor_e=0.4_N=32.csv', 'half_cor_e=0.4_N=512.csv', 'half_cor_e=0.6_N=1024.csv', 'half_cor_e=0.6_N=128.csv', 'half_cor_e=0.6_N=2048.csv', 'half_cor_e=0.6_N=256.csv', 'half_cor_e=0.6_N=32.csv', 'half_cor_e=0.6_N=512.csv', 'half_cor_e=0.8_N=1024.csv', 'half_cor_e=0.8_N=128.csv', 'half_cor_e=0.8_N=2048.csv', 'half_cor_e=0.8_N=256.csv', 'half_cor_e=0.8_N=32.csv', 'half_cor_e=0.8_N=512.csv', 'half_cor_e=1.0_N=1024.csv', 'half_cor_e=1.0_N=128.csv', 'half_cor_e=1.0_N=2048.csv', 'half_cor_e=1.0_N=256.csv', 'half_cor_e=1.0_N=32.csv', 'half_cor_e=1.0_N=512.csv', 'half_cor_e=1.2_N=1024.csv', 'half_cor_e=1.2_N=128.csv', 'half_cor_e=1.2_N=2048.csv', 'half_cor_e=1.2_N=256.csv', 'half_cor_e=1.2_N=32.csv', 'half_cor_e=1.2_N=512.csv', 'half_cor_e=1.4_N=1024.csv', 'half_cor_e=1.4_N=128.csv', 'half_cor_e=1.4_N=2048.csv', 'half_cor_e=1.4_N=256.csv', 'half_cor_e=1.4_N=32.csv', 'half_cor_e=1.4_N=512.csv']\n"
     ]
    }
   ],
   "source": [
    "#print(est_full_flat)\n",
    "#print(est_full_hh)\n",
    "print(est_half_flat)\n",
    "print(est_half_hh)\n",
    "#print(cor_full)\n",
    "print(cor_half)"
   ]
  },
  {
   "cell_type": "code",
   "execution_count": 12,
   "id": "hundred-powell",
   "metadata": {},
   "outputs": [],
   "source": [
    "est_full_flat_dict = fill_up_result_dict(epsilons, n, path, est_full_flat)\n",
    "est_full_hh_dict = fill_up_result_dict(epsilons, n, path, est_full_hh)\n",
    "\n",
    "est_half_flat_dict = fill_up_result_dict(epsilons, n, path, est_half_flat)\n",
    "est_half_hh_dict = fill_up_result_dict(epsilons, n, path, est_half_hh)\n",
    "\n",
    "cor_full_dict = fill_up_result_dict(epsilons, n, path, cor_full)\n",
    "cor_half_dict = fill_up_result_dict(epsilons, n, path, cor_half)\n"
   ]
  },
  {
   "cell_type": "code",
   "execution_count": 13,
   "id": "chicken-imaging",
   "metadata": {},
   "outputs": [
    {
     "data": {
      "text/plain": [
       "\"\\nprint(est_full_flat_dict)\\nprint('___________')\\nprint(est_full_hh_dict)\\nprint('___________')\\nprint(est_half_flat_dict)\\nprint('___________')\\nprint(est_half_hh_dict)\\nprint('___________')\\nprint(cor_full_dict)\\nprint('___________')\\nprint(cor_half_dict)\\n\""
      ]
     },
     "execution_count": 13,
     "metadata": {},
     "output_type": "execute_result"
    }
   ],
   "source": [
    "\"\"\"\n",
    "print(est_full_flat_dict)\n",
    "print('___________')\n",
    "print(est_full_hh_dict)\n",
    "print('___________')\n",
    "print(est_half_flat_dict)\n",
    "print('___________')\n",
    "print(est_half_hh_dict)\n",
    "print('___________')\n",
    "print(cor_full_dict)\n",
    "print('___________')\n",
    "print(cor_half_dict)\n",
    "\"\"\""
   ]
  },
  {
   "cell_type": "code",
   "execution_count": 14,
   "id": "fossil-blood",
   "metadata": {},
   "outputs": [
    {
     "name": "stdout",
     "output_type": "stream",
     "text": [
      "{32: {'flat': {'rmse': 393.56889929864775, 'max': 211.15742940678865, 'min': -514.981064697155, 'abs': -151.9118176451832}, 'hh': {'rmse': 131.14802157411407, 'max': -1.6020910817519507, 'min': -185.46439127167878, 'abs': -93.53324117671536}}, 128: {'flat': {'rmse': 3324.979256747414, 'max': -2335.859359912938, 'min': -4081.021338624474, 'abs': -3208.440349268706}, 'hh': {'rmse': 142.3587043653505, 'max': -94.3466170767897, 'min': -177.8502664134303, 'abs': -136.09844174511}}, 256: {'flat': {'rmse': 6213.886214911901, 'max': 7602.804967545955, 'min': -4407.053483814652, 'abs': 1597.8757418656514}, 'hh': {'rmse': 476.09301315483594, 'max': 42.63523680423168, 'min': -671.9459434599994, 'abs': -314.65535332788386}}, 512: {'flat': {'rmse': 18061.46261364845, 'max': 14212.69606017181, 'min': -21223.386492019086, 'abs': -3505.3452159236385}, 'hh': {'rmse': 1136.1131694433207, 'max': -149.07911951533606, 'min': -1599.77551040439, 'abs': -874.427314959863}}, 1024: {'flat': {'rmse': 28060.825399972808, 'max': 11729.837746783363, 'min': -37910.82629922031, 'abs': -13090.494276218473}, 'hh': {'rmse': 710.7112668526896, 'max': -412.4799738205911, 'min': -916.559480262833, 'abs': -664.519727041712}}, 2048: {'flat': {'rmse': 22545.921798792773, 'max': 25653.785814187082, 'min': -18934.636329076195, 'abs': 3359.5747425554437}, 'hh': {'rmse': 342.9413866697211, 'max': 133.38313088321593, 'min': -466.29017765517347, 'abs': -166.45352338597877}}}\n",
      "{32: {'flat': {'rmse': 538.1239270424722, 'max': 758.9561146883434, 'min': 56.038715977421816, 'abs': 407.4974153328826}, 'hh': {'rmse': 243.79141144933968, 'max': 341.6006276012499, 'min': -46.663859842008605, 'abs': 147.46838387962066}}, 128: {'flat': {'rmse': 5091.498479689753, 'max': 6614.153872902327, 'min': 2845.994041268761, 'abs': 4730.073957085544}, 'hh': {'rmse': 489.5540786173501, 'max': 686.0101812965477, 'min': -93.36178521880902, 'abs': 296.3241980388693}}, 256: {'flat': {'rmse': 5586.39748684157, 'max': 7612.542884513183, 'min': -2113.022620188276, 'abs': 2749.7601321624534}, 'hh': {'rmse': 365.05983203754914, 'max': 264.84373678742486, 'min': -443.1649320727447, 'abs': -89.16059764265992}}, 512: {'flat': {'rmse': 9565.53379281437, 'max': -8505.473017277778, 'min': -10519.306167010589, 'abs': -9512.389592144184}, 'hh': {'rmse': 340.87610988071947, 'max': 471.19926811294135, 'min': 101.80517818192311, 'abs': 286.50222314743223}}, 1024: {'flat': {'rmse': 21716.582773239465, 'max': 29444.107039224124, 'min': 8732.954560550206, 'abs': 19088.530799887165}, 'hh': {'rmse': 999.627950144291, 'max': -992.9490935172653, 'min': -1006.2624782344792, 'abs': -999.6057858758722}}, 2048: {'flat': {'rmse': 276775.1169955671, 'max': 339674.47662927036, 'min': 194499.82185711886, 'abs': 267087.1492431946}, 'hh': {'rmse': 1028.2448050418627, 'max': 802.7731686317711, 'min': -1212.4891743500484, 'abs': -204.85800285913865}}}\n",
      "{32: {'flat': {'rmse': 550.7324710890897, 'max': 735.170679945983, 'min': -257.1703341591933, 'abs': 239.00017289339485}, 'hh': {'rmse': 73.53025006582949, 'max': 98.51819161757112, 'min': 33.28004311731547, 'abs': 65.8991173674433}}, 128: {'flat': {'rmse': 4884.004973074117, 'max': -2131.791350809215, 'min': -6569.815430485123, 'abs': -4350.803390647169}, 'hh': {'rmse': 600.3525724227272, 'max': -568.949279057375, 'min': -630.1929389395482, 'abs': -599.5711089984616}}, 256: {'flat': {'rmse': 16216.106222553592, 'max': 22926.40694966659, 'min': 551.4221799692132, 'abs': 11738.914564817902}, 'hh': {'rmse': 209.29931346323673, 'max': 255.83901084655736, 'min': -148.85834125577094, 'abs': 53.49033479539321}}, 512: {'flat': {'rmse': 34633.28950694071, 'max': 36826.79589905463, 'min': 32291.12243252799, 'abs': 34558.95916579131}, 'hh': {'rmse': 853.3092103658872, 'max': 1172.891277226372, 'min': 283.90010355193226, 'abs': 728.3956903891522}}, 1024: {'flat': {'rmse': 55328.62197605079, 'max': 71701.91931960592, 'min': 31326.467809540627, 'abs': 51514.193564573274}, 'hh': {'rmse': 959.0718457170254, 'max': 1143.0279026963835, 'min': 730.1539729068318, 'abs': 936.5909378016077}}, 2048: {'flat': {'rmse': 80545.65432943197, 'max': 112124.01393154392, 'min': -20085.078107680718, 'abs': 46019.4679119316}, 'hh': {'rmse': 2193.8121655815594, 'max': 2830.5632388882805, 'min': 1270.2501274794631, 'abs': 2050.406683183872}}}\n",
      "{32: {'flat': {'rmse': 611.0246274807554, 'max': 268.47775458412934, 'min': -821.3536912131435, 'abs': -276.4379683145071}, 'hh': {'rmse': 152.53971422733608, 'max': -26.128183507076756, 'min': -214.135580555253, 'abs': -120.13188203116488}}, 128: {'flat': {'rmse': 4286.719263643633, 'max': -4228.2612155521765, 'min': -4344.390772437955, 'abs': -4286.325993995066}, 'hh': {'rmse': 467.1495449055102, 'max': -41.14900127291003, 'min': -659.3664795127916, 'abs': -350.2577403928508}}, 256: {'flat': {'rmse': 8330.149671949512, 'max': 11683.150758587355, 'min': 1512.2088037968897, 'abs': 6597.679781192122}, 'hh': {'rmse': 531.2535185016518, 'max': 744.9677673132137, 'min': -97.38391810322355, 'abs': 323.7919246049951}}, 512: {'flat': {'rmse': 17925.381705177657, 'max': -13851.817757758887, 'min': -21231.24497900373, 'abs': -17541.531368381307}, 'hh': {'rmse': 630.5339481216678, 'max': 530.4106572752207, 'min': -716.805869197975, 'abs': -93.19760596137712}}, 1024: {'flat': {'rmse': 113568.85853871713, 'max': 149093.14264031034, 'min': 59724.41776367821, 'abs': 104408.78020199428}, 'hh': {'rmse': 199.22067068967326, 'max': 256.15935588449065, 'min': -117.30360460330849, 'abs': 69.42787564059108}}, 2048: {'flat': {'rmse': 102535.43503942838, 'max': -43597.76347476427, 'min': -138297.74364554248, 'abs': -90947.75356015337}, 'hh': {'rmse': 3623.1405423529363, 'max': 1829.0264072645805, 'min': -4786.330241511954, 'abs': -1478.6519171236869}}}\n",
      "{32: {'flat': {'rmse': 217.88364131276367, 'max': 226.7039911431816, 'min': 208.69083042426746, 'abs': 217.69741078372454}, 'hh': {'rmse': 60.52108600292596, 'max': 85.32174541410404, 'min': 6.7678254585898685, 'abs': 46.044785436346956}}, 128: {'flat': {'rmse': 2995.7573169010075, 'max': 3539.104350305068, 'min': -2328.9191057620683, 'abs': 605.0926222714997}, 'hh': {'rmse': 217.41425074637365, 'max': 301.20035486379675, 'min': -61.77587785808464, 'abs': 119.71223850285605}}, 256: {'flat': {'rmse': 10376.685190813947, 'max': -5247.67418009941, 'min': -13704.492212338002, 'abs': -9476.083196218706}, 'hh': {'rmse': 691.0113098195687, 'max': 821.7424984990139, 'min': -528.8974633685721, 'abs': 146.42251756522091}}, 512: {'flat': {'rmse': 39094.1437610759, 'max': 49834.625636827725, 'min': 23941.89300077528, 'abs': 36888.2593188015}, 'hh': {'rmse': 399.5654682886056, 'max': 546.7789972210012, 'min': 142.61085195517808, 'abs': 344.69492458808963}}, 1024: {'flat': {'rmse': 37063.56093681327, 'max': -19030.18056731057, 'min': -48839.19866469245, 'abs': -33934.68961600151}, 'hh': {'rmse': 1816.7821273189863, 'max': 1680.825791291194, 'min': -1943.2496637389995, 'abs': -131.21193622390274}}, 2048: {'flat': {'rmse': 147704.92296107757, 'max': 197341.69187315786, 'min': 68481.71422004071, 'abs': 132911.7030465993}, 'hh': {'rmse': 312.41275627356833, 'max': 426.47442979353946, 'min': -115.4253927746031, 'abs': 155.52451850946818}}}\n",
      "{32: {'flat': {'rmse': 822.6687734220229, 'max': 1156.2856392043177, 'min': -128.7297249948656, 'abs': 513.777957104726}, 'hh': {'rmse': 320.9244663664577, 'max': -245.50416635291822, 'min': -381.7233691150568, 'abs': -313.6137677339875}}, 128: {'flat': {'rmse': 6075.92847748346, 'max': -6032.7105321800145, 'min': -6118.841178026543, 'abs': -6075.775855103278}, 'hh': {'rmse': 369.25303460177815, 'max': -42.2512073657017, 'min': -520.490578782541, 'abs': -281.37089307412134}}, 256: {'flat': {'rmse': 17841.527321507117, 'max': 10655.076045214024, 'min': -22871.58824390812, 'abs': -6108.256099347049}, 'hh': {'rmse': 408.22682886351896, 'max': 25.761954802943364, 'min': -576.7448389822493, 'abs': -275.491442089653}}, 512: {'flat': {'rmse': 32039.3114450555, 'max': -29172.954982994303, 'min': -34669.491679381696, 'abs': -31921.223331187997}, 'hh': {'rmse': 335.6201014780724, 'max': -293.8461576720656, 'min': -372.74138575380493, 'abs': -333.29377171293527}}, 1024: {'flat': {'rmse': 251292.62051221356, 'max': -22945.72832347422, 'min': -354639.8959500976, 'abs': -188792.8121367859}, 'hh': {'rmse': 914.8577154759499, 'max': 1060.750344058586, 'min': -740.7685108799778, 'abs': 159.9909165893041}}, 2048: {'flat': {'rmse': 111792.66765562996, 'max': 117582.52611401683, 'min': -105686.09480802485, 'abs': 5948.21565299599}, 'hh': {'rmse': 1610.9073255121564, 'max': 2135.101794106129, 'min': -794.5974777094671, 'abs': 670.252158198331}}}\n",
      "{1.4: {32: {'flat': {'rmse': 393.56889929864775, 'max': 211.15742940678865, 'min': -514.981064697155, 'abs': -151.9118176451832}, 'hh': {'rmse': 131.14802157411407, 'max': -1.6020910817519507, 'min': -185.46439127167878, 'abs': -93.53324117671536}}, 128: {'flat': {'rmse': 3324.979256747414, 'max': -2335.859359912938, 'min': -4081.021338624474, 'abs': -3208.440349268706}, 'hh': {'rmse': 142.3587043653505, 'max': -94.3466170767897, 'min': -177.8502664134303, 'abs': -136.09844174511}}, 256: {'flat': {'rmse': 6213.886214911901, 'max': 7602.804967545955, 'min': -4407.053483814652, 'abs': 1597.8757418656514}, 'hh': {'rmse': 476.09301315483594, 'max': 42.63523680423168, 'min': -671.9459434599994, 'abs': -314.65535332788386}}, 512: {'flat': {'rmse': 18061.46261364845, 'max': 14212.69606017181, 'min': -21223.386492019086, 'abs': -3505.3452159236385}, 'hh': {'rmse': 1136.1131694433207, 'max': -149.07911951533606, 'min': -1599.77551040439, 'abs': -874.427314959863}}, 1024: {'flat': {'rmse': 28060.825399972808, 'max': 11729.837746783363, 'min': -37910.82629922031, 'abs': -13090.494276218473}, 'hh': {'rmse': 710.7112668526896, 'max': -412.4799738205911, 'min': -916.559480262833, 'abs': -664.519727041712}}, 2048: {'flat': {'rmse': 22545.921798792773, 'max': 25653.785814187082, 'min': -18934.636329076195, 'abs': 3359.5747425554437}, 'hh': {'rmse': 342.9413866697211, 'max': 133.38313088321593, 'min': -466.29017765517347, 'abs': -166.45352338597877}}}, 1.2: {32: {'flat': {'rmse': 538.1239270424722, 'max': 758.9561146883434, 'min': 56.038715977421816, 'abs': 407.4974153328826}, 'hh': {'rmse': 243.79141144933968, 'max': 341.6006276012499, 'min': -46.663859842008605, 'abs': 147.46838387962066}}, 128: {'flat': {'rmse': 5091.498479689753, 'max': 6614.153872902327, 'min': 2845.994041268761, 'abs': 4730.073957085544}, 'hh': {'rmse': 489.5540786173501, 'max': 686.0101812965477, 'min': -93.36178521880902, 'abs': 296.3241980388693}}, 256: {'flat': {'rmse': 5586.39748684157, 'max': 7612.542884513183, 'min': -2113.022620188276, 'abs': 2749.7601321624534}, 'hh': {'rmse': 365.05983203754914, 'max': 264.84373678742486, 'min': -443.1649320727447, 'abs': -89.16059764265992}}, 512: {'flat': {'rmse': 9565.53379281437, 'max': -8505.473017277778, 'min': -10519.306167010589, 'abs': -9512.389592144184}, 'hh': {'rmse': 340.87610988071947, 'max': 471.19926811294135, 'min': 101.80517818192311, 'abs': 286.50222314743223}}, 1024: {'flat': {'rmse': 21716.582773239465, 'max': 29444.107039224124, 'min': 8732.954560550206, 'abs': 19088.530799887165}, 'hh': {'rmse': 999.627950144291, 'max': -992.9490935172653, 'min': -1006.2624782344792, 'abs': -999.6057858758722}}, 2048: {'flat': {'rmse': 276775.1169955671, 'max': 339674.47662927036, 'min': 194499.82185711886, 'abs': 267087.1492431946}, 'hh': {'rmse': 1028.2448050418627, 'max': 802.7731686317711, 'min': -1212.4891743500484, 'abs': -204.85800285913865}}}, 1.0: {32: {'flat': {'rmse': 550.7324710890897, 'max': 735.170679945983, 'min': -257.1703341591933, 'abs': 239.00017289339485}, 'hh': {'rmse': 73.53025006582949, 'max': 98.51819161757112, 'min': 33.28004311731547, 'abs': 65.8991173674433}}, 128: {'flat': {'rmse': 4884.004973074117, 'max': -2131.791350809215, 'min': -6569.815430485123, 'abs': -4350.803390647169}, 'hh': {'rmse': 600.3525724227272, 'max': -568.949279057375, 'min': -630.1929389395482, 'abs': -599.5711089984616}}, 256: {'flat': {'rmse': 16216.106222553592, 'max': 22926.40694966659, 'min': 551.4221799692132, 'abs': 11738.914564817902}, 'hh': {'rmse': 209.29931346323673, 'max': 255.83901084655736, 'min': -148.85834125577094, 'abs': 53.49033479539321}}, 512: {'flat': {'rmse': 34633.28950694071, 'max': 36826.79589905463, 'min': 32291.12243252799, 'abs': 34558.95916579131}, 'hh': {'rmse': 853.3092103658872, 'max': 1172.891277226372, 'min': 283.90010355193226, 'abs': 728.3956903891522}}, 1024: {'flat': {'rmse': 55328.62197605079, 'max': 71701.91931960592, 'min': 31326.467809540627, 'abs': 51514.193564573274}, 'hh': {'rmse': 959.0718457170254, 'max': 1143.0279026963835, 'min': 730.1539729068318, 'abs': 936.5909378016077}}, 2048: {'flat': {'rmse': 80545.65432943197, 'max': 112124.01393154392, 'min': -20085.078107680718, 'abs': 46019.4679119316}, 'hh': {'rmse': 2193.8121655815594, 'max': 2830.5632388882805, 'min': 1270.2501274794631, 'abs': 2050.406683183872}}}, 0.8: {32: {'flat': {'rmse': 611.0246274807554, 'max': 268.47775458412934, 'min': -821.3536912131435, 'abs': -276.4379683145071}, 'hh': {'rmse': 152.53971422733608, 'max': -26.128183507076756, 'min': -214.135580555253, 'abs': -120.13188203116488}}, 128: {'flat': {'rmse': 4286.719263643633, 'max': -4228.2612155521765, 'min': -4344.390772437955, 'abs': -4286.325993995066}, 'hh': {'rmse': 467.1495449055102, 'max': -41.14900127291003, 'min': -659.3664795127916, 'abs': -350.2577403928508}}, 256: {'flat': {'rmse': 8330.149671949512, 'max': 11683.150758587355, 'min': 1512.2088037968897, 'abs': 6597.679781192122}, 'hh': {'rmse': 531.2535185016518, 'max': 744.9677673132137, 'min': -97.38391810322355, 'abs': 323.7919246049951}}, 512: {'flat': {'rmse': 17925.381705177657, 'max': -13851.817757758887, 'min': -21231.24497900373, 'abs': -17541.531368381307}, 'hh': {'rmse': 630.5339481216678, 'max': 530.4106572752207, 'min': -716.805869197975, 'abs': -93.19760596137712}}, 1024: {'flat': {'rmse': 113568.85853871713, 'max': 149093.14264031034, 'min': 59724.41776367821, 'abs': 104408.78020199428}, 'hh': {'rmse': 199.22067068967326, 'max': 256.15935588449065, 'min': -117.30360460330849, 'abs': 69.42787564059108}}, 2048: {'flat': {'rmse': 102535.43503942838, 'max': -43597.76347476427, 'min': -138297.74364554248, 'abs': -90947.75356015337}, 'hh': {'rmse': 3623.1405423529363, 'max': 1829.0264072645805, 'min': -4786.330241511954, 'abs': -1478.6519171236869}}}, 0.6: {32: {'flat': {'rmse': 217.88364131276367, 'max': 226.7039911431816, 'min': 208.69083042426746, 'abs': 217.69741078372454}, 'hh': {'rmse': 60.52108600292596, 'max': 85.32174541410404, 'min': 6.7678254585898685, 'abs': 46.044785436346956}}, 128: {'flat': {'rmse': 2995.7573169010075, 'max': 3539.104350305068, 'min': -2328.9191057620683, 'abs': 605.0926222714997}, 'hh': {'rmse': 217.41425074637365, 'max': 301.20035486379675, 'min': -61.77587785808464, 'abs': 119.71223850285605}}, 256: {'flat': {'rmse': 10376.685190813947, 'max': -5247.67418009941, 'min': -13704.492212338002, 'abs': -9476.083196218706}, 'hh': {'rmse': 691.0113098195687, 'max': 821.7424984990139, 'min': -528.8974633685721, 'abs': 146.42251756522091}}, 512: {'flat': {'rmse': 39094.1437610759, 'max': 49834.625636827725, 'min': 23941.89300077528, 'abs': 36888.2593188015}, 'hh': {'rmse': 399.5654682886056, 'max': 546.7789972210012, 'min': 142.61085195517808, 'abs': 344.69492458808963}}, 1024: {'flat': {'rmse': 37063.56093681327, 'max': -19030.18056731057, 'min': -48839.19866469245, 'abs': -33934.68961600151}, 'hh': {'rmse': 1816.7821273189863, 'max': 1680.825791291194, 'min': -1943.2496637389995, 'abs': -131.21193622390274}}, 2048: {'flat': {'rmse': 147704.92296107757, 'max': 197341.69187315786, 'min': 68481.71422004071, 'abs': 132911.7030465993}, 'hh': {'rmse': 312.41275627356833, 'max': 426.47442979353946, 'min': -115.4253927746031, 'abs': 155.52451850946818}}}, 0.4: {32: {'flat': {'rmse': 822.6687734220229, 'max': 1156.2856392043177, 'min': -128.7297249948656, 'abs': 513.777957104726}, 'hh': {'rmse': 320.9244663664577, 'max': -245.50416635291822, 'min': -381.7233691150568, 'abs': -313.6137677339875}}, 128: {'flat': {'rmse': 6075.92847748346, 'max': -6032.7105321800145, 'min': -6118.841178026543, 'abs': -6075.775855103278}, 'hh': {'rmse': 369.25303460177815, 'max': -42.2512073657017, 'min': -520.490578782541, 'abs': -281.37089307412134}}, 256: {'flat': {'rmse': 17841.527321507117, 'max': 10655.076045214024, 'min': -22871.58824390812, 'abs': -6108.256099347049}, 'hh': {'rmse': 408.22682886351896, 'max': 25.761954802943364, 'min': -576.7448389822493, 'abs': -275.491442089653}}, 512: {'flat': {'rmse': 32039.3114450555, 'max': -29172.954982994303, 'min': -34669.491679381696, 'abs': -31921.223331187997}, 'hh': {'rmse': 335.6201014780724, 'max': -293.8461576720656, 'min': -372.74138575380493, 'abs': -333.29377171293527}}, 1024: {'flat': {'rmse': 251292.62051221356, 'max': -22945.72832347422, 'min': -354639.8959500976, 'abs': -188792.8121367859}, 'hh': {'rmse': 914.8577154759499, 'max': 1060.750344058586, 'min': -740.7685108799778, 'abs': 159.9909165893041}}, 2048: {'flat': {'rmse': 111792.66765562996, 'max': 117582.52611401683, 'min': -105686.09480802485, 'abs': 5948.21565299599}, 'hh': {'rmse': 1610.9073255121564, 'max': 2135.101794106129, 'min': -794.5974777094671, 'abs': 670.252158198331}}}}\n"
     ]
    }
   ],
   "source": [
    "half_errors_dict = fill_up_errors_dict(epsilons, n, est_half_flat_dict, est_half_hh_dict, cor_half_dict)\n",
    "for e_key in half_errors_dict:\n",
    "    print(half_errors_dict[e_key])\n",
    "print(half_errors_dict)"
   ]
  },
  {
   "cell_type": "code",
   "execution_count": 15,
   "id": "undefined-catholic",
   "metadata": {},
   "outputs": [],
   "source": [
    "def plot(xs, ys, N, epsilon, plot_name):\n",
    "    plt.scatter(xs, ys)\n",
    "    #plt.hlines(np.mean(answears128),line_range[0],line_range[1])\n",
    "    #plt.hlines(np.mean(correct_answear),line_range[0],line_range[1])\n",
    "    #plt.legend()\n",
    "    plt.xlabel('Length of query')\n",
    "    plt.ylabel('RMSE')\n",
    "    plt.title(f'Flat OLH with N = {N} and \\u03B5 = {epsilon}')\n",
    "    #plt.savefig(plot_name,bbox_inches='tight')\n",
    "    plt.show()"
   ]
  },
  {
   "cell_type": "code",
   "execution_count": 16,
   "id": "speaking-prescription",
   "metadata": {},
   "outputs": [
    {
     "data": {
      "image/png": "[encoded data removed]",
      "text/plain": [
       "<Figure size 432x288 with 1 Axes>"
      ]
     },
     "metadata": {
      "needs_background": "light"
     },
     "output_type": "display_data"
    },
    {
     "data": {
      "image/png": "[encoded data removed]",
      "text/plain": [
       "<Figure size 432x288 with 1 Axes>"
      ]
     },
     "metadata": {
      "needs_background": "light"
     },
     "output_type": "display_data"
    },
    {
     "data": {
      "image/png": "[encoded data removed]",
      "text/plain": [
       "<Figure size 432x288 with 1 Axes>"
      ]
     },
     "metadata": {
      "needs_background": "light"
     },
     "output_type": "display_data"
    },
    {
     "data": {
      "image/png": "[encoded data removed]",
      "text/plain": [
       "<Figure size 432x288 with 1 Axes>"
      ]
     },
     "metadata": {
      "needs_background": "light"
     },
     "output_type": "display_data"
    },
    {
     "data": {
      "image/png": "[encoded data removed]",
      "text/plain": [
       "<Figure size 432x288 with 1 Axes>"
      ]
     },
     "metadata": {
      "needs_background": "light"
     },
     "output_type": "display_data"
    },
    {
     "data": {
      "image/png": "[encoded data removed]",
      "text/plain": [
       "<Figure size 432x288 with 1 Axes>"
      ]
     },
     "metadata": {
      "needs_background": "light"
     },
     "output_type": "display_data"
    }
   ],
   "source": [
    "def plots_flat_hh(epsilons, n, error_dict):\n",
    "    for N in n:\n",
    "        rmse_flat = []\n",
    "        rmse_hh = []\n",
    "        for e in epsilons:\n",
    "            #plt.savefig(plot_name,dpi=300,bbox_inches='tight')\n",
    "            rmse = half_errors_dict[e][N]['flat']['rmse']\n",
    "            rmse_flat.append(rmse)\n",
    "            #plt.scatter(e, rmse, marker = '+', label=f\"RMSE of flat esitmates with \\u03B5 = {e}\")\n",
    "\n",
    "            rmse = half_errors_dict[e][N]['hh']['rmse']\n",
    "            rmse_hh.append(rmse)\n",
    "\n",
    "                #plt.scatter(e, rmse, marker = 'o', label=f\"RMSE of HH esitmates with degree = {degree} and \\u03B5 = {e}\")\n",
    "        plt.scatter(epsilons, rmse_flat, marker = '+', label=f\"RMSE of flat esitmates\")\n",
    "        plt.scatter(epsilons, rmse_hh, marker = '1', label=f\"RMSE of HH esitmates with degree = {2}\")\n",
    "\n",
    "\n",
    "        plt.yscale('log')\n",
    "\n",
    "        plt.legend()\n",
    "        plt.xlabel('Epsilons')\n",
    "        plt.ylabel('RMSE of esitmates')\n",
    "\n",
    "        plt.title(f'Flat vs HH with N = {N}')\n",
    "        plt.show()\n",
    "\n",
    "plots_flat_hh(epsilons, n, half_errors_dict)"
   ]
  },
  {
   "cell_type": "code",
   "execution_count": null,
   "id": "formal-soldier",
   "metadata": {},
   "outputs": [],
   "source": []
  },
  {
   "cell_type": "code",
   "execution_count": null,
   "id": "third-kuwait",
   "metadata": {},
   "outputs": [],
   "source": []
  },
  {
   "cell_type": "code",
   "execution_count": 17,
   "id": "cheap-location",
   "metadata": {},
   "outputs": [],
   "source": [
    "def same_parameter(answers, correct_answer):\n",
    "    error = np.abs(correct_answer-answers)\n",
    "    max_error = np.amax(error)\n",
    "    min_error = np.amin(error)\n",
    "    true_values = np.full(len(answers), correct_answer)\n",
    "    mse = mean_squared_error(true_values, answers, squared = False)\n",
    "    error_dict = {'mse': mse, 'max': max_error, 'min': min_error, 'abs': np.mean(error)}\n",
    "    \n",
    "    return error_dict\n"
   ]
  },
  {
   "cell_type": "code",
   "execution_count": 18,
   "id": "australian-convergence",
   "metadata": {},
   "outputs": [
    {
     "ename": "NameError",
     "evalue": "name 'flat_empty' is not defined",
     "output_type": "error",
     "traceback": [
      "\u001b[1;31m---------------------------------------------------------------------------\u001b[0m",
      "\u001b[1;31mNameError\u001b[0m                                 Traceback (most recent call last)",
      "\u001b[1;32m<ipython-input-18-13c2dd24b688>\u001b[0m in \u001b[0;36m<module>\u001b[1;34m\u001b[0m\n\u001b[1;32m----> 1\u001b[1;33m \u001b[0mprint\u001b[0m\u001b[1;33m(\u001b[0m\u001b[0mflat_empty\u001b[0m\u001b[1;33m)\u001b[0m\u001b[1;33m\u001b[0m\u001b[1;33m\u001b[0m\u001b[0m\n\u001b[0m\u001b[0;32m      2\u001b[0m \u001b[0mprint\u001b[0m\u001b[1;33m(\u001b[0m\u001b[0mlen\u001b[0m\u001b[1;33m(\u001b[0m\u001b[0mflat_empty\u001b[0m\u001b[1;33m)\u001b[0m\u001b[1;33m)\u001b[0m\u001b[1;33m\u001b[0m\u001b[1;33m\u001b[0m\u001b[0m\n\u001b[0;32m      3\u001b[0m \u001b[0mprint\u001b[0m\u001b[1;33m(\u001b[0m\u001b[0mhh_empty\u001b[0m\u001b[1;33m)\u001b[0m\u001b[1;33m\u001b[0m\u001b[1;33m\u001b[0m\u001b[0m\n\u001b[0;32m      4\u001b[0m \u001b[0mprint\u001b[0m\u001b[1;33m(\u001b[0m\u001b[0mlen\u001b[0m\u001b[1;33m(\u001b[0m\u001b[0mhh_empty\u001b[0m\u001b[1;33m)\u001b[0m\u001b[1;33m)\u001b[0m\u001b[1;33m\u001b[0m\u001b[1;33m\u001b[0m\u001b[0m\n",
      "\u001b[1;31mNameError\u001b[0m: name 'flat_empty' is not defined"
     ]
    }
   ],
   "source": [
    "print(flat_empty)\n",
    "print(len(flat_empty))\n",
    "print(hh_empty)\n",
    "print(len(hh_empty))"
   ]
  },
  {
   "cell_type": "code",
   "execution_count": null,
   "id": "suburban-embassy",
   "metadata": {},
   "outputs": [],
   "source": []
  },
  {
   "cell_type": "code",
   "execution_count": null,
   "id": "ruled-settlement",
   "metadata": {},
   "outputs": [],
   "source": [
    "epsilon_error_dicts = {}\n",
    "for idx, e in enumerate(epsilons):\n",
    "    epsilon_error_dicts[e] = same_parameter(epsilons_res[idx], correct_answer)"
   ]
  },
  {
   "cell_type": "code",
   "execution_count": null,
   "id": "furnished-pleasure",
   "metadata": {},
   "outputs": [],
   "source": [
    "epsilon_error_dicts"
   ]
  },
  {
   "cell_type": "code",
   "execution_count": null,
   "id": "accepting-experiment",
   "metadata": {},
   "outputs": [],
   "source": [
    "plt_name = 'flat_freq_epsilon'\n",
    "dict_error_plot_epsilons(epsilon_error_dicts,plt_name, epsilons)"
   ]
  },
  {
   "cell_type": "code",
   "execution_count": null,
   "id": "inner-pharmaceutical",
   "metadata": {},
   "outputs": [],
   "source": [
    "n_error_dicts = {}\n",
    "for idx, N in enumerate(n):\n",
    "    n_error_dicts[N] = same_parameter(ns[idx], correct_answer)\n",
    "\n"
   ]
  },
  {
   "cell_type": "code",
   "execution_count": null,
   "id": "found-capture",
   "metadata": {},
   "outputs": [],
   "source": [
    "n_error_dicts"
   ]
  },
  {
   "cell_type": "code",
   "execution_count": null,
   "id": "collaborative-carol",
   "metadata": {
    "scrolled": false
   },
   "outputs": [],
   "source": [
    "print(n)\n",
    "plt_name = 'flat_freq_N'\n",
    "dict_error_plot_n(n_error_dicts,plt_name, n)"
   ]
  },
  {
   "cell_type": "code",
   "execution_count": null,
   "id": "fiscal-royal",
   "metadata": {},
   "outputs": [],
   "source": []
  }
 ],
 "metadata": {
  "kernelspec": {
   "display_name": "Python 3",
   "language": "python",
   "name": "python3"
  },
  "language_info": {
   "codemirror_mode": {
    "name": "ipython",
    "version": 3
   },
   "file_extension": ".py",
   "mimetype": "text/x-python",
   "name": "python",
   "nbconvert_exporter": "python",
   "pygments_lexer": "ipython3",
   "version": "3.6.12"
  }
 },
 "nbformat": 4,
 "nbformat_minor": 5
}
