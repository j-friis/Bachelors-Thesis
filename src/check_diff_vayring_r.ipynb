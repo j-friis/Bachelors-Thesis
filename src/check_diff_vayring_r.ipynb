{
 "cells": [
  {
   "cell_type": "code",
   "execution_count": 1,
   "id": "cross-drinking",
   "metadata": {},
   "outputs": [],
   "source": [
    "import numpy as np\n",
    "import pandas as pd\n",
    "\n",
    "\n",
    "from sklearn.metrics import mean_squared_error\n",
    "import matplotlib.pyplot as plt\n",
    "import seaborn as sns\n",
    "\n",
    "from psql_functions import execQuery\n",
    "from miss_data import add_missing_dates, add_missing_counts\n",
    "from make_plots import dict_error_plot_epsilons, dict_error_plot_n\n",
    "from sample_range_query import load_range_queries\n",
    "import warnings\n",
    "warnings.filterwarnings('ignore')\n",
    "\n",
    "import sys\n",
    "import os\n",
    "import re\n",
    "owd = os.getcwd()"
   ]
  },
  {
   "cell_type": "code",
   "execution_count": 2,
   "id": "assisted-interest",
   "metadata": {},
   "outputs": [
    {
     "name": "stdout",
     "output_type": "stream",
     "text": [
      "Executed query and closed connection.\n",
      "Executed query and closed connection.\n"
     ]
    }
   ],
   "source": [
    "param_dic = {\n",
    "    \"host\"      : \"localhost\",\n",
    "    \"database\"  : \"bachelorBesoeg2014\",\n",
    "    \"user\"      : \"postgres\",\n",
    "    \"password\"  : \"password\",\n",
    "    \"port\"      : \"5432\"\n",
    "}\n",
    "\n",
    "query = \"\"\"select time_ from _775147;\"\"\"\n",
    "result = execQuery(param_dic, query)\n",
    "dates = [(date[0]) for date in result]\n",
    "\n",
    "query = \"\"\"select count_ from _775147;\"\"\"\n",
    "result = execQuery(param_dic, query)\n",
    "\n",
    "counts = [(count[0]) for count in result]\n",
    "\n",
    "all_dates = add_missing_dates(dates)\n",
    "all_counts =  add_missing_counts(counts, dates, all_dates)\n",
    "\n",
    "n_data_structures = 50\n"
   ]
  },
  {
   "cell_type": "code",
   "execution_count": 3,
   "id": "conscious-rugby",
   "metadata": {},
   "outputs": [],
   "source": [
    "onlydirs = [f for f in os.listdir(os.getcwd()) if os.path.isdir(os.path.join(os.getcwd(), f)) and f[0] != '.']"
   ]
  },
  {
   "cell_type": "code",
   "execution_count": 4,
   "id": "speaking-drama",
   "metadata": {},
   "outputs": [
    {
     "data": {
      "text/plain": [
       "['Data', 'plots', 'range_queries', 'results', '__pycache__']"
      ]
     },
     "execution_count": 4,
     "metadata": {},
     "output_type": "execute_result"
    }
   ],
   "source": [
    "onlydirs"
   ]
  },
  {
   "cell_type": "code",
   "execution_count": 5,
   "id": "collaborative-elements",
   "metadata": {},
   "outputs": [],
   "source": [
    "def load_range_queries(file):\n",
    "    return pd.read_csv(file, sep='\\n',header=None).to_numpy().flatten()"
   ]
  },
  {
   "cell_type": "code",
   "execution_count": 6,
   "id": "stable-alabama",
   "metadata": {},
   "outputs": [],
   "source": [
    "def make_lookup_error_dict(epsilons, n, rs):\n",
    "    epsilon_dict = dict.fromkeys(epsilons)\n",
    "    n_dicts = []\n",
    "    for i in range(0,len(epsilons)):\n",
    "        n_dict = dict.fromkeys(n)\n",
    "        n_dicts.append(n_dict)\n",
    "    r_dicts = []\n",
    "    for i in range(0,len(n)*len(epsilons)):\n",
    "        r_dict = dict.fromkeys(rs[i%len(n)])\n",
    "        r_dicts.append(r_dict)\n",
    "    i = 0\n",
    "    j = 0\n",
    "    for e_key in epsilon_dict:\n",
    "        epsilon_dict[e_key] = n_dicts[i]\n",
    "        n_dict = epsilon_dict[e_key]\n",
    "        for n_key in n_dict:\n",
    "            #print(j)\n",
    "            n_dict[n_key] = r_dicts[j]\n",
    "            j = j + 1\n",
    "        i = i + 1\n",
    "    return epsilon_dict\n",
    "\n",
    "\n",
    "def fill_up_lookup_error_dict(epsilons, n, degrees, files):\n",
    "    dict_ = make_lookup_error_dict(epsilons, n, degrees)\n",
    "    for idx, f in enumerate(files):\n",
    "        e = re.search(r'e=[-+]?[0-9]*\\.?[0-9]*', f).group(0)\n",
    "        e = e.split(\"e=\")[1]\n",
    "        here_n = re.search(r'N=\\d+', f).group(0)\n",
    "        here_n = here_n.split(\"N=\")[1]\n",
    "        here_r = re.search(r'r=\\d+', f).group(0) \n",
    "        here_r = here_r.split(\"r=\")[1]\n",
    "\n",
    "        dict_[float(e)][int(here_n)][int(here_r)] = load_range_queries(f)\n",
    "    return dict_"
   ]
  },
  {
   "cell_type": "code",
   "execution_count": 7,
   "id": "fabulous-basics",
   "metadata": {},
   "outputs": [],
   "source": [
    "def make_query_lookup_dict_n_r(n, rs):\n",
    "    n_dict = dict.fromkeys(n)\n",
    "    r_dicts = []\n",
    "    for i in range(0,len(n)):\n",
    "        #print(rs[i])\n",
    "        r_dict = dict.fromkeys(rs[i])\n",
    "        r_dicts.append(r_dict)\n",
    "\n",
    "    for idx, n_key in enumerate(n_dict):\n",
    "            n_dict[n_key] = r_dicts[idx]\n",
    "    \n",
    "    return n_dict\n",
    "\n",
    "def fill_up_query_lookup_dict_n_r(n, rs, files):\n",
    "    dict_ = make_query_lookup_dict_n_r(n, rs)\n",
    "    for idx, f in enumerate(files):\n",
    "        here_n = re.search(r'N=\\d+', f).group(0)\n",
    "        here_n = here_n.split(\"N=\")[1]\n",
    "        here_r = re.search(r'r=\\d+', f).group(0) \n",
    "        here_r = here_r.split(\"r=\")[1]\n",
    "        \n",
    "        querries = load_range_queries(f)\n",
    "        dict_[int(here_n)][int(here_r)] = querries.copy()\n",
    "    return dict_"
   ]
  },
  {
   "cell_type": "code",
   "execution_count": 8,
   "id": "preliminary-thing",
   "metadata": {},
   "outputs": [],
   "source": [
    "epsilons = np.array([2, 1.4, 1.2, 1, 0.8, 0.6, 0.5, 0.3])\n",
    "n = np.array([32,128,256,512,1024,2048])\n",
    "flat_r_32 =  np.array([2, 4, 8, 12, 16, 20, 24])\n",
    "flat_r_128 =  np.array([20, 40, 50, 60, 70, 80, 90])\n",
    "flat_r_256 =  np.array([40, 60, 80, 100, 140, 200, 220])\n",
    "flat_r_512 =  np.array([100, 150, 200, 250, 300, 400, 450])\n",
    "flat_r_1024 =  np.array([200, 300, 400, 500, 600, 800, 900])\n",
    "flat_r_2048 =  np.array([600, 800, 1000, 1250, 1500, 1700, 1800])\n",
    "\n",
    "rs = [flat_r_32, flat_r_128, flat_r_256, flat_r_512, flat_r_1024, flat_r_2048]"
   ]
  },
  {
   "cell_type": "code",
   "execution_count": 9,
   "id": "geological-douglas",
   "metadata": {},
   "outputs": [
    {
     "data": {
      "text/plain": [
       "336"
      ]
     },
     "execution_count": 9,
     "metadata": {},
     "output_type": "execute_result"
    }
   ],
   "source": [
    "len(epsilons)*len(n)*len(rs[0])"
   ]
  },
  {
   "cell_type": "code",
   "execution_count": null,
   "id": "stunning-depression",
   "metadata": {},
   "outputs": [],
   "source": []
  },
  {
   "cell_type": "markdown",
   "id": "variable-nickel",
   "metadata": {},
   "source": [
    "# Loading the data "
   ]
  },
  {
   "cell_type": "code",
   "execution_count": 10,
   "id": "accomplished-marina",
   "metadata": {},
   "outputs": [
    {
     "data": {
      "text/plain": [
       "'C:\\\\Users\\\\Jonas Friis\\\\Documents\\\\Universitet\\\\Bachelors-Thesis\\\\src\\\\results\\\\sample_querys\\\\flat_varying_r'"
      ]
     },
     "execution_count": 10,
     "metadata": {},
     "output_type": "execute_result"
    }
   ],
   "source": [
    "#C:\\Users\\Jonas Friis\\Documents\\Universitet\\Bachelors-Thesis\\src\\results\\sample_querys\\local_hh\n",
    "os.chdir(os.getcwd()+'/'+'results/sample_querys/flat_varying_r/')\n",
    "os.getcwd()"
   ]
  },
  {
   "cell_type": "code",
   "execution_count": 11,
   "id": "portable-bearing",
   "metadata": {
    "scrolled": true
   },
   "outputs": [
    {
     "name": "stdout",
     "output_type": "stream",
     "text": [
      "['cor_e=0.3_N=1024_r=200.csv', 'cor_e=0.3_N=1024_r=300.csv', 'cor_e=0.3_N=1024_r=400.csv', 'cor_e=0.3_N=1024_r=500.csv', 'cor_e=0.3_N=1024_r=600.csv', 'cor_e=0.3_N=1024_r=800.csv', 'cor_e=0.3_N=1024_r=900.csv', 'cor_e=0.3_N=128_r=20.csv', 'cor_e=0.3_N=128_r=40.csv', 'cor_e=0.3_N=128_r=50.csv', 'cor_e=0.3_N=128_r=60.csv', 'cor_e=0.3_N=128_r=70.csv', 'cor_e=0.3_N=128_r=80.csv', 'cor_e=0.3_N=128_r=90.csv', 'cor_e=0.3_N=2048_r=1000.csv', 'cor_e=0.3_N=2048_r=1250.csv', 'cor_e=0.3_N=2048_r=1500.csv', 'cor_e=0.3_N=2048_r=1700.csv', 'cor_e=0.3_N=2048_r=1800.csv', 'cor_e=0.3_N=2048_r=600.csv', 'cor_e=0.3_N=2048_r=800.csv', 'cor_e=0.3_N=2048_r=900.csv', 'cor_e=0.3_N=256_r=100.csv', 'cor_e=0.3_N=256_r=140.csv', 'cor_e=0.3_N=256_r=200.csv', 'cor_e=0.3_N=256_r=220.csv', 'cor_e=0.3_N=256_r=40.csv', 'cor_e=0.3_N=256_r=60.csv', 'cor_e=0.3_N=256_r=80.csv', 'cor_e=0.3_N=32_r=12.csv', 'cor_e=0.3_N=32_r=16.csv', 'cor_e=0.3_N=32_r=2.csv', 'cor_e=0.3_N=32_r=20.csv', 'cor_e=0.3_N=32_r=24.csv', 'cor_e=0.3_N=32_r=4.csv', 'cor_e=0.3_N=32_r=8.csv', 'cor_e=0.3_N=512_r=100.csv', 'cor_e=0.3_N=512_r=150.csv', 'cor_e=0.3_N=512_r=200.csv', 'cor_e=0.3_N=512_r=250.csv', 'cor_e=0.3_N=512_r=300.csv', 'cor_e=0.3_N=512_r=400.csv', 'cor_e=0.3_N=512_r=450.csv', 'cor_e=0.5_N=1024_r=200.csv', 'cor_e=0.5_N=1024_r=300.csv', 'cor_e=0.5_N=1024_r=400.csv', 'cor_e=0.5_N=1024_r=500.csv', 'cor_e=0.5_N=1024_r=600.csv', 'cor_e=0.5_N=1024_r=800.csv', 'cor_e=0.5_N=1024_r=900.csv', 'cor_e=0.5_N=128_r=20.csv', 'cor_e=0.5_N=128_r=40.csv', 'cor_e=0.5_N=128_r=50.csv', 'cor_e=0.5_N=128_r=60.csv', 'cor_e=0.5_N=128_r=70.csv', 'cor_e=0.5_N=128_r=80.csv', 'cor_e=0.5_N=128_r=90.csv', 'cor_e=0.5_N=2048_r=1000.csv', 'cor_e=0.5_N=2048_r=1250.csv', 'cor_e=0.5_N=2048_r=1500.csv', 'cor_e=0.5_N=2048_r=1700.csv', 'cor_e=0.5_N=2048_r=1800.csv', 'cor_e=0.5_N=2048_r=600.csv', 'cor_e=0.5_N=2048_r=800.csv', 'cor_e=0.5_N=2048_r=900.csv', 'cor_e=0.5_N=256_r=100.csv', 'cor_e=0.5_N=256_r=140.csv', 'cor_e=0.5_N=256_r=200.csv', 'cor_e=0.5_N=256_r=220.csv', 'cor_e=0.5_N=256_r=40.csv', 'cor_e=0.5_N=256_r=60.csv', 'cor_e=0.5_N=256_r=80.csv', 'cor_e=0.5_N=32_r=12.csv', 'cor_e=0.5_N=32_r=16.csv', 'cor_e=0.5_N=32_r=2.csv', 'cor_e=0.5_N=32_r=20.csv', 'cor_e=0.5_N=32_r=24.csv', 'cor_e=0.5_N=32_r=4.csv', 'cor_e=0.5_N=32_r=8.csv', 'cor_e=0.5_N=512_r=100.csv', 'cor_e=0.5_N=512_r=150.csv', 'cor_e=0.5_N=512_r=200.csv', 'cor_e=0.5_N=512_r=250.csv', 'cor_e=0.5_N=512_r=300.csv', 'cor_e=0.5_N=512_r=400.csv', 'cor_e=0.5_N=512_r=450.csv', 'cor_e=0.6_N=1024_r=200.csv', 'cor_e=0.6_N=1024_r=300.csv', 'cor_e=0.6_N=1024_r=400.csv', 'cor_e=0.6_N=1024_r=500.csv', 'cor_e=0.6_N=1024_r=600.csv', 'cor_e=0.6_N=1024_r=800.csv', 'cor_e=0.6_N=1024_r=900.csv', 'cor_e=0.6_N=128_r=20.csv', 'cor_e=0.6_N=128_r=40.csv', 'cor_e=0.6_N=128_r=50.csv', 'cor_e=0.6_N=128_r=60.csv', 'cor_e=0.6_N=128_r=70.csv', 'cor_e=0.6_N=128_r=80.csv', 'cor_e=0.6_N=128_r=90.csv', 'cor_e=0.6_N=2048_r=1000.csv', 'cor_e=0.6_N=2048_r=1250.csv', 'cor_e=0.6_N=2048_r=1500.csv', 'cor_e=0.6_N=2048_r=1700.csv', 'cor_e=0.6_N=2048_r=1800.csv', 'cor_e=0.6_N=2048_r=600.csv', 'cor_e=0.6_N=2048_r=800.csv', 'cor_e=0.6_N=2048_r=900.csv', 'cor_e=0.6_N=256_r=100.csv', 'cor_e=0.6_N=256_r=140.csv', 'cor_e=0.6_N=256_r=200.csv', 'cor_e=0.6_N=256_r=220.csv', 'cor_e=0.6_N=256_r=40.csv', 'cor_e=0.6_N=256_r=60.csv', 'cor_e=0.6_N=256_r=80.csv', 'cor_e=0.6_N=32_r=12.csv', 'cor_e=0.6_N=32_r=16.csv', 'cor_e=0.6_N=32_r=2.csv', 'cor_e=0.6_N=32_r=20.csv', 'cor_e=0.6_N=32_r=24.csv', 'cor_e=0.6_N=32_r=4.csv', 'cor_e=0.6_N=32_r=8.csv', 'cor_e=0.6_N=512_r=100.csv', 'cor_e=0.6_N=512_r=150.csv', 'cor_e=0.6_N=512_r=200.csv', 'cor_e=0.6_N=512_r=250.csv', 'cor_e=0.6_N=512_r=300.csv', 'cor_e=0.6_N=512_r=400.csv', 'cor_e=0.6_N=512_r=450.csv', 'cor_e=0.8_N=1024_r=200.csv', 'cor_e=0.8_N=1024_r=300.csv', 'cor_e=0.8_N=1024_r=400.csv', 'cor_e=0.8_N=1024_r=500.csv', 'cor_e=0.8_N=1024_r=600.csv', 'cor_e=0.8_N=1024_r=800.csv', 'cor_e=0.8_N=1024_r=900.csv', 'cor_e=0.8_N=128_r=20.csv', 'cor_e=0.8_N=128_r=40.csv', 'cor_e=0.8_N=128_r=50.csv', 'cor_e=0.8_N=128_r=60.csv', 'cor_e=0.8_N=128_r=70.csv', 'cor_e=0.8_N=128_r=80.csv', 'cor_e=0.8_N=128_r=90.csv', 'cor_e=0.8_N=2048_r=1000.csv', 'cor_e=0.8_N=2048_r=1250.csv', 'cor_e=0.8_N=2048_r=1500.csv', 'cor_e=0.8_N=2048_r=1700.csv', 'cor_e=0.8_N=2048_r=1800.csv', 'cor_e=0.8_N=2048_r=600.csv', 'cor_e=0.8_N=2048_r=800.csv', 'cor_e=0.8_N=2048_r=900.csv', 'cor_e=0.8_N=256_r=100.csv', 'cor_e=0.8_N=256_r=140.csv', 'cor_e=0.8_N=256_r=200.csv', 'cor_e=0.8_N=256_r=220.csv', 'cor_e=0.8_N=256_r=40.csv', 'cor_e=0.8_N=256_r=60.csv', 'cor_e=0.8_N=256_r=80.csv', 'cor_e=0.8_N=32_r=12.csv', 'cor_e=0.8_N=32_r=16.csv', 'cor_e=0.8_N=32_r=2.csv', 'cor_e=0.8_N=32_r=20.csv', 'cor_e=0.8_N=32_r=24.csv', 'cor_e=0.8_N=32_r=4.csv', 'cor_e=0.8_N=32_r=8.csv', 'cor_e=0.8_N=512_r=100.csv', 'cor_e=0.8_N=512_r=150.csv', 'cor_e=0.8_N=512_r=200.csv', 'cor_e=0.8_N=512_r=250.csv', 'cor_e=0.8_N=512_r=300.csv', 'cor_e=0.8_N=512_r=400.csv', 'cor_e=0.8_N=512_r=450.csv', 'cor_e=1.0_N=1024_r=200.csv', 'cor_e=1.0_N=1024_r=300.csv', 'cor_e=1.0_N=1024_r=400.csv', 'cor_e=1.0_N=1024_r=500.csv', 'cor_e=1.0_N=1024_r=600.csv', 'cor_e=1.0_N=1024_r=800.csv', 'cor_e=1.0_N=1024_r=900.csv', 'cor_e=1.0_N=128_r=20.csv', 'cor_e=1.0_N=128_r=40.csv', 'cor_e=1.0_N=128_r=50.csv', 'cor_e=1.0_N=128_r=60.csv', 'cor_e=1.0_N=128_r=70.csv', 'cor_e=1.0_N=128_r=80.csv', 'cor_e=1.0_N=128_r=90.csv', 'cor_e=1.0_N=2048_r=1000.csv', 'cor_e=1.0_N=2048_r=1250.csv', 'cor_e=1.0_N=2048_r=1500.csv', 'cor_e=1.0_N=2048_r=1700.csv', 'cor_e=1.0_N=2048_r=1800.csv', 'cor_e=1.0_N=2048_r=600.csv', 'cor_e=1.0_N=2048_r=800.csv', 'cor_e=1.0_N=2048_r=900.csv', 'cor_e=1.0_N=256_r=100.csv', 'cor_e=1.0_N=256_r=140.csv', 'cor_e=1.0_N=256_r=200.csv', 'cor_e=1.0_N=256_r=220.csv', 'cor_e=1.0_N=256_r=40.csv', 'cor_e=1.0_N=256_r=60.csv', 'cor_e=1.0_N=256_r=80.csv', 'cor_e=1.0_N=32_r=12.csv', 'cor_e=1.0_N=32_r=16.csv', 'cor_e=1.0_N=32_r=2.csv', 'cor_e=1.0_N=32_r=20.csv', 'cor_e=1.0_N=32_r=24.csv', 'cor_e=1.0_N=32_r=4.csv', 'cor_e=1.0_N=32_r=8.csv', 'cor_e=1.0_N=512_r=100.csv', 'cor_e=1.0_N=512_r=150.csv', 'cor_e=1.0_N=512_r=200.csv', 'cor_e=1.0_N=512_r=250.csv', 'cor_e=1.0_N=512_r=300.csv', 'cor_e=1.0_N=512_r=400.csv', 'cor_e=1.0_N=512_r=450.csv', 'cor_e=1.2_N=1024_r=200.csv', 'cor_e=1.2_N=1024_r=300.csv', 'cor_e=1.2_N=1024_r=400.csv', 'cor_e=1.2_N=1024_r=500.csv', 'cor_e=1.2_N=1024_r=600.csv', 'cor_e=1.2_N=1024_r=800.csv', 'cor_e=1.2_N=1024_r=900.csv', 'cor_e=1.2_N=128_r=20.csv', 'cor_e=1.2_N=128_r=40.csv', 'cor_e=1.2_N=128_r=50.csv', 'cor_e=1.2_N=128_r=60.csv', 'cor_e=1.2_N=128_r=70.csv', 'cor_e=1.2_N=128_r=80.csv', 'cor_e=1.2_N=128_r=90.csv', 'cor_e=1.2_N=2048_r=1000.csv', 'cor_e=1.2_N=2048_r=1250.csv', 'cor_e=1.2_N=2048_r=1500.csv', 'cor_e=1.2_N=2048_r=1700.csv', 'cor_e=1.2_N=2048_r=1800.csv', 'cor_e=1.2_N=2048_r=600.csv', 'cor_e=1.2_N=2048_r=800.csv', 'cor_e=1.2_N=2048_r=900.csv', 'cor_e=1.2_N=256_r=100.csv', 'cor_e=1.2_N=256_r=140.csv', 'cor_e=1.2_N=256_r=200.csv', 'cor_e=1.2_N=256_r=220.csv', 'cor_e=1.2_N=256_r=40.csv', 'cor_e=1.2_N=256_r=60.csv', 'cor_e=1.2_N=256_r=80.csv', 'cor_e=1.2_N=32_r=12.csv', 'cor_e=1.2_N=32_r=16.csv', 'cor_e=1.2_N=32_r=2.csv', 'cor_e=1.2_N=32_r=20.csv', 'cor_e=1.2_N=32_r=24.csv', 'cor_e=1.2_N=32_r=4.csv', 'cor_e=1.2_N=32_r=8.csv', 'cor_e=1.2_N=512_r=100.csv', 'cor_e=1.2_N=512_r=150.csv', 'cor_e=1.2_N=512_r=200.csv', 'cor_e=1.2_N=512_r=250.csv', 'cor_e=1.2_N=512_r=300.csv', 'cor_e=1.2_N=512_r=400.csv', 'cor_e=1.2_N=512_r=450.csv', 'cor_e=1.4_N=1024_r=200.csv', 'cor_e=1.4_N=1024_r=300.csv', 'cor_e=1.4_N=1024_r=400.csv', 'cor_e=1.4_N=1024_r=500.csv', 'cor_e=1.4_N=1024_r=600.csv', 'cor_e=1.4_N=1024_r=800.csv', 'cor_e=1.4_N=1024_r=900.csv', 'cor_e=1.4_N=128_r=20.csv', 'cor_e=1.4_N=128_r=40.csv', 'cor_e=1.4_N=128_r=50.csv', 'cor_e=1.4_N=128_r=60.csv', 'cor_e=1.4_N=128_r=70.csv', 'cor_e=1.4_N=128_r=80.csv', 'cor_e=1.4_N=128_r=90.csv', 'cor_e=1.4_N=2048_r=1000.csv', 'cor_e=1.4_N=2048_r=1250.csv', 'cor_e=1.4_N=2048_r=1500.csv', 'cor_e=1.4_N=2048_r=1700.csv', 'cor_e=1.4_N=2048_r=1800.csv', 'cor_e=1.4_N=2048_r=600.csv', 'cor_e=1.4_N=2048_r=800.csv', 'cor_e=1.4_N=2048_r=900.csv', 'cor_e=1.4_N=256_r=100.csv', 'cor_e=1.4_N=256_r=140.csv', 'cor_e=1.4_N=256_r=200.csv', 'cor_e=1.4_N=256_r=220.csv', 'cor_e=1.4_N=256_r=40.csv', 'cor_e=1.4_N=256_r=60.csv', 'cor_e=1.4_N=256_r=80.csv', 'cor_e=1.4_N=32_r=12.csv', 'cor_e=1.4_N=32_r=16.csv', 'cor_e=1.4_N=32_r=2.csv', 'cor_e=1.4_N=32_r=20.csv', 'cor_e=1.4_N=32_r=24.csv', 'cor_e=1.4_N=32_r=4.csv', 'cor_e=1.4_N=32_r=8.csv', 'cor_e=1.4_N=512_r=100.csv', 'cor_e=1.4_N=512_r=150.csv', 'cor_e=1.4_N=512_r=200.csv', 'cor_e=1.4_N=512_r=250.csv', 'cor_e=1.4_N=512_r=300.csv', 'cor_e=1.4_N=512_r=400.csv', 'cor_e=1.4_N=512_r=450.csv', 'cor_e=2.0_N=1024_r=200.csv', 'cor_e=2.0_N=1024_r=300.csv', 'cor_e=2.0_N=1024_r=400.csv', 'cor_e=2.0_N=1024_r=500.csv', 'cor_e=2.0_N=1024_r=600.csv', 'cor_e=2.0_N=1024_r=800.csv', 'cor_e=2.0_N=1024_r=900.csv', 'cor_e=2.0_N=128_r=20.csv', 'cor_e=2.0_N=128_r=40.csv', 'cor_e=2.0_N=128_r=50.csv', 'cor_e=2.0_N=128_r=60.csv', 'cor_e=2.0_N=128_r=70.csv', 'cor_e=2.0_N=128_r=80.csv', 'cor_e=2.0_N=128_r=90.csv', 'cor_e=2.0_N=2048_r=1000.csv', 'cor_e=2.0_N=2048_r=1250.csv', 'cor_e=2.0_N=2048_r=1500.csv', 'cor_e=2.0_N=2048_r=1700.csv', 'cor_e=2.0_N=2048_r=1800.csv', 'cor_e=2.0_N=2048_r=600.csv', 'cor_e=2.0_N=2048_r=800.csv', 'cor_e=2.0_N=2048_r=900.csv', 'cor_e=2.0_N=256_r=100.csv', 'cor_e=2.0_N=256_r=140.csv', 'cor_e=2.0_N=256_r=200.csv', 'cor_e=2.0_N=256_r=220.csv', 'cor_e=2.0_N=256_r=40.csv', 'cor_e=2.0_N=256_r=60.csv', 'cor_e=2.0_N=256_r=80.csv', 'cor_e=2.0_N=32_r=12.csv', 'cor_e=2.0_N=32_r=16.csv', 'cor_e=2.0_N=32_r=2.csv', 'cor_e=2.0_N=32_r=20.csv', 'cor_e=2.0_N=32_r=24.csv', 'cor_e=2.0_N=32_r=4.csv', 'cor_e=2.0_N=32_r=8.csv', 'cor_e=2.0_N=512_r=100.csv', 'cor_e=2.0_N=512_r=150.csv', 'cor_e=2.0_N=512_r=200.csv', 'cor_e=2.0_N=512_r=250.csv', 'cor_e=2.0_N=512_r=300.csv', 'cor_e=2.0_N=512_r=400.csv', 'cor_e=2.0_N=512_r=450.csv']\n",
      "344\n",
      "['est_e=0.3_N=1024_r=200.csv', 'est_e=0.3_N=1024_r=300.csv', 'est_e=0.3_N=1024_r=400.csv', 'est_e=0.3_N=1024_r=500.csv', 'est_e=0.3_N=1024_r=600.csv', 'est_e=0.3_N=1024_r=800.csv', 'est_e=0.3_N=1024_r=900.csv', 'est_e=0.3_N=128_r=20.csv', 'est_e=0.3_N=128_r=40.csv', 'est_e=0.3_N=128_r=50.csv', 'est_e=0.3_N=128_r=60.csv', 'est_e=0.3_N=128_r=70.csv', 'est_e=0.3_N=128_r=80.csv', 'est_e=0.3_N=128_r=90.csv', 'est_e=0.3_N=2048_r=1000.csv', 'est_e=0.3_N=2048_r=1250.csv', 'est_e=0.3_N=2048_r=1500.csv', 'est_e=0.3_N=2048_r=1700.csv', 'est_e=0.3_N=2048_r=1800.csv', 'est_e=0.3_N=2048_r=600.csv', 'est_e=0.3_N=2048_r=800.csv', 'est_e=0.3_N=2048_r=900.csv', 'est_e=0.3_N=256_r=100.csv', 'est_e=0.3_N=256_r=140.csv', 'est_e=0.3_N=256_r=200.csv', 'est_e=0.3_N=256_r=220.csv', 'est_e=0.3_N=256_r=40.csv', 'est_e=0.3_N=256_r=60.csv', 'est_e=0.3_N=256_r=80.csv', 'est_e=0.3_N=32_r=12.csv', 'est_e=0.3_N=32_r=16.csv', 'est_e=0.3_N=32_r=2.csv', 'est_e=0.3_N=32_r=20.csv', 'est_e=0.3_N=32_r=24.csv', 'est_e=0.3_N=32_r=4.csv', 'est_e=0.3_N=32_r=8.csv', 'est_e=0.3_N=512_r=100.csv', 'est_e=0.3_N=512_r=150.csv', 'est_e=0.3_N=512_r=200.csv', 'est_e=0.3_N=512_r=250.csv', 'est_e=0.3_N=512_r=300.csv', 'est_e=0.3_N=512_r=400.csv', 'est_e=0.3_N=512_r=450.csv', 'est_e=0.5_N=1024_r=200.csv', 'est_e=0.5_N=1024_r=300.csv', 'est_e=0.5_N=1024_r=400.csv', 'est_e=0.5_N=1024_r=500.csv', 'est_e=0.5_N=1024_r=600.csv', 'est_e=0.5_N=1024_r=800.csv', 'est_e=0.5_N=1024_r=900.csv', 'est_e=0.5_N=128_r=20.csv', 'est_e=0.5_N=128_r=40.csv', 'est_e=0.5_N=128_r=50.csv', 'est_e=0.5_N=128_r=60.csv', 'est_e=0.5_N=128_r=70.csv', 'est_e=0.5_N=128_r=80.csv', 'est_e=0.5_N=128_r=90.csv', 'est_e=0.5_N=2048_r=1000.csv', 'est_e=0.5_N=2048_r=1250.csv', 'est_e=0.5_N=2048_r=1500.csv', 'est_e=0.5_N=2048_r=1700.csv', 'est_e=0.5_N=2048_r=1800.csv', 'est_e=0.5_N=2048_r=600.csv', 'est_e=0.5_N=2048_r=800.csv', 'est_e=0.5_N=2048_r=900.csv', 'est_e=0.5_N=256_r=100.csv', 'est_e=0.5_N=256_r=140.csv', 'est_e=0.5_N=256_r=200.csv', 'est_e=0.5_N=256_r=220.csv', 'est_e=0.5_N=256_r=40.csv', 'est_e=0.5_N=256_r=60.csv', 'est_e=0.5_N=256_r=80.csv', 'est_e=0.5_N=32_r=12.csv', 'est_e=0.5_N=32_r=16.csv', 'est_e=0.5_N=32_r=2.csv', 'est_e=0.5_N=32_r=20.csv', 'est_e=0.5_N=32_r=24.csv', 'est_e=0.5_N=32_r=4.csv', 'est_e=0.5_N=32_r=8.csv', 'est_e=0.5_N=512_r=100.csv', 'est_e=0.5_N=512_r=150.csv', 'est_e=0.5_N=512_r=200.csv', 'est_e=0.5_N=512_r=250.csv', 'est_e=0.5_N=512_r=300.csv', 'est_e=0.5_N=512_r=400.csv', 'est_e=0.5_N=512_r=450.csv', 'est_e=0.6_N=1024_r=200.csv', 'est_e=0.6_N=1024_r=300.csv', 'est_e=0.6_N=1024_r=400.csv', 'est_e=0.6_N=1024_r=500.csv', 'est_e=0.6_N=1024_r=600.csv', 'est_e=0.6_N=1024_r=800.csv', 'est_e=0.6_N=1024_r=900.csv', 'est_e=0.6_N=128_r=20.csv', 'est_e=0.6_N=128_r=40.csv', 'est_e=0.6_N=128_r=50.csv', 'est_e=0.6_N=128_r=60.csv', 'est_e=0.6_N=128_r=70.csv', 'est_e=0.6_N=128_r=80.csv', 'est_e=0.6_N=128_r=90.csv', 'est_e=0.6_N=2048_r=1000.csv', 'est_e=0.6_N=2048_r=1250.csv', 'est_e=0.6_N=2048_r=1500.csv', 'est_e=0.6_N=2048_r=1700.csv', 'est_e=0.6_N=2048_r=1800.csv', 'est_e=0.6_N=2048_r=600.csv', 'est_e=0.6_N=2048_r=800.csv', 'est_e=0.6_N=2048_r=900.csv', 'est_e=0.6_N=256_r=100.csv', 'est_e=0.6_N=256_r=140.csv', 'est_e=0.6_N=256_r=200.csv', 'est_e=0.6_N=256_r=220.csv', 'est_e=0.6_N=256_r=40.csv', 'est_e=0.6_N=256_r=60.csv', 'est_e=0.6_N=256_r=80.csv', 'est_e=0.6_N=32_r=12.csv', 'est_e=0.6_N=32_r=16.csv', 'est_e=0.6_N=32_r=2.csv', 'est_e=0.6_N=32_r=20.csv', 'est_e=0.6_N=32_r=24.csv', 'est_e=0.6_N=32_r=4.csv', 'est_e=0.6_N=32_r=8.csv', 'est_e=0.6_N=512_r=100.csv', 'est_e=0.6_N=512_r=150.csv', 'est_e=0.6_N=512_r=200.csv', 'est_e=0.6_N=512_r=250.csv', 'est_e=0.6_N=512_r=300.csv', 'est_e=0.6_N=512_r=400.csv', 'est_e=0.6_N=512_r=450.csv', 'est_e=0.8_N=1024_r=200.csv', 'est_e=0.8_N=1024_r=300.csv', 'est_e=0.8_N=1024_r=400.csv', 'est_e=0.8_N=1024_r=500.csv', 'est_e=0.8_N=1024_r=600.csv', 'est_e=0.8_N=1024_r=800.csv', 'est_e=0.8_N=1024_r=900.csv', 'est_e=0.8_N=128_r=20.csv', 'est_e=0.8_N=128_r=40.csv', 'est_e=0.8_N=128_r=50.csv', 'est_e=0.8_N=128_r=60.csv', 'est_e=0.8_N=128_r=70.csv', 'est_e=0.8_N=128_r=80.csv', 'est_e=0.8_N=128_r=90.csv', 'est_e=0.8_N=2048_r=1000.csv', 'est_e=0.8_N=2048_r=1250.csv', 'est_e=0.8_N=2048_r=1500.csv', 'est_e=0.8_N=2048_r=1700.csv', 'est_e=0.8_N=2048_r=1800.csv', 'est_e=0.8_N=2048_r=600.csv', 'est_e=0.8_N=2048_r=800.csv', 'est_e=0.8_N=2048_r=900.csv', 'est_e=0.8_N=256_r=100.csv', 'est_e=0.8_N=256_r=140.csv', 'est_e=0.8_N=256_r=200.csv', 'est_e=0.8_N=256_r=220.csv', 'est_e=0.8_N=256_r=40.csv', 'est_e=0.8_N=256_r=60.csv', 'est_e=0.8_N=256_r=80.csv', 'est_e=0.8_N=32_r=12.csv', 'est_e=0.8_N=32_r=16.csv', 'est_e=0.8_N=32_r=2.csv', 'est_e=0.8_N=32_r=20.csv', 'est_e=0.8_N=32_r=24.csv', 'est_e=0.8_N=32_r=4.csv', 'est_e=0.8_N=32_r=8.csv', 'est_e=0.8_N=512_r=100.csv', 'est_e=0.8_N=512_r=150.csv', 'est_e=0.8_N=512_r=200.csv', 'est_e=0.8_N=512_r=250.csv', 'est_e=0.8_N=512_r=300.csv', 'est_e=0.8_N=512_r=400.csv', 'est_e=0.8_N=512_r=450.csv', 'est_e=1.0_N=1024_r=200.csv', 'est_e=1.0_N=1024_r=300.csv', 'est_e=1.0_N=1024_r=400.csv', 'est_e=1.0_N=1024_r=500.csv', 'est_e=1.0_N=1024_r=600.csv', 'est_e=1.0_N=1024_r=800.csv', 'est_e=1.0_N=1024_r=900.csv', 'est_e=1.0_N=128_r=20.csv', 'est_e=1.0_N=128_r=40.csv', 'est_e=1.0_N=128_r=50.csv', 'est_e=1.0_N=128_r=60.csv', 'est_e=1.0_N=128_r=70.csv', 'est_e=1.0_N=128_r=80.csv', 'est_e=1.0_N=128_r=90.csv', 'est_e=1.0_N=2048_r=1000.csv', 'est_e=1.0_N=2048_r=1250.csv', 'est_e=1.0_N=2048_r=1500.csv', 'est_e=1.0_N=2048_r=1700.csv', 'est_e=1.0_N=2048_r=1800.csv', 'est_e=1.0_N=2048_r=600.csv', 'est_e=1.0_N=2048_r=800.csv', 'est_e=1.0_N=2048_r=900.csv', 'est_e=1.0_N=256_r=100.csv', 'est_e=1.0_N=256_r=140.csv', 'est_e=1.0_N=256_r=200.csv', 'est_e=1.0_N=256_r=220.csv', 'est_e=1.0_N=256_r=40.csv', 'est_e=1.0_N=256_r=60.csv', 'est_e=1.0_N=256_r=80.csv', 'est_e=1.0_N=32_r=12.csv', 'est_e=1.0_N=32_r=16.csv', 'est_e=1.0_N=32_r=2.csv', 'est_e=1.0_N=32_r=20.csv', 'est_e=1.0_N=32_r=24.csv', 'est_e=1.0_N=32_r=4.csv', 'est_e=1.0_N=32_r=8.csv', 'est_e=1.0_N=512_r=100.csv', 'est_e=1.0_N=512_r=150.csv', 'est_e=1.0_N=512_r=200.csv', 'est_e=1.0_N=512_r=250.csv', 'est_e=1.0_N=512_r=300.csv', 'est_e=1.0_N=512_r=400.csv', 'est_e=1.0_N=512_r=450.csv', 'est_e=1.2_N=1024_r=200.csv', 'est_e=1.2_N=1024_r=300.csv', 'est_e=1.2_N=1024_r=400.csv', 'est_e=1.2_N=1024_r=500.csv', 'est_e=1.2_N=1024_r=600.csv', 'est_e=1.2_N=1024_r=800.csv', 'est_e=1.2_N=1024_r=900.csv', 'est_e=1.2_N=128_r=20.csv', 'est_e=1.2_N=128_r=40.csv', 'est_e=1.2_N=128_r=50.csv', 'est_e=1.2_N=128_r=60.csv', 'est_e=1.2_N=128_r=70.csv', 'est_e=1.2_N=128_r=80.csv', 'est_e=1.2_N=128_r=90.csv', 'est_e=1.2_N=2048_r=1000.csv', 'est_e=1.2_N=2048_r=1250.csv', 'est_e=1.2_N=2048_r=1500.csv', 'est_e=1.2_N=2048_r=1700.csv', 'est_e=1.2_N=2048_r=1800.csv', 'est_e=1.2_N=2048_r=600.csv', 'est_e=1.2_N=2048_r=800.csv', 'est_e=1.2_N=2048_r=900.csv', 'est_e=1.2_N=256_r=100.csv', 'est_e=1.2_N=256_r=140.csv', 'est_e=1.2_N=256_r=200.csv', 'est_e=1.2_N=256_r=220.csv', 'est_e=1.2_N=256_r=40.csv', 'est_e=1.2_N=256_r=60.csv', 'est_e=1.2_N=256_r=80.csv', 'est_e=1.2_N=32_r=12.csv', 'est_e=1.2_N=32_r=16.csv', 'est_e=1.2_N=32_r=2.csv', 'est_e=1.2_N=32_r=20.csv', 'est_e=1.2_N=32_r=24.csv', 'est_e=1.2_N=32_r=4.csv', 'est_e=1.2_N=32_r=8.csv', 'est_e=1.2_N=512_r=100.csv', 'est_e=1.2_N=512_r=150.csv', 'est_e=1.2_N=512_r=200.csv', 'est_e=1.2_N=512_r=250.csv', 'est_e=1.2_N=512_r=300.csv', 'est_e=1.2_N=512_r=400.csv', 'est_e=1.2_N=512_r=450.csv', 'est_e=1.4_N=1024_r=200.csv', 'est_e=1.4_N=1024_r=300.csv', 'est_e=1.4_N=1024_r=400.csv', 'est_e=1.4_N=1024_r=500.csv', 'est_e=1.4_N=1024_r=600.csv', 'est_e=1.4_N=1024_r=800.csv', 'est_e=1.4_N=1024_r=900.csv', 'est_e=1.4_N=128_r=20.csv', 'est_e=1.4_N=128_r=40.csv', 'est_e=1.4_N=128_r=50.csv', 'est_e=1.4_N=128_r=60.csv', 'est_e=1.4_N=128_r=70.csv', 'est_e=1.4_N=128_r=80.csv', 'est_e=1.4_N=128_r=90.csv', 'est_e=1.4_N=2048_r=1000.csv', 'est_e=1.4_N=2048_r=1250.csv', 'est_e=1.4_N=2048_r=1500.csv', 'est_e=1.4_N=2048_r=1700.csv', 'est_e=1.4_N=2048_r=1800.csv', 'est_e=1.4_N=2048_r=600.csv', 'est_e=1.4_N=2048_r=800.csv', 'est_e=1.4_N=2048_r=900.csv', 'est_e=1.4_N=256_r=100.csv', 'est_e=1.4_N=256_r=140.csv', 'est_e=1.4_N=256_r=200.csv', 'est_e=1.4_N=256_r=220.csv', 'est_e=1.4_N=256_r=40.csv', 'est_e=1.4_N=256_r=60.csv', 'est_e=1.4_N=256_r=80.csv', 'est_e=1.4_N=32_r=12.csv', 'est_e=1.4_N=32_r=16.csv', 'est_e=1.4_N=32_r=2.csv', 'est_e=1.4_N=32_r=20.csv', 'est_e=1.4_N=32_r=24.csv', 'est_e=1.4_N=32_r=4.csv', 'est_e=1.4_N=32_r=8.csv', 'est_e=1.4_N=512_r=100.csv', 'est_e=1.4_N=512_r=150.csv', 'est_e=1.4_N=512_r=200.csv', 'est_e=1.4_N=512_r=250.csv', 'est_e=1.4_N=512_r=300.csv', 'est_e=1.4_N=512_r=400.csv', 'est_e=1.4_N=512_r=450.csv', 'est_e=2.0_N=1024_r=200.csv', 'est_e=2.0_N=1024_r=300.csv', 'est_e=2.0_N=1024_r=400.csv', 'est_e=2.0_N=1024_r=500.csv', 'est_e=2.0_N=1024_r=600.csv', 'est_e=2.0_N=1024_r=800.csv', 'est_e=2.0_N=1024_r=900.csv', 'est_e=2.0_N=128_r=20.csv', 'est_e=2.0_N=128_r=40.csv', 'est_e=2.0_N=128_r=50.csv', 'est_e=2.0_N=128_r=60.csv', 'est_e=2.0_N=128_r=70.csv', 'est_e=2.0_N=128_r=80.csv', 'est_e=2.0_N=128_r=90.csv', 'est_e=2.0_N=2048_r=1000.csv', 'est_e=2.0_N=2048_r=1250.csv', 'est_e=2.0_N=2048_r=1500.csv', 'est_e=2.0_N=2048_r=1700.csv', 'est_e=2.0_N=2048_r=1800.csv', 'est_e=2.0_N=2048_r=600.csv', 'est_e=2.0_N=2048_r=800.csv', 'est_e=2.0_N=2048_r=900.csv', 'est_e=2.0_N=256_r=100.csv', 'est_e=2.0_N=256_r=140.csv', 'est_e=2.0_N=256_r=200.csv', 'est_e=2.0_N=256_r=220.csv', 'est_e=2.0_N=256_r=40.csv', 'est_e=2.0_N=256_r=60.csv', 'est_e=2.0_N=256_r=80.csv', 'est_e=2.0_N=32_r=12.csv', 'est_e=2.0_N=32_r=16.csv', 'est_e=2.0_N=32_r=2.csv', 'est_e=2.0_N=32_r=20.csv', 'est_e=2.0_N=32_r=24.csv', 'est_e=2.0_N=32_r=4.csv', 'est_e=2.0_N=32_r=8.csv', 'est_e=2.0_N=512_r=100.csv', 'est_e=2.0_N=512_r=150.csv', 'est_e=2.0_N=512_r=200.csv', 'est_e=2.0_N=512_r=250.csv', 'est_e=2.0_N=512_r=300.csv', 'est_e=2.0_N=512_r=400.csv', 'est_e=2.0_N=512_r=450.csv']\n",
      "344\n"
     ]
    },
    {
     "data": {
      "text/plain": [
       "'\\n#Where flat beats hh\\nhh_files_cor_flat = hh_files_cor[:144]\\n#Where hh beats flat\\nhh_files_cor_hh = hh_files_cor[144+1:]\\n#print(hh_files_cor_flat)\\n#print(hh_files_cor_hh)\\nhh_files_est = hh_files[len(hh_files)//2:]\\nhh_files_est_flat = hh_files_est[:144]\\nhh_files_est_hh = hh_files_est[144+1:]\\n#print(hh_files_est_flat)\\n#print(hh_files_est_hh)\\n'"
      ]
     },
     "execution_count": 11,
     "metadata": {},
     "output_type": "execute_result"
    }
   ],
   "source": [
    "files = [f for f in os.listdir('.')]\n",
    "files_cor = files[:len(files)//2]\n",
    "files_est = files[len(files)//2:]\n",
    "print(files_cor)\n",
    "print(len(files_cor))\n",
    "\n",
    "print(files_est)\n",
    "print(len(files_est))\n",
    "\"\"\"\n",
    "#Where flat beats hh\n",
    "hh_files_cor_flat = hh_files_cor[:144]\n",
    "#Where hh beats flat\n",
    "hh_files_cor_hh = hh_files_cor[144+1:]\n",
    "#print(hh_files_cor_flat)\n",
    "#print(hh_files_cor_hh)\n",
    "hh_files_est = hh_files[len(hh_files)//2:]\n",
    "hh_files_est_flat = hh_files_est[:144]\n",
    "hh_files_est_hh = hh_files_est[144+1:]\n",
    "#print(hh_files_est_flat)\n",
    "#print(hh_files_est_hh)\n",
    "\"\"\""
   ]
  },
  {
   "cell_type": "code",
   "execution_count": 12,
   "id": "diverse-softball",
   "metadata": {},
   "outputs": [],
   "source": [
    "cor_dict = fill_up_lookup_error_dict(epsilons, n, rs, files_cor)\n",
    "est_dict = fill_up_lookup_error_dict(epsilons, n, rs, files_est)\n"
   ]
  },
  {
   "cell_type": "code",
   "execution_count": 17,
   "id": "based-awareness",
   "metadata": {},
   "outputs": [
    {
     "name": "stdout",
     "output_type": "stream",
     "text": [
      "2500\n",
      "['2014-01-21, 2014-01-22' '2014-01-26, 2014-01-27'\n",
      " '2014-01-29, 2014-01-30' ... '2014-01-28, 2014-01-29'\n",
      " '2014-01-05, 2014-01-06' '2014-01-14, 2014-01-15']\n"
     ]
    }
   ],
   "source": []
  },
  {
   "cell_type": "code",
   "execution_count": 14,
   "id": "desirable-projector",
   "metadata": {},
   "outputs": [
    {
     "name": "stdout",
     "output_type": "stream",
     "text": [
      "C:\\Users\\Jonas Friis\\Documents\\Universitet\\Bachelors-Thesis\\src\n",
      "C:\\Users\\Jonas Friis\\Documents\\Universitet\\Bachelors-Thesis\\src\\range_queries\\flat_varying_r\n",
      "['flat_N=1024_r=200.csv', 'flat_N=1024_r=300.csv', 'flat_N=1024_r=400.csv', 'flat_N=1024_r=500.csv', 'flat_N=1024_r=600.csv', 'flat_N=1024_r=800.csv', 'flat_N=1024_r=900.csv', 'flat_N=128_r=20.csv', 'flat_N=128_r=40.csv', 'flat_N=128_r=50.csv', 'flat_N=128_r=60.csv', 'flat_N=128_r=70.csv', 'flat_N=128_r=80.csv', 'flat_N=128_r=90.csv', 'flat_N=2048_r=1000.csv', 'flat_N=2048_r=1250.csv', 'flat_N=2048_r=1500.csv', 'flat_N=2048_r=1700.csv', 'flat_N=2048_r=1800.csv', 'flat_N=2048_r=600.csv', 'flat_N=2048_r=800.csv', 'flat_N=256_r=100.csv', 'flat_N=256_r=140.csv', 'flat_N=256_r=200.csv', 'flat_N=256_r=220.csv', 'flat_N=256_r=40.csv', 'flat_N=256_r=60.csv', 'flat_N=256_r=80.csv', 'flat_N=32_r=12.csv', 'flat_N=32_r=16.csv', 'flat_N=32_r=2.csv', 'flat_N=32_r=20.csv', 'flat_N=32_r=24.csv', 'flat_N=32_r=4.csv', 'flat_N=32_r=8.csv', 'flat_N=512_r=100.csv', 'flat_N=512_r=150.csv', 'flat_N=512_r=200.csv', 'flat_N=512_r=250.csv', 'flat_N=512_r=300.csv', 'flat_N=512_r=400.csv', 'flat_N=512_r=450.csv']\n"
     ]
    }
   ],
   "source": [
    "os.chdir(owd)\n",
    "print(os.getcwd())\n",
    "os.chdir(os.getcwd()+'/'+'range_queries/flat_varying_r')\n",
    "print(os.getcwd())\n",
    "files = [f for f in os.listdir('.') if re.match(r'.*\\.csv', f)]\n",
    "print(files)\n",
    "flat_n_r_dict = fill_up_query_lookup_dict_n_r(n, rs, files)"
   ]
  },
  {
   "cell_type": "code",
   "execution_count": 19,
   "id": "several-thought",
   "metadata": {},
   "outputs": [
    {
     "name": "stdout",
     "output_type": "stream",
     "text": [
      "2500\n",
      "['2014-01-21, 2014-01-22' '2014-01-26, 2014-01-27'\n",
      " '2014-01-29, 2014-01-30' ... '2014-01-28, 2014-01-29'\n",
      " '2014-01-05, 2014-01-06' '2014-01-14, 2014-01-15']\n",
      "['2014-01-21, 2014-01-22' '2014-01-26, 2014-01-27'\n",
      " '2014-01-29, 2014-01-30' ... '2014-01-28, 2014-01-29'\n",
      " '2014-01-05, 2014-01-06' '2014-01-14, 2014-01-15']\n"
     ]
    }
   ],
   "source": [
    "print(len(cor_dict[2.0][32][2]))\n",
    "print(cor_dict[2.0][32][2])\n",
    "print(flat_n_r_dict[32][2])"
   ]
  },
  {
   "cell_type": "code",
   "execution_count": null,
   "id": "revolutionary-oliver",
   "metadata": {},
   "outputs": [],
   "source": []
  },
  {
   "cell_type": "code",
   "execution_count": 30,
   "id": "thorough-content",
   "metadata": {},
   "outputs": [],
   "source": [
    "import functools \n",
    "for e in epsilons:\n",
    "    for N in n:\n",
    "        for r in error_dict[e][N]:\n",
    "            if not (len(flat_n_r_dict[N][r]) == len(cor_dict[e][N][r]) == len(est_dict[e][N][r])):\n",
    "                print('Not the same length')\n",
    "            if not functools.reduce(lambda x, y : x and y, map(lambda p, q: p == q,flat_n_r_dict[N][r],cor_dict[e][N][r]), True): \n",
    "                print (\"The lists are not the same\") \n",
    "            if not functools.reduce(lambda x, y : x and y, map(lambda p, q: p == q,flat_n_r_dict[N][r],est_dict[e][N][r]), True): \n",
    "                print (\"The lists are not the same\") \n"
   ]
  },
  {
   "cell_type": "code",
   "execution_count": null,
   "id": "cooked-visiting",
   "metadata": {},
   "outputs": [],
   "source": []
  },
  {
   "cell_type": "code",
   "execution_count": null,
   "id": "scientific-aurora",
   "metadata": {
    "scrolled": true
   },
   "outputs": [],
   "source": []
  }
 ],
 "metadata": {
  "kernelspec": {
   "display_name": "Python 3",
   "language": "python",
   "name": "python3"
  },
  "language_info": {
   "codemirror_mode": {
    "name": "ipython",
    "version": 3
   },
   "file_extension": ".py",
   "mimetype": "text/x-python",
   "name": "python",
   "nbconvert_exporter": "python",
   "pygments_lexer": "ipython3",
   "version": "3.6.12"
  }
 },
 "nbformat": 4,
 "nbformat_minor": 5
}
