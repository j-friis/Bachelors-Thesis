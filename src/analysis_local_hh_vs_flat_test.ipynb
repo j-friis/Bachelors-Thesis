{
 "cells": [
  {
   "cell_type": "code",
   "execution_count": 1,
   "id": "cross-drinking",
   "metadata": {},
   "outputs": [],
   "source": [
    "import numpy as np\n",
    "import pandas as pd\n",
    "\n",
    "\n",
    "from sklearn.metrics import mean_squared_error\n",
    "import matplotlib.pyplot as plt\n",
    "import seaborn as sns\n",
    "\n",
    "from psql_functions import execQuery\n",
    "from miss_data import add_missing_dates, add_missing_counts\n",
    "from make_plots import dict_error_plot_epsilons, dict_error_plot_n\n",
    "\n",
    "import warnings\n",
    "warnings.filterwarnings('ignore')\n",
    "\n",
    "import sys\n",
    "import os\n",
    "import re\n",
    "owd = os.getcwd()"
   ]
  },
  {
   "cell_type": "code",
   "execution_count": 2,
   "id": "assisted-interest",
   "metadata": {},
   "outputs": [
    {
     "name": "stdout",
     "output_type": "stream",
     "text": [
      "Executed query and closed connection.\n",
      "Executed query and closed connection.\n"
     ]
    }
   ],
   "source": [
    "param_dic = {\n",
    "    \"host\"      : \"localhost\",\n",
    "    \"database\"  : \"bachelorBesoeg2014\",\n",
    "    \"user\"      : \"postgres\",\n",
    "    \"password\"  : \"password\",\n",
    "    \"port\"      : \"5432\"\n",
    "}\n",
    "\n",
    "query = \"\"\"select time_ from _775147;\"\"\"\n",
    "result = execQuery(param_dic, query)\n",
    "dates = [(date[0]) for date in result]\n",
    "\n",
    "query = \"\"\"select count_ from _775147;\"\"\"\n",
    "result = execQuery(param_dic, query)\n",
    "\n",
    "counts = [(count[0]) for count in result]\n",
    "\n",
    "all_dates = add_missing_dates(dates)\n",
    "all_counts =  add_missing_counts(counts, dates, all_dates)\n",
    "\n",
    "n_data_structures = 50\n"
   ]
  },
  {
   "cell_type": "code",
   "execution_count": 3,
   "id": "conscious-rugby",
   "metadata": {},
   "outputs": [],
   "source": [
    "onlydirs = [f for f in os.listdir(os.getcwd()) if os.path.isdir(os.path.join(os.getcwd(), f)) and f[0] != '.']"
   ]
  },
  {
   "cell_type": "code",
   "execution_count": 4,
   "id": "speaking-drama",
   "metadata": {},
   "outputs": [
    {
     "data": {
      "text/plain": [
       "['Data', 'plots', 'range_queries', 'results', '__pycache__']"
      ]
     },
     "execution_count": 4,
     "metadata": {},
     "output_type": "execute_result"
    }
   ],
   "source": [
    "onlydirs"
   ]
  },
  {
   "cell_type": "code",
   "execution_count": null,
   "id": "pharmaceutical-technique",
   "metadata": {},
   "outputs": [],
   "source": []
  },
  {
   "cell_type": "code",
   "execution_count": 5,
   "id": "accomplished-marina",
   "metadata": {},
   "outputs": [
    {
     "data": {
      "text/plain": [
       "'C:\\\\Users\\\\Jonas Friis\\\\Documents\\\\Universitet\\\\Bachelors-Thesis\\\\src\\\\results\\\\sample_querys\\\\local_hh'"
      ]
     },
     "execution_count": 5,
     "metadata": {},
     "output_type": "execute_result"
    }
   ],
   "source": [
    "#C:\\Users\\Jonas Friis\\Documents\\Universitet\\Bachelors-Thesis\\src\\results\\sample_querys\\local_hh\n",
    "os.chdir(os.getcwd()+'/'+'results/sample_querys/local_hh/')\n",
    "os.getcwd()"
   ]
  },
  {
   "cell_type": "code",
   "execution_count": 6,
   "id": "metric-perception",
   "metadata": {},
   "outputs": [],
   "source": [
    "hh_cor_2 = np.loadtxt('cor_flat_queries_e=0.3_N=32_B=2.csv', delimiter=',')\n",
    "hh_cor_3 = np.loadtxt('cor_flat_queries_e=0.3_N=32_B=3.csv', delimiter=',')\n",
    "hh_cor_4 = np.loadtxt('cor_flat_queries_e=0.3_N=32_B=4.csv', delimiter=',')\n",
    "\n",
    "hh_est_2 = np.loadtxt('est_flat_queries_e=0.3_N=32_B=2.csv', delimiter=',')\n",
    "hh_est_3 = np.loadtxt('est_flat_queries_e=0.3_N=32_B=3.csv', delimiter=',')\n",
    "hh_est_4 = np.loadtxt('est_flat_queries_e=0.3_N=32_B=4.csv', delimiter=',')"
   ]
  },
  {
   "cell_type": "code",
   "execution_count": null,
   "id": "portable-bearing",
   "metadata": {},
   "outputs": [],
   "source": []
  },
  {
   "cell_type": "code",
   "execution_count": null,
   "id": "sonic-arlington",
   "metadata": {},
   "outputs": [],
   "source": []
  },
  {
   "cell_type": "code",
   "execution_count": 7,
   "id": "documentary-template",
   "metadata": {},
   "outputs": [],
   "source": [
    "os.chdir(owd)\n",
    "os.chdir(os.getcwd()+'/'+'results/sample_querys/flat/')\n"
   ]
  },
  {
   "cell_type": "code",
   "execution_count": 8,
   "id": "cardiac-range",
   "metadata": {},
   "outputs": [],
   "source": [
    "flat_cor_2 = np.loadtxt('cor_flat_queries_e=0.3_N=32_B=2.csv', delimiter=',')\n",
    "flat_cor_3 = np.loadtxt('cor_flat_queries_e=0.3_N=32_B=3.csv', delimiter=',')\n",
    "flat_cor_4 = np.loadtxt('cor_flat_queries_e=0.3_N=32_B=4.csv', delimiter=',')\n",
    "\n",
    "flat_est_2 = np.loadtxt('est_flat_queries_e=0.3_N=32_B=2.csv', delimiter=',')\n",
    "flat_est_3 = np.loadtxt('est_flat_queries_e=0.3_N=32_B=3.csv', delimiter=',')\n",
    "flat_est_4 = np.loadtxt('est_flat_queries_e=0.3_N=32_B=4.csv', delimiter=',')"
   ]
  },
  {
   "cell_type": "code",
   "execution_count": 9,
   "id": "armed-circle",
   "metadata": {},
   "outputs": [],
   "source": [
    "def find_error_different_queries(est, cor):\n",
    "    erorrs = est - cor\n",
    "    max_error = np.amax(erorrs)\n",
    "    min_error = np.amin(erorrs)\n",
    "    rmse = mean_squared_error(cor, est, squared = False)\n",
    "    error_dict = {'rmse': rmse, 'max': max_error, 'min': min_error, 'abs': np.mean(erorrs)}\n",
    "    print(rmse)"
   ]
  },
  {
   "cell_type": "code",
   "execution_count": 10,
   "id": "younger-tumor",
   "metadata": {},
   "outputs": [
    {
     "name": "stdout",
     "output_type": "stream",
     "text": [
      "743.2440757865323\n",
      "10785.434622446373\n"
     ]
    }
   ],
   "source": [
    "find_error_different_queries(flat_est_2, flat_cor_2)\n",
    "find_error_different_queries(hh_est_2, hh_cor_2)"
   ]
  },
  {
   "cell_type": "code",
   "execution_count": 11,
   "id": "virgin-invention",
   "metadata": {},
   "outputs": [],
   "source": [
    "os.chdir(owd)\n",
    "os.chdir(os.getcwd()+'/'+'results/sample_querys/local_hh/')"
   ]
  },
  {
   "cell_type": "code",
   "execution_count": 12,
   "id": "roman-enhancement",
   "metadata": {},
   "outputs": [],
   "source": [
    "hh_cor_2 = np.loadtxt('cor_hh_queries_e=0.3_N=2048_B=2.csv', delimiter=',')\n",
    "hh_cor_3 = np.loadtxt('cor_hh_queries_e=0.3_N=2048_B=3.csv', delimiter=',')\n",
    "hh_cor_4 = np.loadtxt('cor_hh_queries_e=0.3_N=2048_B=4.csv', delimiter=',')\n",
    "\n",
    "hh_est_2 = np.loadtxt('est_hh_queries_e=0.3_N=2048_B=2.csv', delimiter=',')\n",
    "hh_est_3 = np.loadtxt('est_hh_queries_e=0.3_N=2048_B=3.csv', delimiter=',')\n",
    "hh_est_4 = np.loadtxt('est_hh_queries_e=0.3_N=2048_B=4.csv', delimiter=',')"
   ]
  },
  {
   "cell_type": "code",
   "execution_count": 13,
   "id": "other-explosion",
   "metadata": {},
   "outputs": [],
   "source": [
    "os.chdir(owd)\n",
    "os.chdir(os.getcwd()+'/'+'results/sample_querys/flat/')\n"
   ]
  },
  {
   "cell_type": "code",
   "execution_count": 14,
   "id": "liquid-parent",
   "metadata": {},
   "outputs": [],
   "source": [
    "flat_cor_2 = np.loadtxt('cor_hh_queries_e=0.3_N=2048_B=2.csv', delimiter=',')\n",
    "flat_cor_3 = np.loadtxt('cor_hh_queries_e=0.3_N=2048_B=3.csv', delimiter=',')\n",
    "flat_cor_4 = np.loadtxt('cor_hh_queries_e=0.3_N=2048_B=4.csv', delimiter=',')\n",
    "\n",
    "flat_est_2 = np.loadtxt('est_hh_queries_e=0.3_N=2048_B=2.csv', delimiter=',')\n",
    "flat_est_3 = np.loadtxt('est_hh_queries_e=0.3_N=2048_B=3.csv', delimiter=',')\n",
    "flat_est_4 = np.loadtxt('est_hh_queries_e=0.3_N=2048_B=4.csv', delimiter=',')"
   ]
  },
  {
   "cell_type": "code",
   "execution_count": 17,
   "id": "compound-statement",
   "metadata": {},
   "outputs": [
    {
     "name": "stdout",
     "output_type": "stream",
     "text": [
      "327642.8748426147\n",
      "38999076.07196265\n"
     ]
    }
   ],
   "source": [
    "find_error_different_queries(flat_est_4, flat_cor_4)\n",
    "find_error_different_queries(hh_est_4, hh_cor_4)"
   ]
  },
  {
   "cell_type": "code",
   "execution_count": 16,
   "id": "australian-convergence",
   "metadata": {},
   "outputs": [],
   "source": [
    "def same_parameter(answers, correct_answer):\n",
    "    error = np.abs(correct_answer-answers)\n",
    "    max_error = np.amax(error)\n",
    "    min_error = np.amin(error)\n",
    "    true_values = np.full(len(answers), correct_answer)\n",
    "    mse = mean_squared_error(true_values, answers, squared = False)\n",
    "    error_dict = {'rmse': mse, 'max': max_error, 'min': min_error, 'abs': np.mean(error)}\n",
    "    \n",
    "    return error_dict\n"
   ]
  },
  {
   "cell_type": "code",
   "execution_count": null,
   "id": "suburban-embassy",
   "metadata": {},
   "outputs": [],
   "source": []
  },
  {
   "cell_type": "code",
   "execution_count": null,
   "id": "fiscal-royal",
   "metadata": {},
   "outputs": [],
   "source": []
  }
 ],
 "metadata": {
  "kernelspec": {
   "display_name": "Python 3",
   "language": "python",
   "name": "python3"
  },
  "language_info": {
   "codemirror_mode": {
    "name": "ipython",
    "version": 3
   },
   "file_extension": ".py",
   "mimetype": "text/x-python",
   "name": "python",
   "nbconvert_exporter": "python",
   "pygments_lexer": "ipython3",
   "version": "3.6.12"
  }
 },
 "nbformat": 4,
 "nbformat_minor": 5
}
