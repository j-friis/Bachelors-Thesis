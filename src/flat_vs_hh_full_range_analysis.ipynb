{
 "cells": [
  {
   "cell_type": "code",
   "execution_count": 1,
   "id": "cross-drinking",
   "metadata": {},
   "outputs": [],
   "source": [
    "import numpy as np\n",
    "import pandas as pd\n",
    "\n",
    "\n",
    "from sklearn.metrics import mean_squared_error\n",
    "import matplotlib.pyplot as plt\n",
    "import seaborn as sns\n",
    "\n",
    "from psql_functions import execQuery\n",
    "from miss_data import add_missing_dates, add_missing_counts\n",
    "from make_plots import dict_error_plot_epsilons, dict_error_plot_n\n",
    "\n",
    "import warnings\n",
    "warnings.filterwarnings('ignore')\n",
    "\n",
    "import sys\n",
    "import os\n",
    "import re\n",
    "owd = os.getcwd()"
   ]
  },
  {
   "cell_type": "code",
   "execution_count": 2,
   "id": "assisted-interest",
   "metadata": {},
   "outputs": [
    {
     "name": "stdout",
     "output_type": "stream",
     "text": [
      "Executed query and closed connection.\n",
      "Executed query and closed connection.\n"
     ]
    }
   ],
   "source": [
    "param_dic = {\n",
    "    \"host\"      : \"localhost\",\n",
    "    \"database\"  : \"bachelorBesoeg2014\",\n",
    "    \"user\"      : \"postgres\",\n",
    "    \"password\"  : \"password\",\n",
    "    \"port\"      : \"5432\"\n",
    "}\n",
    "\n",
    "query = \"\"\"select time_ from _775147;\"\"\"\n",
    "result = execQuery(param_dic, query)\n",
    "dates = [(date[0]) for date in result]\n",
    "\n",
    "query = \"\"\"select count_ from _775147;\"\"\"\n",
    "result = execQuery(param_dic, query)\n",
    "\n",
    "counts = [(count[0]) for count in result]\n",
    "\n",
    "all_dates = add_missing_dates(dates)\n",
    "all_counts =  add_missing_counts(counts, dates, all_dates)\n",
    "\n",
    "n_data_structures = 50\n"
   ]
  },
  {
   "cell_type": "code",
   "execution_count": 3,
   "id": "conscious-rugby",
   "metadata": {},
   "outputs": [],
   "source": [
    "onlydirs = [f for f in os.listdir(os.getcwd()) if os.path.isdir(os.path.join(os.getcwd(), f)) and f[0] != '.']"
   ]
  },
  {
   "cell_type": "code",
   "execution_count": 4,
   "id": "speaking-drama",
   "metadata": {},
   "outputs": [
    {
     "data": {
      "text/plain": [
       "['Data', 'plots', 'range_queries', 'results', '__pycache__']"
      ]
     },
     "execution_count": 4,
     "metadata": {},
     "output_type": "execute_result"
    }
   ],
   "source": [
    "onlydirs"
   ]
  },
  {
   "cell_type": "code",
   "execution_count": 5,
   "id": "mental-therapist",
   "metadata": {},
   "outputs": [],
   "source": [
    "def make_lookup_error_dict_e_n(epsilons, n):\n",
    "    epsilon_dict = dict.fromkeys(epsilons)\n",
    "    n_dicts = []\n",
    "    for i in range(0,len(epsilons)):\n",
    "        n_dict = dict.fromkeys(n)\n",
    "        n_dicts.append(n_dict)\n",
    "\n",
    "    i = 0\n",
    "    for e_key in epsilon_dict:\n",
    "        epsilon_dict[e_key] = n_dicts[i]\n",
    "        i = i + 1\n",
    "    return epsilon_dict\n",
    "\n",
    "def make_query_lookup_dict_n_r(n, rs):\n",
    "    n_dict = dict.fromkeys(n)\n",
    "    r_dicts = []\n",
    "    for i in range(0,len(n)):\n",
    "        #print(rs[i])\n",
    "        r_dict = dict.fromkeys(rs[i])\n",
    "        r_dicts.append(r_dict)\n",
    "\n",
    "    for idx, n_key in enumerate(n_dict):\n",
    "            n_dict[n_key] = r_dicts[idx]\n",
    "    \n",
    "    return n_dict\n",
    "\n",
    "def fill_up_query_lookup_dict_n_r(n, rs, files):\n",
    "    dict_ = make_query_lookup_dict_n_r(n, rs)\n",
    "    for idx, f in enumerate(files):\n",
    "        here_n = re.search(r'N=\\d+', f).group(0)\n",
    "        here_n = here_n.split(\"N=\")[1]\n",
    "        here_r = re.search(r'r=\\d+', f).group(0) \n",
    "        here_r = here_r.split(\"r=\")[1]\n",
    "        \n",
    "        querries = load_range_queries_n_split(f, n_data_structures)\n",
    "        dict_[int(here_n)][int(here_r)] = querries.copy()\n",
    "    return dict_"
   ]
  },
  {
   "cell_type": "code",
   "execution_count": 6,
   "id": "stable-alabama",
   "metadata": {},
   "outputs": [],
   "source": [
    "def make_lookup_error_dict(epsilons, n, rs):\n",
    "    epsilon_dict = dict.fromkeys(epsilons)\n",
    "    n_dicts = []\n",
    "    for i in range(0,len(epsilons)):\n",
    "        n_dict = dict.fromkeys(n)\n",
    "        n_dicts.append(n_dict)\n",
    "    r_dicts = []\n",
    "    for i in range(0,len(n)*len(epsilons)):\n",
    "        r_dict = dict.fromkeys(rs[i%len(n)])\n",
    "        r_dicts.append(r_dict)\n",
    "    i = 0\n",
    "    j = 0\n",
    "    for e_key in epsilon_dict:\n",
    "        epsilon_dict[e_key] = n_dicts[i]\n",
    "        n_dict = epsilon_dict[e_key]\n",
    "        for n_key in n_dict:\n",
    "            #print(j)\n",
    "            n_dict[n_key] = r_dicts[j]\n",
    "            j = j + 1\n",
    "        i = i + 1\n",
    "    return epsilon_dict\n",
    "\n",
    "\n",
    "def fill_up_lookup_error_dict(epsilons, n, degrees, files):\n",
    "    dict_ = make_lookup_error_dict(epsilons, n, degrees)\n",
    "    for idx, f in enumerate(files):\n",
    "        e = re.search(r'e=[-+]?[0-9]*\\.?[0-9]*', f).group(0)\n",
    "        e = e.split(\"e=\")[1]\n",
    "        here_n = re.search(r'N=\\d+', f).group(0)\n",
    "        here_n = here_n.split(\"N=\")[1]\n",
    "        here_r = re.search(r'r=\\d+', f).group(0) \n",
    "        here_r = here_r.split(\"r=\")[1]\n",
    "\n",
    "        dict_[float(e)][int(here_n)][int(here_r)] = np.loadtxt(f, delimiter=',')\n",
    "    return dict_\n",
    "\n",
    "def find_error_different_queries(est, cor):\n",
    "    erorrs = est - cor\n",
    "    max_error = np.amax(erorrs)\n",
    "    min_error = np.amin(erorrs)\n",
    "    rmse = mean_squared_error(cor, est, squared = False)\n",
    "    error_dict = {'rmse': rmse, 'max': max_error, 'min': min_error, 'abs': np.mean(erorrs)}\n",
    "    return error_dict"
   ]
  },
  {
   "cell_type": "code",
   "execution_count": 7,
   "id": "preliminary-thing",
   "metadata": {},
   "outputs": [],
   "source": []
  },
  {
   "cell_type": "code",
   "execution_count": 8,
   "id": "geological-douglas",
   "metadata": {},
   "outputs": [
    {
     "data": {
      "text/plain": [
       "336"
      ]
     },
     "execution_count": 8,
     "metadata": {},
     "output_type": "execute_result"
    }
   ],
   "source": [
    "len(epsilons)*len(n)*len(rs[0])"
   ]
  },
  {
   "cell_type": "code",
   "execution_count": 15,
   "id": "stunning-depression",
   "metadata": {},
   "outputs": [],
   "source": [
    "epsilons = np.array([1.2, 1, 0.8])\n",
    "n = np.array([32, 256, 512])"
   ]
  },
  {
   "cell_type": "markdown",
   "id": "variable-nickel",
   "metadata": {},
   "source": [
    "# Loading the data "
   ]
  },
  {
   "cell_type": "code",
   "execution_count": 9,
   "id": "accomplished-marina",
   "metadata": {},
   "outputs": [
    {
     "data": {
      "text/plain": [
       "'C:\\\\Users\\\\Jonas Friis\\\\Documents\\\\Universitet\\\\Bachelors-Thesis\\\\src\\\\results\\\\full_range'"
      ]
     },
     "execution_count": 9,
     "metadata": {},
     "output_type": "execute_result"
    }
   ],
   "source": [
    "#C:\\Users\\Jonas Friis\\Documents\\Universitet\\Bachelors-Thesis\\src\\results\\sample_querys\\local_hh\n",
    "os.chdir(os.getcwd()+'/'+'results/full_range/')\n",
    "os.getcwd()"
   ]
  },
  {
   "cell_type": "code",
   "execution_count": 18,
   "id": "portable-bearing",
   "metadata": {
    "scrolled": true
   },
   "outputs": [
    {
     "data": {
      "text/plain": [
       "['cor_e=1.2_N=32.csv', 'flat_est_e=1.2_N=32.csv', 'hh_est_e=1.2_N=32.csv']"
      ]
     },
     "execution_count": 18,
     "metadata": {},
     "output_type": "execute_result"
    }
   ],
   "source": [
    "files = [f for f in os.listdir('.')]\n",
    "files"
   ]
  },
  {
   "cell_type": "code",
   "execution_count": 19,
   "id": "stable-million",
   "metadata": {},
   "outputs": [
    {
     "data": {
      "text/plain": [
       "{1.2: {32: None, 256: None, 512: None},\n",
       " 1.0: {32: None, 256: None, 512: None},\n",
       " 0.8: {32: None, 256: None, 512: None}}"
      ]
     },
     "execution_count": 19,
     "metadata": {},
     "output_type": "execute_result"
    }
   ],
   "source": [
    "make_lookup_error_dict_e_n(epsilons, n)"
   ]
  },
  {
   "cell_type": "code",
   "execution_count": 29,
   "id": "diverse-softball",
   "metadata": {},
   "outputs": [
    {
     "data": {
      "text/plain": [
       "array([6081., 6081., 6081., 6081., 6081., 6081., 6081., 6081., 6081.,\n",
       "       6081., 6081., 6081., 6081., 6081., 6081., 6081., 6081., 6081.,\n",
       "       6081., 6081., 6081., 6081., 6081., 6081., 6081., 6081., 6081.,\n",
       "       6081., 6081., 6081., 6081., 6081., 6081., 6081., 6081., 6081.,\n",
       "       6081., 6081., 6081., 6081., 6081., 6081., 6081., 6081., 6081.,\n",
       "       6081., 6081., 6081., 6081., 6081., 6081., 6081., 6081., 6081.,\n",
       "       6081., 6081., 6081., 6081., 6081., 6081., 6081., 6081., 6081.,\n",
       "       6081., 6081., 6081., 6081., 6081., 6081., 6081., 6081., 6081.,\n",
       "       6081., 6081., 6081., 6081., 6081., 6081., 6081., 6081., 6081.,\n",
       "       6081., 6081., 6081., 6081., 6081., 6081., 6081., 6081., 6081.,\n",
       "       6081., 6081., 6081., 6081., 6081., 6081., 6081., 6081., 6081.,\n",
       "       6081.])"
      ]
     },
     "execution_count": 29,
     "metadata": {},
     "output_type": "execute_result"
    }
   ],
   "source": [
    "cor = np.loadtxt(files[0], delimiter=',')\n",
    "cor"
   ]
  },
  {
   "cell_type": "code",
   "execution_count": 30,
   "id": "iraqi-trademark",
   "metadata": {},
   "outputs": [
    {
     "data": {
      "text/plain": [
       "array([6081., 6081., 6081., 6081., 6081., 6081., 6081., 6081., 6081.,\n",
       "       6081., 6081., 6081., 6081., 6081., 6081., 6081., 6081., 6081.,\n",
       "       6081., 6081., 6081., 6081., 6081., 6081., 6081., 6081., 6081.,\n",
       "       6081., 6081., 6081., 6081., 6081., 6081., 6081., 6081., 6081.,\n",
       "       6081., 6081., 6081., 6081., 6081., 6081., 6081., 6081., 6081.,\n",
       "       6081., 6081., 6081., 6081., 6081.])"
      ]
     },
     "execution_count": 30,
     "metadata": {},
     "output_type": "execute_result"
    }
   ],
   "source": [
    "flat = np.loadtxt(files[1], delimiter=',')\n",
    "flat"
   ]
  },
  {
   "cell_type": "code",
   "execution_count": 31,
   "id": "tracked-pulse",
   "metadata": {},
   "outputs": [
    {
     "data": {
      "text/plain": [
       "array([6426., 5730., 6054., 6180., 6174., 5988., 5868., 6408., 6234.,\n",
       "       6168., 6120., 6048., 5790., 6360., 6174., 5910., 6264., 5742.,\n",
       "       6390., 6408., 6390., 5820., 6012., 6150., 5910., 5916., 5994.,\n",
       "       6084., 5970., 6072., 6126., 5922., 6276., 6018., 6258., 6252.,\n",
       "       5988., 6228., 5844., 6144., 6096., 5850., 5832., 6198., 6048.,\n",
       "       5934., 5970., 6048., 6240., 6258.])"
      ]
     },
     "execution_count": 31,
     "metadata": {},
     "output_type": "execute_result"
    }
   ],
   "source": [
    "hh = np.loadtxt(files[2], delimiter=',')\n",
    "hh"
   ]
  },
  {
   "cell_type": "code",
   "execution_count": null,
   "id": "funky-breath",
   "metadata": {},
   "outputs": [],
   "source": []
  },
  {
   "cell_type": "code",
   "execution_count": null,
   "id": "scientific-aurora",
   "metadata": {
    "scrolled": true
   },
   "outputs": [],
   "source": [
    "error_dict = make_lookup_error_dict(epsilons, n, rs)\n",
    "\n",
    "for e in epsilons:\n",
    "    for N in n:\n",
    "        #r_values = error_dict[e][N]\n",
    "        for r in error_dict[e][N]:\n",
    "            error_dict[e][N][r] = find_error_different_queries(est_dict[e][N][r], cor_dict[e][N][r])"
   ]
  },
  {
   "cell_type": "code",
   "execution_count": null,
   "id": "hidden-hollow",
   "metadata": {},
   "outputs": [],
   "source": [
    "def get_answers_for_r(n_r, step_size, all_answers):\n",
    "    \"\"\"\n",
    "    Setup of the datastructere\n",
    "    Parameters:\n",
    "    n_r (int): Which index/number of the r values\n",
    "    step_size (int): How many r values there is \n",
    "    all_answers (Array): All answers for all the differnt r values\n",
    "    Returns:\n",
    "    The answers for this specific r\n",
    "    \"\"\"\n",
    "    return all_answers[n_r::step_size]"
   ]
  },
  {
   "cell_type": "code",
   "execution_count": null,
   "id": "honey-parcel",
   "metadata": {},
   "outputs": [],
   "source": [
    "dict_plot_rmse_dict = make_lookup_error_dict_e_n(epsilons, n)\n",
    "for e in epsilons:\n",
    "    for N in n:\n",
    "        rmse = []\n",
    "        for r_keys in error_dict[e][N]: \n",
    "            rmse.append(error_dict[e][N][r_keys]['rmse'])\n",
    "        \n",
    "        dict_plot_rmse_dict[e][N] = rmse"
   ]
  },
  {
   "cell_type": "code",
   "execution_count": null,
   "id": "timely-aluminum",
   "metadata": {},
   "outputs": [],
   "source": [
    "dict_plot_rmse_dict"
   ]
  },
  {
   "cell_type": "code",
   "execution_count": null,
   "id": "undefined-catholic",
   "metadata": {},
   "outputs": [],
   "source": [
    "def plot(xs, ys, N, epsilon, plot_name):\n",
    "\n",
    "    plt.scatter(xs, ys)\n",
    "    #plt.hlines(np.mean(answears128),line_range[0],line_range[1])\n",
    "    #plt.hlines(np.mean(correct_answear),line_range[0],line_range[1])\n",
    "    #plt.legend()\n",
    "    plt.xlabel('Length of query')\n",
    "    plt.ylabel('RMSE')\n",
    "    plt.title(f'Flat OLH with N = {N} and \\u03B5 = {epsilon}')\n",
    "    #plt.savefig(plot_name,bbox_inches='tight')\n",
    "    plt.show()"
   ]
  },
  {
   "cell_type": "code",
   "execution_count": null,
   "id": "bronze-tumor",
   "metadata": {},
   "outputs": [],
   "source": [
    "for e in epsilons:\n",
    "    for N in n:\n",
    "        xs = list(error_dict[e][N].keys())\n",
    "        print(xs)\n",
    "        ys = dict_plot_rmse_dict[e][N]\n",
    "        print(ys)\n",
    "        plot(xs, ys, N, e, 'e')\n"
   ]
  },
  {
   "cell_type": "code",
   "execution_count": null,
   "id": "speaking-prescription",
   "metadata": {},
   "outputs": [],
   "source": [
    "\n",
    "    "
   ]
  },
  {
   "cell_type": "code",
   "execution_count": null,
   "id": "formal-soldier",
   "metadata": {},
   "outputs": [],
   "source": []
  },
  {
   "cell_type": "code",
   "execution_count": null,
   "id": "third-kuwait",
   "metadata": {},
   "outputs": [],
   "source": []
  },
  {
   "cell_type": "code",
   "execution_count": null,
   "id": "cheap-location",
   "metadata": {},
   "outputs": [],
   "source": [
    "def same_parameter(answers, correct_answer):\n",
    "    error = np.abs(correct_answer-answers)\n",
    "    max_error = np.amax(error)\n",
    "    min_error = np.amin(error)\n",
    "    true_values = np.full(len(answers), correct_answer)\n",
    "    mse = mean_squared_error(true_values, answers, squared = False)\n",
    "    error_dict = {'mse': mse, 'max': max_error, 'min': min_error, 'abs': np.mean(error)}\n",
    "    \n",
    "    return error_dict\n"
   ]
  },
  {
   "cell_type": "code",
   "execution_count": null,
   "id": "australian-convergence",
   "metadata": {},
   "outputs": [],
   "source": [
    "print(flat_empty)\n",
    "print(len(flat_empty))\n",
    "print(hh_empty)\n",
    "print(len(hh_empty))"
   ]
  },
  {
   "cell_type": "code",
   "execution_count": null,
   "id": "suburban-embassy",
   "metadata": {},
   "outputs": [],
   "source": []
  },
  {
   "cell_type": "code",
   "execution_count": null,
   "id": "ruled-settlement",
   "metadata": {},
   "outputs": [],
   "source": [
    "epsilon_error_dicts = {}\n",
    "for idx, e in enumerate(epsilons):\n",
    "    epsilon_error_dicts[e] = same_parameter(epsilons_res[idx], correct_answer)"
   ]
  },
  {
   "cell_type": "code",
   "execution_count": null,
   "id": "furnished-pleasure",
   "metadata": {},
   "outputs": [],
   "source": [
    "epsilon_error_dicts"
   ]
  },
  {
   "cell_type": "code",
   "execution_count": null,
   "id": "accepting-experiment",
   "metadata": {},
   "outputs": [],
   "source": [
    "plt_name = 'flat_freq_epsilon'\n",
    "dict_error_plot_epsilons(epsilon_error_dicts,plt_name, epsilons)"
   ]
  },
  {
   "cell_type": "code",
   "execution_count": null,
   "id": "inner-pharmaceutical",
   "metadata": {},
   "outputs": [],
   "source": [
    "n_error_dicts = {}\n",
    "for idx, N in enumerate(n):\n",
    "    n_error_dicts[N] = same_parameter(ns[idx], correct_answer)\n",
    "\n"
   ]
  },
  {
   "cell_type": "code",
   "execution_count": null,
   "id": "found-capture",
   "metadata": {},
   "outputs": [],
   "source": [
    "n_error_dicts"
   ]
  },
  {
   "cell_type": "code",
   "execution_count": null,
   "id": "collaborative-carol",
   "metadata": {
    "scrolled": false
   },
   "outputs": [],
   "source": [
    "print(n)\n",
    "plt_name = 'flat_freq_N'\n",
    "dict_error_plot_n(n_error_dicts,plt_name, n)"
   ]
  },
  {
   "cell_type": "code",
   "execution_count": null,
   "id": "fiscal-royal",
   "metadata": {},
   "outputs": [],
   "source": []
  }
 ],
 "metadata": {
  "kernelspec": {
   "display_name": "Python 3",
   "language": "python",
   "name": "python3"
  },
  "language_info": {
   "codemirror_mode": {
    "name": "ipython",
    "version": 3
   },
   "file_extension": ".py",
   "mimetype": "text/x-python",
   "name": "python",
   "nbconvert_exporter": "python",
   "pygments_lexer": "ipython3",
   "version": "3.6.12"
  }
 },
 "nbformat": 4,
 "nbformat_minor": 5
}
