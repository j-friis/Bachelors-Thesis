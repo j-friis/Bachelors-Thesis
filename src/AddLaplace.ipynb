{
 "cells": [
  {
   "cell_type": "code",
   "execution_count": 1,
   "metadata": {},
   "outputs": [],
   "source": [
    "import numpy as np\n",
    "import pandas as pd\n",
    "from scipy.stats import laplace\n",
    "import scipy.stats\n",
    "import psycopg2\n",
    "from sklearn.metrics import mean_squared_error\n",
    "import matplotlib.pyplot as plt\n",
    "import seaborn as sns"
   ]
  },
  {
   "cell_type": "code",
   "execution_count": null,
   "metadata": {},
   "outputs": [],
   "source": []
  },
  {
   "cell_type": "raw",
   "metadata": {},
   "source": [
    "param_dic = {\n",
    "    \"host\"      : \"localhost\",\n",
    "    \"database\"  : \"bachelorBesoeg2014\",\n",
    "    \"user\"      : \"postgres\",\n",
    "    \"password\"  : \"password\",\n",
    "    \"port\"      : \"5432\"\n",
    "}\n",
    "\n",
    "def execQuery(params_dic,query):\n",
    "    try:\n",
    "        connection = psycopg2.connect(**params_dic)\n",
    "        cursor = connection.cursor()\n",
    "        cursor.execute(query)\n",
    "        record = cursor.fetchall()\n",
    "        return record\n",
    "    except (Exception, psycopg2.Error) as error :\n",
    "        connection = False\n",
    "        print (\"Error while connecting to PostgreSQL\", error)\n",
    "    finally:\n",
    "        if(connection):\n",
    "            cursor.close()\n",
    "            connection.close()\n",
    "            print(\"Executed query and closed connection.\")\n",
    "\n",
    "result = execQuery(param_dic, \"\"\"select count(*) as number_of_dates, count(DISTINCT  count_) as distinct_count from _775147;\"\"\")\n",
    "result\n"
   ]
  },
  {
   "cell_type": "code",
   "execution_count": 2,
   "metadata": {},
   "outputs": [
    {
     "data": {
      "text/plain": [
       "[(1794, 475)]"
      ]
     },
     "execution_count": 2,
     "metadata": {},
     "output_type": "execute_result"
    }
   ],
   "source": [
    "def execQuery(query):\n",
    "    try:\n",
    "        connection = psycopg2.connect(user = \"postgres\",\n",
    "                                      password = \"password\",\n",
    "                                      host = \"localhost\",\n",
    "                                      port = \"5432\",\n",
    "                                      database = \"bachelorBesoeg2014\")\n",
    "        cursor = connection.cursor()\n",
    "        cursor.execute(query)\n",
    "        record = cursor.fetchall()\n",
    "        return record\n",
    "    except (Exception, psycopg2.Error) as error :\n",
    "        connection = False\n",
    "        print (\"Error while connecting to PostgreSQL\", error)\n",
    "    finally:\n",
    "        if(connection):\n",
    "            cursor.close()\n",
    "            connection.close()\n",
    "            #print(\"Executed query and closed connection.\")\n",
    "\n",
    "result = execQuery(\"\"\"select count(*) as number_of_dates, count(DISTINCT  count_) as distinct_count from _775147;\"\"\")\n",
    "result"
   ]
  },
  {
   "cell_type": "code",
   "execution_count": 3,
   "metadata": {},
   "outputs": [
    {
     "data": {
      "text/plain": [
       "['_775140',\n",
       " '_775160',\n",
       " '_775100',\n",
       " '_775146',\n",
       " '_775168',\n",
       " '_775167',\n",
       " '_775122',\n",
       " '_775120',\n",
       " '_775144',\n",
       " '_775127',\n",
       " '_775126',\n",
       " '_775170',\n",
       " '_775130',\n",
       " '_775164',\n",
       " '_775150',\n",
       " '_775147']"
      ]
     },
     "execution_count": 3,
     "metadata": {},
     "output_type": "execute_result"
    }
   ],
   "source": [
    "result = execQuery(\"\"\"SELECT table_name FROM information_schema.tables\n",
    "       WHERE table_schema = 'public'\"\"\")\n",
    "tabels = [x[0] for x in result]\n",
    "tabels"
   ]
  },
  {
   "cell_type": "code",
   "execution_count": 4,
   "metadata": {},
   "outputs": [
    {
     "name": "stdout",
     "output_type": "stream",
     "text": [
      "[(36,)]\n",
      "<class 'int'>\n"
     ]
    }
   ],
   "source": [
    "result = execQuery(\"\"\"select count(*) from _775147 where count_ = 1;\"\"\")\n",
    "print(result)\n",
    "print(type(result[0][0]))"
   ]
  },
  {
   "cell_type": "code",
   "execution_count": 5,
   "metadata": {},
   "outputs": [],
   "source": [
    "requests = np.array([1,92,82,48])\n",
    "ac = np.array([36,11,5,1])"
   ]
  },
  {
   "cell_type": "code",
   "execution_count": 6,
   "metadata": {},
   "outputs": [],
   "source": [
    "def lap(x,b):\n",
    "    return 1/(2*b) * np.exp(-(np.abs(x)/b))"
   ]
  },
  {
   "cell_type": "code",
   "execution_count": 7,
   "metadata": {},
   "outputs": [],
   "source": [
    "epsilons = np.array([2,1.4,1.2,1,0.8,0.7,0.5,0.4,0.3])"
   ]
  },
  {
   "cell_type": "code",
   "execution_count": 38,
   "metadata": {},
   "outputs": [
    {
     "name": "stdout",
     "output_type": "stream",
     "text": [
      "0.5\n",
      "0.5\n"
     ]
    },
    {
     "data": {
      "text/plain": [
       "-0.17807014005314645"
      ]
     },
     "execution_count": 38,
     "metadata": {},
     "output_type": "execute_result"
    }
   ],
   "source": [
    "epsilon = 2\n",
    "b = 1/epsilon\n",
    "#print(b)\n",
    "print(2*(b)**2)\n",
    "laplace_mec = laplace(scale=b)\n",
    "print(laplace_mec.var())\n",
    "laplace_mec.rvs()"
   ]
  },
  {
   "cell_type": "code",
   "execution_count": null,
   "metadata": {},
   "outputs": [],
   "source": []
  },
  {
   "cell_type": "code",
   "execution_count": 9,
   "metadata": {},
   "outputs": [],
   "source": [
    "def laplace_mechanism(answear,epsilon):\n",
    "    b = 1/epsilon\n",
    "    laplace_mec = laplace(scale=b)\n",
    "    Y = laplace_mec.rvs()\n",
    "    return answear + Y"
   ]
  },
  {
   "cell_type": "code",
   "execution_count": 10,
   "metadata": {},
   "outputs": [],
   "source": [
    "def range_count(query,epsilon):\n",
    "    corret_answear = execQuery(query)[0][0]\n",
    "    return laplace_mechanism(corret_answear,epsilon)"
   ]
  },
  {
   "cell_type": "code",
   "execution_count": null,
   "metadata": {},
   "outputs": [],
   "source": []
  },
  {
   "cell_type": "code",
   "execution_count": 11,
   "metadata": {},
   "outputs": [],
   "source": [
    "def mean_confidence_interval(data, confidence=0.95):\n",
    "    a = 1.0 * np.array(data)\n",
    "    n = len(a)\n",
    "    m, se = np.mean(a), scipy.stats.sem(a)\n",
    "    h = se * scipy.stats.t.ppf((1 + confidence) / 2., n-1)\n",
    "    return m, m-h, m+h"
   ]
  },
  {
   "cell_type": "code",
   "execution_count": 12,
   "metadata": {},
   "outputs": [],
   "source": [
    "def confidence_interval(mean, confidence=0.95):\n",
    "    se = np.mean(a), scipy.stats.sem(a)\n",
    "    h = se * scipy.stats.t.ppf((1 + confidence) / 2., n-1)\n",
    "    return m, m-h, m+h"
   ]
  },
  {
   "cell_type": "code",
   "execution_count": null,
   "metadata": {},
   "outputs": [],
   "source": []
  },
  {
   "cell_type": "raw",
   "metadata": {},
   "source": []
  },
  {
   "cell_type": "code",
   "execution_count": null,
   "metadata": {},
   "outputs": [],
   "source": []
  },
  {
   "cell_type": "code",
   "execution_count": 13,
   "metadata": {
    "scrolled": true
   },
   "outputs": [
    {
     "name": "stdout",
     "output_type": "stream",
     "text": [
      "2.0\n",
      "1.4\n",
      "1.2\n",
      "1.0\n",
      "0.8\n",
      "0.7\n",
      "0.5\n",
      "0.4\n",
      "0.3\n"
     ]
    }
   ],
   "source": [
    "error_dicts = {}\n",
    "\n",
    "for e in epsilons:\n",
    "    print(e)\n",
    "    number_of_queries = 100\n",
    "    query = \"\"\"select count(*) from _775147 where count_ = 1;\"\"\"\n",
    "    answears = np.zeros(number_of_queries)\n",
    "    corret_answear = execQuery(query)[0][0]\n",
    "    for i in range(0,number_of_queries):\n",
    "        answears[i] = range_count(query,e)\n",
    "    error = np.abs(corret_answear-answears)\n",
    "    max_error = np.amax(error)\n",
    "    min_error = np.amin(error)\n",
    "    true_values = np.full(number_of_queries, corret_answear)\n",
    "    mse = mean_squared_error(true_values, answears)\n",
    "    error_dicts[e] = {'mse': mse, 'max': max_error, 'min': min_error }\n",
    "\n"
   ]
  },
  {
   "cell_type": "code",
   "execution_count": null,
   "metadata": {},
   "outputs": [],
   "source": []
  },
  {
   "cell_type": "code",
   "execution_count": 14,
   "metadata": {},
   "outputs": [],
   "source": [
    "#Getting all error values from dict\n",
    "n = len(error_dicts)\n",
    "mse_errors = np.zeros(n)\n",
    "min_errors = np.zeros(n)\n",
    "max_errors = np.zeros(n)\n",
    "\n",
    "for num, item in enumerate(error_dicts.items()):\n",
    "    mse_errors[num] = item[1]['mse']\n",
    "    min_errors[num] = item[1]['min']\n",
    "    max_errors[num] = item[1]['max']"
   ]
  },
  {
   "cell_type": "code",
   "execution_count": null,
   "metadata": {},
   "outputs": [],
   "source": []
  },
  {
   "cell_type": "code",
   "execution_count": 15,
   "metadata": {},
   "outputs": [],
   "source": [
    "error_stack = np.vstack((min_errors,mse_errors,max_errors)).flatten()\n",
    "min_labels = np.full(min_errors.size, 'min errors')\n",
    "mse_labels = np.full(mse_errors.size, 'mse errors')\n",
    "max_labels = np.full(max_errors.size, 'max errors')\n",
    "labels_stack = np.vstack((min_labels,mse_labels,max_labels)).flatten()\n",
    "epsilons_stack = np.vstack((epsilons,epsilons,epsilons)).flatten()\n"
   ]
  },
  {
   "cell_type": "code",
   "execution_count": null,
   "metadata": {},
   "outputs": [],
   "source": []
  },
  {
   "cell_type": "code",
   "execution_count": 16,
   "metadata": {},
   "outputs": [],
   "source": [
    "seaborn_df = pd.DataFrame({'epsilons':epsilons_stack, 'errors':error_stack,'labels':labels_stack})\n",
    "seaborn_df.to_csv('seaborn_plotting_data.csv',index=False)"
   ]
  },
  {
   "cell_type": "code",
   "execution_count": 17,
   "metadata": {},
   "outputs": [],
   "source": [
    "all_data = pd.DataFrame({'epsilons':epsilons, 'min_errors':min_errors,'max_errors':min_errors,'mse_errors':mse_errors})\n",
    "all_data.to_csv('plotting_data.csv',index=False)"
   ]
  },
  {
   "cell_type": "code",
   "execution_count": 18,
   "metadata": {},
   "outputs": [],
   "source": [
    "sns.set()"
   ]
  },
  {
   "cell_type": "code",
   "execution_count": 19,
   "metadata": {},
   "outputs": [
    {
     "data": {
      "image/png": "[encoded data removed]",
      "text/plain": [
       "<Figure size 459.85x360 with 1 Axes>"
      ]
     },
     "metadata": {},
     "output_type": "display_data"
    }
   ],
   "source": [
    "sns_plot = sns.catplot(x=\"epsilons\", y=\"errors\", hue=\"labels\", data=seaborn_df)\n",
    "sns_plot.savefig(\"AllErrors.png\")\n"
   ]
  },
  {
   "cell_type": "code",
   "execution_count": null,
   "metadata": {},
   "outputs": [],
   "source": []
  },
  {
   "cell_type": "code",
   "execution_count": 20,
   "metadata": {},
   "outputs": [
    {
     "data": {
      "image/png": "[encoded data removed]",
      "text/plain": [
       "<Figure size 432x288 with 1 Axes>"
      ]
     },
     "metadata": {},
     "output_type": "display_data"
    }
   ],
   "source": [
    "sns_plot = sns.scatterplot(data=seaborn_df.loc[seaborn_df['labels'] == 'min errors'], x ='epsilons', y ='errors')\n",
    "plt.legend(labels=['min errors'])\n",
    "sns_plot.get_figure().savefig('min_error.png') "
   ]
  },
  {
   "cell_type": "code",
   "execution_count": 21,
   "metadata": {},
   "outputs": [
    {
     "data": {
      "image/png": "[encoded data removed]",
      "text/plain": [
       "<Figure size 432x288 with 1 Axes>"
      ]
     },
     "metadata": {},
     "output_type": "display_data"
    }
   ],
   "source": [
    "sns_plot = sns.scatterplot(data=seaborn_df.loc[seaborn_df['labels'] == 'max errors'], x ='epsilons', y ='errors')\n",
    "plt.legend(labels=['max errors'])\n",
    "sns_plot.get_figure().savefig('max_error.png') "
   ]
  },
  {
   "cell_type": "code",
   "execution_count": 22,
   "metadata": {},
   "outputs": [
    {
     "data": {
      "image/png": "[encoded data removed]",
      "text/plain": [
       "<Figure size 432x288 with 1 Axes>"
      ]
     },
     "metadata": {},
     "output_type": "display_data"
    }
   ],
   "source": [
    "sns_plot = sns.scatterplot(data=seaborn_df.loc[seaborn_df['labels'] == 'mse errors'], x ='epsilons', y ='errors')\n",
    "plt.legend(labels=['mse errors'])\n",
    "sns_plot.get_figure().savefig('mse_error.png') "
   ]
  },
  {
   "cell_type": "raw",
   "metadata": {},
   "source": [
    "\n",
    "fig = plt.figure(1)\n",
    "#p1, = plt.plot(xs, ys, 'ro', label='Data points')\n",
    "#p2, = plt.plot(t, p, 'b-.', label='Approx')\n",
    "p3, = plt.plot(xs, ys, 'g-', label=r'$f(t)=e^{-t}\\cos(4\\pi t)$')\n",
    "plt.legend(handles=[p3], loc='best')\n",
    "plt.xlabel('x')\n",
    "plt.ylabel('y')\n",
    "plt.title('Plot of function')\n",
    "plt.grid(True)\n",
    "plt.show()\n",
    "fig.savefig('A5p2Func.png', dpi=fig.dpi)\n",
    "\n",
    "        \n",
    "fig = plt.figure(2)\n",
    "n_values = np.arange(1, 11)\n",
    "print(n_values)\n",
    "for n in n_values:\n",
    "    xs = np.linspace(0, 3, n)\n",
    "    ys = f(xs)\n",
    "    t = np.linspace(np.min(x), np.max(x), n)\n",
    "    approx = np.array([lagrange_polynomial(t[i], xs, ys) for i in range(len(t))])\n",
    "    plt.plot(xs,approx, label=n)\n",
    "\n",
    "xs = np.linspace(0, 3, 100)\n",
    "ys = f(xs)\n",
    "p3, = plt.plot(xs, ys, 'ro', label=r'Real')\n",
    "\n",
    "plt.legend(bbox_to_anchor=(0.95, 1), loc='upper left')\n",
    "plt.show()\n",
    "fig.savefig('A5p2smalln.png', dpi=fig.dpi)\n",
    "\n",
    "\n",
    "\n",
    "fig =plt.figure(3)\n",
    "n_values = np.arange(40, 60, 2, dtype = int)\n",
    "print(n_values)\n",
    "for n in n_values:\n",
    "    xs = np.linspace(0, 3, n)\n",
    "    ys = f(xs)\n",
    "    t = np.linspace(np.min(x), np.max(x), n)\n",
    "    approx = np.array([lagrange_polynomial(t[i], xs, ys) for i in range(len(t))])\n",
    "    plt.plot(xs,approx, label=n)\n",
    "\n",
    "\n",
    "xs = np.linspace(0, 3, 100)\n",
    "ys = f(xs)\n",
    "p3, = plt.plot(xs, ys, 'ro', label=r'Real')\n",
    "\n",
    "plt.legend(bbox_to_anchor=(0.95, 1), loc='upper left')\n",
    "\n",
    "plt.show()\n",
    "fig.savefig('A5p2mediumn.png', dpi=fig.dpi)\n",
    "\n",
    "\n",
    "\n",
    "\n",
    "fig = plt.figure(3)\n",
    "n_values = np.arange(80, 90, dtype = int)\n",
    "print(n_values)\n",
    "for n in n_values:\n",
    "    xs = np.linspace(0, 3, n)\n",
    "    ys = f(xs)\n",
    "    t = np.linspace(np.min(x), np.max(x), n)\n",
    "    approx = np.array([lagrange_polynomial(t[i], xs, ys) for i in range(len(t))])\n",
    "    plt.plot(xs,approx, label=n)\n",
    "\n",
    "xs = np.linspace(0, 3, 100)\n",
    "ys = f(xs)\n",
    "p3, = plt.plot(xs, ys, 'ro', label=r'Real')\n",
    "\n",
    "plt.legend(bbox_to_anchor=(0.95, 1), loc='upper left')\n",
    "\n",
    "plt.show()\n",
    "fig.savefig('A5p2largen.png', dpi=fig.dpi)\n",
    "\n",
    "fig = plt.figure(4)\n",
    "n_values = np.arange(100, 150,10, dtype = int)\n",
    "print(n_values)\n",
    "for n in n_values:\n",
    "    xs = np.linspace(0, 3, n)\n",
    "    print(xs.shape)\n",
    "    #print(xs)\n",
    "    ys = f(xs)\n",
    "    t = np.linspace(np.min(x), np.max(x), n)\n",
    "    approx = np.array([lagrange_polynomial(t[i], xs, ys) for i in range(len(t))])\n",
    "    plt.plot(xs,approx, label=n)\n",
    "\n",
    "xs = np.linspace(0, 3, 150)\n",
    "ys = f(xs)\n",
    "p3, = plt.plot(xs, ys, 'ro', label=r'Real')\n",
    "\n",
    "plt.legend(bbox_to_anchor=(0.95, 1), loc='upper left')\n",
    "\n",
    "plt.show()\n",
    "fig.savefig('A5p2fail.png', dpi=fig.dpi)"
   ]
  },
  {
   "cell_type": "code",
   "execution_count": 23,
   "metadata": {},
   "outputs": [],
   "source": [
    "def get_means(data):\n",
    "    means = np.zeros(data.size)\n",
    "    for i in range(0,data.size):\n",
    "        means[i] = np.mean(data[0:i+1]) \n",
    "    print(np.mean(data))\n",
    "    return means"
   ]
  },
  {
   "cell_type": "code",
   "execution_count": 24,
   "metadata": {},
   "outputs": [],
   "source": [
    "def get_confidence(data, std):\n",
    "    a = 1.0 * np.array(data)\n",
    "    n = len(a)\n",
    "    m = np.mean(a)\n",
    "    h = 1.96 * (std/np.sqrt(n))\n",
    "    return m, m-h, m+h"
   ]
  },
  {
   "cell_type": "code",
   "execution_count": 25,
   "metadata": {},
   "outputs": [
    {
     "name": "stdout",
     "output_type": "stream",
     "text": [
      "35.933367538578025\n",
      "corret_answear = 36\n",
      "var = 3.125, epsilon = 0.8, number_of_queries = 100\n"
     ]
    }
   ],
   "source": [
    "epsilon = 0.8\n",
    "number_of_queries = 100\n",
    "b = 1/epsilon\n",
    "var = 2*(b)**2\n",
    "\n",
    "query = \"\"\"select count(*) from _775147 where count_ = 1;\"\"\"\n",
    "answears = np.zeros(number_of_queries)\n",
    "corret_answear = execQuery(query)[0][0]\n",
    "for i in range(0,number_of_queries):\n",
    "    answears[i] = range_count(query,epsilon)\n",
    "means = get_means(answears)\n",
    "print(f'corret_answear = {corret_answear}')\n",
    "print(f'var = {var}, epsilon = {epsilon}, number_of_queries = {number_of_queries}')"
   ]
  },
  {
   "cell_type": "code",
   "execution_count": null,
   "metadata": {},
   "outputs": [],
   "source": []
  },
  {
   "cell_type": "code",
   "execution_count": 26,
   "metadata": {},
   "outputs": [],
   "source": [
    "upper = np.zeros(number_of_queries)\n",
    "lower = np.zeros(number_of_queries)\n",
    "\n",
    "for i in range(0,100):\n",
    "    mean, low, up = get_confidence(answears[0:i+1],var)\n",
    "    upper[i] = up\n",
    "    lower[i] = low\n",
    "    \n",
    "#upper = upper[-99:] \n",
    "#lower = lower[-99:]"
   ]
  },
  {
   "cell_type": "code",
   "execution_count": 27,
   "metadata": {},
   "outputs": [
    {
     "name": "stdout",
     "output_type": "stream",
     "text": [
      "[35.56501954 34.58644074 32.83906579 37.02876571 35.57404464 35.39181343\n",
      " 35.84650206 36.35459326 36.63768932 36.17153265 36.06327533 36.52927006\n",
      " 35.48608961 33.82105914 35.50631456 37.1853887  32.3823524  36.70614542\n",
      " 34.79519977 36.47348546 36.58783357 38.30304281 34.10812381 36.18312619\n",
      " 34.54643647 36.66479196 36.2634006  37.48525142 34.82357214 35.71611889\n",
      " 36.41396501 36.87697685 35.44187912 34.23663195 35.73895528 35.37320898\n",
      " 36.91938875 37.22722762 37.57583903 35.98675705 37.4187313  36.5724712\n",
      " 36.6131541  35.66281326 35.33718572 31.41308758 36.66855661 36.05024558\n",
      " 35.45647623 38.12651794 37.4471072  35.80358332 33.71222282 31.48508138\n",
      " 36.21468884 35.21418195 37.21105192 35.10527749 33.23992674 35.79499132\n",
      " 40.87711345 38.13764682 38.14118911 35.02717206 37.8298605  35.34509122\n",
      " 38.35819594 36.59169732 35.52529904 35.77357964 35.89742425 35.14742307\n",
      " 37.20094252 34.75307875 34.23075035 35.7788826  35.37022191 36.5221009\n",
      " 40.72622923 37.41929352 33.32661997 34.77125378 37.68028221 37.12409666\n",
      " 36.48426056 36.21611748 34.65647743 36.87498892 35.93860717 36.60672054\n",
      " 36.55295432 36.15832455 35.62779342 34.69990322 36.14830807 36.13699086\n",
      " 36.46506393 35.31292718 33.18015421 34.75778957]\n",
      "[35.56501954 35.07573014 34.33017536 35.00482295 35.11866728 35.16419164\n",
      " 35.26166456 35.39828065 35.53599272 35.59954671 35.64170386 35.71566771\n",
      " 35.69800786 35.56394009 35.56009839 35.66167903 35.46877747 35.53752013\n",
      " 35.49845064 35.54720238 35.59675625 35.71976927 35.64969773 35.67192392\n",
      " 35.62690442 35.66682317 35.68891863 35.75307337 35.72102161 35.72085818\n",
      " 35.74321647 35.77864648 35.76844141 35.72338819 35.72383296 35.71409341\n",
      " 35.74666896 35.78563103 35.8315338  35.83541438 35.87403186 35.89066137\n",
      " 35.90746353 35.90190329 35.88935402 35.79204388 35.81069308 35.81568376\n",
      " 35.80835299 35.85471629 35.88593964 35.88435587 35.84337223 35.76266314\n",
      " 35.77088179 35.76094072 35.78638126 35.7746381  35.73167689 35.73273213\n",
      " 35.81706625 35.85449497 35.8907917  35.87729764 35.90733707 35.89881819\n",
      " 35.93552532 35.94517491 35.93908975 35.93672532 35.93617179 35.92521694\n",
      " 35.94269264 35.92661677 35.90400522 35.90235887 35.895448   35.90348201\n",
      " 35.96452945 35.982714   35.94992271 35.9355487  35.95656959 35.97046872\n",
      " 35.97651333 35.97929942 35.96409457 35.97444565 35.97404297 35.98107272\n",
      " 35.98735713 35.98921547 35.98532921 35.97165447 35.97351398 35.97521686\n",
      " 35.98026683 35.97345725 35.94524206 35.93336754]\n",
      "[41.69001954 39.40675917 37.86644576 38.06732295 37.85785056 37.66471242\n",
      " 37.57669696 37.56379516 37.57765939 37.53644178 37.48846085 37.48380291\n",
      " 37.39677721 37.2009152  37.14156659 37.19292903 36.95430817 36.98119648\n",
      " 36.90362201 36.91679402 36.93334082 37.02562366 36.92684852 36.92218431\n",
      " 36.85190442 36.8680345  36.86767543 36.91058957 36.85840555 36.83912507\n",
      " 36.84329894 36.86140374 36.83466705 36.77381702 36.75914692 36.73492674\n",
      " 36.75361275 36.77923723 36.81231874 36.80386191 36.83059616 36.83576939\n",
      " 36.84151727 36.82528179 36.80241511 36.69512586 36.70411616 36.69975136\n",
      " 36.68335299 36.7209221  36.7436112  36.73374054 36.68470568 36.59617006\n",
      " 36.59677662 36.57942827 36.59765733 36.57889    36.52908397 36.52346623\n",
      " 36.60129214 36.63237074 36.66246916 36.64292264 36.66704982 36.65275358\n",
      " 36.68381317 36.68794026 36.6764531  36.66880285 36.66307555 36.64705512\n",
      " 36.65956966 36.63863356 36.6112593  36.60494456 36.59345653 36.5970017\n",
      " 36.65364579 36.66750982 36.63047827 36.6119418  36.62887568 36.63876101\n",
      " 36.64086286 36.63977516 36.6207635  36.62737284 36.62329167 36.62670441\n",
      " 36.62943159 36.62779086 36.62046213 36.60339998 36.60192572 36.60034706\n",
      " 36.60216636 36.59217568 36.56082773 36.54586754]\n",
      "[29.44001954 30.7447011  30.79390496 31.94232295 32.37948401 32.66367086\n",
      " 32.94663216 33.23276613 33.49432605 33.66265165 33.79494688 33.94753251\n",
      " 33.99923851 33.92696499 33.97863019 34.13042903 33.98324676 34.09384379\n",
      " 34.09327927 34.17761074 34.26017167 34.41391488 34.37254694 34.42166353\n",
      " 34.40190442 34.46561184 34.51016183 34.59555717 34.58363766 34.60259129\n",
      " 34.64313399 34.69588922 34.70221576 34.67295935 34.688519   34.69326007\n",
      " 34.73972516 34.79202482 34.85074885 34.86696684 34.91746757 34.94555335\n",
      " 34.97340978 34.9785248  34.97629292 34.88896189 34.91727001 34.93161616\n",
      " 34.93335299 34.98851049 35.02826809 35.03497119 35.00203877 34.92915621\n",
      " 34.94498695 34.94245316 34.9751052  34.97038619 34.93426981 34.94199803\n",
      " 35.03284036 35.07661919 35.11911423 35.11167264 35.14762432 35.14488281\n",
      " 35.18723748 35.20240956 35.2017264  35.2046478  35.20926802 35.20337877\n",
      " 35.22581561 35.21459999 35.19675114 35.19977319 35.19743947 35.20996233\n",
      " 35.27541311 35.29791818 35.26936716 35.2591556  35.2842635  35.30217643\n",
      " 35.3121638  35.31882369 35.30742565 35.32151845 35.32479426 35.33544103\n",
      " 35.34528267 35.35064008 35.3501963  35.33990896 35.34510224 35.35008667\n",
      " 35.35836731 35.35473881 35.3296564  35.32086754]\n"
     ]
    }
   ],
   "source": [
    "print(answears)\n",
    "print(means)\n",
    "print(upper)\n",
    "print(lower)"
   ]
  },
  {
   "cell_type": "code",
   "execution_count": null,
   "metadata": {},
   "outputs": [],
   "source": []
  },
  {
   "cell_type": "code",
   "execution_count": 28,
   "metadata": {},
   "outputs": [],
   "source": [
    "errors = upper - means"
   ]
  },
  {
   "cell_type": "code",
   "execution_count": 29,
   "metadata": {},
   "outputs": [],
   "source": [
    "\n",
    "ploting_green = np.abs(errors) < 1\n",
    "ploting_teal = np.abs(errors) > 1\n"
   ]
  },
  {
   "cell_type": "code",
   "execution_count": 30,
   "metadata": {},
   "outputs": [],
   "source": [
    "xs = np.arange(100)+1"
   ]
  },
  {
   "cell_type": "code",
   "execution_count": null,
   "metadata": {},
   "outputs": [],
   "source": []
  },
  {
   "cell_type": "code",
   "execution_count": null,
   "metadata": {},
   "outputs": [],
   "source": []
  },
  {
   "cell_type": "code",
   "execution_count": 31,
   "metadata": {},
   "outputs": [
    {
     "data": {
      "image/png": "[encoded data removed]",
      "text/plain": [
       "<Figure size 432x288 with 1 Axes>"
      ]
     },
     "metadata": {},
     "output_type": "display_data"
    }
   ],
   "source": [
    "fig = plt.figure(1)\n",
    "#p1, = plt.plot(xs, ys, 'ro', label='Data points')\n",
    "#p2, = plt.plot(t, p, 'b-.', label='Approx')\n",
    "p3 = plt.scatter(xs, means)\n",
    "plt.vlines(x=xs[ploting_teal], ymin=lower[ploting_teal], ymax=upper[ploting_teal], colors='teal', ls='-', lw=1)\n",
    "plt.vlines(x=xs[ploting_green], ymin=lower[ploting_green], ymax=upper[ploting_green], colors='green', ls='-', lw=1)\n",
    "\n",
    "\n",
    "plt.xlabel('Number of queries')\n",
    "plt.ylabel('Mean of queries')\n",
    "plt.xscale(\"log\")\n",
    "plt.title('Confidence of means')\n",
    "plt.grid(True)\n",
    "plt.show()\n",
    "\n",
    "plt.show()\n",
    "fig.savefig('confidence.png', dpi=fig.dpi)\n",
    "\n"
   ]
  },
  {
   "cell_type": "code",
   "execution_count": null,
   "metadata": {},
   "outputs": [],
   "source": []
  },
  {
   "cell_type": "code",
   "execution_count": 32,
   "metadata": {},
   "outputs": [
    {
     "data": {
      "text/plain": [
       "\"\\nimport numpy as np\\nimport matplotlib.pyplot as plt\\n\\nxs = np.linspace(1, 21, 200)\\n\\nplt.figure(figsize=(10, 7))\\n\\n# only one line may be specified; full height\\nplt.axvline(x=36, color='b', label='axvline - full height')\\n\\n# only one line may be specified; ymin & ymax spedified as a percentage of y-range\\nplt.axvline(x=36.25, ymin=0.05, ymax=0.95, color='b', label='axvline - % of full height')\\n\\n# multiple lines all full height\\nplt.vlines(x=[37, 37.25, 37.5], ymin=0, ymax=len(xs), colors='purple', ls='--', lw=2, label='vline_multiple - full height')\\n\\n# multiple lines with varying ymin and ymax\\nplt.vlines(x=[38, 38.25, 38.5], ymin=[0, 25, 75], ymax=[200, 175, 150], colors='teal', ls='--', lw=2, label='vline_multiple - partial height')\\n\\n# single vline with full ymin and ymax\\nplt.vlines(x=39, ymin=0, ymax=len(xs), colors='green', ls=':', lw=2, label='vline_single - full height')\\n\\n# single vline with specific ymin and ymax\\nplt.vlines(x=39.25, ymin=25, ymax=150, colors='green', ls=':', lw=2, label='vline_single - partial height')\\n\\n# place legend outside\\nplt.legend(bbox_to_anchor=(1.0, 1), loc='upper left')\\n\\nplt.show()\\n\""
      ]
     },
     "execution_count": 32,
     "metadata": {},
     "output_type": "execute_result"
    }
   ],
   "source": [
    "\"\"\"\n",
    "import numpy as np\n",
    "import matplotlib.pyplot as plt\n",
    "\n",
    "xs = np.linspace(1, 21, 200)\n",
    "\n",
    "plt.figure(figsize=(10, 7))\n",
    "\n",
    "# only one line may be specified; full height\n",
    "plt.axvline(x=36, color='b', label='axvline - full height')\n",
    "\n",
    "# only one line may be specified; ymin & ymax spedified as a percentage of y-range\n",
    "plt.axvline(x=36.25, ymin=0.05, ymax=0.95, color='b', label='axvline - % of full height')\n",
    "\n",
    "# multiple lines all full height\n",
    "plt.vlines(x=[37, 37.25, 37.5], ymin=0, ymax=len(xs), colors='purple', ls='--', lw=2, label='vline_multiple - full height')\n",
    "\n",
    "# multiple lines with varying ymin and ymax\n",
    "plt.vlines(x=[38, 38.25, 38.5], ymin=[0, 25, 75], ymax=[200, 175, 150], colors='teal', ls='--', lw=2, label='vline_multiple - partial height')\n",
    "\n",
    "# single vline with full ymin and ymax\n",
    "plt.vlines(x=39, ymin=0, ymax=len(xs), colors='green', ls=':', lw=2, label='vline_single - full height')\n",
    "\n",
    "# single vline with specific ymin and ymax\n",
    "plt.vlines(x=39.25, ymin=25, ymax=150, colors='green', ls=':', lw=2, label='vline_single - partial height')\n",
    "\n",
    "# place legend outside\n",
    "plt.legend(bbox_to_anchor=(1.0, 1), loc='upper left')\n",
    "\n",
    "plt.show()\n",
    "\"\"\""
   ]
  },
  {
   "cell_type": "code",
   "execution_count": 33,
   "metadata": {},
   "outputs": [
    {
     "name": "stdout",
     "output_type": "stream",
     "text": [
      "3\n",
      "1.5\n",
      "var1 = 0.5\n",
      "var2 = 2.0\n",
      "var_combined = 2.5\n"
     ]
    }
   ],
   "source": [
    "epsilon1 = 2\n",
    "epsilon2 = 1\n",
    "epsilon_combined = epsilon1 + epsilon2\n",
    "b1 = 1/epsilon1\n",
    "b2 = 1/epsilon2\n",
    "b_combined = b1 + b2\n",
    "var1 = 2*(b1)**2\n",
    "var2 = 2*(b2)**2\n",
    "var_combined = var1 + var2\n",
    "print(epsilon_combined)\n",
    "print(b_combined)\n",
    "print(f'var1 = {var1}')\n",
    "print(f'var2 = {var2}')\n",
    "print(f'var_combined = {var_combined}')\n",
    "\n"
   ]
  },
  {
   "cell_type": "code",
   "execution_count": 34,
   "metadata": {},
   "outputs": [
    {
     "name": "stdout",
     "output_type": "stream",
     "text": [
      "0.005\n",
      "5e-05\n"
     ]
    },
    {
     "data": {
      "text/plain": [
       "-0.0024845906612728807"
      ]
     },
     "execution_count": 34,
     "metadata": {},
     "output_type": "execute_result"
    }
   ],
   "source": [
    "epsilon = 2*100\n",
    "b = 1/epsilon\n",
    "print(b)\n",
    "print(2*(b)**2)\n",
    "laplace_mec = laplace(scale=b)\n",
    "laplace_mec.var()\n",
    "laplace_mec.rvs()"
   ]
  },
  {
   "cell_type": "code",
   "execution_count": 35,
   "metadata": {},
   "outputs": [
    {
     "name": "stdout",
     "output_type": "stream",
     "text": [
      "b = 0.5\n",
      "cal var = 0.5\n",
      "Lib var = 0.5\n",
      "0.30168807969822964\n"
     ]
    }
   ],
   "source": [
    "epsilon = 2\n",
    "b = 1/epsilon\n",
    "print(f'b = {b}')\n",
    "print(f'cal var = {2*(b)**2}')\n",
    "laplace_mec = laplace(scale=b)\n",
    "print(f'Lib var = {laplace_mec.var()}')\n",
    "print(laplace_mec.rvs())"
   ]
  }
 ],
 "metadata": {
  "kernelspec": {
   "display_name": "Python 3",
   "language": "python",
   "name": "python3"
  },
  "language_info": {
   "codemirror_mode": {
    "name": "ipython",
    "version": 3
   },
   "file_extension": ".py",
   "mimetype": "text/x-python",
   "name": "python",
   "nbconvert_exporter": "python",
   "pygments_lexer": "ipython3",
   "version": "3.8.5"
  }
 },
 "nbformat": 4,
 "nbformat_minor": 5
}
